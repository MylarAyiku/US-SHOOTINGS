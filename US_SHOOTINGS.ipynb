{
 "cells": [
  {
   "cell_type": "code",
   "execution_count": 58,
   "id": "5142bf86",
   "metadata": {},
   "outputs": [],
   "source": [
    "import pandas as pd\n",
    "import numpy as np\n",
    "import seaborn as sns\n",
    "\n",
    "#importing pandas as pd "
   ]
  },
  {
   "cell_type": "code",
   "execution_count": 47,
   "id": "53265ebd",
   "metadata": {},
   "outputs": [],
   "source": [
    "data = pd.read_excel('/Users/oluwasheyi/Desktop/shootings.xlsx')\n"
   ]
  },
  {
   "cell_type": "code",
   "execution_count": 22,
   "id": "7f694df5",
   "metadata": {
    "scrolled": true
   },
   "outputs": [
    {
     "data": {
      "text/html": [
       "<div>\n",
       "<style scoped>\n",
       "    .dataframe tbody tr th:only-of-type {\n",
       "        vertical-align: middle;\n",
       "    }\n",
       "\n",
       "    .dataframe tbody tr th {\n",
       "        vertical-align: top;\n",
       "    }\n",
       "\n",
       "    .dataframe thead th {\n",
       "        text-align: right;\n",
       "    }\n",
       "</style>\n",
       "<table border=\"1\" class=\"dataframe\">\n",
       "  <thead>\n",
       "    <tr style=\"text-align: right;\">\n",
       "      <th></th>\n",
       "      <th>id</th>\n",
       "      <th>name</th>\n",
       "      <th>date</th>\n",
       "      <th>manner_of_death</th>\n",
       "      <th>armed</th>\n",
       "      <th>age</th>\n",
       "      <th>gender</th>\n",
       "      <th>race</th>\n",
       "      <th>city</th>\n",
       "      <th>state</th>\n",
       "      <th>signs_of_mental_illness</th>\n",
       "      <th>threat_level</th>\n",
       "      <th>flee</th>\n",
       "      <th>body_camera</th>\n",
       "      <th>arms_category</th>\n",
       "    </tr>\n",
       "  </thead>\n",
       "  <tbody>\n",
       "    <tr>\n",
       "      <th>0</th>\n",
       "      <td>3</td>\n",
       "      <td>Tim Elliot</td>\n",
       "      <td>2015-01-02</td>\n",
       "      <td>shot</td>\n",
       "      <td>gun</td>\n",
       "      <td>53.0</td>\n",
       "      <td>M</td>\n",
       "      <td>Asian</td>\n",
       "      <td>Shelton</td>\n",
       "      <td>WA</td>\n",
       "      <td>True</td>\n",
       "      <td>attack</td>\n",
       "      <td>Not fleeing</td>\n",
       "      <td>False</td>\n",
       "      <td>Guns</td>\n",
       "    </tr>\n",
       "    <tr>\n",
       "      <th>1</th>\n",
       "      <td>4</td>\n",
       "      <td>Lewis Lee Lembke</td>\n",
       "      <td>2015-01-02</td>\n",
       "      <td>shot</td>\n",
       "      <td>gun</td>\n",
       "      <td>47.0</td>\n",
       "      <td>M</td>\n",
       "      <td>White</td>\n",
       "      <td>Aloha</td>\n",
       "      <td>OR</td>\n",
       "      <td>False</td>\n",
       "      <td>attack</td>\n",
       "      <td>Not fleeing</td>\n",
       "      <td>False</td>\n",
       "      <td>Guns</td>\n",
       "    </tr>\n",
       "    <tr>\n",
       "      <th>2</th>\n",
       "      <td>5</td>\n",
       "      <td>John Paul Quintero</td>\n",
       "      <td>2015-01-03</td>\n",
       "      <td>shot and Tasered</td>\n",
       "      <td>unarmed</td>\n",
       "      <td>23.0</td>\n",
       "      <td>M</td>\n",
       "      <td>Hispanic</td>\n",
       "      <td>Wichita</td>\n",
       "      <td>KS</td>\n",
       "      <td>False</td>\n",
       "      <td>other</td>\n",
       "      <td>Not fleeing</td>\n",
       "      <td>False</td>\n",
       "      <td>Unarmed</td>\n",
       "    </tr>\n",
       "    <tr>\n",
       "      <th>3</th>\n",
       "      <td>8</td>\n",
       "      <td>Matthew Hoffman</td>\n",
       "      <td>2015-01-04</td>\n",
       "      <td>shot</td>\n",
       "      <td>toy weapon</td>\n",
       "      <td>32.0</td>\n",
       "      <td>M</td>\n",
       "      <td>White</td>\n",
       "      <td>San Francisco</td>\n",
       "      <td>CA</td>\n",
       "      <td>True</td>\n",
       "      <td>attack</td>\n",
       "      <td>Not fleeing</td>\n",
       "      <td>False</td>\n",
       "      <td>Other unusual objects</td>\n",
       "    </tr>\n",
       "    <tr>\n",
       "      <th>4</th>\n",
       "      <td>9</td>\n",
       "      <td>Michael Rodriguez</td>\n",
       "      <td>2015-01-04</td>\n",
       "      <td>shot</td>\n",
       "      <td>nail gun</td>\n",
       "      <td>39.0</td>\n",
       "      <td>M</td>\n",
       "      <td>Hispanic</td>\n",
       "      <td>Evans</td>\n",
       "      <td>CO</td>\n",
       "      <td>False</td>\n",
       "      <td>attack</td>\n",
       "      <td>Not fleeing</td>\n",
       "      <td>False</td>\n",
       "      <td>Piercing objects</td>\n",
       "    </tr>\n",
       "  </tbody>\n",
       "</table>\n",
       "</div>"
      ],
      "text/plain": [
       "   id                name       date   manner_of_death       armed   age  \\\n",
       "0   3          Tim Elliot 2015-01-02              shot         gun  53.0   \n",
       "1   4    Lewis Lee Lembke 2015-01-02              shot         gun  47.0   \n",
       "2   5  John Paul Quintero 2015-01-03  shot and Tasered     unarmed  23.0   \n",
       "3   8     Matthew Hoffman 2015-01-04              shot  toy weapon  32.0   \n",
       "4   9   Michael Rodriguez 2015-01-04              shot    nail gun  39.0   \n",
       "\n",
       "  gender      race           city state  signs_of_mental_illness threat_level  \\\n",
       "0      M     Asian        Shelton    WA                     True       attack   \n",
       "1      M     White          Aloha    OR                    False       attack   \n",
       "2      M  Hispanic        Wichita    KS                    False        other   \n",
       "3      M     White  San Francisco    CA                     True       attack   \n",
       "4      M  Hispanic          Evans    CO                    False       attack   \n",
       "\n",
       "          flee  body_camera          arms_category  \n",
       "0  Not fleeing        False                   Guns  \n",
       "1  Not fleeing        False                   Guns  \n",
       "2  Not fleeing        False                Unarmed  \n",
       "3  Not fleeing        False  Other unusual objects  \n",
       "4  Not fleeing        False       Piercing objects  "
      ]
     },
     "execution_count": 22,
     "metadata": {},
     "output_type": "execute_result"
    }
   ],
   "source": [
    "data.head()"
   ]
  },
  {
   "cell_type": "code",
   "execution_count": 23,
   "id": "7ffe02eb",
   "metadata": {},
   "outputs": [
    {
     "data": {
      "text/plain": [
       "(4895, 15)"
      ]
     },
     "execution_count": 23,
     "metadata": {},
     "output_type": "execute_result"
    }
   ],
   "source": [
    "data.shape\n",
    "#this shows the number of rows and columns in our data"
   ]
  },
  {
   "cell_type": "markdown",
   "id": "6553a0a8",
   "metadata": {},
   "source": [
    "# BASIC ANALYSIS"
   ]
  },
  {
   "cell_type": "code",
   "execution_count": 26,
   "id": "c1fc9711",
   "metadata": {},
   "outputs": [
    {
     "data": {
      "text/plain": [
       "M    4673\n",
       "F     222\n",
       "Name: gender, dtype: int64"
      ]
     },
     "execution_count": 26,
     "metadata": {},
     "output_type": "execute_result"
    }
   ],
   "source": [
    "data.gender.value_counts()\n",
    "#this shows the number of males and females who were killed"
   ]
  },
  {
   "cell_type": "code",
   "execution_count": 27,
   "id": "129d07d9",
   "metadata": {},
   "outputs": [
    {
     "data": {
      "text/plain": [
       "White       2476\n",
       "Black       1298\n",
       "Hispanic     902\n",
       "Asian         93\n",
       "Native        78\n",
       "Other         48\n",
       "Name: race, dtype: int64"
      ]
     },
     "execution_count": 27,
     "metadata": {},
     "output_type": "execute_result"
    }
   ],
   "source": [
    "data.race.value_counts()\n"
   ]
  },
  {
   "cell_type": "code",
   "execution_count": 29,
   "id": "6f208311",
   "metadata": {},
   "outputs": [
    {
     "data": {
      "text/plain": [
       "shot                4647\n",
       "shot and Tasered     248\n",
       "Name: manner_of_death, dtype: int64"
      ]
     },
     "execution_count": 29,
     "metadata": {},
     "output_type": "execute_result"
    }
   ],
   "source": [
    "data.manner_of_death.value_counts()\n",
    "#this shows number of people who died through a particular manner of death"
   ]
  },
  {
   "cell_type": "code",
   "execution_count": 35,
   "id": "e8bbf90d",
   "metadata": {},
   "outputs": [
    {
     "data": {
      "text/plain": [
       "gun                       2755\n",
       "knife                      708\n",
       "unknown                    418\n",
       "unarmed                    348\n",
       "toy weapon                 171\n",
       "                          ... \n",
       "bayonet                      1\n",
       "nail gun                     1\n",
       "gun and sword                1\n",
       "car, knife and mace          1\n",
       "baseball bat and knife       1\n",
       "Name: armed, Length: 89, dtype: int64"
      ]
     },
     "execution_count": 35,
     "metadata": {},
     "output_type": "execute_result"
    }
   ],
   "source": [
    "data.armed.value_counts()\n",
    "#this shows the number of people who were armed with a particular weapon"
   ]
  },
  {
   "cell_type": "code",
   "execution_count": 39,
   "id": "3c984103",
   "metadata": {},
   "outputs": [
    {
     "data": {
      "text/plain": [
       "False    3792\n",
       "True     1103\n",
       "Name: signs_of_mental_illness, dtype: int64"
      ]
     },
     "execution_count": 39,
     "metadata": {},
     "output_type": "execute_result"
    }
   ],
   "source": [
    "data.signs_of_mental_illness.value_counts()\n",
    "#the number of people who showed and did not show signs of mental illness"
   ]
  },
  {
   "cell_type": "code",
   "execution_count": 40,
   "id": "200d1f9f",
   "metadata": {},
   "outputs": [
    {
     "data": {
      "text/plain": [
       "False    4317\n",
       "True      578\n",
       "Name: body_camera, dtype: int64"
      ]
     },
     "execution_count": 40,
     "metadata": {},
     "output_type": "execute_result"
    }
   ],
   "source": [
    "data.body_camera.value_counts()\n",
    "#number of killings which were recorded."
   ]
  },
  {
   "cell_type": "markdown",
   "id": "c12fc2bc",
   "metadata": {},
   "source": [
    "# which race had the highest number of killings?.how many men and women were killed under a specific race?"
   ]
  },
  {
   "cell_type": "code",
   "execution_count": 97,
   "id": "f7af3405",
   "metadata": {},
   "outputs": [
    {
     "data": {
      "image/png": "[encoded data removed]",
      "text/plain": [
       "<Figure size 432x288 with 1 Axes>"
      ]
     },
     "metadata": {
      "needs_background": "light"
     },
     "output_type": "display_data"
    }
   ],
   "source": [
    "sns.countplot(x='race',data=data, hue=\"gender\",palette='bwr');"
   ]
  },
  {
   "cell_type": "markdown",
   "id": "12d3a5b2",
   "metadata": {},
   "source": [
    "# what is the age distribution of killings based in gender?"
   ]
  },
  {
   "cell_type": "code",
   "execution_count": 102,
   "id": "f0f8b621",
   "metadata": {},
   "outputs": [
    {
     "data": {
      "image/png": "[encoded data removed]",
      "text/plain": [
       "<Figure size 432x288 with 1 Axes>"
      ]
     },
     "metadata": {
      "needs_background": "light"
     },
     "output_type": "display_data"
    }
   ],
   "source": [
    "sns.histplot(data=data, x='age',hue='gender',palette='bwr');"
   ]
  },
  {
   "cell_type": "markdown",
   "id": "428c3c30",
   "metadata": {},
   "source": [
    "# which state recorded the highest number of killings?."
   ]
  },
  {
   "cell_type": "code",
   "execution_count": 119,
   "id": "0cce93b3",
   "metadata": {},
   "outputs": [
    {
     "data": {
      "image/png": "[encoded data removed]",
      "text/plain": [
       "<Figure size 1440x595.44 with 1 Axes>"
      ]
     },
     "metadata": {},
     "output_type": "display_data"
    }
   ],
   "source": [
    "sns.countplot(x='state',data=data,);\n",
    "sns.set(rc={'figure.figsize':(20,12)})"
   ]
  },
  {
   "cell_type": "code",
   "execution_count": 114,
   "id": "85276208",
   "metadata": {},
   "outputs": [],
   "source": []
  },
  {
   "cell_type": "code",
   "execution_count": null,
   "id": "718d9929",
   "metadata": {},
   "outputs": [],
   "source": [
    "\n"
   ]
  },
  {
   "cell_type": "code",
   "execution_count": null,
   "id": "7e7da31f",
   "metadata": {},
   "outputs": [],
   "source": []
  },
  {
   "cell_type": "code",
   "execution_count": null,
   "id": "a132ee83",
   "metadata": {},
   "outputs": [],
   "source": []
  }
 ],
 "metadata": {
  "kernelspec": {
   "display_name": "Python 3",
   "language": "python",
   "name": "python3"
  },
  "language_info": {
   "codemirror_mode": {
    "name": "ipython",
    "version": 3
   },
   "file_extension": ".py",
   "mimetype": "text/x-python",
   "name": "python",
   "nbconvert_exporter": "python",
   "pygments_lexer": "ipython3",
   "version": "3.8.8"
  }
 },
 "nbformat": 4,
 "nbformat_minor": 5
}
