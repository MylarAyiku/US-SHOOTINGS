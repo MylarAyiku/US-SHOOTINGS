{
 "cells": [
  {
   "cell_type": "code",
   "execution_count": 130,
   "id": "5142bf86",
   "metadata": {},
   "outputs": [],
   "source": [
    "import pandas as pd\n",
    "import numpy as np\n",
    "import seaborn as sns\n",
    "\n",
    "#importing pandas as pd "
   ]
  },
  {
   "cell_type": "code",
   "execution_count": 220,
   "id": "53265ebd",
   "metadata": {},
   "outputs": [],
   "source": [
    "data=pd.read_excel(\"/Users/oluwasheyi/Downloads/shootings.xlsx\",index_col=0)\n",
    "data['date']=pd.to_datetime(data['date'],format=\"%m %d %Y\")\n",
    "#pd. to_datetime() method helps to convert string Date time into Python Date time object.\n"
   ]
  },
  {
   "cell_type": "code",
   "execution_count": 221,
   "id": "7f694df5",
   "metadata": {
    "scrolled": true
   },
   "outputs": [
    {
     "data": {
      "text/html": [
       "<div>\n",
       "<style scoped>\n",
       "    .dataframe tbody tr th:only-of-type {\n",
       "        vertical-align: middle;\n",
       "    }\n",
       "\n",
       "    .dataframe tbody tr th {\n",
       "        vertical-align: top;\n",
       "    }\n",
       "\n",
       "    .dataframe thead th {\n",
       "        text-align: right;\n",
       "    }\n",
       "</style>\n",
       "<table border=\"1\" class=\"dataframe\">\n",
       "  <thead>\n",
       "    <tr style=\"text-align: right;\">\n",
       "      <th></th>\n",
       "      <th>name</th>\n",
       "      <th>date</th>\n",
       "      <th>manner_of_death</th>\n",
       "      <th>armed</th>\n",
       "      <th>age</th>\n",
       "      <th>gender</th>\n",
       "      <th>race</th>\n",
       "      <th>city</th>\n",
       "      <th>state</th>\n",
       "      <th>signs_of_mental_illness</th>\n",
       "      <th>threat_level</th>\n",
       "      <th>flee</th>\n",
       "      <th>body_camera</th>\n",
       "      <th>arms_category</th>\n",
       "    </tr>\n",
       "    <tr>\n",
       "      <th>id</th>\n",
       "      <th></th>\n",
       "      <th></th>\n",
       "      <th></th>\n",
       "      <th></th>\n",
       "      <th></th>\n",
       "      <th></th>\n",
       "      <th></th>\n",
       "      <th></th>\n",
       "      <th></th>\n",
       "      <th></th>\n",
       "      <th></th>\n",
       "      <th></th>\n",
       "      <th></th>\n",
       "      <th></th>\n",
       "    </tr>\n",
       "  </thead>\n",
       "  <tbody>\n",
       "    <tr>\n",
       "      <th>3</th>\n",
       "      <td>Tim Elliot</td>\n",
       "      <td>2015-01-02</td>\n",
       "      <td>shot</td>\n",
       "      <td>gun</td>\n",
       "      <td>53.0</td>\n",
       "      <td>M</td>\n",
       "      <td>Asian</td>\n",
       "      <td>Shelton</td>\n",
       "      <td>WA</td>\n",
       "      <td>True</td>\n",
       "      <td>attack</td>\n",
       "      <td>Not fleeing</td>\n",
       "      <td>False</td>\n",
       "      <td>Guns</td>\n",
       "    </tr>\n",
       "    <tr>\n",
       "      <th>4</th>\n",
       "      <td>Lewis Lee Lembke</td>\n",
       "      <td>2015-01-02</td>\n",
       "      <td>shot</td>\n",
       "      <td>gun</td>\n",
       "      <td>47.0</td>\n",
       "      <td>M</td>\n",
       "      <td>White</td>\n",
       "      <td>Aloha</td>\n",
       "      <td>OR</td>\n",
       "      <td>False</td>\n",
       "      <td>attack</td>\n",
       "      <td>Not fleeing</td>\n",
       "      <td>False</td>\n",
       "      <td>Guns</td>\n",
       "    </tr>\n",
       "    <tr>\n",
       "      <th>5</th>\n",
       "      <td>John Paul Quintero</td>\n",
       "      <td>2015-01-03</td>\n",
       "      <td>shot and Tasered</td>\n",
       "      <td>unarmed</td>\n",
       "      <td>23.0</td>\n",
       "      <td>M</td>\n",
       "      <td>Hispanic</td>\n",
       "      <td>Wichita</td>\n",
       "      <td>KS</td>\n",
       "      <td>False</td>\n",
       "      <td>other</td>\n",
       "      <td>Not fleeing</td>\n",
       "      <td>False</td>\n",
       "      <td>Unarmed</td>\n",
       "    </tr>\n",
       "    <tr>\n",
       "      <th>8</th>\n",
       "      <td>Matthew Hoffman</td>\n",
       "      <td>2015-01-04</td>\n",
       "      <td>shot</td>\n",
       "      <td>toy weapon</td>\n",
       "      <td>32.0</td>\n",
       "      <td>M</td>\n",
       "      <td>White</td>\n",
       "      <td>San Francisco</td>\n",
       "      <td>CA</td>\n",
       "      <td>True</td>\n",
       "      <td>attack</td>\n",
       "      <td>Not fleeing</td>\n",
       "      <td>False</td>\n",
       "      <td>Other unusual objects</td>\n",
       "    </tr>\n",
       "    <tr>\n",
       "      <th>9</th>\n",
       "      <td>Michael Rodriguez</td>\n",
       "      <td>2015-01-04</td>\n",
       "      <td>shot</td>\n",
       "      <td>nail gun</td>\n",
       "      <td>39.0</td>\n",
       "      <td>M</td>\n",
       "      <td>Hispanic</td>\n",
       "      <td>Evans</td>\n",
       "      <td>CO</td>\n",
       "      <td>False</td>\n",
       "      <td>attack</td>\n",
       "      <td>Not fleeing</td>\n",
       "      <td>False</td>\n",
       "      <td>Piercing objects</td>\n",
       "    </tr>\n",
       "  </tbody>\n",
       "</table>\n",
       "</div>"
      ],
      "text/plain": [
       "                  name       date   manner_of_death       armed   age gender  \\\n",
       "id                                                                             \n",
       "3           Tim Elliot 2015-01-02              shot         gun  53.0      M   \n",
       "4     Lewis Lee Lembke 2015-01-02              shot         gun  47.0      M   \n",
       "5   John Paul Quintero 2015-01-03  shot and Tasered     unarmed  23.0      M   \n",
       "8      Matthew Hoffman 2015-01-04              shot  toy weapon  32.0      M   \n",
       "9    Michael Rodriguez 2015-01-04              shot    nail gun  39.0      M   \n",
       "\n",
       "        race           city state  signs_of_mental_illness threat_level  \\\n",
       "id                                                                        \n",
       "3      Asian        Shelton    WA                     True       attack   \n",
       "4      White          Aloha    OR                    False       attack   \n",
       "5   Hispanic        Wichita    KS                    False        other   \n",
       "8      White  San Francisco    CA                     True       attack   \n",
       "9   Hispanic          Evans    CO                    False       attack   \n",
       "\n",
       "           flee  body_camera          arms_category  \n",
       "id                                                   \n",
       "3   Not fleeing        False                   Guns  \n",
       "4   Not fleeing        False                   Guns  \n",
       "5   Not fleeing        False                Unarmed  \n",
       "8   Not fleeing        False  Other unusual objects  \n",
       "9   Not fleeing        False       Piercing objects  "
      ]
     },
     "execution_count": 221,
     "metadata": {},
     "output_type": "execute_result"
    }
   ],
   "source": [
    "data.head()"
   ]
  },
  {
   "cell_type": "code",
   "execution_count": 133,
   "id": "7ffe02eb",
   "metadata": {},
   "outputs": [
    {
     "data": {
      "text/plain": [
       "(4895, 14)"
      ]
     },
     "execution_count": 133,
     "metadata": {},
     "output_type": "execute_result"
    }
   ],
   "source": [
    "data.shape\n",
    "#This shows the number of rows and columns in our data"
   ]
  },
  {
   "cell_type": "markdown",
   "id": "6553a0a8",
   "metadata": {},
   "source": [
    "# BASIC ANALYSIS"
   ]
  },
  {
   "cell_type": "code",
   "execution_count": 134,
   "id": "c1fc9711",
   "metadata": {},
   "outputs": [
    {
     "data": {
      "text/plain": [
       "M    4673\n",
       "F     222\n",
       "Name: gender, dtype: int64"
      ]
     },
     "execution_count": 134,
     "metadata": {},
     "output_type": "execute_result"
    }
   ],
   "source": [
    "data.gender.value_counts()\n",
    "#This shows the number of males and females who were killed"
   ]
  },
  {
   "cell_type": "code",
   "execution_count": 135,
   "id": "129d07d9",
   "metadata": {},
   "outputs": [
    {
     "data": {
      "text/plain": [
       "White       2476\n",
       "Black       1298\n",
       "Hispanic     902\n",
       "Asian         93\n",
       "Native        78\n",
       "Other         48\n",
       "Name: race, dtype: int64"
      ]
     },
     "execution_count": 135,
     "metadata": {},
     "output_type": "execute_result"
    }
   ],
   "source": [
    "data.race.value_counts()\n",
    "#this counts the number of people in a particular race"
   ]
  },
  {
   "cell_type": "code",
   "execution_count": 136,
   "id": "6f208311",
   "metadata": {},
   "outputs": [
    {
     "data": {
      "text/plain": [
       "shot                4647\n",
       "shot and Tasered     248\n",
       "Name: manner_of_death, dtype: int64"
      ]
     },
     "execution_count": 136,
     "metadata": {},
     "output_type": "execute_result"
    }
   ],
   "source": [
    "data.manner_of_death.value_counts()\n",
    "#This shows number of people who died through a particular manner of death"
   ]
  },
  {
   "cell_type": "code",
   "execution_count": 137,
   "id": "e8bbf90d",
   "metadata": {},
   "outputs": [
    {
     "data": {
      "text/plain": [
       "gun                       2755\n",
       "knife                      708\n",
       "unknown                    418\n",
       "unarmed                    348\n",
       "toy weapon                 171\n",
       "                          ... \n",
       "gun and sword                1\n",
       "fireworks                    1\n",
       "baseball bat and knife       1\n",
       "machete and gun              1\n",
       "grenade                      1\n",
       "Name: armed, Length: 89, dtype: int64"
      ]
     },
     "execution_count": 137,
     "metadata": {},
     "output_type": "execute_result"
    }
   ],
   "source": [
    "data.armed.value_counts()\n",
    "#This shows the number of people who were armed with a particular weapon"
   ]
  },
  {
   "cell_type": "code",
   "execution_count": 138,
   "id": "3c984103",
   "metadata": {},
   "outputs": [
    {
     "data": {
      "text/plain": [
       "False    3792\n",
       "True     1103\n",
       "Name: signs_of_mental_illness, dtype: int64"
      ]
     },
     "execution_count": 138,
     "metadata": {},
     "output_type": "execute_result"
    }
   ],
   "source": [
    "data.signs_of_mental_illness.value_counts()\n",
    "#the number of people who showed and did not show signs of mental illness"
   ]
  },
  {
   "cell_type": "code",
   "execution_count": 139,
   "id": "4db8ab0b",
   "metadata": {},
   "outputs": [
    {
     "data": {
      "text/plain": [
       "False    4317\n",
       "True      578\n",
       "Name: body_camera, dtype: int64"
      ]
     },
     "execution_count": 139,
     "metadata": {},
     "output_type": "execute_result"
    }
   ],
   "source": [
    "b_camera = data.body_camera.value_counts()\n",
    "b_camera.head()\n",
    "#Number of killings which were recorded."
   ]
  },
  {
   "cell_type": "code",
   "execution_count": 158,
   "id": "8c93d735",
   "metadata": {},
   "outputs": [
    {
     "data": {
      "text/plain": [
       "Los Angeles    78\n",
       "Phoenix        66\n",
       "Houston        51\n",
       "Las Vegas      41\n",
       "San Antonio    40\n",
       "Name: city, dtype: int64"
      ]
     },
     "execution_count": 158,
     "metadata": {},
     "output_type": "execute_result"
    }
   ],
   "source": [
    "h_shotCity=data.city.value_counts(ascending=False)\n",
    "h_shotCity.head()\n"
   ]
  },
  {
   "cell_type": "code",
   "execution_count": 167,
   "id": "b4eebae7",
   "metadata": {},
   "outputs": [
    {
     "data": {
      "text/plain": [
       "Guns                     2764\n",
       "Sharp objects             818\n",
       "Unknown                   418\n",
       "Unarmed                   348\n",
       "Other unusual objects     192\n",
       "Blunt instruments         122\n",
       "Vehicles                  121\n",
       "Multiple                   54\n",
       "Piercing objects           29\n",
       "Electrical devices         24\n",
       "Explosives                  4\n",
       "Hand tools                  1\n",
       "Name: arms_category, dtype: int64"
      ]
     },
     "execution_count": 167,
     "metadata": {},
     "output_type": "execute_result"
    }
   ],
   "source": [
    "A_category=data.arms_category.value_counts()\n",
    "A_category\n",
    "#number of arms(category) used."
   ]
  },
  {
   "cell_type": "code",
   "execution_count": 208,
   "id": "f28c8b4d",
   "metadata": {},
   "outputs": [
    {
     "data": {
      "text/plain": [
       "Not fleeing    3073\n",
       "Car             820\n",
       "Foot            642\n",
       "Other           360\n",
       "Name: flee, dtype: int64"
      ]
     },
     "execution_count": 208,
     "metadata": {},
     "output_type": "execute_result"
    }
   ],
   "source": [
    "F_lee = data.flee.value_counts()\n",
    "F_lee\n",
    "#number of suspects who attempted fleeing"
   ]
  },
  {
   "cell_type": "markdown",
   "id": "955944e2",
   "metadata": {},
   "source": [
    "   # DATA VISUALIZATION\n",
    "# How many number of killings according to race were recorded?\n"
   ]
  },
  {
   "cell_type": "code",
   "execution_count": 142,
   "id": "200d1f9f",
   "metadata": {},
   "outputs": [
    {
     "data": {
      "image/png": "[encoded data removed]",
      "text/plain": [
       "<Figure size 720x720 with 1 Axes>"
      ]
     },
     "metadata": {},
     "output_type": "display_data"
    }
   ],
   "source": [
    "sns.countplot(x='body_camera',data=data, hue=\"race\");\n",
    "sns.set(rc={'figure.figsize':(19,10)})"
   ]
  },
  {
   "cell_type": "markdown",
   "id": "c12fc2bc",
   "metadata": {},
   "source": [
    "# which race had the highest number of killings?.How many men and women were killed under a specific race?"
   ]
  },
  {
   "cell_type": "code",
   "execution_count": 143,
   "id": "f7af3405",
   "metadata": {},
   "outputs": [
    {
     "data": {
      "image/png": "[encoded data removed]",
      "text/plain": [
       "<Figure size 1368x720 with 1 Axes>"
      ]
     },
     "metadata": {},
     "output_type": "display_data"
    }
   ],
   "source": [
    "sns.countplot(x='race',data=data, hue=\"gender\",palette='bwr');\n",
    "sns.set(rc={'figure.figsize':(5,6)})"
   ]
  },
  {
   "cell_type": "markdown",
   "id": "12d3a5b2",
   "metadata": {},
   "source": [
    "# what is the age distribution of killings based in gender?"
   ]
  },
  {
   "cell_type": "code",
   "execution_count": 147,
   "id": "f0f8b621",
   "metadata": {},
   "outputs": [
    {
     "data": {
      "image/png": "[encoded data removed]",
      "text/plain": [
       "<Figure size 1368x432 with 1 Axes>"
      ]
     },
     "metadata": {},
     "output_type": "display_data"
    }
   ],
   "source": [
    "sns.histplot(data=data, x='age',hue='gender',palette='bwr');\n",
    "sns.set(rc={'figure.figsize':(22,6)})"
   ]
  },
  {
   "cell_type": "markdown",
   "id": "428c3c30",
   "metadata": {},
   "source": [
    "# which state recorded the highest number of killings?."
   ]
  },
  {
   "cell_type": "code",
   "execution_count": 148,
   "id": "0cce93b3",
   "metadata": {
    "scrolled": true
   },
   "outputs": [
    {
     "data": {
      "image/png": "[encoded data removed]",
      "text/plain": [
       "<Figure size 1584x432 with 1 Axes>"
      ]
     },
     "metadata": {},
     "output_type": "display_data"
    }
   ],
   "source": [
    "sns.countplot(x='state',data=data,);\n",
    "sns.set(rc={'figure.figsize':(30,6)})"
   ]
  },
  {
   "cell_type": "markdown",
   "id": "289254a4",
   "metadata": {},
   "source": [
    "# Which city has the highest shooting?"
   ]
  },
  {
   "cell_type": "code",
   "execution_count": 186,
   "id": "293ca7d4",
   "metadata": {},
   "outputs": [
    {
     "data": {
      "image/png": "[encoded data removed]",
      "text/plain": [
       "<Figure size 360x360 with 1 Axes>"
      ]
     },
     "metadata": {},
     "output_type": "display_data"
    }
   ],
   "source": [
    "h_shotCity.head().plot(kind='pie');\n",
    "sns.set(rc={'figure.figsize':(5,5)})"
   ]
  },
  {
   "cell_type": "markdown",
   "id": "83ded691",
   "metadata": {},
   "source": [
    "# Which race used the highest arms(category)?"
   ]
  },
  {
   "cell_type": "code",
   "execution_count": 204,
   "id": "4d86b88f",
   "metadata": {},
   "outputs": [
    {
     "data": {
      "image/png": "[encoded data removed]",
      "text/plain": [
       "<Figure size 1440x1296 with 1 Axes>"
      ]
     },
     "metadata": {},
     "output_type": "display_data"
    }
   ],
   "source": [
    "sns.countplot(x='arms_category',data=data, hue=\"race\");\n"
   ]
  },
  {
   "cell_type": "markdown",
   "id": "b64e7c67",
   "metadata": {},
   "source": [
    "# How many suspects attempted fleeing?"
   ]
  },
  {
   "cell_type": "code",
   "execution_count": 215,
   "id": "ba07aff9",
   "metadata": {},
   "outputs": [
    {
     "data": {
      "image/png": "[encoded data removed]",
      "text/plain": [
       "<Figure size 720x360 with 1 Axes>"
      ]
     },
     "metadata": {},
     "output_type": "display_data"
    }
   ],
   "source": [
    "F_lee.plot(kind='barh',color=\"orange\");\n",
    "sns.set(rc={'figure.figsize':(20,5)})"
   ]
  },
  {
   "cell_type": "markdown",
   "id": "37c71e00",
   "metadata": {},
   "source": [
    "# Age grouping of Shootings"
   ]
  },
  {
   "cell_type": "code",
   "execution_count": 48,
   "id": "1c6531b1",
   "metadata": {},
   "outputs": [
    {
     "data": {
      "text/html": [
       "<div>\n",
       "<style scoped>\n",
       "    .dataframe tbody tr th:only-of-type {\n",
       "        vertical-align: middle;\n",
       "    }\n",
       "\n",
       "    .dataframe tbody tr th {\n",
       "        vertical-align: top;\n",
       "    }\n",
       "\n",
       "    .dataframe thead th {\n",
       "        text-align: right;\n",
       "    }\n",
       "</style>\n",
       "<table border=\"1\" class=\"dataframe\">\n",
       "  <thead>\n",
       "    <tr style=\"text-align: right;\">\n",
       "      <th></th>\n",
       "      <th>name</th>\n",
       "      <th>date</th>\n",
       "      <th>manner_of_death</th>\n",
       "      <th>armed</th>\n",
       "      <th>age</th>\n",
       "      <th>gender</th>\n",
       "      <th>race</th>\n",
       "      <th>city</th>\n",
       "      <th>state</th>\n",
       "      <th>signs_of_mental_illness</th>\n",
       "      <th>threat_level</th>\n",
       "      <th>flee</th>\n",
       "      <th>body_camera</th>\n",
       "      <th>arms_category</th>\n",
       "    </tr>\n",
       "    <tr>\n",
       "      <th>id</th>\n",
       "      <th></th>\n",
       "      <th></th>\n",
       "      <th></th>\n",
       "      <th></th>\n",
       "      <th></th>\n",
       "      <th></th>\n",
       "      <th></th>\n",
       "      <th></th>\n",
       "      <th></th>\n",
       "      <th></th>\n",
       "      <th></th>\n",
       "      <th></th>\n",
       "      <th></th>\n",
       "      <th></th>\n",
       "    </tr>\n",
       "  </thead>\n",
       "  <tbody>\n",
       "    <tr>\n",
       "      <th>3</th>\n",
       "      <td>Tim Elliot</td>\n",
       "      <td>2015-01-02</td>\n",
       "      <td>shot</td>\n",
       "      <td>gun</td>\n",
       "      <td>53.0</td>\n",
       "      <td>M</td>\n",
       "      <td>Asian</td>\n",
       "      <td>Shelton</td>\n",
       "      <td>WA</td>\n",
       "      <td>True</td>\n",
       "      <td>attack</td>\n",
       "      <td>Not fleeing</td>\n",
       "      <td>False</td>\n",
       "      <td>Guns</td>\n",
       "    </tr>\n",
       "    <tr>\n",
       "      <th>4</th>\n",
       "      <td>Lewis Lee Lembke</td>\n",
       "      <td>2015-01-02</td>\n",
       "      <td>shot</td>\n",
       "      <td>gun</td>\n",
       "      <td>47.0</td>\n",
       "      <td>M</td>\n",
       "      <td>White</td>\n",
       "      <td>Aloha</td>\n",
       "      <td>OR</td>\n",
       "      <td>False</td>\n",
       "      <td>attack</td>\n",
       "      <td>Not fleeing</td>\n",
       "      <td>False</td>\n",
       "      <td>Guns</td>\n",
       "    </tr>\n",
       "    <tr>\n",
       "      <th>5</th>\n",
       "      <td>John Paul Quintero</td>\n",
       "      <td>2015-01-03</td>\n",
       "      <td>shot and Tasered</td>\n",
       "      <td>unarmed</td>\n",
       "      <td>23.0</td>\n",
       "      <td>M</td>\n",
       "      <td>Hispanic</td>\n",
       "      <td>Wichita</td>\n",
       "      <td>KS</td>\n",
       "      <td>False</td>\n",
       "      <td>other</td>\n",
       "      <td>Not fleeing</td>\n",
       "      <td>False</td>\n",
       "      <td>Unarmed</td>\n",
       "    </tr>\n",
       "    <tr>\n",
       "      <th>8</th>\n",
       "      <td>Matthew Hoffman</td>\n",
       "      <td>2015-01-04</td>\n",
       "      <td>shot</td>\n",
       "      <td>toy weapon</td>\n",
       "      <td>32.0</td>\n",
       "      <td>M</td>\n",
       "      <td>White</td>\n",
       "      <td>San Francisco</td>\n",
       "      <td>CA</td>\n",
       "      <td>True</td>\n",
       "      <td>attack</td>\n",
       "      <td>Not fleeing</td>\n",
       "      <td>False</td>\n",
       "      <td>Other unusual objects</td>\n",
       "    </tr>\n",
       "    <tr>\n",
       "      <th>9</th>\n",
       "      <td>Michael Rodriguez</td>\n",
       "      <td>2015-01-04</td>\n",
       "      <td>shot</td>\n",
       "      <td>nail gun</td>\n",
       "      <td>39.0</td>\n",
       "      <td>M</td>\n",
       "      <td>Hispanic</td>\n",
       "      <td>Evans</td>\n",
       "      <td>CO</td>\n",
       "      <td>False</td>\n",
       "      <td>attack</td>\n",
       "      <td>Not fleeing</td>\n",
       "      <td>False</td>\n",
       "      <td>Piercing objects</td>\n",
       "    </tr>\n",
       "    <tr>\n",
       "      <th>...</th>\n",
       "      <td>...</td>\n",
       "      <td>...</td>\n",
       "      <td>...</td>\n",
       "      <td>...</td>\n",
       "      <td>...</td>\n",
       "      <td>...</td>\n",
       "      <td>...</td>\n",
       "      <td>...</td>\n",
       "      <td>...</td>\n",
       "      <td>...</td>\n",
       "      <td>...</td>\n",
       "      <td>...</td>\n",
       "      <td>...</td>\n",
       "      <td>...</td>\n",
       "    </tr>\n",
       "    <tr>\n",
       "      <th>5916</th>\n",
       "      <td>Rayshard Brooks</td>\n",
       "      <td>2020-06-12</td>\n",
       "      <td>shot</td>\n",
       "      <td>Taser</td>\n",
       "      <td>27.0</td>\n",
       "      <td>M</td>\n",
       "      <td>Black</td>\n",
       "      <td>Atlanta</td>\n",
       "      <td>GA</td>\n",
       "      <td>False</td>\n",
       "      <td>attack</td>\n",
       "      <td>Foot</td>\n",
       "      <td>True</td>\n",
       "      <td>Electrical devices</td>\n",
       "    </tr>\n",
       "    <tr>\n",
       "      <th>5925</th>\n",
       "      <td>Caine Van Pelt</td>\n",
       "      <td>2020-06-12</td>\n",
       "      <td>shot</td>\n",
       "      <td>gun</td>\n",
       "      <td>23.0</td>\n",
       "      <td>M</td>\n",
       "      <td>Black</td>\n",
       "      <td>Crown Point</td>\n",
       "      <td>IN</td>\n",
       "      <td>False</td>\n",
       "      <td>attack</td>\n",
       "      <td>Car</td>\n",
       "      <td>False</td>\n",
       "      <td>Guns</td>\n",
       "    </tr>\n",
       "    <tr>\n",
       "      <th>5918</th>\n",
       "      <td>Hannah Fizer</td>\n",
       "      <td>2020-06-13</td>\n",
       "      <td>shot</td>\n",
       "      <td>unarmed</td>\n",
       "      <td>25.0</td>\n",
       "      <td>F</td>\n",
       "      <td>White</td>\n",
       "      <td>Sedalia</td>\n",
       "      <td>MO</td>\n",
       "      <td>False</td>\n",
       "      <td>other</td>\n",
       "      <td>Not fleeing</td>\n",
       "      <td>False</td>\n",
       "      <td>Unarmed</td>\n",
       "    </tr>\n",
       "    <tr>\n",
       "      <th>5921</th>\n",
       "      <td>William Slyter</td>\n",
       "      <td>2020-06-13</td>\n",
       "      <td>shot</td>\n",
       "      <td>gun</td>\n",
       "      <td>22.0</td>\n",
       "      <td>M</td>\n",
       "      <td>White</td>\n",
       "      <td>Kansas City</td>\n",
       "      <td>MO</td>\n",
       "      <td>False</td>\n",
       "      <td>other</td>\n",
       "      <td>Other</td>\n",
       "      <td>False</td>\n",
       "      <td>Guns</td>\n",
       "    </tr>\n",
       "    <tr>\n",
       "      <th>5924</th>\n",
       "      <td>Nicholas Hirsh</td>\n",
       "      <td>2020-06-15</td>\n",
       "      <td>shot</td>\n",
       "      <td>gun</td>\n",
       "      <td>31.0</td>\n",
       "      <td>M</td>\n",
       "      <td>White</td>\n",
       "      <td>Lawrence</td>\n",
       "      <td>KS</td>\n",
       "      <td>False</td>\n",
       "      <td>attack</td>\n",
       "      <td>Car</td>\n",
       "      <td>False</td>\n",
       "      <td>Guns</td>\n",
       "    </tr>\n",
       "  </tbody>\n",
       "</table>\n",
       "<p>4798 rows × 14 columns</p>\n",
       "</div>"
      ],
      "text/plain": [
       "                    name       date   manner_of_death       armed   age  \\\n",
       "id                                                                        \n",
       "3             Tim Elliot 2015-01-02              shot         gun  53.0   \n",
       "4       Lewis Lee Lembke 2015-01-02              shot         gun  47.0   \n",
       "5     John Paul Quintero 2015-01-03  shot and Tasered     unarmed  23.0   \n",
       "8        Matthew Hoffman 2015-01-04              shot  toy weapon  32.0   \n",
       "9      Michael Rodriguez 2015-01-04              shot    nail gun  39.0   \n",
       "...                  ...        ...               ...         ...   ...   \n",
       "5916     Rayshard Brooks 2020-06-12              shot       Taser  27.0   \n",
       "5925      Caine Van Pelt 2020-06-12              shot         gun  23.0   \n",
       "5918        Hannah Fizer 2020-06-13              shot     unarmed  25.0   \n",
       "5921      William Slyter 2020-06-13              shot         gun  22.0   \n",
       "5924      Nicholas Hirsh 2020-06-15              shot         gun  31.0   \n",
       "\n",
       "     gender      race           city state  signs_of_mental_illness  \\\n",
       "id                                                                    \n",
       "3         M     Asian        Shelton    WA                     True   \n",
       "4         M     White          Aloha    OR                    False   \n",
       "5         M  Hispanic        Wichita    KS                    False   \n",
       "8         M     White  San Francisco    CA                     True   \n",
       "9         M  Hispanic          Evans    CO                    False   \n",
       "...     ...       ...            ...   ...                      ...   \n",
       "5916      M     Black        Atlanta    GA                    False   \n",
       "5925      M     Black    Crown Point    IN                    False   \n",
       "5918      F     White        Sedalia    MO                    False   \n",
       "5921      M     White    Kansas City    MO                    False   \n",
       "5924      M     White       Lawrence    KS                    False   \n",
       "\n",
       "     threat_level         flee  body_camera          arms_category  \n",
       "id                                                                  \n",
       "3          attack  Not fleeing        False                   Guns  \n",
       "4          attack  Not fleeing        False                   Guns  \n",
       "5           other  Not fleeing        False                Unarmed  \n",
       "8          attack  Not fleeing        False  Other unusual objects  \n",
       "9          attack  Not fleeing        False       Piercing objects  \n",
       "...           ...          ...          ...                    ...  \n",
       "5916       attack         Foot         True     Electrical devices  \n",
       "5925       attack          Car        False                   Guns  \n",
       "5918        other  Not fleeing        False                Unarmed  \n",
       "5921        other        Other        False                   Guns  \n",
       "5924       attack          Car        False                   Guns  \n",
       "\n",
       "[4798 rows x 14 columns]"
      ]
     },
     "execution_count": 48,
     "metadata": {},
     "output_type": "execute_result"
    }
   ],
   "source": [
    "#18 and above\n",
    "over18=data.loc[data.age>=18]\n",
    "over18"
   ]
  },
  {
   "cell_type": "code",
   "execution_count": 12,
   "id": "49bdd9b0",
   "metadata": {},
   "outputs": [
    {
     "data": {
      "text/html": [
       "<div>\n",
       "<style scoped>\n",
       "    .dataframe tbody tr th:only-of-type {\n",
       "        vertical-align: middle;\n",
       "    }\n",
       "\n",
       "    .dataframe tbody tr th {\n",
       "        vertical-align: top;\n",
       "    }\n",
       "\n",
       "    .dataframe thead th {\n",
       "        text-align: right;\n",
       "    }\n",
       "</style>\n",
       "<table border=\"1\" class=\"dataframe\">\n",
       "  <thead>\n",
       "    <tr style=\"text-align: right;\">\n",
       "      <th></th>\n",
       "      <th>name</th>\n",
       "      <th>date</th>\n",
       "      <th>manner_of_death</th>\n",
       "      <th>armed</th>\n",
       "      <th>age</th>\n",
       "      <th>gender</th>\n",
       "      <th>race</th>\n",
       "      <th>city</th>\n",
       "      <th>state</th>\n",
       "      <th>signs_of_mental_illness</th>\n",
       "      <th>threat_level</th>\n",
       "      <th>flee</th>\n",
       "      <th>body_camera</th>\n",
       "      <th>arms_category</th>\n",
       "    </tr>\n",
       "    <tr>\n",
       "      <th>id</th>\n",
       "      <th></th>\n",
       "      <th></th>\n",
       "      <th></th>\n",
       "      <th></th>\n",
       "      <th></th>\n",
       "      <th></th>\n",
       "      <th></th>\n",
       "      <th></th>\n",
       "      <th></th>\n",
       "      <th></th>\n",
       "      <th></th>\n",
       "      <th></th>\n",
       "      <th></th>\n",
       "      <th></th>\n",
       "    </tr>\n",
       "  </thead>\n",
       "  <tbody>\n",
       "    <tr>\n",
       "      <th>100</th>\n",
       "      <td>Kristiana Coignard</td>\n",
       "      <td>2015-01-22</td>\n",
       "      <td>shot and Tasered</td>\n",
       "      <td>knife</td>\n",
       "      <td>17.0</td>\n",
       "      <td>F</td>\n",
       "      <td>White</td>\n",
       "      <td>Longview</td>\n",
       "      <td>TX</td>\n",
       "      <td>True</td>\n",
       "      <td>other</td>\n",
       "      <td>Not fleeing</td>\n",
       "      <td>False</td>\n",
       "      <td>Sharp objects</td>\n",
       "    </tr>\n",
       "    <tr>\n",
       "      <th>20</th>\n",
       "      <td>Jessie Hernandez</td>\n",
       "      <td>2015-01-26</td>\n",
       "      <td>shot</td>\n",
       "      <td>unknown</td>\n",
       "      <td>17.0</td>\n",
       "      <td>F</td>\n",
       "      <td>Hispanic</td>\n",
       "      <td>Denver</td>\n",
       "      <td>CO</td>\n",
       "      <td>False</td>\n",
       "      <td>other</td>\n",
       "      <td>Not fleeing</td>\n",
       "      <td>False</td>\n",
       "      <td>Unknown</td>\n",
       "    </tr>\n",
       "    <tr>\n",
       "      <th>528</th>\n",
       "      <td>Jacob Haglund</td>\n",
       "      <td>2015-02-02</td>\n",
       "      <td>shot</td>\n",
       "      <td>gun</td>\n",
       "      <td>17.0</td>\n",
       "      <td>M</td>\n",
       "      <td>White</td>\n",
       "      <td>Bay City</td>\n",
       "      <td>MI</td>\n",
       "      <td>False</td>\n",
       "      <td>attack</td>\n",
       "      <td>Not fleeing</td>\n",
       "      <td>False</td>\n",
       "      <td>Guns</td>\n",
       "    </tr>\n",
       "    <tr>\n",
       "      <th>149</th>\n",
       "      <td>Jason C. Hendrix</td>\n",
       "      <td>2015-02-14</td>\n",
       "      <td>shot</td>\n",
       "      <td>gun</td>\n",
       "      <td>16.0</td>\n",
       "      <td>M</td>\n",
       "      <td>White</td>\n",
       "      <td>Essex</td>\n",
       "      <td>MD</td>\n",
       "      <td>True</td>\n",
       "      <td>attack</td>\n",
       "      <td>Car</td>\n",
       "      <td>False</td>\n",
       "      <td>Guns</td>\n",
       "    </tr>\n",
       "    <tr>\n",
       "      <th>176</th>\n",
       "      <td>A'Donte Washington</td>\n",
       "      <td>2015-02-23</td>\n",
       "      <td>shot</td>\n",
       "      <td>gun</td>\n",
       "      <td>16.0</td>\n",
       "      <td>M</td>\n",
       "      <td>Black</td>\n",
       "      <td>Millbrook</td>\n",
       "      <td>AL</td>\n",
       "      <td>False</td>\n",
       "      <td>attack</td>\n",
       "      <td>Not fleeing</td>\n",
       "      <td>False</td>\n",
       "      <td>Guns</td>\n",
       "    </tr>\n",
       "    <tr>\n",
       "      <th>...</th>\n",
       "      <td>...</td>\n",
       "      <td>...</td>\n",
       "      <td>...</td>\n",
       "      <td>...</td>\n",
       "      <td>...</td>\n",
       "      <td>...</td>\n",
       "      <td>...</td>\n",
       "      <td>...</td>\n",
       "      <td>...</td>\n",
       "      <td>...</td>\n",
       "      <td>...</td>\n",
       "      <td>...</td>\n",
       "      <td>...</td>\n",
       "      <td>...</td>\n",
       "    </tr>\n",
       "    <tr>\n",
       "      <th>5495</th>\n",
       "      <td>Alvin Cole</td>\n",
       "      <td>2020-02-02</td>\n",
       "      <td>shot</td>\n",
       "      <td>gun</td>\n",
       "      <td>17.0</td>\n",
       "      <td>M</td>\n",
       "      <td>Black</td>\n",
       "      <td>Wauwatosa</td>\n",
       "      <td>WI</td>\n",
       "      <td>False</td>\n",
       "      <td>attack</td>\n",
       "      <td>Foot</td>\n",
       "      <td>False</td>\n",
       "      <td>Guns</td>\n",
       "    </tr>\n",
       "    <tr>\n",
       "      <th>5536</th>\n",
       "      <td>Daelyn Polu</td>\n",
       "      <td>2020-02-15</td>\n",
       "      <td>shot</td>\n",
       "      <td>gun</td>\n",
       "      <td>16.0</td>\n",
       "      <td>M</td>\n",
       "      <td>Asian</td>\n",
       "      <td>Achorage</td>\n",
       "      <td>AK</td>\n",
       "      <td>False</td>\n",
       "      <td>attack</td>\n",
       "      <td>Not fleeing</td>\n",
       "      <td>False</td>\n",
       "      <td>Guns</td>\n",
       "    </tr>\n",
       "    <tr>\n",
       "      <th>5556</th>\n",
       "      <td>Joseph Jewell</td>\n",
       "      <td>2020-02-20</td>\n",
       "      <td>shot</td>\n",
       "      <td>gun</td>\n",
       "      <td>17.0</td>\n",
       "      <td>M</td>\n",
       "      <td>Black</td>\n",
       "      <td>Columbus</td>\n",
       "      <td>OH</td>\n",
       "      <td>False</td>\n",
       "      <td>attack</td>\n",
       "      <td>Not fleeing</td>\n",
       "      <td>False</td>\n",
       "      <td>Guns</td>\n",
       "    </tr>\n",
       "    <tr>\n",
       "      <th>5592</th>\n",
       "      <td>Dylan Olmeda</td>\n",
       "      <td>2020-02-25</td>\n",
       "      <td>shot</td>\n",
       "      <td>gun</td>\n",
       "      <td>16.0</td>\n",
       "      <td>M</td>\n",
       "      <td>White</td>\n",
       "      <td>Georgetown</td>\n",
       "      <td>TX</td>\n",
       "      <td>False</td>\n",
       "      <td>attack</td>\n",
       "      <td>Not fleeing</td>\n",
       "      <td>False</td>\n",
       "      <td>Guns</td>\n",
       "    </tr>\n",
       "    <tr>\n",
       "      <th>5733</th>\n",
       "      <td>Joshua Dariandre Ruffin</td>\n",
       "      <td>2020-04-08</td>\n",
       "      <td>shot</td>\n",
       "      <td>gun</td>\n",
       "      <td>17.0</td>\n",
       "      <td>M</td>\n",
       "      <td>Black</td>\n",
       "      <td>Columbia</td>\n",
       "      <td>SC</td>\n",
       "      <td>False</td>\n",
       "      <td>other</td>\n",
       "      <td>Foot</td>\n",
       "      <td>False</td>\n",
       "      <td>Guns</td>\n",
       "    </tr>\n",
       "  </tbody>\n",
       "</table>\n",
       "<p>97 rows × 14 columns</p>\n",
       "</div>"
      ],
      "text/plain": [
       "                         name       date   manner_of_death    armed   age  \\\n",
       "id                                                                          \n",
       "100        Kristiana Coignard 2015-01-22  shot and Tasered    knife  17.0   \n",
       "20           Jessie Hernandez 2015-01-26              shot  unknown  17.0   \n",
       "528             Jacob Haglund 2015-02-02              shot      gun  17.0   \n",
       "149          Jason C. Hendrix 2015-02-14              shot      gun  16.0   \n",
       "176        A'Donte Washington 2015-02-23              shot      gun  16.0   \n",
       "...                       ...        ...               ...      ...   ...   \n",
       "5495               Alvin Cole 2020-02-02              shot      gun  17.0   \n",
       "5536              Daelyn Polu 2020-02-15              shot      gun  16.0   \n",
       "5556            Joseph Jewell 2020-02-20              shot      gun  17.0   \n",
       "5592             Dylan Olmeda 2020-02-25              shot      gun  16.0   \n",
       "5733  Joshua Dariandre Ruffin 2020-04-08              shot      gun  17.0   \n",
       "\n",
       "     gender      race        city state  signs_of_mental_illness threat_level  \\\n",
       "id                                                                              \n",
       "100       F     White    Longview    TX                     True        other   \n",
       "20        F  Hispanic      Denver    CO                    False        other   \n",
       "528       M     White    Bay City    MI                    False       attack   \n",
       "149       M     White       Essex    MD                     True       attack   \n",
       "176       M     Black   Millbrook    AL                    False       attack   \n",
       "...     ...       ...         ...   ...                      ...          ...   \n",
       "5495      M     Black   Wauwatosa    WI                    False       attack   \n",
       "5536      M     Asian    Achorage    AK                    False       attack   \n",
       "5556      M     Black    Columbus    OH                    False       attack   \n",
       "5592      M     White  Georgetown    TX                    False       attack   \n",
       "5733      M     Black    Columbia    SC                    False        other   \n",
       "\n",
       "             flee  body_camera  arms_category  \n",
       "id                                             \n",
       "100   Not fleeing        False  Sharp objects  \n",
       "20    Not fleeing        False        Unknown  \n",
       "528   Not fleeing        False           Guns  \n",
       "149           Car        False           Guns  \n",
       "176   Not fleeing        False           Guns  \n",
       "...           ...          ...            ...  \n",
       "5495         Foot        False           Guns  \n",
       "5536  Not fleeing        False           Guns  \n",
       "5556  Not fleeing        False           Guns  \n",
       "5592  Not fleeing        False           Guns  \n",
       "5733         Foot        False           Guns  \n",
       "\n",
       "[97 rows x 14 columns]"
      ]
     },
     "execution_count": 12,
     "metadata": {},
     "output_type": "execute_result"
    }
   ],
   "source": [
    "#under 18\n",
    "under18=data.loc[data.age<=17]\n",
    "under18"
   ]
  },
  {
   "cell_type": "markdown",
   "id": "ce6e8681",
   "metadata": {},
   "source": [
    "# shootings grouped by Ages and Gender "
   ]
  },
  {
   "cell_type": "code",
   "execution_count": 13,
   "id": "bef52ae7",
   "metadata": {},
   "outputs": [
    {
     "data": {
      "text/html": [
       "<div>\n",
       "<style scoped>\n",
       "    .dataframe tbody tr th:only-of-type {\n",
       "        vertical-align: middle;\n",
       "    }\n",
       "\n",
       "    .dataframe tbody tr th {\n",
       "        vertical-align: top;\n",
       "    }\n",
       "\n",
       "    .dataframe thead th {\n",
       "        text-align: right;\n",
       "    }\n",
       "</style>\n",
       "<table border=\"1\" class=\"dataframe\">\n",
       "  <thead>\n",
       "    <tr style=\"text-align: right;\">\n",
       "      <th></th>\n",
       "      <th>len</th>\n",
       "      <th>min</th>\n",
       "      <th>max</th>\n",
       "    </tr>\n",
       "    <tr>\n",
       "      <th>gender</th>\n",
       "      <th></th>\n",
       "      <th></th>\n",
       "      <th></th>\n",
       "    </tr>\n",
       "  </thead>\n",
       "  <tbody>\n",
       "    <tr>\n",
       "      <th>M</th>\n",
       "      <td>90</td>\n",
       "      <td>shot</td>\n",
       "      <td>shot and Tasered</td>\n",
       "    </tr>\n",
       "    <tr>\n",
       "      <th>F</th>\n",
       "      <td>7</td>\n",
       "      <td>shot</td>\n",
       "      <td>shot and Tasered</td>\n",
       "    </tr>\n",
       "  </tbody>\n",
       "</table>\n",
       "</div>"
      ],
      "text/plain": [
       "        len   min               max\n",
       "gender                             \n",
       "M        90  shot  shot and Tasered\n",
       "F         7  shot  shot and Tasered"
      ]
     },
     "execution_count": 13,
     "metadata": {},
     "output_type": "execute_result"
    }
   ],
   "source": [
    "#under 18 years\n",
    "under18.groupby(['gender']).manner_of_death.agg([len,min,max]).sort_values(by='len',ascending =False)\n"
   ]
  },
  {
   "cell_type": "code",
   "execution_count": 14,
   "id": "84184810",
   "metadata": {},
   "outputs": [
    {
     "data": {
      "text/html": [
       "<div>\n",
       "<style scoped>\n",
       "    .dataframe tbody tr th:only-of-type {\n",
       "        vertical-align: middle;\n",
       "    }\n",
       "\n",
       "    .dataframe tbody tr th {\n",
       "        vertical-align: top;\n",
       "    }\n",
       "\n",
       "    .dataframe thead th {\n",
       "        text-align: right;\n",
       "    }\n",
       "</style>\n",
       "<table border=\"1\" class=\"dataframe\">\n",
       "  <thead>\n",
       "    <tr style=\"text-align: right;\">\n",
       "      <th></th>\n",
       "      <th>len</th>\n",
       "      <th>min</th>\n",
       "      <th>max</th>\n",
       "    </tr>\n",
       "    <tr>\n",
       "      <th>gender</th>\n",
       "      <th></th>\n",
       "      <th></th>\n",
       "      <th></th>\n",
       "    </tr>\n",
       "  </thead>\n",
       "  <tbody>\n",
       "    <tr>\n",
       "      <th>M</th>\n",
       "      <td>4583</td>\n",
       "      <td>shot</td>\n",
       "      <td>shot and Tasered</td>\n",
       "    </tr>\n",
       "    <tr>\n",
       "      <th>F</th>\n",
       "      <td>215</td>\n",
       "      <td>shot</td>\n",
       "      <td>shot and Tasered</td>\n",
       "    </tr>\n",
       "  </tbody>\n",
       "</table>\n",
       "</div>"
      ],
      "text/plain": [
       "         len   min               max\n",
       "gender                              \n",
       "M       4583  shot  shot and Tasered\n",
       "F        215  shot  shot and Tasered"
      ]
     },
     "execution_count": 14,
     "metadata": {},
     "output_type": "execute_result"
    }
   ],
   "source": [
    "#over 18 years\n",
    "over18.groupby(['gender']).manner_of_death.agg([len,min,max]).sort_values(by='len',ascending =False)\n"
   ]
  },
  {
   "cell_type": "markdown",
   "id": "b23a9f32",
   "metadata": {},
   "source": [
    "# Grouping of Shootings by Year"
   ]
  },
  {
   "cell_type": "code",
   "execution_count": 242,
   "id": "e2e8116c",
   "metadata": {},
   "outputs": [],
   "source": [
    "shot_2015=data.loc[data['date']<='2015-12-31']\n",
    "shot_2020=data.loc[(data['date']>'2019-12-31')&(data['date']<='2020-12-31')]\n",
    "shot_2016=data.loc[(data['date']>'2015-12-31')&(data['date']<='2016-12-31')]\n",
    "shot_2017=data.loc[(data['date']>'2016-12-31')&(data['date']<='2017-12-31')]\n",
    "shot_2018=data.loc[(data['date']>'2017-12-31')&(data['date']<='2018-12-31')]\n",
    "shot_2019=data.loc[(data['date']>'2018-12-31')&(data['date']<='2019-12-31')]\n"
   ]
  },
  {
   "cell_type": "code",
   "execution_count": null,
   "id": "5c58356d",
   "metadata": {},
   "outputs": [],
   "source": [
    "#shot_2015\n",
    "\n",
    "#shot_2016\n",
    "\n",
    "#shot_2017\n",
    "\n",
    "#shot_2018\n",
    "\n",
    "#shot_2019\n",
    "\n",
    "shot_2020\n",
    "\n"
   ]
  },
  {
   "cell_type": "markdown",
   "id": "0d878b38",
   "metadata": {},
   "source": [
    "# Number of Shootings of Race Per Each Year\n"
   ]
  },
  {
   "cell_type": "code",
   "execution_count": null,
   "id": "a44bc3cd",
   "metadata": {},
   "outputs": [],
   "source": [
    "\n",
    "                            #YEARS\n",
    "#shot_2015.groupby(['race']).manner_of_death.agg([len,min,max]).sort_values(by='len',ascending =False)\n",
    "\n",
    "\n",
    "\n",
    "#shot_2016.groupby(['race']).manner_of_death.agg([len,min,max]).sort_values(by='len',ascending =False)\n",
    "\n",
    "\n",
    "\n",
    "#shot_2017.groupby(['race']).manner_of_death.agg([len,min,max]).sort_values(by='len',ascending =False)\n",
    "\n",
    "\n",
    "\n",
    "#shot_2018.groupby(['race']).manner_of_death.agg([len,min,max]).sort_values(by='len',ascending =False)\n",
    "\n",
    "\n",
    "#shot_2019.groupby(['race']).manner_of_death.agg([len,min,max]).sort_values(by='len',ascending =False)\n",
    "\n",
    "\n",
    "\n",
    "shot_2020.groupby(['race']).manner_of_death.agg([len,min,max]).sort_values(by='len',ascending =False)\n"
   ]
  },
  {
   "cell_type": "code",
   "execution_count": 225,
   "id": "7f163367",
   "metadata": {},
   "outputs": [
    {
     "data": {
      "text/html": [
       "<div>\n",
       "<style scoped>\n",
       "    .dataframe tbody tr th:only-of-type {\n",
       "        vertical-align: middle;\n",
       "    }\n",
       "\n",
       "    .dataframe tbody tr th {\n",
       "        vertical-align: top;\n",
       "    }\n",
       "\n",
       "    .dataframe thead th {\n",
       "        text-align: right;\n",
       "    }\n",
       "</style>\n",
       "<table border=\"1\" class=\"dataframe\">\n",
       "  <thead>\n",
       "    <tr style=\"text-align: right;\">\n",
       "      <th></th>\n",
       "      <th>len</th>\n",
       "      <th>min</th>\n",
       "      <th>max</th>\n",
       "    </tr>\n",
       "    <tr>\n",
       "      <th>gender</th>\n",
       "      <th></th>\n",
       "      <th></th>\n",
       "      <th></th>\n",
       "    </tr>\n",
       "  </thead>\n",
       "  <tbody>\n",
       "    <tr>\n",
       "      <th>M</th>\n",
       "      <td>359</td>\n",
       "      <td>shot</td>\n",
       "      <td>shot and Tasered</td>\n",
       "    </tr>\n",
       "    <tr>\n",
       "      <th>F</th>\n",
       "      <td>15</td>\n",
       "      <td>shot</td>\n",
       "      <td>shot</td>\n",
       "    </tr>\n",
       "  </tbody>\n",
       "</table>\n",
       "</div>"
      ],
      "text/plain": [
       "        len   min               max\n",
       "gender                             \n",
       "M       359  shot  shot and Tasered\n",
       "F        15  shot              shot"
      ]
     },
     "execution_count": 225,
     "metadata": {},
     "output_type": "execute_result"
    }
   ],
   "source": [
    "shot_2020.groupby(['gender']).manner_of_death.agg([len,min,max]).sort_values(by='len',ascending =False)\n"
   ]
  },
  {
   "cell_type": "code",
   "execution_count": null,
   "id": "93ae5a8d",
   "metadata": {},
   "outputs": [],
   "source": []
  },
  {
   "cell_type": "code",
   "execution_count": null,
   "id": "427e6794",
   "metadata": {},
   "outputs": [],
   "source": []
  },
  {
   "cell_type": "code",
   "execution_count": null,
   "id": "b3d71f4b",
   "metadata": {},
   "outputs": [],
   "source": []
  }
 ],
 "metadata": {
  "kernelspec": {
   "display_name": "Python 3",
   "language": "python",
   "name": "python3"
  },
  "language_info": {
   "codemirror_mode": {
    "name": "ipython",
    "version": 3
   },
   "file_extension": ".py",
   "mimetype": "text/x-python",
   "name": "python",
   "nbconvert_exporter": "python",
   "pygments_lexer": "ipython3",
   "version": "3.8.8"
  }
 },
 "nbformat": 4,
 "nbformat_minor": 5
}
