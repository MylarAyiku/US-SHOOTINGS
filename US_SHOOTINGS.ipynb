{
 "cells": [
  {
   "cell_type": "code",
   "execution_count": 5,
   "id": "0f5c7706",
   "metadata": {},
   "outputs": [],
   "source": [
    "#import libraries\n",
    "import pandas as pd\n",
    "import numpy as np\n",
    "import seaborn as sns\n",
    "\n"
   ]
  },
  {
   "cell_type": "code",
   "execution_count": 7,
   "id": "fd3a668b",
   "metadata": {},
   "outputs": [],
   "source": [
    "#reading the excel file \"shootings\".\n",
    "data = pd.read_excel(\"/Users/oluwasheyi/Desktop/shootings.xlsx\")\n",
    "data['date']=pd.to_datetime(data['date'],format=\"%m %d %Y\")\n",
    "#pd. to_datetime() method helps to convert string Date time into Python Date time object.\n"
   ]
  },
  {
   "cell_type": "code",
   "execution_count": 8,
   "id": "3867e30c",
   "metadata": {
    "scrolled": true
   },
   "outputs": [
    {
     "data": {
      "text/html": [
       "<div>\n",
       "<style scoped>\n",
       "    .dataframe tbody tr th:only-of-type {\n",
       "        vertical-align: middle;\n",
       "    }\n",
       "\n",
       "    .dataframe tbody tr th {\n",
       "        vertical-align: top;\n",
       "    }\n",
       "\n",
       "    .dataframe thead th {\n",
       "        text-align: right;\n",
       "    }\n",
       "</style>\n",
       "<table border=\"1\" class=\"dataframe\">\n",
       "  <thead>\n",
       "    <tr style=\"text-align: right;\">\n",
       "      <th></th>\n",
       "      <th>id</th>\n",
       "      <th>name</th>\n",
       "      <th>date</th>\n",
       "      <th>manner_of_death</th>\n",
       "      <th>armed</th>\n",
       "      <th>age</th>\n",
       "      <th>gender</th>\n",
       "      <th>race</th>\n",
       "      <th>city</th>\n",
       "      <th>state</th>\n",
       "      <th>signs_of_mental_illness</th>\n",
       "      <th>threat_level</th>\n",
       "      <th>flee</th>\n",
       "      <th>body_camera</th>\n",
       "      <th>arms_category</th>\n",
       "    </tr>\n",
       "  </thead>\n",
       "  <tbody>\n",
       "    <tr>\n",
       "      <th>0</th>\n",
       "      <td>3</td>\n",
       "      <td>Tim Elliot</td>\n",
       "      <td>2015-01-02</td>\n",
       "      <td>shot</td>\n",
       "      <td>gun</td>\n",
       "      <td>53.0</td>\n",
       "      <td>M</td>\n",
       "      <td>Asian</td>\n",
       "      <td>Shelton</td>\n",
       "      <td>WA</td>\n",
       "      <td>True</td>\n",
       "      <td>attack</td>\n",
       "      <td>Not fleeing</td>\n",
       "      <td>False</td>\n",
       "      <td>Guns</td>\n",
       "    </tr>\n",
       "    <tr>\n",
       "      <th>1</th>\n",
       "      <td>4</td>\n",
       "      <td>Lewis Lee Lembke</td>\n",
       "      <td>2015-01-02</td>\n",
       "      <td>shot</td>\n",
       "      <td>gun</td>\n",
       "      <td>47.0</td>\n",
       "      <td>M</td>\n",
       "      <td>White</td>\n",
       "      <td>Aloha</td>\n",
       "      <td>OR</td>\n",
       "      <td>False</td>\n",
       "      <td>attack</td>\n",
       "      <td>Not fleeing</td>\n",
       "      <td>False</td>\n",
       "      <td>Guns</td>\n",
       "    </tr>\n",
       "    <tr>\n",
       "      <th>2</th>\n",
       "      <td>5</td>\n",
       "      <td>John Paul Quintero</td>\n",
       "      <td>2015-01-03</td>\n",
       "      <td>shot and Tasered</td>\n",
       "      <td>unarmed</td>\n",
       "      <td>23.0</td>\n",
       "      <td>M</td>\n",
       "      <td>Hispanic</td>\n",
       "      <td>Wichita</td>\n",
       "      <td>KS</td>\n",
       "      <td>False</td>\n",
       "      <td>other</td>\n",
       "      <td>Not fleeing</td>\n",
       "      <td>False</td>\n",
       "      <td>Unarmed</td>\n",
       "    </tr>\n",
       "    <tr>\n",
       "      <th>3</th>\n",
       "      <td>8</td>\n",
       "      <td>Matthew Hoffman</td>\n",
       "      <td>2015-01-04</td>\n",
       "      <td>shot</td>\n",
       "      <td>toy weapon</td>\n",
       "      <td>32.0</td>\n",
       "      <td>M</td>\n",
       "      <td>White</td>\n",
       "      <td>San Francisco</td>\n",
       "      <td>CA</td>\n",
       "      <td>True</td>\n",
       "      <td>attack</td>\n",
       "      <td>Not fleeing</td>\n",
       "      <td>False</td>\n",
       "      <td>Other unusual objects</td>\n",
       "    </tr>\n",
       "    <tr>\n",
       "      <th>4</th>\n",
       "      <td>9</td>\n",
       "      <td>Michael Rodriguez</td>\n",
       "      <td>2015-01-04</td>\n",
       "      <td>shot</td>\n",
       "      <td>nail gun</td>\n",
       "      <td>39.0</td>\n",
       "      <td>M</td>\n",
       "      <td>Hispanic</td>\n",
       "      <td>Evans</td>\n",
       "      <td>CO</td>\n",
       "      <td>False</td>\n",
       "      <td>attack</td>\n",
       "      <td>Not fleeing</td>\n",
       "      <td>False</td>\n",
       "      <td>Piercing objects</td>\n",
       "    </tr>\n",
       "  </tbody>\n",
       "</table>\n",
       "</div>"
      ],
      "text/plain": [
       "   id                name       date   manner_of_death       armed   age  \\\n",
       "0   3          Tim Elliot 2015-01-02              shot         gun  53.0   \n",
       "1   4    Lewis Lee Lembke 2015-01-02              shot         gun  47.0   \n",
       "2   5  John Paul Quintero 2015-01-03  shot and Tasered     unarmed  23.0   \n",
       "3   8     Matthew Hoffman 2015-01-04              shot  toy weapon  32.0   \n",
       "4   9   Michael Rodriguez 2015-01-04              shot    nail gun  39.0   \n",
       "\n",
       "  gender      race           city state  signs_of_mental_illness threat_level  \\\n",
       "0      M     Asian        Shelton    WA                     True       attack   \n",
       "1      M     White          Aloha    OR                    False       attack   \n",
       "2      M  Hispanic        Wichita    KS                    False        other   \n",
       "3      M     White  San Francisco    CA                     True       attack   \n",
       "4      M  Hispanic          Evans    CO                    False       attack   \n",
       "\n",
       "          flee  body_camera          arms_category  \n",
       "0  Not fleeing        False                   Guns  \n",
       "1  Not fleeing        False                   Guns  \n",
       "2  Not fleeing        False                Unarmed  \n",
       "3  Not fleeing        False  Other unusual objects  \n",
       "4  Not fleeing        False       Piercing objects  "
      ]
     },
     "execution_count": 8,
     "metadata": {},
     "output_type": "execute_result"
    }
   ],
   "source": [
    "#Examine the data by looking at the first 5 rows of the data\n",
    "data.head()"
   ]
  },
  {
   "cell_type": "code",
   "execution_count": 9,
   "id": "614ce4fe",
   "metadata": {},
   "outputs": [
    {
     "data": {
      "text/plain": [
       "(4895, 15)"
      ]
     },
     "execution_count": 9,
     "metadata": {},
     "output_type": "execute_result"
    }
   ],
   "source": [
    "data.shape\n",
    "#This shows the number of rows and columns in our data"
   ]
  },
  {
   "cell_type": "markdown",
   "metadata": {},
   "source": [
    "Observation: There are 4895 rows and 15 columns in this dataset"
   ]
  },
  {
   "cell_type": "code",
   "execution_count": 15,
   "metadata": {},
   "outputs": [
    {
     "data": {
      "text/plain": [
       "id                                  int64\n",
       "name                               object\n",
       "date                       datetime64[ns]\n",
       "manner_of_death                    object\n",
       "armed                              object\n",
       "age                               float64\n",
       "gender                             object\n",
       "race                               object\n",
       "city                               object\n",
       "state                              object\n",
       "signs_of_mental_illness              bool\n",
       "threat_level                       object\n",
       "flee                               object\n",
       "body_camera                          bool\n",
       "arms_category                      object\n",
       "dtype: object"
      ]
     },
     "execution_count": 15,
     "metadata": {},
     "output_type": "execute_result"
    }
   ],
   "source": [
    "#the type of data in dataframe\n",
    "data.dtypes"
   ]
  },
  {
   "cell_type": "code",
   "execution_count": 16,
   "metadata": {},
   "outputs": [
    {
     "name": "stdout",
     "output_type": "stream",
     "text": [
      "<class 'pandas.core.frame.DataFrame'>\n",
      "RangeIndex: 4895 entries, 0 to 4894\n",
      "Data columns (total 15 columns):\n",
      " #   Column                   Non-Null Count  Dtype         \n",
      "---  ------                   --------------  -----         \n",
      " 0   id                       4895 non-null   int64         \n",
      " 1   name                     4895 non-null   object        \n",
      " 2   date                     4895 non-null   datetime64[ns]\n",
      " 3   manner_of_death          4895 non-null   object        \n",
      " 4   armed                    4895 non-null   object        \n",
      " 5   age                      4895 non-null   float64       \n",
      " 6   gender                   4895 non-null   object        \n",
      " 7   race                     4895 non-null   object        \n",
      " 8   city                     4895 non-null   object        \n",
      " 9   state                    4895 non-null   object        \n",
      " 10  signs_of_mental_illness  4895 non-null   bool          \n",
      " 11  threat_level             4895 non-null   object        \n",
      " 12  flee                     4895 non-null   object        \n",
      " 13  body_camera              4895 non-null   bool          \n",
      " 14  arms_category            4895 non-null   object        \n",
      "dtypes: bool(2), datetime64[ns](1), float64(1), int64(1), object(10)\n",
      "memory usage: 506.8+ KB\n"
     ]
    }
   ],
   "source": [
    "data.info()"
   ]
  },
  {
   "cell_type": "code",
   "execution_count": 18,
   "metadata": {},
   "outputs": [
    {
     "data": {
      "text/plain": [
       "id                         0\n",
       "name                       0\n",
       "date                       0\n",
       "manner_of_death            0\n",
       "armed                      0\n",
       "age                        0\n",
       "gender                     0\n",
       "race                       0\n",
       "city                       0\n",
       "state                      0\n",
       "signs_of_mental_illness    0\n",
       "threat_level               0\n",
       "flee                       0\n",
       "body_camera                0\n",
       "arms_category              0\n",
       "dtype: int64"
      ]
     },
     "execution_count": 18,
     "metadata": {},
     "output_type": "execute_result"
    }
   ],
   "source": [
    "#checking for missing values\n",
    "data.isnull().sum()"
   ]
  },
  {
   "cell_type": "code",
   "execution_count": 20,
   "metadata": {},
   "outputs": [
    {
     "data": {
      "text/plain": [
       "0"
      ]
     },
     "execution_count": 20,
     "metadata": {},
     "output_type": "execute_result"
    }
   ],
   "source": [
    "#checking for duplicated values\n",
    "data.duplicated().sum()"
   ]
  },
  {
   "cell_type": "markdown",
   "metadata": {},
   "source": [
    "Observation: Dataset is complete and there are no mising or duplicate  values.Data cleaning is therefore not necessary"
   ]
  },
  {
   "cell_type": "code",
   "execution_count": 21,
   "metadata": {},
   "outputs": [
    {
     "data": {
      "text/html": [
       "<div>\n",
       "<style scoped>\n",
       "    .dataframe tbody tr th:only-of-type {\n",
       "        vertical-align: middle;\n",
       "    }\n",
       "\n",
       "    .dataframe tbody tr th {\n",
       "        vertical-align: top;\n",
       "    }\n",
       "\n",
       "    .dataframe thead th {\n",
       "        text-align: right;\n",
       "    }\n",
       "</style>\n",
       "<table border=\"1\" class=\"dataframe\">\n",
       "  <thead>\n",
       "    <tr style=\"text-align: right;\">\n",
       "      <th></th>\n",
       "      <th>id</th>\n",
       "      <th>age</th>\n",
       "    </tr>\n",
       "  </thead>\n",
       "  <tbody>\n",
       "    <tr>\n",
       "      <th>count</th>\n",
       "      <td>4895.000000</td>\n",
       "      <td>4895.000000</td>\n",
       "    </tr>\n",
       "    <tr>\n",
       "      <th>mean</th>\n",
       "      <td>2902.148519</td>\n",
       "      <td>36.549750</td>\n",
       "    </tr>\n",
       "    <tr>\n",
       "      <th>std</th>\n",
       "      <td>1683.467910</td>\n",
       "      <td>12.694348</td>\n",
       "    </tr>\n",
       "    <tr>\n",
       "      <th>min</th>\n",
       "      <td>3.000000</td>\n",
       "      <td>6.000000</td>\n",
       "    </tr>\n",
       "    <tr>\n",
       "      <th>25%</th>\n",
       "      <td>1441.500000</td>\n",
       "      <td>27.000000</td>\n",
       "    </tr>\n",
       "    <tr>\n",
       "      <th>50%</th>\n",
       "      <td>2847.000000</td>\n",
       "      <td>35.000000</td>\n",
       "    </tr>\n",
       "    <tr>\n",
       "      <th>75%</th>\n",
       "      <td>4352.500000</td>\n",
       "      <td>45.000000</td>\n",
       "    </tr>\n",
       "    <tr>\n",
       "      <th>max</th>\n",
       "      <td>5925.000000</td>\n",
       "      <td>91.000000</td>\n",
       "    </tr>\n",
       "  </tbody>\n",
       "</table>\n",
       "</div>"
      ],
      "text/plain": [
       "                id          age\n",
       "count  4895.000000  4895.000000\n",
       "mean   2902.148519    36.549750\n",
       "std    1683.467910    12.694348\n",
       "min       3.000000     6.000000\n",
       "25%    1441.500000    27.000000\n",
       "50%    2847.000000    35.000000\n",
       "75%    4352.500000    45.000000\n",
       "max    5925.000000    91.000000"
      ]
     },
     "execution_count": 21,
     "metadata": {},
     "output_type": "execute_result"
    }
   ],
   "source": [
    "data.describe()"
   ]
  },
  {
   "cell_type": "markdown",
   "metadata": {},
   "source": [
    "EXAMINING THE DATA-BASIC ANALYSIS"
   ]
  },
  {
   "cell_type": "code",
   "execution_count": 6,
   "id": "acf7334a",
   "metadata": {},
   "outputs": [
    {
     "data": {
      "text/plain": [
       "M    4673\n",
       "F     222\n",
       "Name: gender, dtype: int64"
      ]
     },
     "execution_count": 6,
     "metadata": {},
     "output_type": "execute_result"
    }
   ],
   "source": [
    "data.gender.value_counts()\n",
    "#This shows the number of males and females who were killed"
   ]
  },
  {
   "cell_type": "markdown",
   "metadata": {},
   "source": [
    "Observation:There are 222 Femalesand 4673 males.More males were killed as compared to females."
   ]
  },
  {
   "cell_type": "code",
   "execution_count": 7,
   "id": "9e32ec22",
   "metadata": {},
   "outputs": [
    {
     "data": {
      "text/plain": [
       "White       2476\n",
       "Black       1298\n",
       "Hispanic     902\n",
       "Asian         93\n",
       "Native        78\n",
       "Other         48\n",
       "Name: race, dtype: int64"
      ]
     },
     "execution_count": 7,
     "metadata": {},
     "output_type": "execute_result"
    }
   ],
   "source": [
    "data.race.value_counts()\n",
    "#this counts the number of people in a particular race"
   ]
  },
  {
   "cell_type": "code",
   "execution_count": 8,
   "id": "d106f7ce",
   "metadata": {},
   "outputs": [
    {
     "data": {
      "text/plain": [
       "shot                4647\n",
       "shot and Tasered     248\n",
       "Name: manner_of_death, dtype: int64"
      ]
     },
     "execution_count": 8,
     "metadata": {},
     "output_type": "execute_result"
    }
   ],
   "source": [
    "data.manner_of_death.value_counts()\n",
    "#This shows number of people who died through a particular manner of death"
   ]
  },
  {
   "cell_type": "markdown",
   "metadata": {},
   "source": [
    "Observation: 4647 people were shot to death.248 people were shot and tasered. A greater proportion of people who died were shot as compared to those who were shot and tasered at the same time."
   ]
  },
  {
   "cell_type": "code",
   "execution_count": 9,
   "id": "2abcb3f8",
   "metadata": {},
   "outputs": [
    {
     "data": {
      "text/plain": [
       "gun                                 2755\n",
       "knife                                708\n",
       "unknown                              418\n",
       "unarmed                              348\n",
       "toy weapon                           171\n",
       "                                    ... \n",
       "baseball bat and fireplace poker       1\n",
       "pen                                    1\n",
       "carjack                                1\n",
       "car, knife and mace                    1\n",
       "wrench                                 1\n",
       "Name: armed, Length: 89, dtype: int64"
      ]
     },
     "execution_count": 9,
     "metadata": {},
     "output_type": "execute_result"
    }
   ],
   "source": [
    "data.armed.value_counts()\n",
    "#This shows the number of people who were armed with a particular weapon"
   ]
  },
  {
   "cell_type": "code",
   "execution_count": 10,
   "id": "57cc2728",
   "metadata": {},
   "outputs": [
    {
     "data": {
      "text/plain": [
       "False    3792\n",
       "True     1103\n",
       "Name: signs_of_mental_illness, dtype: int64"
      ]
     },
     "execution_count": 10,
     "metadata": {},
     "output_type": "execute_result"
    }
   ],
   "source": [
    "data.signs_of_mental_illness.value_counts()\n",
    "#the number of people who showed and did not show signs of mental illness"
   ]
  },
  {
   "cell_type": "code",
   "execution_count": 25,
   "id": "979667cc",
   "metadata": {},
   "outputs": [
    {
     "data": {
      "text/plain": [
       "False    4317\n",
       "True      578\n",
       "Name: body_camera, dtype: int64"
      ]
     },
     "execution_count": 25,
     "metadata": {},
     "output_type": "execute_result"
    }
   ],
   "source": [
    "b_camera = data.body_camera.value_counts()\n",
    "b_camera.head()\n",
    "#Number of killings which were recorded."
   ]
  },
  {
   "cell_type": "code",
   "execution_count": 26,
   "id": "a1a6abb5",
   "metadata": {},
   "outputs": [
    {
     "data": {
      "text/plain": [
       "578"
      ]
     },
     "execution_count": 26,
     "metadata": {},
     "output_type": "execute_result"
    }
   ],
   "source": [
    "data.body_camera.sum()"
   ]
  },
  {
   "cell_type": "code",
   "execution_count": 22,
   "id": "c627e4fd",
   "metadata": {},
   "outputs": [
    {
     "data": {
      "text/plain": [
       "Los Angeles    78\n",
       "Phoenix        66\n",
       "Houston        51\n",
       "Las Vegas      41\n",
       "San Antonio    40\n",
       "Name: city, dtype: int64"
      ]
     },
     "execution_count": 22,
     "metadata": {},
     "output_type": "execute_result"
    }
   ],
   "source": [
    "h_shotCity=data.city.value_counts(ascending=False)\n",
    "h_shotCity.head()\n"
   ]
  },
  {
   "cell_type": "code",
   "execution_count": 20,
   "id": "6f5e900c",
   "metadata": {},
   "outputs": [
    {
     "data": {
      "text/plain": [
       "Guns                     2764\n",
       "Sharp objects             818\n",
       "Unknown                   418\n",
       "Unarmed                   348\n",
       "Other unusual objects     192\n",
       "Blunt instruments         122\n",
       "Vehicles                  121\n",
       "Multiple                   54\n",
       "Piercing objects           29\n",
       "Electrical devices         24\n",
       "Explosives                  4\n",
       "Hand tools                  1\n",
       "Name: arms_category, dtype: int64"
      ]
     },
     "execution_count": 20,
     "metadata": {},
     "output_type": "execute_result"
    }
   ],
   "source": [
    "A_category=data.arms_category.value_counts()\n",
    "A_category\n",
    "#number of arms(category) used."
   ]
  },
  {
   "cell_type": "code",
   "execution_count": 14,
   "id": "7131829a",
   "metadata": {},
   "outputs": [
    {
     "data": {
      "text/plain": [
       "Not fleeing    3073\n",
       "Car             820\n",
       "Foot            642\n",
       "Other           360\n",
       "Name: flee, dtype: int64"
      ]
     },
     "execution_count": 14,
     "metadata": {},
     "output_type": "execute_result"
    }
   ],
   "source": [
    "F_lee = data.flee.value_counts()\n",
    "F_lee\n",
    "#number of suspects who attempted fleeing"
   ]
  },
  {
   "cell_type": "markdown",
   "id": "0d6cf8cf",
   "metadata": {},
   "source": [
    "   # DATA VISUALIZATION\n",
    "# How many number of killings according to race were recorded?\n"
   ]
  },
  {
   "cell_type": "code",
   "execution_count": 40,
   "id": "e3607cda",
   "metadata": {},
   "outputs": [
    {
     "data": {
      "image/png": "[encoded data removed]",
      "text/plain": [
       "<Figure size 1800x720 with 1 Axes>"
      ]
     },
     "metadata": {},
     "output_type": "display_data"
    }
   ],
   "source": [
    "sns.countplot(x='body_camera',data=data, hue=\"race\");\n",
    "sns.set(rc={'figure.figsize':(25,10)})"
   ]
  },
  {
   "cell_type": "markdown",
   "id": "0e720439",
   "metadata": {},
   "source": [
    "# which race had the highest number of killings?.How many men and women were killed under a specific race?"
   ]
  },
  {
   "cell_type": "code",
   "execution_count": 32,
   "id": "6972ea97",
   "metadata": {},
   "outputs": [
    {
     "data": {
      "image/png": "[encoded data removed]",
      "text/plain": [
       "<Figure size 1368x720 with 1 Axes>"
      ]
     },
     "metadata": {},
     "output_type": "display_data"
    }
   ],
   "source": [
    "sns.countplot(x='race',data=data, hue=\"gender\",palette='bwr');\n",
    "sns.set(rc={'figure.figsize':(25,6)})"
   ]
  },
  {
   "cell_type": "markdown",
   "id": "707d6d10",
   "metadata": {},
   "source": [
    "# what is the age distribution of killings based in gender?"
   ]
  },
  {
   "cell_type": "code",
   "execution_count": 33,
   "id": "c93aafb1",
   "metadata": {},
   "outputs": [
    {
     "data": {
      "image/png": "[encoded data removed]",
      "text/plain": [
       "<Figure size 1800x432 with 1 Axes>"
      ]
     },
     "metadata": {},
     "output_type": "display_data"
    }
   ],
   "source": [
    "sns.histplot(data=data, x='age',hue='gender',palette='bwr');\n",
    "sns.set(rc={'figure.figsize':(22,6)})"
   ]
  },
  {
   "cell_type": "markdown",
   "id": "65349f14",
   "metadata": {},
   "source": [
    "# which state recorded the highest number of killings?."
   ]
  },
  {
   "cell_type": "code",
   "execution_count": 34,
   "id": "2d4c1b1f",
   "metadata": {
    "scrolled": true
   },
   "outputs": [
    {
     "data": {
      "image/png": "[encoded data removed]",
      "text/plain": [
       "<Figure size 1584x432 with 1 Axes>"
      ]
     },
     "metadata": {},
     "output_type": "display_data"
    }
   ],
   "source": [
    "sns.countplot(x='state',data=data,);\n",
    "sns.set(rc={'figure.figsize':(30,6)})"
   ]
  },
  {
   "cell_type": "markdown",
   "id": "120b6875",
   "metadata": {},
   "source": [
    "# Which city has the highest shooting?"
   ]
  },
  {
   "cell_type": "code",
   "execution_count": 35,
   "id": "48296901",
   "metadata": {},
   "outputs": [
    {
     "data": {
      "image/png": "[encoded data removed]",
      "text/plain": [
       "<Figure size 2160x432 with 1 Axes>"
      ]
     },
     "metadata": {},
     "output_type": "display_data"
    }
   ],
   "source": [
    "h_shotCity.head().plot(kind='pie');\n",
    "sns.set(rc={'figure.figsize':(5,5)})"
   ]
  },
  {
   "cell_type": "markdown",
   "id": "e3b1a32d",
   "metadata": {},
   "source": [
    "# Which race used the highest arms(category)?"
   ]
  },
  {
   "cell_type": "code",
   "execution_count": 23,
   "id": "6de5e220",
   "metadata": {},
   "outputs": [
    {
     "data": {
      "image/png": "[encoded data removed]",
      "text/plain": [
       "<Figure size 2160x720 with 1 Axes>"
      ]
     },
     "metadata": {},
     "output_type": "display_data"
    }
   ],
   "source": [
    "sns.countplot(x='arms_category',data=data, hue=\"race\");\n",
    "sns.set(rc={'figure.figsize':(31,10)})\n"
   ]
  },
  {
   "cell_type": "markdown",
   "id": "984ac08e",
   "metadata": {},
   "source": [
    "# How many suspects attempted fleeing?"
   ]
  },
  {
   "cell_type": "code",
   "execution_count": 29,
   "id": "f2c26cce",
   "metadata": {},
   "outputs": [
    {
     "data": {
      "image/png": "[encoded data removed]",
      "text/plain": [
       "<Figure size 2160x720 with 1 Axes>"
      ]
     },
     "metadata": {},
     "output_type": "display_data"
    }
   ],
   "source": [
    "F_lee.plot(kind='barh',color=\"orange\");\n",
    "sns.set(rc={'figure.figsize':(20,5)})"
   ]
  },
  {
   "cell_type": "markdown",
   "id": "5812d23d",
   "metadata": {},
   "source": [
    "# How many suspects below and above 18 years were killed? How many are males and females?"
   ]
  },
  {
   "cell_type": "code",
   "execution_count": 55,
   "id": "88c16acc",
   "metadata": {
    "scrolled": true
   },
   "outputs": [
    {
     "data": {
      "text/html": [
       "<div>\n",
       "<style scoped>\n",
       "    .dataframe tbody tr th:only-of-type {\n",
       "        vertical-align: middle;\n",
       "    }\n",
       "\n",
       "    .dataframe tbody tr th {\n",
       "        vertical-align: top;\n",
       "    }\n",
       "\n",
       "    .dataframe thead th {\n",
       "        text-align: right;\n",
       "    }\n",
       "</style>\n",
       "<table border=\"1\" class=\"dataframe\">\n",
       "  <thead>\n",
       "    <tr style=\"text-align: right;\">\n",
       "      <th></th>\n",
       "      <th>name</th>\n",
       "      <th>date</th>\n",
       "      <th>manner_of_death</th>\n",
       "      <th>armed</th>\n",
       "      <th>age</th>\n",
       "      <th>gender</th>\n",
       "      <th>race</th>\n",
       "      <th>city</th>\n",
       "      <th>state</th>\n",
       "      <th>signs_of_mental_illness</th>\n",
       "      <th>threat_level</th>\n",
       "      <th>flee</th>\n",
       "      <th>body_camera</th>\n",
       "      <th>arms_category</th>\n",
       "    </tr>\n",
       "    <tr>\n",
       "      <th>id</th>\n",
       "      <th></th>\n",
       "      <th></th>\n",
       "      <th></th>\n",
       "      <th></th>\n",
       "      <th></th>\n",
       "      <th></th>\n",
       "      <th></th>\n",
       "      <th></th>\n",
       "      <th></th>\n",
       "      <th></th>\n",
       "      <th></th>\n",
       "      <th></th>\n",
       "      <th></th>\n",
       "      <th></th>\n",
       "    </tr>\n",
       "  </thead>\n",
       "  <tbody>\n",
       "    <tr>\n",
       "      <th>100</th>\n",
       "      <td>Kristiana Coignard</td>\n",
       "      <td>2015-01-22</td>\n",
       "      <td>shot and Tasered</td>\n",
       "      <td>knife</td>\n",
       "      <td>17.0</td>\n",
       "      <td>F</td>\n",
       "      <td>White</td>\n",
       "      <td>Longview</td>\n",
       "      <td>TX</td>\n",
       "      <td>True</td>\n",
       "      <td>other</td>\n",
       "      <td>Not fleeing</td>\n",
       "      <td>False</td>\n",
       "      <td>Sharp objects</td>\n",
       "    </tr>\n",
       "    <tr>\n",
       "      <th>20</th>\n",
       "      <td>Jessie Hernandez</td>\n",
       "      <td>2015-01-26</td>\n",
       "      <td>shot</td>\n",
       "      <td>unknown</td>\n",
       "      <td>17.0</td>\n",
       "      <td>F</td>\n",
       "      <td>Hispanic</td>\n",
       "      <td>Denver</td>\n",
       "      <td>CO</td>\n",
       "      <td>False</td>\n",
       "      <td>other</td>\n",
       "      <td>Not fleeing</td>\n",
       "      <td>False</td>\n",
       "      <td>Unknown</td>\n",
       "    </tr>\n",
       "    <tr>\n",
       "      <th>528</th>\n",
       "      <td>Jacob Haglund</td>\n",
       "      <td>2015-02-02</td>\n",
       "      <td>shot</td>\n",
       "      <td>gun</td>\n",
       "      <td>17.0</td>\n",
       "      <td>M</td>\n",
       "      <td>White</td>\n",
       "      <td>Bay City</td>\n",
       "      <td>MI</td>\n",
       "      <td>False</td>\n",
       "      <td>attack</td>\n",
       "      <td>Not fleeing</td>\n",
       "      <td>False</td>\n",
       "      <td>Guns</td>\n",
       "    </tr>\n",
       "    <tr>\n",
       "      <th>149</th>\n",
       "      <td>Jason C. Hendrix</td>\n",
       "      <td>2015-02-14</td>\n",
       "      <td>shot</td>\n",
       "      <td>gun</td>\n",
       "      <td>16.0</td>\n",
       "      <td>M</td>\n",
       "      <td>White</td>\n",
       "      <td>Essex</td>\n",
       "      <td>MD</td>\n",
       "      <td>True</td>\n",
       "      <td>attack</td>\n",
       "      <td>Car</td>\n",
       "      <td>False</td>\n",
       "      <td>Guns</td>\n",
       "    </tr>\n",
       "    <tr>\n",
       "      <th>176</th>\n",
       "      <td>A'Donte Washington</td>\n",
       "      <td>2015-02-23</td>\n",
       "      <td>shot</td>\n",
       "      <td>gun</td>\n",
       "      <td>16.0</td>\n",
       "      <td>M</td>\n",
       "      <td>Black</td>\n",
       "      <td>Millbrook</td>\n",
       "      <td>AL</td>\n",
       "      <td>False</td>\n",
       "      <td>attack</td>\n",
       "      <td>Not fleeing</td>\n",
       "      <td>False</td>\n",
       "      <td>Guns</td>\n",
       "    </tr>\n",
       "  </tbody>\n",
       "</table>\n",
       "</div>"
      ],
      "text/plain": [
       "                   name       date   manner_of_death    armed   age gender  \\\n",
       "id                                                                           \n",
       "100  Kristiana Coignard 2015-01-22  shot and Tasered    knife  17.0      F   \n",
       "20     Jessie Hernandez 2015-01-26              shot  unknown  17.0      F   \n",
       "528       Jacob Haglund 2015-02-02              shot      gun  17.0      M   \n",
       "149    Jason C. Hendrix 2015-02-14              shot      gun  16.0      M   \n",
       "176  A'Donte Washington 2015-02-23              shot      gun  16.0      M   \n",
       "\n",
       "         race       city state  signs_of_mental_illness threat_level  \\\n",
       "id                                                                     \n",
       "100     White   Longview    TX                     True        other   \n",
       "20   Hispanic     Denver    CO                    False        other   \n",
       "528     White   Bay City    MI                    False       attack   \n",
       "149     White      Essex    MD                     True       attack   \n",
       "176     Black  Millbrook    AL                    False       attack   \n",
       "\n",
       "            flee  body_camera  arms_category  \n",
       "id                                            \n",
       "100  Not fleeing        False  Sharp objects  \n",
       "20   Not fleeing        False        Unknown  \n",
       "528  Not fleeing        False           Guns  \n",
       "149          Car        False           Guns  \n",
       "176  Not fleeing        False           Guns  "
      ]
     },
     "execution_count": 55,
     "metadata": {},
     "output_type": "execute_result"
    }
   ],
   "source": [
    "#Below 18 years\n",
    "under18=data.loc[data.age<=17]\n",
    "#under18.head()"
   ]
  },
  {
   "cell_type": "code",
   "execution_count": 56,
   "id": "17b2635c",
   "metadata": {},
   "outputs": [
    {
     "data": {
      "text/html": [
       "<div>\n",
       "<style scoped>\n",
       "    .dataframe tbody tr th:only-of-type {\n",
       "        vertical-align: middle;\n",
       "    }\n",
       "\n",
       "    .dataframe tbody tr th {\n",
       "        vertical-align: top;\n",
       "    }\n",
       "\n",
       "    .dataframe thead th {\n",
       "        text-align: right;\n",
       "    }\n",
       "</style>\n",
       "<table border=\"1\" class=\"dataframe\">\n",
       "  <thead>\n",
       "    <tr style=\"text-align: right;\">\n",
       "      <th></th>\n",
       "      <th>name</th>\n",
       "      <th>date</th>\n",
       "      <th>manner_of_death</th>\n",
       "      <th>armed</th>\n",
       "      <th>age</th>\n",
       "      <th>gender</th>\n",
       "      <th>race</th>\n",
       "      <th>city</th>\n",
       "      <th>state</th>\n",
       "      <th>signs_of_mental_illness</th>\n",
       "      <th>threat_level</th>\n",
       "      <th>flee</th>\n",
       "      <th>body_camera</th>\n",
       "      <th>arms_category</th>\n",
       "    </tr>\n",
       "    <tr>\n",
       "      <th>id</th>\n",
       "      <th></th>\n",
       "      <th></th>\n",
       "      <th></th>\n",
       "      <th></th>\n",
       "      <th></th>\n",
       "      <th></th>\n",
       "      <th></th>\n",
       "      <th></th>\n",
       "      <th></th>\n",
       "      <th></th>\n",
       "      <th></th>\n",
       "      <th></th>\n",
       "      <th></th>\n",
       "      <th></th>\n",
       "    </tr>\n",
       "  </thead>\n",
       "  <tbody>\n",
       "    <tr>\n",
       "      <th>3</th>\n",
       "      <td>Tim Elliot</td>\n",
       "      <td>2015-01-02</td>\n",
       "      <td>shot</td>\n",
       "      <td>gun</td>\n",
       "      <td>53.0</td>\n",
       "      <td>M</td>\n",
       "      <td>Asian</td>\n",
       "      <td>Shelton</td>\n",
       "      <td>WA</td>\n",
       "      <td>True</td>\n",
       "      <td>attack</td>\n",
       "      <td>Not fleeing</td>\n",
       "      <td>False</td>\n",
       "      <td>Guns</td>\n",
       "    </tr>\n",
       "    <tr>\n",
       "      <th>4</th>\n",
       "      <td>Lewis Lee Lembke</td>\n",
       "      <td>2015-01-02</td>\n",
       "      <td>shot</td>\n",
       "      <td>gun</td>\n",
       "      <td>47.0</td>\n",
       "      <td>M</td>\n",
       "      <td>White</td>\n",
       "      <td>Aloha</td>\n",
       "      <td>OR</td>\n",
       "      <td>False</td>\n",
       "      <td>attack</td>\n",
       "      <td>Not fleeing</td>\n",
       "      <td>False</td>\n",
       "      <td>Guns</td>\n",
       "    </tr>\n",
       "    <tr>\n",
       "      <th>5</th>\n",
       "      <td>John Paul Quintero</td>\n",
       "      <td>2015-01-03</td>\n",
       "      <td>shot and Tasered</td>\n",
       "      <td>unarmed</td>\n",
       "      <td>23.0</td>\n",
       "      <td>M</td>\n",
       "      <td>Hispanic</td>\n",
       "      <td>Wichita</td>\n",
       "      <td>KS</td>\n",
       "      <td>False</td>\n",
       "      <td>other</td>\n",
       "      <td>Not fleeing</td>\n",
       "      <td>False</td>\n",
       "      <td>Unarmed</td>\n",
       "    </tr>\n",
       "    <tr>\n",
       "      <th>8</th>\n",
       "      <td>Matthew Hoffman</td>\n",
       "      <td>2015-01-04</td>\n",
       "      <td>shot</td>\n",
       "      <td>toy weapon</td>\n",
       "      <td>32.0</td>\n",
       "      <td>M</td>\n",
       "      <td>White</td>\n",
       "      <td>San Francisco</td>\n",
       "      <td>CA</td>\n",
       "      <td>True</td>\n",
       "      <td>attack</td>\n",
       "      <td>Not fleeing</td>\n",
       "      <td>False</td>\n",
       "      <td>Other unusual objects</td>\n",
       "    </tr>\n",
       "    <tr>\n",
       "      <th>9</th>\n",
       "      <td>Michael Rodriguez</td>\n",
       "      <td>2015-01-04</td>\n",
       "      <td>shot</td>\n",
       "      <td>nail gun</td>\n",
       "      <td>39.0</td>\n",
       "      <td>M</td>\n",
       "      <td>Hispanic</td>\n",
       "      <td>Evans</td>\n",
       "      <td>CO</td>\n",
       "      <td>False</td>\n",
       "      <td>attack</td>\n",
       "      <td>Not fleeing</td>\n",
       "      <td>False</td>\n",
       "      <td>Piercing objects</td>\n",
       "    </tr>\n",
       "  </tbody>\n",
       "</table>\n",
       "</div>"
      ],
      "text/plain": [
       "                  name       date   manner_of_death       armed   age gender  \\\n",
       "id                                                                             \n",
       "3           Tim Elliot 2015-01-02              shot         gun  53.0      M   \n",
       "4     Lewis Lee Lembke 2015-01-02              shot         gun  47.0      M   \n",
       "5   John Paul Quintero 2015-01-03  shot and Tasered     unarmed  23.0      M   \n",
       "8      Matthew Hoffman 2015-01-04              shot  toy weapon  32.0      M   \n",
       "9    Michael Rodriguez 2015-01-04              shot    nail gun  39.0      M   \n",
       "\n",
       "        race           city state  signs_of_mental_illness threat_level  \\\n",
       "id                                                                        \n",
       "3      Asian        Shelton    WA                     True       attack   \n",
       "4      White          Aloha    OR                    False       attack   \n",
       "5   Hispanic        Wichita    KS                    False        other   \n",
       "8      White  San Francisco    CA                     True       attack   \n",
       "9   Hispanic          Evans    CO                    False       attack   \n",
       "\n",
       "           flee  body_camera          arms_category  \n",
       "id                                                   \n",
       "3   Not fleeing        False                   Guns  \n",
       "4   Not fleeing        False                   Guns  \n",
       "5   Not fleeing        False                Unarmed  \n",
       "8   Not fleeing        False  Other unusual objects  \n",
       "9   Not fleeing        False       Piercing objects  "
      ]
     },
     "execution_count": 56,
     "metadata": {},
     "output_type": "execute_result"
    }
   ],
   "source": [
    "#18 and above\n",
    "over18=data.loc[data.age>=18]\n",
    "#over18.head()"
   ]
  },
  {
   "cell_type": "code",
   "execution_count": 57,
   "id": "2c8c661d",
   "metadata": {},
   "outputs": [
    {
     "data": {
      "text/html": [
       "<div>\n",
       "<style scoped>\n",
       "    .dataframe tbody tr th:only-of-type {\n",
       "        vertical-align: middle;\n",
       "    }\n",
       "\n",
       "    .dataframe tbody tr th {\n",
       "        vertical-align: top;\n",
       "    }\n",
       "\n",
       "    .dataframe thead th {\n",
       "        text-align: right;\n",
       "    }\n",
       "</style>\n",
       "<table border=\"1\" class=\"dataframe\">\n",
       "  <thead>\n",
       "    <tr style=\"text-align: right;\">\n",
       "      <th></th>\n",
       "      <th>Number of Shootings</th>\n",
       "    </tr>\n",
       "  </thead>\n",
       "  <tbody>\n",
       "    <tr>\n",
       "      <th>Over 18</th>\n",
       "      <td>4798</td>\n",
       "    </tr>\n",
       "    <tr>\n",
       "      <th>Under 18</th>\n",
       "      <td>97</td>\n",
       "    </tr>\n",
       "  </tbody>\n",
       "</table>\n",
       "</div>"
      ],
      "text/plain": [
       "          Number of Shootings\n",
       "Over 18                  4798\n",
       "Under 18                   97"
      ]
     },
     "execution_count": 57,
     "metadata": {},
     "output_type": "execute_result"
    }
   ],
   "source": [
    "Y_and_O =pd.DataFrame({'Number of Shootings':[len(over18),len(under18)]},\n",
    "             index=['Over 18','Under 18'])\n",
    "Y_and_O\n",
    "#number of shootings of suspects more than and less than the age of 18"
   ]
  },
  {
   "cell_type": "code",
   "execution_count": 58,
   "id": "ec6d45a2",
   "metadata": {},
   "outputs": [
    {
     "data": {
      "image/png": "[encoded data removed]",
      "text/plain": [
       "<Figure size 720x720 with 1 Axes>"
      ]
     },
     "metadata": {},
     "output_type": "display_data"
    }
   ],
   "source": [
    "Y_and_O.plot(kind='bar',color='brown');\n",
    "sns.set(rc={'figure.figsize':(10,10)})"
   ]
  },
  {
   "cell_type": "markdown",
   "id": "f2b01364",
   "metadata": {},
   "source": [
    "# By Gender"
   ]
  },
  {
   "cell_type": "code",
   "execution_count": 59,
   "id": "95d7d7fb",
   "metadata": {
    "scrolled": true
   },
   "outputs": [
    {
     "data": {
      "text/html": [
       "<div>\n",
       "<style scoped>\n",
       "    .dataframe tbody tr th:only-of-type {\n",
       "        vertical-align: middle;\n",
       "    }\n",
       "\n",
       "    .dataframe tbody tr th {\n",
       "        vertical-align: top;\n",
       "    }\n",
       "\n",
       "    .dataframe thead th {\n",
       "        text-align: right;\n",
       "    }\n",
       "</style>\n",
       "<table border=\"1\" class=\"dataframe\">\n",
       "  <thead>\n",
       "    <tr style=\"text-align: right;\">\n",
       "      <th></th>\n",
       "      <th>len</th>\n",
       "      <th>min</th>\n",
       "      <th>max</th>\n",
       "    </tr>\n",
       "    <tr>\n",
       "      <th>gender</th>\n",
       "      <th></th>\n",
       "      <th></th>\n",
       "      <th></th>\n",
       "    </tr>\n",
       "  </thead>\n",
       "  <tbody>\n",
       "    <tr>\n",
       "      <th>M</th>\n",
       "      <td>90</td>\n",
       "      <td>shot</td>\n",
       "      <td>shot and Tasered</td>\n",
       "    </tr>\n",
       "    <tr>\n",
       "      <th>F</th>\n",
       "      <td>7</td>\n",
       "      <td>shot</td>\n",
       "      <td>shot and Tasered</td>\n",
       "    </tr>\n",
       "  </tbody>\n",
       "</table>\n",
       "</div>"
      ],
      "text/plain": [
       "        len   min               max\n",
       "gender                             \n",
       "M        90  shot  shot and Tasered\n",
       "F         7  shot  shot and Tasered"
      ]
     },
     "execution_count": 59,
     "metadata": {},
     "output_type": "execute_result"
    }
   ],
   "source": [
    "#under 18 years\n",
    "under18.groupby(['gender']).manner_of_death.agg([len,min,max]).sort_values(by='len',ascending =False)"
   ]
  },
  {
   "cell_type": "code",
   "execution_count": 70,
   "id": "e127cf2a",
   "metadata": {},
   "outputs": [
    {
     "data": {
      "image/png": "[encoded data removed]",
      "text/plain": [
       "<Figure size 360x360 with 1 Axes>"
      ]
     },
     "metadata": {},
     "output_type": "display_data"
    }
   ],
   "source": [
    "#under 18 years\n",
    "under18.groupby(['gender']).manner_of_death.agg([len]).sort_values(by='len',ascending =False).plot(kind='bar', color='yellow');\n",
    "sns.set(rc={'figure.figsize':(3,5)})"
   ]
  },
  {
   "cell_type": "code",
   "execution_count": 62,
   "id": "92662ef6",
   "metadata": {},
   "outputs": [
    {
     "data": {
      "text/html": [
       "<div>\n",
       "<style scoped>\n",
       "    .dataframe tbody tr th:only-of-type {\n",
       "        vertical-align: middle;\n",
       "    }\n",
       "\n",
       "    .dataframe tbody tr th {\n",
       "        vertical-align: top;\n",
       "    }\n",
       "\n",
       "    .dataframe thead th {\n",
       "        text-align: right;\n",
       "    }\n",
       "</style>\n",
       "<table border=\"1\" class=\"dataframe\">\n",
       "  <thead>\n",
       "    <tr style=\"text-align: right;\">\n",
       "      <th></th>\n",
       "      <th>len</th>\n",
       "      <th>min</th>\n",
       "      <th>max</th>\n",
       "    </tr>\n",
       "    <tr>\n",
       "      <th>gender</th>\n",
       "      <th></th>\n",
       "      <th></th>\n",
       "      <th></th>\n",
       "    </tr>\n",
       "  </thead>\n",
       "  <tbody>\n",
       "    <tr>\n",
       "      <th>M</th>\n",
       "      <td>4583</td>\n",
       "      <td>shot</td>\n",
       "      <td>shot and Tasered</td>\n",
       "    </tr>\n",
       "    <tr>\n",
       "      <th>F</th>\n",
       "      <td>215</td>\n",
       "      <td>shot</td>\n",
       "      <td>shot and Tasered</td>\n",
       "    </tr>\n",
       "  </tbody>\n",
       "</table>\n",
       "</div>"
      ],
      "text/plain": [
       "         len   min               max\n",
       "gender                              \n",
       "M       4583  shot  shot and Tasered\n",
       "F        215  shot  shot and Tasered"
      ]
     },
     "execution_count": 62,
     "metadata": {},
     "output_type": "execute_result"
    }
   ],
   "source": [
    "#over 18 years\n",
    "over18.groupby(['gender']).manner_of_death.agg([len,min,max]).sort_values(by='len',ascending =False)"
   ]
  },
  {
   "cell_type": "code",
   "execution_count": 74,
   "id": "15d69602",
   "metadata": {},
   "outputs": [
    {
     "data": {
      "image/png": "[encoded data removed]",
      "text/plain": [
       "<Figure size 216x360 with 1 Axes>"
      ]
     },
     "metadata": {},
     "output_type": "display_data"
    }
   ],
   "source": [
    "#over 18 years\n",
    "over18.groupby(['gender']).manner_of_death.agg([len]).sort_values(by='len',ascending =False).plot(kind='bar', color='green');\n"
   ]
  },
  {
   "cell_type": "markdown",
   "id": "2d7f4b8d",
   "metadata": {},
   "source": [
    "# Grouping of Shootings by Year"
   ]
  },
  {
   "cell_type": "code",
   "execution_count": 77,
   "id": "182282ea",
   "metadata": {},
   "outputs": [],
   "source": [
    "shot_2015=data.loc[data['date']<='2015-12-31']\n",
    "shot_2020=data.loc[(data['date']>'2019-12-31')&(data['date']<='2020-12-31')]\n",
    "shot_2016=data.loc[(data['date']>'2015-12-31')&(data['date']<='2016-12-31')]\n",
    "shot_2017=data.loc[(data['date']>'2016-12-31')&(data['date']<='2017-12-31')]\n",
    "shot_2018=data.loc[(data['date']>'2017-12-31')&(data['date']<='2018-12-31')]\n",
    "shot_2019=data.loc[(data['date']>'2018-12-31')&(data['date']<='2019-12-31')]\n",
    "#shot_2015\n",
    "#shot_2016\n",
    "#shot_2017\n",
    "#shot_2018\n",
    "#shot_2019\n",
    "#shot_2020"
   ]
  },
  {
   "cell_type": "markdown",
   "id": "b6e047a9",
   "metadata": {},
   "source": [
    "# Number of Shootings of Race Per Each Year\n",
    "# a. 2015"
   ]
  },
  {
   "cell_type": "code",
   "execution_count": 112,
   "id": "12be60a9",
   "metadata": {},
   "outputs": [
    {
     "data": {
      "image/png": "[encoded data removed]",
      "text/plain": [
       "<Figure size 288x288 with 1 Axes>"
      ]
     },
     "metadata": {},
     "output_type": "display_data"
    }
   ],
   "source": [
    "shot_2015.groupby(['race']).manner_of_death.agg([len]).sort_values(by='len',ascending =False).plot(kind='bar', color='black');\n",
    "sns.set(rc={'figure.figsize':(4,4)})"
   ]
  },
  {
   "cell_type": "markdown",
   "id": "33f1a2f0",
   "metadata": {},
   "source": [
    "# b. 2016"
   ]
  },
  {
   "cell_type": "code",
   "execution_count": 111,
   "id": "42b2a132",
   "metadata": {},
   "outputs": [
    {
     "data": {
      "image/png": "[encoded data removed]",
      "text/plain": [
       "<Figure size 216x216 with 1 Axes>"
      ]
     },
     "metadata": {},
     "output_type": "display_data"
    }
   ],
   "source": [
    "shot_2016.groupby(['race']).manner_of_death.agg([len]).sort_values(by='len',ascending =False).plot(kind='bar', color='black');\n",
    "sns.set(rc={'figure.figsize':(4,4)})"
   ]
  },
  {
   "cell_type": "markdown",
   "id": "01897c6c",
   "metadata": {},
   "source": [
    "# c. 2017"
   ]
  },
  {
   "cell_type": "code",
   "execution_count": 113,
   "id": "5271a6ff",
   "metadata": {},
   "outputs": [
    {
     "data": {
      "image/png": "[encoded data removed]",
      "text/plain": [
       "<Figure size 288x288 with 1 Axes>"
      ]
     },
     "metadata": {},
     "output_type": "display_data"
    }
   ],
   "source": [
    "shot_2017.groupby(['race']).manner_of_death.agg([len]).sort_values(by='len',ascending =False).plot(kind='bar', color='black');\n",
    "sns.set(rc={'figure.figsize':(4,4)})\n"
   ]
  },
  {
   "cell_type": "markdown",
   "id": "a9343ed6",
   "metadata": {},
   "source": [
    "# d. 2018"
   ]
  },
  {
   "cell_type": "code",
   "execution_count": 114,
   "id": "3f7b6a5e",
   "metadata": {},
   "outputs": [
    {
     "data": {
      "image/png": "[encoded data removed]",
      "text/plain": [
       "<Figure size 288x288 with 1 Axes>"
      ]
     },
     "metadata": {},
     "output_type": "display_data"
    }
   ],
   "source": [
    "shot_2018.groupby(['race']).manner_of_death.agg([len]).sort_values(by='len',ascending =False).plot(kind='bar', color='black');\n",
    "sns.set(rc={'figure.figsize':(4,4)})\n"
   ]
  },
  {
   "cell_type": "markdown",
   "id": "571d6989",
   "metadata": {},
   "source": [
    "# e. 2019"
   ]
  },
  {
   "cell_type": "code",
   "execution_count": 115,
   "id": "c40ed4d4",
   "metadata": {},
   "outputs": [
    {
     "data": {
      "image/png": "[encoded data removed]",
      "text/plain": [
       "<Figure size 288x288 with 1 Axes>"
      ]
     },
     "metadata": {},
     "output_type": "display_data"
    }
   ],
   "source": [
    "shot_2019.groupby(['race']).manner_of_death.agg([len]).sort_values(by='len',ascending =False).plot(kind='bar', color='black');\n",
    "sns.set(rc={'figure.figsize':(4,4)})"
   ]
  },
  {
   "cell_type": "markdown",
   "id": "6a7910fc",
   "metadata": {},
   "source": [
    "# f. 2020"
   ]
  },
  {
   "cell_type": "code",
   "execution_count": 117,
   "id": "72d15399",
   "metadata": {},
   "outputs": [
    {
     "data": {
      "image/png": "[encoded data removed]",
      "text/plain": [
       "<Figure size 288x288 with 1 Axes>"
      ]
     },
     "metadata": {},
     "output_type": "display_data"
    }
   ],
   "source": [
    "shot_2020.groupby(['race']).manner_of_death.agg([len]).sort_values(by='len',ascending =False).plot(kind='bar', color='black');\n",
    "sns.set(rc={'figure.figsize':(4,4)})"
   ]
  },
  {
   "cell_type": "markdown",
   "id": "25d08327",
   "metadata": {},
   "source": [
    "# Armed and Unarmed blacks\n"
   ]
  },
  {
   "cell_type": "code",
   "execution_count": 118,
   "id": "79c7165e",
   "metadata": {},
   "outputs": [],
   "source": [
    "#data for both Armed and Unarmed\n",
    "b_armed=data.loc[(data.race=='Black')&~(data.arms_category=='Unarmed')]\n",
    "b_unarmed=data.loc[(data.race=='Black')&(data.arms_category=='Unarmed')]\n",
    "\n"
   ]
  },
  {
   "cell_type": "code",
   "execution_count": 121,
   "id": "03b2e245",
   "metadata": {},
   "outputs": [
    {
     "name": "stdout",
     "output_type": "stream",
     "text": [
      "Blacks Unarmed: 123\n",
      "Blacks armed: 1175\n"
     ]
    }
   ],
   "source": [
    "#length of the data\n",
    "print('Blacks Unarmed:',len(b_unarmed))\n",
    "print('Blacks armed:',len(b_armed))"
   ]
  },
  {
   "cell_type": "code",
   "execution_count": 122,
   "id": "7e656203",
   "metadata": {},
   "outputs": [],
   "source": [
    "#lenght of data of blacks- claimed armed \n",
    "b_armed_noproof=b_armed.loc[b_armed.body_camera==False]"
   ]
  },
  {
   "cell_type": "code",
   "execution_count": 123,
   "id": "f054a99d",
   "metadata": {},
   "outputs": [
    {
     "name": "stdout",
     "output_type": "stream",
     "text": [
      "Blacks claimed armed But no proof: 994\n"
     ]
    }
   ],
   "source": [
    "#length  of Blacks claimed armed But no proof\n",
    "print('Blacks claimed armed But no proof:',len(b_armed_noproof))"
   ]
  },
  {
   "cell_type": "code",
   "execution_count": 128,
   "id": "dc96e047",
   "metadata": {},
   "outputs": [
    {
     "name": "stdout",
     "output_type": "stream",
     "text": [
      "Percentage of suspects claimed to be armed without proof:85%\n"
     ]
    }
   ],
   "source": [
    "#PERCENTAGE \n",
    "percentage_claim=(len(b_armed_noproof)/len(b_armed))*100\n",
    "ans=round(percentage_claim)\n",
    "print(f'Percentage of suspects claimed to be armed without proof:{ans}%')"
   ]
  },
  {
   "cell_type": "markdown",
   "id": "e360d033",
   "metadata": {},
   "source": [
    "# Percentage of suspects who fled"
   ]
  },
  {
   "cell_type": "code",
   "execution_count": 129,
   "id": "766e8a34",
   "metadata": {},
   "outputs": [],
   "source": [
    "flee=data.loc[~(data.flee=='Not fleeing')]\n",
    "didnt_flee=data.loc[(data.flee=='Not fleeing')]"
   ]
  },
  {
   "cell_type": "code",
   "execution_count": 130,
   "id": "c9c42b62",
   "metadata": {},
   "outputs": [
    {
     "name": "stdout",
     "output_type": "stream",
     "text": [
      "Number of Fled Cases: 1822\n",
      "Number of no Fled Cases: 3073\n"
     ]
    }
   ],
   "source": [
    "print('Number of Fled Cases:',len(flee))\n",
    "print('Number of no Fled Cases:',len(didnt_flee))"
   ]
  },
  {
   "cell_type": "code",
   "execution_count": 131,
   "id": "54cd52e9",
   "metadata": {},
   "outputs": [
    {
     "name": "stdout",
     "output_type": "stream",
     "text": [
      "Percentage of suspects who fled: 37%\n"
     ]
    }
   ],
   "source": [
    "percent_flee=(len(flee)/len(data))*100\n",
    "away=round(percent_flee)\n",
    "print(f'Percentage of suspects who fled: {away}%')"
   ]
  },
  {
   "cell_type": "markdown",
   "id": "c7f69d3c",
   "metadata": {},
   "source": [
    "# Men under 45 are the victims"
   ]
  },
  {
   "cell_type": "code",
   "execution_count": 132,
   "id": "446a63c6",
   "metadata": {},
   "outputs": [],
   "source": [
    "men_under45=data.loc[(data.gender=='M')&(data.age<=45)]\n",
    "men_over45=data.loc[(data.gender=='M')&~(data.age<=45)]"
   ]
  },
  {
   "cell_type": "code",
   "execution_count": 133,
   "id": "39fac488",
   "metadata": {},
   "outputs": [
    {
     "name": "stdout",
     "output_type": "stream",
     "text": [
      "Number of Men over 45 year :1082\n",
      "Number of Men under 45 year :3591\n"
     ]
    }
   ],
   "source": [
    "print(f'Number of Men over 45 years :{len(men_over45)}')\n",
    "print(f'Number of Men under 45 years :{len(men_under45)}')"
   ]
  },
  {
   "cell_type": "code",
   "execution_count": 140,
   "id": "ff7f3940",
   "metadata": {},
   "outputs": [
    {
     "data": {
      "text/html": [
       "<div>\n",
       "<style scoped>\n",
       "    .dataframe tbody tr th:only-of-type {\n",
       "        vertical-align: middle;\n",
       "    }\n",
       "\n",
       "    .dataframe tbody tr th {\n",
       "        vertical-align: top;\n",
       "    }\n",
       "\n",
       "    .dataframe thead th {\n",
       "        text-align: right;\n",
       "    }\n",
       "</style>\n",
       "<table border=\"1\" class=\"dataframe\">\n",
       "  <thead>\n",
       "    <tr style=\"text-align: right;\">\n",
       "      <th></th>\n",
       "      <th>Year</th>\n",
       "      <th>Number_of_death</th>\n",
       "    </tr>\n",
       "  </thead>\n",
       "  <tbody>\n",
       "    <tr>\n",
       "      <th>Men 45 Years and above</th>\n",
       "      <td>men_over45</td>\n",
       "      <td>1082</td>\n",
       "    </tr>\n",
       "    <tr>\n",
       "      <th>Men below 45 Years</th>\n",
       "      <td>men_under45</td>\n",
       "      <td>3591</td>\n",
       "    </tr>\n",
       "  </tbody>\n",
       "</table>\n",
       "</div>"
      ],
      "text/plain": [
       "                               Year  Number_of_death\n",
       "Men 45 Years and above   men_over45             1082\n",
       "Men below 45 Years      men_under45             3591"
      ]
     },
     "execution_count": 140,
     "metadata": {},
     "output_type": "execute_result"
    }
   ],
   "source": [
    "years45=pd.DataFrame({'Year':['men_over45','men_under45'],\n",
    "                      'Number_of_death':[len(men_over45),len(men_under45)]},\n",
    "                    index=['Men 45 Years and above','Men below 45 Years'])\n",
    "years45"
   ]
  },
  {
   "cell_type": "code",
   "execution_count": 141,
   "id": "cf05dae8",
   "metadata": {},
   "outputs": [
    {
     "data": {
      "image/png": "[encoded data removed]",
      "text/plain": [
       "<Figure size 288x288 with 1 Axes>"
      ]
     },
     "metadata": {},
     "output_type": "display_data"
    }
   ],
   "source": [
    "years45=pd.DataFrame({'Year':['men_over45','men_under45'],\n",
    "                      'Number_of_death':[len(men_over45),len(men_under45)]},\n",
    "                    index=['Men 45 Years and above','Men below 45 Years'])\n",
    "years45.plot(kind='barh',color='orange');"
   ]
  },
  {
   "cell_type": "code",
   "execution_count": null,
   "id": "e5d73e50",
   "metadata": {},
   "outputs": [],
   "source": []
  }
 ],
 "metadata": {
  "interpreter": {
   "hash": "28e1e4e3242701460353cc5f4d3219e9445b115441cfc7f6f980ac170b7bb80b"
  },
  "kernelspec": {
   "display_name": "Python 3.8.8 64-bit ('base': conda)",
   "name": "python3"
  },
  "language_info": {
   "codemirror_mode": {
    "name": "ipython",
    "version": 3
   },
   "file_extension": ".py",
   "mimetype": "text/x-python",
   "name": "python",
   "nbconvert_exporter": "python",
   "pygments_lexer": "ipython3",
   "version": "3.8.8"
  }
 },
 "nbformat": 4,
 "nbformat_minor": 5
}
