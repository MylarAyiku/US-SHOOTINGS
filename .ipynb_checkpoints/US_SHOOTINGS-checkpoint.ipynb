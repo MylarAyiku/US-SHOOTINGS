{
 "cells": [
  {
   "cell_type": "code",
   "execution_count": 2,
   "id": "5142bf86",
   "metadata": {},
   "outputs": [],
   "source": [
    "import pandas as pd\n",
    "import numpy as np\n",
    "import seaborn as sns\n",
    "\n",
    "#importing pandas as pd "
   ]
  },
  {
   "cell_type": "code",
   "execution_count": 3,
   "id": "53265ebd",
   "metadata": {},
<<<<<<< Updated upstream
   "outputs": [
    {
     "data": {
      "text/html": [
       "<div>\n",
       "<style scoped>\n",
       "    .dataframe tbody tr th:only-of-type {\n",
       "        vertical-align: middle;\n",
       "    }\n",
       "\n",
       "    .dataframe tbody tr th {\n",
       "        vertical-align: top;\n",
       "    }\n",
       "\n",
       "    .dataframe thead th {\n",
       "        text-align: right;\n",
       "    }\n",
       "</style>\n",
       "<table border=\"1\" class=\"dataframe\">\n",
       "  <thead>\n",
       "    <tr style=\"text-align: right;\">\n",
       "      <th></th>\n",
       "      <th>id</th>\n",
       "      <th>name</th>\n",
       "      <th>date</th>\n",
       "      <th>manner_of_death</th>\n",
       "      <th>armed</th>\n",
       "      <th>age</th>\n",
       "      <th>gender</th>\n",
       "      <th>race</th>\n",
       "      <th>city</th>\n",
       "      <th>state</th>\n",
       "      <th>signs_of_mental_illness</th>\n",
       "      <th>threat_level</th>\n",
       "      <th>flee</th>\n",
       "      <th>body_camera</th>\n",
       "      <th>arms_category</th>\n",
       "    </tr>\n",
       "  </thead>\n",
       "  <tbody>\n",
       "    <tr>\n",
       "      <th>0</th>\n",
       "      <td>3</td>\n",
       "      <td>Tim Elliot</td>\n",
       "      <td>2015-01-02</td>\n",
       "      <td>shot</td>\n",
       "      <td>gun</td>\n",
       "      <td>53.0</td>\n",
       "      <td>M</td>\n",
       "      <td>Asian</td>\n",
       "      <td>Shelton</td>\n",
       "      <td>WA</td>\n",
       "      <td>True</td>\n",
       "      <td>attack</td>\n",
       "      <td>Not fleeing</td>\n",
       "      <td>False</td>\n",
       "      <td>Guns</td>\n",
       "    </tr>\n",
       "    <tr>\n",
       "      <th>1</th>\n",
       "      <td>4</td>\n",
       "      <td>Lewis Lee Lembke</td>\n",
       "      <td>2015-01-02</td>\n",
       "      <td>shot</td>\n",
       "      <td>gun</td>\n",
       "      <td>47.0</td>\n",
       "      <td>M</td>\n",
       "      <td>White</td>\n",
       "      <td>Aloha</td>\n",
       "      <td>OR</td>\n",
       "      <td>False</td>\n",
       "      <td>attack</td>\n",
       "      <td>Not fleeing</td>\n",
       "      <td>False</td>\n",
       "      <td>Guns</td>\n",
       "    </tr>\n",
       "    <tr>\n",
       "      <th>2</th>\n",
       "      <td>5</td>\n",
       "      <td>John Paul Quintero</td>\n",
       "      <td>2015-01-03</td>\n",
       "      <td>shot and Tasered</td>\n",
       "      <td>unarmed</td>\n",
       "      <td>23.0</td>\n",
       "      <td>M</td>\n",
       "      <td>Hispanic</td>\n",
       "      <td>Wichita</td>\n",
       "      <td>KS</td>\n",
       "      <td>False</td>\n",
       "      <td>other</td>\n",
       "      <td>Not fleeing</td>\n",
       "      <td>False</td>\n",
       "      <td>Unarmed</td>\n",
       "    </tr>\n",
       "    <tr>\n",
       "      <th>3</th>\n",
       "      <td>8</td>\n",
       "      <td>Matthew Hoffman</td>\n",
       "      <td>2015-01-04</td>\n",
       "      <td>shot</td>\n",
       "      <td>toy weapon</td>\n",
       "      <td>32.0</td>\n",
       "      <td>M</td>\n",
       "      <td>White</td>\n",
       "      <td>San Francisco</td>\n",
       "      <td>CA</td>\n",
       "      <td>True</td>\n",
       "      <td>attack</td>\n",
       "      <td>Not fleeing</td>\n",
       "      <td>False</td>\n",
       "      <td>Other unusual objects</td>\n",
       "    </tr>\n",
       "    <tr>\n",
       "      <th>4</th>\n",
       "      <td>9</td>\n",
       "      <td>Michael Rodriguez</td>\n",
       "      <td>2015-01-04</td>\n",
       "      <td>shot</td>\n",
       "      <td>nail gun</td>\n",
       "      <td>39.0</td>\n",
       "      <td>M</td>\n",
       "      <td>Hispanic</td>\n",
       "      <td>Evans</td>\n",
       "      <td>CO</td>\n",
       "      <td>False</td>\n",
       "      <td>attack</td>\n",
       "      <td>Not fleeing</td>\n",
       "      <td>False</td>\n",
       "      <td>Piercing objects</td>\n",
       "    </tr>\n",
       "    <tr>\n",
       "      <th>...</th>\n",
       "      <td>...</td>\n",
       "      <td>...</td>\n",
       "      <td>...</td>\n",
       "      <td>...</td>\n",
       "      <td>...</td>\n",
       "      <td>...</td>\n",
       "      <td>...</td>\n",
       "      <td>...</td>\n",
       "      <td>...</td>\n",
       "      <td>...</td>\n",
       "      <td>...</td>\n",
       "      <td>...</td>\n",
       "      <td>...</td>\n",
       "      <td>...</td>\n",
       "      <td>...</td>\n",
       "    </tr>\n",
       "    <tr>\n",
       "      <th>4890</th>\n",
       "      <td>5916</td>\n",
       "      <td>Rayshard Brooks</td>\n",
       "      <td>2020-06-12</td>\n",
       "      <td>shot</td>\n",
       "      <td>Taser</td>\n",
       "      <td>27.0</td>\n",
       "      <td>M</td>\n",
       "      <td>Black</td>\n",
       "      <td>Atlanta</td>\n",
       "      <td>GA</td>\n",
       "      <td>False</td>\n",
       "      <td>attack</td>\n",
       "      <td>Foot</td>\n",
       "      <td>True</td>\n",
       "      <td>Electrical devices</td>\n",
       "    </tr>\n",
       "    <tr>\n",
       "      <th>4891</th>\n",
       "      <td>5925</td>\n",
       "      <td>Caine Van Pelt</td>\n",
       "      <td>2020-06-12</td>\n",
       "      <td>shot</td>\n",
       "      <td>gun</td>\n",
       "      <td>23.0</td>\n",
       "      <td>M</td>\n",
       "      <td>Black</td>\n",
       "      <td>Crown Point</td>\n",
       "      <td>IN</td>\n",
       "      <td>False</td>\n",
       "      <td>attack</td>\n",
       "      <td>Car</td>\n",
       "      <td>False</td>\n",
       "      <td>Guns</td>\n",
       "    </tr>\n",
       "    <tr>\n",
       "      <th>4892</th>\n",
       "      <td>5918</td>\n",
       "      <td>Hannah Fizer</td>\n",
       "      <td>2020-06-13</td>\n",
       "      <td>shot</td>\n",
       "      <td>unarmed</td>\n",
       "      <td>25.0</td>\n",
       "      <td>F</td>\n",
       "      <td>White</td>\n",
       "      <td>Sedalia</td>\n",
       "      <td>MO</td>\n",
       "      <td>False</td>\n",
       "      <td>other</td>\n",
       "      <td>Not fleeing</td>\n",
       "      <td>False</td>\n",
       "      <td>Unarmed</td>\n",
       "    </tr>\n",
       "    <tr>\n",
       "      <th>4893</th>\n",
       "      <td>5921</td>\n",
       "      <td>William Slyter</td>\n",
       "      <td>2020-06-13</td>\n",
       "      <td>shot</td>\n",
       "      <td>gun</td>\n",
       "      <td>22.0</td>\n",
       "      <td>M</td>\n",
       "      <td>White</td>\n",
       "      <td>Kansas City</td>\n",
       "      <td>MO</td>\n",
       "      <td>False</td>\n",
       "      <td>other</td>\n",
       "      <td>Other</td>\n",
       "      <td>False</td>\n",
       "      <td>Guns</td>\n",
       "    </tr>\n",
       "    <tr>\n",
       "      <th>4894</th>\n",
       "      <td>5924</td>\n",
       "      <td>Nicholas Hirsh</td>\n",
       "      <td>2020-06-15</td>\n",
       "      <td>shot</td>\n",
       "      <td>gun</td>\n",
       "      <td>31.0</td>\n",
       "      <td>M</td>\n",
       "      <td>White</td>\n",
       "      <td>Lawrence</td>\n",
       "      <td>KS</td>\n",
       "      <td>False</td>\n",
       "      <td>attack</td>\n",
       "      <td>Car</td>\n",
       "      <td>False</td>\n",
       "      <td>Guns</td>\n",
       "    </tr>\n",
       "  </tbody>\n",
       "</table>\n",
       "<p>4895 rows × 15 columns</p>\n",
       "</div>"
      ],
      "text/plain": [
       "        id                name       date   manner_of_death       armed   age  \\\n",
       "0        3          Tim Elliot 2015-01-02              shot         gun  53.0   \n",
       "1        4    Lewis Lee Lembke 2015-01-02              shot         gun  47.0   \n",
       "2        5  John Paul Quintero 2015-01-03  shot and Tasered     unarmed  23.0   \n",
       "3        8     Matthew Hoffman 2015-01-04              shot  toy weapon  32.0   \n",
       "4        9   Michael Rodriguez 2015-01-04              shot    nail gun  39.0   \n",
       "...    ...                 ...        ...               ...         ...   ...   \n",
       "4890  5916     Rayshard Brooks 2020-06-12              shot       Taser  27.0   \n",
       "4891  5925      Caine Van Pelt 2020-06-12              shot         gun  23.0   \n",
       "4892  5918        Hannah Fizer 2020-06-13              shot     unarmed  25.0   \n",
       "4893  5921      William Slyter 2020-06-13              shot         gun  22.0   \n",
       "4894  5924      Nicholas Hirsh 2020-06-15              shot         gun  31.0   \n",
       "\n",
       "     gender      race           city state  signs_of_mental_illness  \\\n",
       "0         M     Asian        Shelton    WA                     True   \n",
       "1         M     White          Aloha    OR                    False   \n",
       "2         M  Hispanic        Wichita    KS                    False   \n",
       "3         M     White  San Francisco    CA                     True   \n",
       "4         M  Hispanic          Evans    CO                    False   \n",
       "...     ...       ...            ...   ...                      ...   \n",
       "4890      M     Black        Atlanta    GA                    False   \n",
       "4891      M     Black    Crown Point    IN                    False   \n",
       "4892      F     White        Sedalia    MO                    False   \n",
       "4893      M     White    Kansas City    MO                    False   \n",
       "4894      M     White       Lawrence    KS                    False   \n",
       "\n",
       "     threat_level         flee  body_camera          arms_category  \n",
       "0          attack  Not fleeing        False                   Guns  \n",
       "1          attack  Not fleeing        False                   Guns  \n",
       "2           other  Not fleeing        False                Unarmed  \n",
       "3          attack  Not fleeing        False  Other unusual objects  \n",
       "4          attack  Not fleeing        False       Piercing objects  \n",
       "...           ...          ...          ...                    ...  \n",
       "4890       attack         Foot         True     Electrical devices  \n",
       "4891       attack          Car        False                   Guns  \n",
       "4892        other  Not fleeing        False                Unarmed  \n",
       "4893        other        Other        False                   Guns  \n",
       "4894       attack          Car        False                   Guns  \n",
       "\n",
       "[4895 rows x 15 columns]"
      ]
     },
     "execution_count": 3,
     "metadata": {},
     "output_type": "execute_result"
    }
   ],
   "source": [
    "data=pd.read_csv(\"C:/Users/MYLAR/Downloads/shootings.csv\")\n",
    "data['date']=pd.to_datetime(data['date'],format=\"%m %d %Y\")\n",
    "data"
=======
   "outputs": [],
   "source": [
    "data=pd.read_excel(\"/Users/oluwasheyi/Downloads/shootings.xlsx\",index_col=0)\n",
    "data['date']=pd.to_datetime(data['date'],format=\"%m %d %Y\")\n",
    "#pd. to_datetime() method helps to convert string Date time into Python Date time object.\n"
>>>>>>> Stashed changes
   ]
  },
  {
   "cell_type": "code",
   "execution_count": 4,
   "id": "7f694df5",
   "metadata": {
    "scrolled": true
   },
   "outputs": [
    {
     "data": {
      "text/html": [
       "<div>\n",
       "<style scoped>\n",
       "    .dataframe tbody tr th:only-of-type {\n",
       "        vertical-align: middle;\n",
       "    }\n",
       "\n",
       "    .dataframe tbody tr th {\n",
       "        vertical-align: top;\n",
       "    }\n",
       "\n",
       "    .dataframe thead th {\n",
       "        text-align: right;\n",
       "    }\n",
       "</style>\n",
       "<table border=\"1\" class=\"dataframe\">\n",
       "  <thead>\n",
       "    <tr style=\"text-align: right;\">\n",
       "      <th></th>\n",
<<<<<<< Updated upstream
       "      <th>id</th>\n",
=======
>>>>>>> Stashed changes
       "      <th>name</th>\n",
       "      <th>date</th>\n",
       "      <th>manner_of_death</th>\n",
       "      <th>armed</th>\n",
       "      <th>age</th>\n",
       "      <th>gender</th>\n",
       "      <th>race</th>\n",
       "      <th>city</th>\n",
       "      <th>state</th>\n",
       "      <th>signs_of_mental_illness</th>\n",
       "      <th>threat_level</th>\n",
       "      <th>flee</th>\n",
       "      <th>body_camera</th>\n",
       "      <th>arms_category</th>\n",
       "    </tr>\n",
<<<<<<< Updated upstream
       "  </thead>\n",
       "  <tbody>\n",
       "    <tr>\n",
       "      <th>0</th>\n",
       "      <td>3</td>\n",
=======
       "    <tr>\n",
       "      <th>id</th>\n",
       "      <th></th>\n",
       "      <th></th>\n",
       "      <th></th>\n",
       "      <th></th>\n",
       "      <th></th>\n",
       "      <th></th>\n",
       "      <th></th>\n",
       "      <th></th>\n",
       "      <th></th>\n",
       "      <th></th>\n",
       "      <th></th>\n",
       "      <th></th>\n",
       "      <th></th>\n",
       "      <th></th>\n",
       "    </tr>\n",
       "  </thead>\n",
       "  <tbody>\n",
       "    <tr>\n",
       "      <th>3</th>\n",
>>>>>>> Stashed changes
       "      <td>Tim Elliot</td>\n",
       "      <td>2015-01-02</td>\n",
       "      <td>shot</td>\n",
       "      <td>gun</td>\n",
       "      <td>53.0</td>\n",
       "      <td>M</td>\n",
       "      <td>Asian</td>\n",
       "      <td>Shelton</td>\n",
       "      <td>WA</td>\n",
       "      <td>True</td>\n",
       "      <td>attack</td>\n",
       "      <td>Not fleeing</td>\n",
       "      <td>False</td>\n",
       "      <td>Guns</td>\n",
       "    </tr>\n",
       "    <tr>\n",
<<<<<<< Updated upstream
       "      <th>1</th>\n",
       "      <td>4</td>\n",
=======
       "      <th>4</th>\n",
>>>>>>> Stashed changes
       "      <td>Lewis Lee Lembke</td>\n",
       "      <td>2015-01-02</td>\n",
       "      <td>shot</td>\n",
       "      <td>gun</td>\n",
       "      <td>47.0</td>\n",
       "      <td>M</td>\n",
       "      <td>White</td>\n",
       "      <td>Aloha</td>\n",
       "      <td>OR</td>\n",
       "      <td>False</td>\n",
       "      <td>attack</td>\n",
       "      <td>Not fleeing</td>\n",
       "      <td>False</td>\n",
       "      <td>Guns</td>\n",
       "    </tr>\n",
       "    <tr>\n",
<<<<<<< Updated upstream
       "      <th>2</th>\n",
       "      <td>5</td>\n",
=======
       "      <th>5</th>\n",
>>>>>>> Stashed changes
       "      <td>John Paul Quintero</td>\n",
       "      <td>2015-01-03</td>\n",
       "      <td>shot and Tasered</td>\n",
       "      <td>unarmed</td>\n",
       "      <td>23.0</td>\n",
       "      <td>M</td>\n",
       "      <td>Hispanic</td>\n",
       "      <td>Wichita</td>\n",
       "      <td>KS</td>\n",
       "      <td>False</td>\n",
       "      <td>other</td>\n",
       "      <td>Not fleeing</td>\n",
       "      <td>False</td>\n",
       "      <td>Unarmed</td>\n",
       "    </tr>\n",
       "    <tr>\n",
<<<<<<< Updated upstream
       "      <th>3</th>\n",
       "      <td>8</td>\n",
=======
       "      <th>8</th>\n",
>>>>>>> Stashed changes
       "      <td>Matthew Hoffman</td>\n",
       "      <td>2015-01-04</td>\n",
       "      <td>shot</td>\n",
       "      <td>toy weapon</td>\n",
       "      <td>32.0</td>\n",
       "      <td>M</td>\n",
       "      <td>White</td>\n",
       "      <td>San Francisco</td>\n",
       "      <td>CA</td>\n",
       "      <td>True</td>\n",
       "      <td>attack</td>\n",
       "      <td>Not fleeing</td>\n",
       "      <td>False</td>\n",
       "      <td>Other unusual objects</td>\n",
       "    </tr>\n",
       "    <tr>\n",
<<<<<<< Updated upstream
       "      <th>4</th>\n",
       "      <td>9</td>\n",
=======
       "      <th>9</th>\n",
>>>>>>> Stashed changes
       "      <td>Michael Rodriguez</td>\n",
       "      <td>2015-01-04</td>\n",
       "      <td>shot</td>\n",
       "      <td>nail gun</td>\n",
       "      <td>39.0</td>\n",
       "      <td>M</td>\n",
       "      <td>Hispanic</td>\n",
       "      <td>Evans</td>\n",
       "      <td>CO</td>\n",
       "      <td>False</td>\n",
       "      <td>attack</td>\n",
       "      <td>Not fleeing</td>\n",
       "      <td>False</td>\n",
       "      <td>Piercing objects</td>\n",
       "    </tr>\n",
       "  </tbody>\n",
       "</table>\n",
       "</div>"
      ],
      "text/plain": [
<<<<<<< Updated upstream
       "   id                name       date   manner_of_death       armed   age  \\\n",
       "0   3          Tim Elliot 2015-01-02              shot         gun  53.0   \n",
       "1   4    Lewis Lee Lembke 2015-01-02              shot         gun  47.0   \n",
       "2   5  John Paul Quintero 2015-01-03  shot and Tasered     unarmed  23.0   \n",
       "3   8     Matthew Hoffman 2015-01-04              shot  toy weapon  32.0   \n",
       "4   9   Michael Rodriguez 2015-01-04              shot    nail gun  39.0   \n",
       "\n",
       "  gender      race           city state  signs_of_mental_illness threat_level  \\\n",
       "0      M     Asian        Shelton    WA                     True       attack   \n",
       "1      M     White          Aloha    OR                    False       attack   \n",
       "2      M  Hispanic        Wichita    KS                    False        other   \n",
       "3      M     White  San Francisco    CA                     True       attack   \n",
       "4      M  Hispanic          Evans    CO                    False       attack   \n",
       "\n",
       "          flee  body_camera          arms_category  \n",
       "0  Not fleeing        False                   Guns  \n",
       "1  Not fleeing        False                   Guns  \n",
       "2  Not fleeing        False                Unarmed  \n",
       "3  Not fleeing        False  Other unusual objects  \n",
       "4  Not fleeing        False       Piercing objects  "
=======
       "                  name       date   manner_of_death       armed   age gender  \\\n",
       "id                                                                             \n",
       "3           Tim Elliot 2015-01-02              shot         gun  53.0      M   \n",
       "4     Lewis Lee Lembke 2015-01-02              shot         gun  47.0      M   \n",
       "5   John Paul Quintero 2015-01-03  shot and Tasered     unarmed  23.0      M   \n",
       "8      Matthew Hoffman 2015-01-04              shot  toy weapon  32.0      M   \n",
       "9    Michael Rodriguez 2015-01-04              shot    nail gun  39.0      M   \n",
       "\n",
       "        race           city state  signs_of_mental_illness threat_level  \\\n",
       "id                                                                        \n",
       "3      Asian        Shelton    WA                     True       attack   \n",
       "4      White          Aloha    OR                    False       attack   \n",
       "5   Hispanic        Wichita    KS                    False        other   \n",
       "8      White  San Francisco    CA                     True       attack   \n",
       "9   Hispanic          Evans    CO                    False       attack   \n",
       "\n",
       "           flee  body_camera          arms_category  \n",
       "id                                                   \n",
       "3   Not fleeing        False                   Guns  \n",
       "4   Not fleeing        False                   Guns  \n",
       "5   Not fleeing        False                Unarmed  \n",
       "8   Not fleeing        False  Other unusual objects  \n",
       "9   Not fleeing        False       Piercing objects  "
>>>>>>> Stashed changes
      ]
     },
     "execution_count": 4,
     "metadata": {},
     "output_type": "execute_result"
    }
   ],
   "source": [
    "data.head()"
   ]
  },
  {
   "cell_type": "code",
   "execution_count": 5,
   "id": "7ffe02eb",
   "metadata": {},
   "outputs": [
    {
     "data": {
      "text/plain": [
<<<<<<< Updated upstream
       "(4895, 15)"
=======
       "(4895, 14)"
>>>>>>> Stashed changes
      ]
     },
     "execution_count": 5,
     "metadata": {},
     "output_type": "execute_result"
    }
   ],
   "source": [
    "data.shape\n",
    "#This shows the number of rows and columns in our data"
   ]
  },
  {
   "cell_type": "markdown",
   "id": "6553a0a8",
   "metadata": {},
   "source": [
    "# BASIC ANALYSIS"
   ]
  },
  {
   "cell_type": "code",
   "execution_count": 6,
   "id": "c1fc9711",
   "metadata": {},
   "outputs": [
    {
     "data": {
      "text/plain": [
       "M    4673\n",
       "F     222\n",
       "Name: gender, dtype: int64"
      ]
     },
     "execution_count": 6,
     "metadata": {},
     "output_type": "execute_result"
    }
   ],
   "source": [
    "data.gender.value_counts()\n",
    "#This shows the number of males and females who were killed"
   ]
  },
  {
   "cell_type": "code",
   "execution_count": 7,
   "id": "129d07d9",
   "metadata": {},
   "outputs": [
    {
     "data": {
      "text/plain": [
       "White       2476\n",
       "Black       1298\n",
       "Hispanic     902\n",
       "Asian         93\n",
       "Native        78\n",
       "Other         48\n",
       "Name: race, dtype: int64"
      ]
     },
     "execution_count": 7,
     "metadata": {},
     "output_type": "execute_result"
    }
   ],
   "source": [
<<<<<<< Updated upstream
    "data.race.value_counts()\n"
=======
    "data.race.value_counts()\n",
    "#this counts the number of people in a particular race"
>>>>>>> Stashed changes
   ]
  },
  {
   "cell_type": "code",
   "execution_count": 8,
   "id": "6f208311",
   "metadata": {},
   "outputs": [
    {
     "data": {
      "text/plain": [
       "shot                4647\n",
       "shot and Tasered     248\n",
       "Name: manner_of_death, dtype: int64"
      ]
     },
     "execution_count": 8,
     "metadata": {},
     "output_type": "execute_result"
    }
   ],
   "source": [
    "data.manner_of_death.value_counts()\n",
    "#This shows number of people who died through a particular manner of death"
   ]
  },
  {
   "cell_type": "code",
   "execution_count": 9,
   "id": "e8bbf90d",
   "metadata": {},
   "outputs": [
    {
     "data": {
      "text/plain": [
<<<<<<< Updated upstream
       "gun                   2755\n",
       "knife                  708\n",
       "unknown                418\n",
       "unarmed                348\n",
       "toy weapon             171\n",
       "                      ... \n",
       "oar                      1\n",
       "nail gun                 1\n",
       "spear                    1\n",
       "BB gun and vehicle       1\n",
       "wrench                   1\n",
=======
       "gun                                 2755\n",
       "knife                                708\n",
       "unknown                              418\n",
       "unarmed                              348\n",
       "toy weapon                           171\n",
       "                                    ... \n",
       "baseball bat and fireplace poker       1\n",
       "pen                                    1\n",
       "carjack                                1\n",
       "car, knife and mace                    1\n",
       "wrench                                 1\n",
>>>>>>> Stashed changes
       "Name: armed, Length: 89, dtype: int64"
      ]
     },
     "execution_count": 9,
     "metadata": {},
     "output_type": "execute_result"
    }
   ],
   "source": [
    "data.armed.value_counts()\n",
    "#This shows the number of people who were armed with a particular weapon"
   ]
  },
  {
   "cell_type": "code",
   "execution_count": 10,
   "id": "3c984103",
   "metadata": {},
   "outputs": [
    {
     "data": {
      "text/plain": [
       "False    3792\n",
       "True     1103\n",
       "Name: signs_of_mental_illness, dtype: int64"
      ]
     },
     "execution_count": 10,
     "metadata": {},
     "output_type": "execute_result"
    }
   ],
   "source": [
    "data.signs_of_mental_illness.value_counts()\n",
    "#the number of people who showed and did not show signs of mental illness"
   ]
  },
  {
   "cell_type": "code",
   "execution_count": 11,
<<<<<<< Updated upstream
   "id": "200d1f9f",
=======
   "id": "4db8ab0b",
>>>>>>> Stashed changes
   "metadata": {},
   "outputs": [
    {
     "data": {
      "text/plain": [
       "False    4317\n",
       "True      578\n",
       "Name: body_camera, dtype: int64"
      ]
     },
     "execution_count": 11,
     "metadata": {},
     "output_type": "execute_result"
    }
   ],
   "source": [
<<<<<<< Updated upstream
    "data.body_camera.value_counts()\n",
=======
    "b_camera = data.body_camera.value_counts()\n",
    "b_camera.head()\n",
>>>>>>> Stashed changes
    "#Number of killings which were recorded."
   ]
  },
  {
<<<<<<< Updated upstream
   "cell_type": "markdown",
   "id": "c12fc2bc",
   "metadata": {},
   "source": [
    "# which race had the highest number of killings?.How many men and women were killed under a specific race?"
   ]
  },
  {
   "cell_type": "code",
   "execution_count": 12,
   "id": "f7af3405",
=======
   "cell_type": "code",
   "execution_count": 12,
   "id": "8c93d735",
>>>>>>> Stashed changes
   "metadata": {},
   "outputs": [
    {
     "data": {
<<<<<<< Updated upstream
      "image/png": "iVBORw0KGgoAAAANSUhEUgAAAYsAAAEGCAYAAACUzrmNAAAAOXRFWHRTb2Z0d2FyZQBNYXRwbG90bGliIHZlcnNpb24zLjMuNCwgaHR0cHM6Ly9tYXRwbG90bGliLm9yZy8QVMy6AAAACXBIWXMAAAsTAAALEwEAmpwYAAAaX0lEQVR4nO3de5xU5Z3n8c9XREEUvNC6SOs02RdRQYSR9hKTKDHjqLiCul7gtY44JkvGeEmy42uMJrPjjsOuO6NmjBmTIfG+KhINopFEHSI6BhUholyEFSMTe2SBYBJFaQL42z/O01hpqvsUUqeqL9/361WvPvXUOU89p+tUfes5l6cUEZiZmXVmt3o3wMzMuj6HhZmZ5XJYmJlZLoeFmZnlcliYmVmu3evdgKIMHjw4mpqa6t0MM7NuZdGiRb+OiIb25T02LJqamli4cGG9m2Fm1q1I+rdy5d4NZWZmuRwWZmaWy2FhZma5euwxCzOzWtqyZQstLS20trbWuykV6devH42NjfTt27ei+R0WZmZV0NLSwj777ENTUxOS6t2cTkUEGzZsoKWlhWHDhlW0jHdDmZlVQWtrKwcccECXDwoASRxwwAE71QtyWJiZVUl3CIo2O9tWh4WZmeVyWJiZdTMXX3wxDz30UE2f0we4e5A5c94vpN7x4wcUUq+Z1cbWrVvZffdd+7h3z8LMrEDXX389hx9+OKeccgqTJ0/mxhtv5I033uC0005j7NixfPazn2XFihVA1mO48sorOeGEE/jEJz6xvfcQEVx++eWMGDGCM844g3Xr1m2vf9GiRZx00kmMHTuWU089lTVr1gAwbtw4rr32Wk466SRuueWWXV4P9yzMzAqycOFCHn74YV5++WW2bt3K0UcfzdixY5k6dSrf+973GD58OC+++CJf/vKX+dnPfgbAmjVreO6551ixYgUTJkzg3HPPZdasWaxcuZIlS5awdu1aRowYwSWXXMKWLVu44oormD17Ng0NDTz44IN84xvf4I477gDgt7/9Lc8880xV1sVhYWZWkOeee46JEyfSv39/AM4880xaW1uZP38+55133vb5Nm/evH36rLPOYrfddmPEiBGsXbsWgGeffZbJkyfTp08fDj74YE4++WQAVq5cydKlSznllFMA2LZtG0OGDNle1wUXXFC1dXFYmJkVJCJ2KPvwww/Zd999Wbx4cdll9txzz7LLlzvVNSIYOXIkzz//fNm6Bgyo3vFGH7MwMyvIZz7zGR577DFaW1vZuHEjjz/+OHvttRfDhg3jhz/8IZB94L/yyiud1nPiiScyY8YMtm3bxpo1a3j66acBOOyww1i/fv32sNiyZQvLli0rZF0cFmZmBTnmmGOYMGECo0eP5pxzzqG5uZlBgwZx3333cfvttzN69GhGjhzJ7NmzO63n7LPPZvjw4YwaNYpLL72Uk046CYA99tiDhx56iKuvvprRo0czZswY5s+fX8i6qFw3qSdobm6O3vbjRz511qx+XnvtNY444ogdyjdu3Mjee+/NBx98wIknnsj06dM5+uij69DCHZVrs6RFEdHcfl4fszAzK9DUqVNZvnw5ra2tTJkypcsExc5yWJiZFej++++vdxOqwscszMwsl8PCzMxyOSzMzCyXw8LMzHL5ALeZWQGqfSp7JaewS+LCCy/k3nvvBbLRZocMGcJxxx3Hj3/84116fvcszMx6iAEDBrB06VI2bdoEwFNPPcXQoUOrUrfDwsysBzn99NN5/PHHAXjggQeYPHlyVep1WJiZ9SCTJk1ixowZtLa28uqrr3LcccdVpV6HhZlZD3LUUUexevVqHnjgAcaPH1+1en2A28ysh5kwYQJXXXUV8+bNY8OGDVWp02FhZtbDXHLJJQwaNIhRo0Yxb968qtTpsDAzK0A9R2tubGzkK1/5SlXrdFiYmfUQGzdu3KFs3LhxjBs3bpfr9gFuMzPL5bAwM7NcDgszM8vlsDAzs1yFhYWkQyQ9Lek1ScskfSWV7y/pKUmvp7/7lSxzjaRVklZKOrWkfKykJemxb0tSUe02M7MdFdmz2Ar8ZUQcARwPXCZpBPB1YG5EDAfmpvukxyYBI4HTgNsk9Ul1fReYCgxPt9MKbLeZmbVT2KmzEbEGWJOm35P0GjAUmAiMS7PdDcwDrk7lMyJiM/CmpFXAsZJWAwMj4nkASfcAZwE/KartZma76v05c6pa34AKhu7o06cPo0aN2n7/kUceoampqSrPX5PrLCQ1AX8MvAgclIKEiFgj6cA021DghZLFWlLZljTdvrzc80wl64Fw6KGHVnENzMy6vv79+7N48eJC6i78ALekvYGHga9GxLudzVqmLDop37EwYnpENEdEc0NDw8431szMyiq0ZyGpL1lQ3BcRP0rFayUNSb2KIcC6VN4CHFKyeCPwdipvLFNuZmYlNm3axJgxYwAYNmwYs2bNqlrdhYVFOmPpduC1iLi55KFHgSnADenv7JLy+yXdDBxMdiB7QURsk/SepOPJdmNdBNxaVLvNzLqrIndDFdmz+DTwZ8ASSYtT2bVkITFT0heAXwHnAUTEMkkzgeVkZ1JdFhHb0nKXAncB/ckObPvgtplZDRV5NtRzlD/eAPD5DpaZBkwrU74QOLJ6rTMzs53hUWfNzApQyamu3YmH+zAz6yHKDVFeLQ4LMzPL5bAwM7NcDgszsyqJKHu9cJe0s211WJiZVUG/fv3YsGFDtwiMiGDDhg3069ev4mV8NpSZWRU0NjbS0tLC+vXr692UivTr14/Gxsb8GROHhZlZFfTt25dhw4bVuxmF8W4oMzPL5bAwM7NcDgszM8vlsDAzs1wOCzMzy+WwMDOzXA4LMzPL5bAwM7NcDgszM8vlsDAzs1wOCzMzy+WwMDOzXA4LMzPL5bAwM7NcDgszM8vlsDAzs1wOCzMzy+WwMDOzXA4LMzPL5bAwM7NcDgszM8vlsDAzs1wOCzMzy+WwMDOzXA4LMzPL5bAwM7NcDgszM8tVWFhIukPSOklLS8quk/Tvkhan2/iSx66RtErSSkmnlpSPlbQkPfZtSSqqzWZmVl6RPYu7gNPKlH8rIsak2xwASSOAScDItMxtkvqk+b8LTAWGp1u5Os3MrECFhUVEPAu8U+HsE4EZEbE5It4EVgHHShoCDIyI5yMigHuAswppsJmZdagexywul/Rq2k21XyobCrxVMk9LKhuaptuXlyVpqqSFkhauX7++2u02M+u1ah0W3wX+IzAGWAPclMrLHYeITsrLiojpEdEcEc0NDQ272FQzM2tT07CIiLURsS0iPgS+DxybHmoBDimZtRF4O5U3lik3M7MaqmlYpGMQbc4G2s6UehSYJGlPScPIDmQviIg1wHuSjk9nQV0EzK5lm83MDHYvqmJJDwDjgMGSWoC/AcZJGkO2K2k18CWAiFgmaSawHNgKXBYR21JVl5KdWdUf+Em6mZlZDRUWFhExuUzx7Z3MPw2YVqZ8IXBkFZtmZmY7yVdwm5lZLoeFmZnlcliYmVkuh4WZmeVyWJiZWS6HhZmZ5XJYmJlZrorCQtLcSsrMzKxn6vSiPEn9gL3IrsLej48G9hsIHFxw28zMrIvIu4L7S8BXyYJhER+FxbvAPxXXLDMz60o6DYuIuAW4RdIVEXFrjdpkZmZdTEVjQ0XErZJOAJpKl4mIewpql5mZdSEVhYWke8l+tGgx0DYabNvPnJqZWQ9X6aizzcCI9DvYZmbWy1R6ncVS4D8U2RAzM+u6Ku1ZDAaWS1oAbG4rjIgJhbTKzMy6lErD4roiG2FmMGfO+4XUO378gELqtd6l0rOhnim6IWZm1nVVejbUe2RnPwHsAfQF3o+IgUU1zMzMuo5Kexb7lN6XdBZwbBENMjOzrudjjTobEY8AJ1e3KWZm1lVVuhvqnJK7u5Fdd+FrLszMeolKz4Y6s2R6K7AamFj11piZWZdU6TGLPy+6IWZm1nVV+uNHjZJmSVonaa2khyU1Ft04MzPrGio9wH0n8CjZ71oMBR5LZWZm1gtUGhYNEXFnRGxNt7uAhgLbZWZmXUilYfFrSRdK6pNuFwIbimyYmZl1HZWGxSXA+cD/A9YA5wI+6G1m1ktUeurs9cCUiPgNgKT9gRvJQsTMzHq4SnsWR7UFBUBEvAP8cTFNMjOzrqbSsNhN0n5td1LPotJeiZmZdXOVfuDfBMyX9BDZMB/nA9MKa5WZmXUplV7BfY+khWSDBwo4JyKWF9oyMzPrMirelZTCwQFhZtYLfawhyish6Y40PMjSkrL9JT0l6fX0t/Q4yDWSVklaKenUkvKxkpakx74tSUW12czMyissLIC7gNPalX0dmBsRw4G56T6SRgCTgJFpmdsk9UnLfBeYCgxPt/Z1mplZwQoLi4h4FninXfFE4O40fTdwVkn5jIjYHBFvAquAYyUNAQZGxPMREcA9JcuYmVmNFNmzKOegiFgDkP4emMqHAm+VzNeSyoam6fblZUmaKmmhpIXr16+vasPNzHqzWodFR8odh4hOysuKiOkR0RwRzQ0NHufQzKxaah0Wa9OuJdLfdam8BTikZL5G4O1U3lim3MzMaqjWYfEoMCVNTwFml5RPkrSnpGFkB7IXpF1V70k6Pp0FdVHJMmZmViOFDdkh6QFgHDBYUgvwN8ANwExJXwB+BZwHEBHLJM0ku45jK3BZRGxLVV1KdmZVf+An6WZmZjVUWFhExOQOHvp8B/NPo8wQIhGxEDiyik0zM7Od1FUOcJuZWRfmsDAzs1wOCzMzy+WwMDOzXA4LMzPL5V+7s25jzpz3C6l3/PgBhdRr1pO4Z2FmZrkcFmZmlsthYWZmuRwWZmaWy2FhZma5HBZmZpbLYWFmZrkcFmZmlsthYWZmuRwWZmaWy2FhZma5HBZmZpbLYWFmZrkcFmZmlsthYWZmuRwWZmaWy2FhZma5HBZmZpbLYWFmZrkcFmZmlsthYWZmuRwWZmaWy2FhZma5HBZmZpbLYWFmZrkcFmZmlsthYWZmuRwWZmaWy2FhZma56hIWklZLWiJpsaSFqWx/SU9Jej393a9k/mskrZK0UtKp9WizmVlvVs+execiYkxENKf7XwfmRsRwYG66j6QRwCRgJHAacJukPvVosJlZb9WVdkNNBO5O03cDZ5WUz4iIzRHxJrAKOLb2zTMz673qFRYBPClpkaSpqeygiFgDkP4emMqHAm+VLNuSyszMrEZ2r9Pzfjoi3pZ0IPCUpBWdzKsyZVF2xix4pgIceuihu95KMzMD6tSziIi30991wCyy3UprJQ0BSH/XpdlbgENKFm8E3u6g3ukR0RwRzQ0NDUU138ys16l5WEgaIGmftmngT4GlwKPAlDTbFGB2mn4UmCRpT0nDgOHAgtq22sysd6vHbqiDgFmS2p7//oj4qaSXgJmSvgD8CjgPICKWSZoJLAe2ApdFxLY6tNvMrNeqeVhExC+B0WXKNwCf72CZacC0gptmZmYd6EqnzpqZWRflsDAzs1wOCzMzy+WwMDOzXA4LMzPL5bAwM7NcDgszM8vlsDAzs1wOCzMzy+WwMDOzXA4LMzPL5bAwM7NcDgszM8vlsDAzs1wOCzMzy+WwMDOzXA4LMzPL5bAwM7NcDgszM8vlsDAzs1wOCzMzy+WwMDOzXA4LMzPL5bAwM7NcDgszM8vlsDAzs1wOCzMzy7V7vRtgXd/7c+YUVveA8eMLq9vMqsc9CzMzy+WwMDOzXA4LMzPL1auOWcyZ835hdY8fP6Cwus3M6q1XhYWZWRF6wxdR74YyM7NcDgszM8vl3VBmPVxR18nszDUyvWE3TU/XbcJC0mnALUAf4AcRcUOdm2Q9hC86NMvXLXZDSeoD/BNwOjACmCxpRH1bZWbWe3SXnsWxwKqI+CWApBnARGB5XVtVoit09c16o57+3usq69ddwmIo8FbJ/RbguPYzSZoKTE13N0paWYO2tRkM/LqGz1dLPXndwOvX3Xn9quuPyhV2l7BQmbLYoSBiOjC9+ObsSNLCiGiux3MXrSevG3j9ujuvX210i2MWZD2JQ0ruNwJv16ktZma9TncJi5eA4ZKGSdoDmAQ8Wuc2mZn1Gt1iN1REbJV0OfAE2amzd0TEsjo3q7267P6qkZ68buD16+68fjWgiB12/ZuZmf2B7rIbyszM6shhYWZmuRwWHZB0tqSQdHjOfHMk7VujZu0SSd+S9NWS+09I+kHJ/Zsk/TdJP+5g+R+0XTkv6drCG9wBSRvb3b9Y0nfS9F9IuqhG7fhbSX9Si+cqec5tkhZLekXSLySdkMqbJC39mHXOk1T3UzMBJDVKmi3pdUlvSLpF0h6SxkgaXzLfdZKuqmdbK5U+R24quX+VpOtylhnX9tqm+zXbrjvisOjYZOA5sjOvOhQR4yPitzVp0a6bD7R9uOxGdrHPyJLHTwD6drRwRHwxItqumq9bWHQmIr4XEffU6Ln+e0T8Sy2eq8SmiBgTEaOBa4D/VePnL4wkAT8CHomI4cAngb2BacAYoGqXVKchhGplM3COpME7scw40nsVartdd8RhUYakvYFPA18ghYWkIZKeTd/qlkr6bCpf3bYRSHpE0iJJy9LV5G31bZQ0LX0bfEHSQXVYLYCf89EGOBJYCrwnaT9JewJHAC8De0t6SNIKSfelN/H2b6CSbgD6p//FfemxCyUtSGX/XOM343al3zglXSlpuaRX0xAxbY/fK+ln6dvrf03le0uam76tL5E0MZU3SXpN0vfT6/qkpP7psbsknZumj5E0P73GCyTtU4PVHQj8psz/oEnSv6Z12d77SI/9VVq/V9LrWLrcbpLulvR3NWh7OScDrRFxJ0BEbAO+BnwR+HvggrR9XZDmH5G2yV9KurKtko62xfQ+/FtJLwKfquF6bSU7o+lr7R+QdKakFyW9LOlfJB0kqQn4C+BraR0+27ZdSzpC0oKS5ZskvZqmx0p6Jn0GPSFpSFXXIiJ8a3cDLgRuT9PzgaOBvwS+kcr6APuk6dXA4DS9f/rbn+yD+IB0P4Az0/TfA9+s47qtBg4FvpQ2yOvJvrF9GniW7BvN78gufNwNeB74TFp2HtCcpjeW1HkE8BjQN92/DbiowHXYBiwuuf0K+E567DrgqjT9NrBnmt635PFX0ms0mGwYmYPJTiMfmOYZDKwiGzmgiezNPiY9NhO4ME3fBZwL7AH8EjgmlQ8Edi943Vek12lsKm8ClqbpvYB+aXo4sDBNn562573aba/zgOOBB9q28Tptm1cC3ypT/nJ67DslZdelddkzvV4byHrFHW6LZO/D8+uwXhvTNrEaGARcBVyXHtuPj85K/SJwU/vtuMx2vRj4RJq+GvhmWvf5QEMqv4DsEoOqrUe3uM6iDiYD/5imZ6T7jwF3SOpL1k1eXGa5KyWdnaYPIXujbgB+D7QdB1gEnFJMsyvS1rs4AbiZbNytE8g+eOaneRZERAuApMVkH0TPdVLn54GxwEupE9IfWFf9pm+3KSLGtN2RdDFQbp/7q8B9kh4BHikpnx0Rm4BNkp4mG6jyceB/SjoR+JDs/9LWA3yz5PVeRPb/KHUYsCYiXgKIiHc/5npVYvu6S/oUcI+kI9vN0xf4jqQxZOHyyVT+J8CdEfFBauc7Jcv8MzAzIqYV2PY8oswwPp2UPx4Rm4HNktaRvV6dbYvbgIer3ehKRMS7ku4hC71NJQ81Ag+mXsAewJsVVDcTOB+4gSwULiDbBo8Enkrr3QdYU7UVoJtclFdLkg4g6w4fKSnI/ukB/BVwInAGcK+kf4iSfYiSxpG9GT8VER9Imgf0Sw9viRT3ZBtsPf/vbcctRpH1ft4i6zW9C9yR5tlcMn8l7RVwd0RcU92m7rIzyF6zCcBfS2o7PtP+gyeA/wI0kH1T3yJpNR+9fu3/H/3bLd/Rh1mhIuJ5ZbtAG9o99DVgLTCarHfYmso7a+d84HOSboqI1g7mKdoy4D+XFkgaSPbFa1uZ+cttp51ti62R7dqql38EfgHcWVJ2K3BzRDyaPkOuq6CeB4EfSvoREBHxuqRRwLKIKGz3mo9Z7Ohc4J6I+KOIaIqIQ8jS/kRgXUR8H7idbNdUqUHAb1JQHE7Wre+Kfg78J+CdiNiWvl3uS7YP9/mdqGdL6mUBzAXOlXQggKT9JZUdubJWlB3APyQiniYL+n3JDpYCTJTUL30xGEc2nMwgstd3i6TP0cHImx1YARws6Zj03PtIKvwLQdrO+pD1XksNIuvpfAj8WZoH4EngEkl7peX3L1nmdmAO2YdQvb7MzAX2UjrrJx1ruIlsd99aoJLjQF1uW2yT3mszyY6FthkE/HuanlJS/h4drG9EvEEWjn9NFhwAK4GG1NtEUt+SL0dV4bDY0WRgVruyh8k22MWSXib79nNLu3l+CuyeDjZdD7xQcDs/riVk+3hfaFf2u4jYmWGQpwOvSrovsjOkvgk8mdb/KaC6B9d2Xh/g/0haQrbP+1vx0VlrC8h2O70AXB8RbwP3Ac2SFpL1MlZU+kQR8XuyXQG3SnqFbP37db7Ux9Z2YsFisg+KKWW+Ld8GTJH0AtkuqPdTO39KNqbawrT8H5x6GhE3k33zvTeFbU2l3vfZwHmSXgf+L1mv6FrgabID2qUHuMvV0RW3xVI3kb3/2lxHFtD/yh8OQ/4YcHbbAe4y9TxIdmx1JmzfBs8F/nfaBhdTcjZVNXi4D+tVlJ3fvjEibqx3W8y6E/cszMwsl3sWZmaWyz0LMzPL5bAwM7NcDgszM8vlsDAzs1wOC7MCKOP3l/UY3pjNqkQfjVB7G9nFbbdLWqhstNr/UTLfDiPUSuoj6R8kvaRslNwv1W9NzHbksaHMqusw4M8j4suS9o+Id9KwFXMlHUV2ZfiDwAUR8VIa+2gT2RAQv4uIY5QNF/9zSU9GRCUDy5kVzmFhVl3/FhFtQ6mcr+x3TXYnG3JiBNlAfjuMUCvpT4GjlH4fg2zMoOFUNgqpWeEcFmbV9T6ApGFkYy8dExG/kXQX2XhRnQ3DfUVEPFGrhprtDB+zMCvGQLLg+J2yX0Y8PZV3NELtE8ClbSP5SvqkpAF1aLdZWe5ZmBUgIl5JIxQvI/sVvZ+n8t+nUVNvVfbzrJvIfgflB2Q/qvQLZb9esx44qw5NNyvLY0OZmVku74YyM7NcDgszM8vlsDAzs1wOCzMzy+WwMDOzXA4LMzPL5bAwM7Nc/x/pRSyP/X48kgAAAABJRU5ErkJggg==\n",
      "text/plain": [
       "<Figure size 432x288 with 1 Axes>"
      ]
     },
     "metadata": {
      "needs_background": "light"
     },
     "output_type": "display_data"
    }
   ],
   "source": [
    "sns.countplot(x='race',data=data, hue=\"gender\",palette='bwr');"
   ]
  },
  {
   "cell_type": "markdown",
   "id": "12d3a5b2",
   "metadata": {},
   "source": [
    "# what is the age distribution of killings based in gender?"
=======
      "text/plain": [
       "Los Angeles    78\n",
       "Phoenix        66\n",
       "Houston        51\n",
       "Las Vegas      41\n",
       "San Antonio    40\n",
       "Name: city, dtype: int64"
      ]
     },
     "execution_count": 12,
     "metadata": {},
     "output_type": "execute_result"
    }
   ],
   "source": [
    "h_shotCity=data.city.value_counts(ascending=False)\n",
    "h_shotCity.head()\n"
>>>>>>> Stashed changes
   ]
  },
  {
   "cell_type": "code",
   "execution_count": 13,
<<<<<<< Updated upstream
   "id": "f0f8b621",
=======
   "id": "b4eebae7",
>>>>>>> Stashed changes
   "metadata": {},
   "outputs": [
    {
     "data": {
<<<<<<< Updated upstream
      "image/png": "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\n",
      "text/plain": [
       "<Figure size 432x288 with 1 Axes>"
      ]
     },
     "metadata": {
      "needs_background": "light"
     },
     "output_type": "display_data"
    }
   ],
   "source": [
    "sns.histplot(data=data, x='age',hue='gender',palette='bwr');"
   ]
  },
  {
   "cell_type": "markdown",
   "id": "428c3c30",
   "metadata": {},
   "source": [
    "# which state recorded the highest number of killings?."
=======
      "text/plain": [
       "Guns                     2764\n",
       "Sharp objects             818\n",
       "Unknown                   418\n",
       "Unarmed                   348\n",
       "Other unusual objects     192\n",
       "Blunt instruments         122\n",
       "Vehicles                  121\n",
       "Multiple                   54\n",
       "Piercing objects           29\n",
       "Electrical devices         24\n",
       "Explosives                  4\n",
       "Hand tools                  1\n",
       "Name: arms_category, dtype: int64"
      ]
     },
     "execution_count": 13,
     "metadata": {},
     "output_type": "execute_result"
    }
   ],
   "source": [
    "A_category=data.arms_category.value_counts()\n",
    "A_category\n",
    "#number of arms(category) used."
   ]
  },
  {
   "cell_type": "code",
   "execution_count": 14,
   "id": "f28c8b4d",
   "metadata": {},
   "outputs": [
    {
     "data": {
      "text/plain": [
       "Not fleeing    3073\n",
       "Car             820\n",
       "Foot            642\n",
       "Other           360\n",
       "Name: flee, dtype: int64"
      ]
     },
     "execution_count": 14,
     "metadata": {},
     "output_type": "execute_result"
    }
   ],
   "source": [
    "F_lee = data.flee.value_counts()\n",
    "F_lee\n",
    "#number of suspects who attempted fleeing"
   ]
  },
  {
   "cell_type": "markdown",
   "id": "955944e2",
   "metadata": {},
   "source": [
    "   # DATA VISUALIZATION\n",
    "# How many number of killings according to race were recorded?\n"
>>>>>>> Stashed changes
   ]
  },
  {
   "cell_type": "code",
<<<<<<< Updated upstream
   "execution_count": 119,
   "id": "0cce93b3",
=======
   "execution_count": 16,
   "id": "200d1f9f",
>>>>>>> Stashed changes
   "metadata": {},
   "outputs": [
    {
     "data": {
<<<<<<< Updated upstream
      "image/png": "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\n",
      "text/plain": [
       "<Figure size 1440x595.44 with 1 Axes>"
=======
      "image/png": "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\n",
      "text/plain": [
       "<Figure size 1368x720 with 1 Axes>"
>>>>>>> Stashed changes
      ]
     },
     "metadata": {},
     "output_type": "display_data"
    }
   ],
   "source": [
<<<<<<< Updated upstream
    "sns.countplot(x='state',data=data,);\n",
    "sns.set(rc={'figure.figsize':(20,12)})"
=======
    "sns.countplot(x='body_camera',data=data, hue=\"race\");\n",
    "sns.set(rc={'figure.figsize':(19,10)})"
>>>>>>> Stashed changes
   ]
  },
  {
   "cell_type": "markdown",
<<<<<<< Updated upstream
   "id": "289254a4",
   "metadata": {},
   "source": [
    "# The city with the heighest shooting"
=======
   "id": "c12fc2bc",
   "metadata": {},
   "source": [
    "# which race had the highest number of killings?.How many men and women were killed under a specific race?"
>>>>>>> Stashed changes
   ]
  },
  {
   "cell_type": "code",
<<<<<<< Updated upstream
   "execution_count": 14,
   "id": "718d9929",
=======
   "execution_count": 17,
   "id": "f7af3405",
>>>>>>> Stashed changes
   "metadata": {},
   "outputs": [
    {
     "data": {
<<<<<<< Updated upstream
      "text/plain": [
       "Los Angeles    78\n",
       "Phoenix        66\n",
       "Houston        51\n",
       "Las Vegas      41\n",
       "San Antonio    40\n",
       "Name: city, dtype: int64"
      ]
     },
     "execution_count": 14,
     "metadata": {},
     "output_type": "execute_result"
    }
   ],
   "source": [
    "h_shotCity=data.city.value_counts(ascending=False)\n",
    "h_shotCity.head()"
=======
      "image/png": "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\n",
      "text/plain": [
       "<Figure size 1368x720 with 1 Axes>"
      ]
     },
     "metadata": {},
     "output_type": "display_data"
    }
   ],
   "source": [
    "sns.countplot(x='race',data=data, hue=\"gender\",palette='bwr');\n",
    "sns.set(rc={'figure.figsize':(5,6)})"
   ]
  },
  {
   "cell_type": "markdown",
   "id": "12d3a5b2",
   "metadata": {},
   "source": [
    "# what is the age distribution of killings based in gender?"
>>>>>>> Stashed changes
   ]
  },
  {
   "cell_type": "code",
<<<<<<< Updated upstream
   "execution_count": 34,
   "id": "7e7da31f",
=======
   "execution_count": 19,
   "id": "f0f8b621",
>>>>>>> Stashed changes
   "metadata": {},
   "outputs": [
    {
     "data": {
<<<<<<< Updated upstream
      "text/plain": [
       "<AxesSubplot:ylabel='city'>"
      ]
     },
     "execution_count": 34,
     "metadata": {},
     "output_type": "execute_result"
    },
    {
     "data": {
      "image/png": "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\n",
      "text/plain": [
       "<Figure size 432x288 with 1 Axes>"
=======
      "image/png": "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\n",
      "text/plain": [
       "<Figure size 1584x432 with 1 Axes>"
      ]
     },
     "metadata": {},
     "output_type": "display_data"
    }
   ],
   "source": [
    "sns.histplot(data=data, x='age',hue='gender',palette='bwr');\n",
    "sns.set(rc={'figure.figsize':(22,6)})"
   ]
  },
  {
   "cell_type": "markdown",
   "id": "428c3c30",
   "metadata": {},
   "source": [
    "# which state recorded the highest number of killings?."
   ]
  },
  {
   "cell_type": "code",
   "execution_count": 20,
   "id": "0cce93b3",
   "metadata": {
    "scrolled": true
   },
   "outputs": [
    {
     "data": {
      "image/png": "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\n",
      "text/plain": [
       "<Figure size 1584x432 with 1 Axes>"
>>>>>>> Stashed changes
      ]
     },
     "metadata": {},
     "output_type": "display_data"
    }
   ],
   "source": [
<<<<<<< Updated upstream
    "h_shotCity.head().plot(kind='pie')"
=======
    "sns.countplot(x='state',data=data,);\n",
    "sns.set(rc={'figure.figsize':(30,6)})"
>>>>>>> Stashed changes
   ]
  },
  {
   "cell_type": "markdown",
<<<<<<< Updated upstream
   "id": "8b5223fd",
   "metadata": {},
   "source": [
    "# Threats level of Race and Arms category used"
=======
   "id": "289254a4",
   "metadata": {},
   "source": [
    "# Which city has the highest shooting?"
>>>>>>> Stashed changes
   ]
  },
  {
   "cell_type": "code",
<<<<<<< Updated upstream
   "execution_count": 18,
   "id": "24ad6f8a",
   "metadata": {},
   "outputs": [],
   "source": [
    "#threat level from  race #unsorted_well\n",
    "level=data.groupby(['race','arms_category']).threat_level.agg([len,min ]).sort_values(by='len',ascending =False)\n"
=======
   "execution_count": 21,
   "id": "293ca7d4",
   "metadata": {},
   "outputs": [
    {
     "data": {
      "image/png": "iVBORw0KGgoAAAANSUhEUgAAAXsAAAFUCAYAAADFxJzoAAAAOXRFWHRTb2Z0d2FyZQBNYXRwbG90bGliIHZlcnNpb24zLjMuNCwgaHR0cHM6Ly9tYXRwbG90bGliLm9yZy8QVMy6AAAACXBIWXMAAAsTAAALEwEAmpwYAABHwElEQVR4nO3dd3hUZd7G8e/0SU8ISSAJvYaaoEBAQAQUUCMoiJVd664rvrqyAqKoqOCqWMG2Krq76i42qoqKIFjovYfQQkIK6X3qmfePsChKCUkmZ2bO73Ot116EzJmbIbk5eeYpOo/H40EIIURA06sdQAghhPdJ2QshhAZI2QshhAZI2QshhAZI2QshhAZI2QshhAZI2QshhAZI2QshhAZI2QshhAZI2QshhAZI2QshhAZI2QshhAZI2QshhAZI2QshhAZI2QshhAZI2QshhAZI2QshhAZI2QshhAZI2QshhAZI2QshhAZI2QshhAZI2QshhAZI2QshhAZI2QshhAZI2QshhAZI2QshhAZI2QshhAZI2QshhAZI2QshhAZI2QshhAZI2QshhAZI2QshhAZI2QshhAZI2QshhAZI2QshhAZI2QshhAZI2QshhAZI2QshhAYY1Q4gRF14PB4cTgWXW8GDB4NOj8mkx6DX4XIrOF21v+d0KthdbpxOBUXxYDDoMOj1GAw69HodBp0OvUGH2WjAajYA4HQruN0ePHjQ6XQY9XosJ39PiEAhZS98hsulYHe60enAYjJQXu0gr6iaE8XV5BdXU1xuo6TCRmmFnZJyO6WVdmrsrgY9p8VkICzERGiQmfAQM6HBJiLDrMQ3D6FVXBgtmgXTLNyK0ajH7nCDDqxmAwa9/FAs/IvO4/F41A4htEVRPNgcLnQ6HQa9jpzCKjJzyzh0vJycgkqOF1SSV1SFy+07X5rBViOxUcG0bB5C+/gIkto1o23LcIKtJhxON0ajHotJfhoQvkvKXnidx+VEcTnQmyw4S/LQ6Y1klJmY+/F2cgor8eevwBCrkbbxEbSLD6db22i6tW9GeIgZh1MhyGJEr9epHVEIQMpeeIFHceNx2kGnx3b8ADWHt2PLTseRdxiPy0H4RSNxplzPn57/Qe2oXhEeYqZbu2b07hTDRV3jaB4ZhMPpJthqRKeT8hfqkDF70SgUlxMUN4rDRtX+dVTtW4ctax94lN99rj3nILFDzCqkbBrlVQ7W785j/e48YBehQSZ6dmzOwF4t6detBQBmkwGjQcb9RdORshf1pjhsoNfjKiugcvePVKWvx1mQdd7H2U9kYrRYCA82U17taIKk6qqscbJuVy7rduWi00HnVlEM6NWSwb0TiAi1AB4sZvlWFN4lwzjigij2anQGE/bcQ1TsXkN1xmbcFcUXfJ3Ee+by7veFLF93tPFD+pG4ZsEM6NGCUQPaER1pxaDXYzLKHb9ofFL24rw8biceRcGee4jyzcupPrQNj6OmQddsftW97DEk8cw/NzVSSv/XKi6MEf1ac3nf1hgMOqxmeYNXNB4pe3FWir0GdFC+fRXlm77EVZrfaNcO7XUZhoG3ctszaxrtmoFCp4OeHZozKrUN/bq3xOPxYLXIMI9oGPkKEqfxKG48Lieu8kJK1y2mau/PeFyNP65uzzlIy5DAfZO2ITwe2HmwkJ0HCwmyGLm8X2vGDeuE1Wwg2GpSO57wU1L2AgDFYQedjuqMTZStX4I995BXn89ZdBy90Uhss2BOFFd79bn8WY3dxdIfD7Psp8P06RLLDSO60D4hAoNBJ7N5xAWRYRyNU+w1KE4bZRuWUbFjJUpNZZM9d/ydL7BgSzWfrzrYZM8ZCBJjQ7l2aEcuTUlEp6udxinE+UjZa5TiqEGxVVO04n2q9q8Hmv7LoNnlt3Mkoi+Pv72+yZ87EESGWZgwvDNX9G8jpS/OS8peYxSHDY/LSfGqD6jY+f0ZFz01lZCkgVgvu4tbZ61WLUMgiAg1c/3wzoxKbSulL85KBv00QnHaUew1lPz4Kcfm/YmKHStVLXqofZM2NMSiaoZAUFbp4N0lu7lj1rd8tfYIdocLp8vd5Dk2bNjAxIkTG/26q1atokuXLuzevbvRrw3w8MMPs3DhQq9c25dI2Qc4xeVAcdop2/QlmfP+RNn6xV6ZXVMfrrIT6PDQPj5C7SgBobzKwfyle7jrme/4aUcOdocbRfH/H9wXLlzIqFGj+Pjjj9WO4tdkNk6A8rhdeBQ3lbtWU/LDx7irytSOdEb2/Ewu6R3P4RzfzOePSivsvPSfrSyKP8h91yfTKi6MIJXn6b/11lssXboUg8HAJZdcwpQpU6ipqWHy5MkUFhYCMGnSJIYPH37a44qLi1m/fj2LFy9m7NixTJs2jdDQUAAGDRrEyJEj2bJlCwaDgVdeeYVWrVqxYcMGZs2ahcFgIDk5mUOHDvHBBx+QmZnJzJkzKS0txWq18thjj9GtW7fTnm/x4sX861//QlEUunfvzhNPPIFer+eRRx4hIyMDgJtvvpkJEyY0wavWuOTOPgApTjtV6RvJ/scDFC5/22eLHsCWuZue7aPUjhGQjuSU87dXf+DFj7ZQVGbD1sCDXuprzZo1rFq1is8//5xFixaRmZnJggULWLFiBQkJCSxcuJDZs2ezefPm3z126dKlXHLJJSQmJtKjRw+WLl166vcKCgoYMGAAixcvpm/fvnz00Uc4nU6mTp3KnDlzWLx4MUbjL//ITZs2jSlTprBo0SKefvppHnzwwdOeKyMjg08++YQFCxawZMkSoqOjmT9/Ptu2baOsrIzFixfzj3/844w5/YGUfQBRnHZcFcXkLZjNiUUv4iorUDvSedmPH6B1cxm396YNe/K4a/a3LFiRjs3hwu1u2vdq1q9fz1VXXUVQUBBGo5Fx48axbt06UlJS+O6777j33nvZtWsXkyZN+t1jFy1axNVXXw3AlVdeyYIFC077/cGDBwPQqVMnysrKOHDgANHR0XTt2hWA8ePHA1BVVcXu3buZPn06Y8aM4W9/+xvV1dWUlJScutaGDRvIzMxkwoQJjBkzhpUrV3L48GE6derEkSNHuPPOO/n666+ZOnWqV14nb5NhnAChOO1U7FhJ8coPfGZMvi7suQeJDbaqHSPgudwePv/+ID/tyOFvN/ehbXxEkw3tKMrv/3FxuVy0bduW5cuX8+OPP/L999/z3nvv8dVXX6E/eeTjnj17OHDgALNnz+bvf/87brebEydOsH37dpKTkwGwWGpvFHQ6HR6PB4PBcMbnUxQFs9nMkiVLTn0sLy+PyMjIU792u92MHj2aGTNmALX/QLjdbsLDw/nyyy/5+eefWbNmDddeey1ffvkl4eHhjfUSNQm5s/dzisOGq6yA3I9mUvTNfL8qegB3VRkeh51eHZurHUUT8ourmfraT7y1cCfVNmeTzNpJTU3lyy+/xGaz4XK5+Pzzz0lNTeXDDz9k3rx5jB49mieeeILi4mIqK39Z1Ldw4UImTJjA6tWrWbVqFWvWrGHMmDG/u7v/tfbt21NeXk56ejoAy5YtAyAsLIy2bdueKvuff/6ZW2655bTH9u/fnxUrVlBUVITH42HmzJn861//YuXKlUyZMoWhQ4cyY8YMgoODyc3NbeyXyevkzt5PeTwePC4H5Vu+pmTNAjxup9qR6s2ed5jUni3ZebBQ7SiasWpzFlv3n+C+Cb3p3TGm0TZa27x5MykpKad+nZaWxlNPPcW+ffsYN24cLpeLQYMGceutt2Kz2Zg8eTJpaWkYDAamTJly6m7Z4XDwxRdf8O9///u06992223ccMMNTJ8+/YzPbzabef7555k2bRp6vZ527dphtdb+5DhnzhxmzpzJu+++i8lk4uWXXz7t5LCuXbty33338cc//hFFUUhKSuJPf/oTer2eb7/9lquuugqLxcI111xDly5dGuX1akqyqMoPKQ4b7soS8he9iCPviNpxGixiwLWUdxrN/a/8pHYUTerXvQWTb+qDxez/p2cpisILL7zAfffdR3BwMO+//z75+fk8/PDDakdTndzZ+xGPouBxOynbsJSSnz4HRZ3ZFY3NnpNBy35j1I6hWRv35PGX51Yy/ba+tGsZ4dfbKev1eiIjIxk/fjwmk4mEhARmz56tdiyfIHf2fkJxOnBXlZL3yTN1OvrPn+gswbR98H2ue2Q5Lpe6q3q1TKeD8cM6ccOILljMsuVCoPHvn9k0QnHYqMncRfY7DwZc0QN47NW4qsrolxSndhRN83jg05UZTH/jJ4rLbTicTb/lgvAeKXsfpzjtlK5bTP7Hz+Bx2NSO4zX2nAz6dpOy9wUZWaXc8+xKNu/LV20hlmh8UvY+yqMoKPYa8j97ntKfPlU7jtfZMveQ1Nq/5i0Hshq7i7//axMffb0Pu0Pu8AOBlL0PUpwOXGUFZM9/iJrD29WO0yTsORnEhMuRe75m8Q+HmfnuOqpqnE2+8lY0Lil7H6M4bNQc3Un2O5NxleSpHafJOPKPYrJYCbb670yQQLX7UBH3v/g9J0pqZBzfj0nZ+xDFaaf054Xkf/J3PM7AHZ8/E4/bibOsgEt6xasdRZzBiZIaHnhpNXuOFMk4vp+SsvcBHs/J8flPn6N07edqx1GNPTudPl1j1Y4hzqLG7uKJt9exctMxbA4pfH8jZa8yj6Kg1FRx/P1p1BzZoXYcVdmy9tIlPkTtGOIcPB54a9EuPv3ugBS+n5GyV5FHcaPUVHD8/Wk4i46rHUd19pyDRIWZ1Y4h6uCTlRm8vWiXzNTxI1L2KlHcLtxVZRx/bxqu0ny14/gER0EWBqOJ6AjZ8tgfrNh4jOc+2CR3+H5Cyl4FHrcLpbKE4+9Pw1Xu+weMNBmPgqM4h8HJCWonEXW0aW8+T7y9jmqbE9l5xbdJ2Tcxj8uJq7yQ7Pem4q4oVjuOz7Ed20vvTrK3vT/Ze6SYh1//iRqZpePTpOybkOJy4CzN5/j701Cqy9WO45Ns2fvpGCfDOP7mSE45j7z5M9U2/z1XIdBJ2TcRxeXAWZRDzj+no9RUnv8BGmXPOUhYiJS9PzqUXcaMt9bKHb6PkrJvAorTjuNEJjn/fhTFXq12HJ/mKslDp4PWcWFqRxH1kJFVymP/kML3RVL2Xqa4nDhOHCP3g8cDetfKxuQoOMag3rKS1l+lZ5Yw8511MkvHx0jZe5FHcdceOLLgab87CFxNNZl76NUhWu0YogH2Hinm6fkbZB6+D5Gy9yLFYSP3wydQbFVqR/Er9uMHaBMji6v83c6Dhbz+2XbscofvE5q87LOzs+nRowdjxoxh7NixXHXVVdx+++3k5eUxbNgwsrOzvfbcK1eu5NVXX/Xa9X9NcdjI++/TsmCqHuw5GQQHB6kdQzSC77dk8+nKDNk8zQeosp9sbGwsS5YsOfXrZ599lueff97rzzt8+HCGDx/u9edRnHYKlr2OPSfD688ViNyVJXhcDrq3a8aeI7IWwd99/N0BWkSHMCg5HqtZtrBWi08M4/Tv35+MjNpifP311xk7diwjR45kx47ajcGOHDnCxIkTSUtL44YbbmDnzp0AFBYWcu+993Ldddcxbtw41q5dC8C8efOYMWMGEydOZNiwYbz55psALFy4kIcffpjc3FwGDBjAoUOHcDgcpKWlsXr16kb5sygOG6U/L6Rq/9pGuZ5W2fOOMKBnS7VjiEYy79PtpGeWYJf98FWjetk7nU6++eYbkpOTAejYsSOLFy9m4sSJzJ8/H4ApU6YwceJEli1bxvTp03nggQdwOBzMnj2bcePGsXDhQt58800ef/xxKitr57Cnp6czf/58Pv30U95++23Ky39ZxNSyZUseeughZs6cyeuvv05KSgpDhw5t8J9FcdioSt9I6c+fNfhaWmfL3E33dlFqxxCNRFE8PP3eBgqKq+XEK5WoUvYnTpxgzJgxjBkzhmuuuQaPx8Pf/vY3AEaMGAHUln5JSQlVVVUcO3aMK664AoDk5GQiIiI4fPgwa9euZe7cuYwZM4a7774bl8tFVlYWUPvTgtlsJjo6msjISCoqKk7LMG7cOCwWC8uWLePhhx9u8J+pdoplJgVfvNbga4nacfuEKDmmMJDYHW4ef2cdNrm7V4VPjNn/msFgAECn0wGccXMlj8eD2+1GURT+9a9/ERkZCdT+IxIdHc13332HxWI59fk6ne5317Hb7eTl5eF2u8nLy6N9+/b1/vN4FDfuyhLyFswCRb6QG4M99xDW4GCMenDJjWDAKCip4e//3MRjd/TDIuP3TUr1YZzzCQ0NJTExkW+//RaA7du3U1hYSKdOnUhNTeU///kPAAcPHiQtLY2ampo6XfeVV14hNTWV6dOnM336dNzu+pf0qSmWsjq20Si2Stw1FVzUtYXaUUQj25FRIDN0VODzZQ8wZ84cPvjgA9LS0njqqaeYN28eZrOZGTNmsGPHDtLS0njwwQd5/vnnCQ0NPe/1tm/fzjfffMNf//pXRo0aRWRkJO+99169silOOycWvoir7ES9Hi/Ozp5zkH494tSOIbzg4+8OsOdIkRxg3oR0HtmEut4Uh43y7d9RvOJ9taMEpIh+V1PdfQz3vvij2lGEFwRZjLw+5TKiI4LQ63Vqxwl4fnFn74s8ihtXWQHFKz9QO0rAsuUcJDZCVtIGqhq7i5nvrMfhkrv7piBlX08el5O8T/4Oiow7eosj/whmq1UW4gSwY/kVfLh8n4zfNwEp+3pQHDYKvnpLtkLwMo/Tjqu8iIG9ZHFVIFv642EO55Thkvn3XiVlf4EUl5OaIzup2iPjyE3BdvwAF3WNVTuG8CKPB57792Z5s9bLpOwvkMdpp+CL19WOoRm2Y3vokhCidgzhZcXlNuZ+vF32wPciKfsLoDhsnFjyKopNjhVsKvbcgzQLkzdpteDnnTls3psv++d4iZR9HSlOB1XpG6g5tFXtKJriOHEMo9lCVJjl/J8s/N68T7fjlLL3Cin7OvI4aij8+h21Y2iP4sZRnCvHFGpEtc3F65/tkNk5XiBlXweKo4aCr97C46jbVgyicdmy9pHcOUbtGKKJ/LQjh4PZpbI7ZiOTsj8Pj6LgKMii+sBGtaNolj1rP51ayMlVWvLKgm0yFbORSdmfh8ftpPCrt9SOoWn23IOEh8qYvZbkF1fz2aoMmZ3TiKTsz0FxOanatxbHiUy1o2iasygHnd5AQsz5N7kTgeOzVRmUVzrUjhEwpOzPRXFTtPLfaqcQeHAUHJM3aTXG5fbwyoJt8mZtI5GyPwvFYaPkx09RqsvP/8nC62zH9tCrY7TaMUQT23WokANZJSiKjN83lJT9WSj2aso2fqF2DHGSPfsA7WJk3F6L/rFoF06X7MTeUFL2Z6A4bBQu/4fsaOlDbLkHCQm2qh1DqOBYXgXrd+filPMpG0TK/jc8ioLjRCbVGZvVjiJ+xV1eiMfjpkvrKLWjCBW8/8UeFEXu7htCyv43PG4nBTLV0ic58o7KdscaVVRm48ufD2OXqZj1JmX/Kx63i6r963AWHFM7ijiDmsxd9Ggnd/Za9fF3B3DL3X29Sdn/ikdRKPnxM7VjiLOw52SQ2Ex2wNSqapuLRasPyd19PUnZn+TxKNiy9uIqyVU7ijgLe85BrMFB6OWrVrOW/ngIubmvH/m2OcnjdFDywydqxxDnoNRUoNirSeksJ1dpVbXNxbIfD2N3yDbIF0rK/iRnaT724+lqxxDnYc89RP/uLdSOIVS0eM1BtSP4JSl7QLHXUPLDArVjiDqwHd1NtzbhascQKqqodrJq8zGZd3+BpOyp3a+++oDMq/cH9twM4iLkTVqt+3RVBh6PDN5fCM2XveKooeTnz8Ejdwn+wJ53GEtQEGaj5r90Na2gpIbtB07IQqsLIN8xHqjcsUrtFKKOPA4brsoSBvSUxVVat2j1ITmc/AJouuwVp52yzV/hccme2f7EfjyDi5Pi1I4hVLb7cBGV1fK9W1eaLnvQyc6Wfsh2bDddEuUgEwGL1xyS/e7rSLNl71HcVO1fJ/vV+yF7zkGah5nUjiF8wMpNx9DpdWrH8AvaLXunnYpt36kdQ9SD/UQmRouV8BCZlaN1VTYX63bl4JbDTc5Lu2WvKNiy9qkdQ9SH24WzNF+OKRQALFlzGKdTyv58NFn2HsVN5e4fAJm25a9sWftJ6RyjdgzhAw5ml1Ihb9SelzbL3uWgYtdqtWOIBrBl7aNTfLDaMYSPWLHxGA6ZhnlOmix7xWHDkXtI7RiiAew5B4mQMXtx0uqt2ciC2nPTXNl7XE4qd65WO4ZoIGfRcfRGI3HN5O5eQG5hFYWlNWrH8GnaK3vFTcWuNWrHEA3lUXAUHmdwsrxJK2p9uzFTDjY5B82Vvbu6HGdhltoxRCOwH9tD747N1Y4hfMQP27LR6WTO/dloquwVl4MK2QcnYNiy02kXa1U7hvARhaU2jhdUqh3DZ2mq7PF4Tk65FIHAnnOQ0BCL2jGED/lh23GZlXMWmip7V1khrtJ8tWOIRuIqO4EODx0SItSOInzE5n35uGXb4zPSTNl73E4q9/6kdgzRyOz5mVwiK2nFSUdzy3G7ZTXtmWim7BWnA9vR3WrHEI3Mlrmbnu2bqR1D+JAt+0/IKVZnoJmy15vM2HMy1I4hGpk9J4NW0bIDpvjF2l05VMu2x7+jmbJ3FGTjcTvVjiEamT3nIEHBQWrHED5kx4ECzEaD2jF8jibK3qO4qT60Te0YwgvcVaV4HHZ6yXx7cVKVzUX2iQq1Y/gcTZS94rBhO7pL7RjCS2x5h+RMWnGarfvlMPLf0kTZ601mbMfT1Y4hvMSWuYfubWT6pfjFnsNF1Mi4/Wk0UfbO4jw8TrvaMYSX2HMyaBklO2CKX6QfK8Fs0kS91VnAvxoexU31YRmvD2T23ENYgoIwGgP+y1nUUXmVg/IqOdDk1wL+u0Nx2KiR8fqA5rFX46oqo19SnNpRhA/Ze6RY7Qg+JeDLXm8yY8var3YM4WX2nAz6dW+hdgzhQ7YfKJBx+18J+LJ3lRfhsVerHUN4mS1zD0mtwtSOIXzI/sxiOb3qVwK+7O25h9WOIJqAPfcgzcNlJa34xfETlfIm7a8E9Cvhcbtw5B9RO4ZoAo78o5gsVoKtRrWjCB/hVjyUlNvUjuEzArvsXQ6cxTlqxxBNwONy4Cwr4JJesgOm+EVmXrnaEXxGYJc94CzOVTuGaCL27HQu6iozcsQvDhwrxa3IlscQ4GWvN1qk7DXElrWXLgnBascQPiQztxybQ06uggAve8VRjcclCyu0wp5zkMhQWUkrfnEsvwK9HEIOBHjZu0oL1I4gmpCjIAuD0UR0hBxCLmrlFFZhkpXVQICXvaMgU+0Ioil5FBxFOQxOTlA7ifARiuKhslrOsYAALnuPy4njhJS91tiy9pLSSfa2F78olumXQACXveJyyJuzGmTL3k/7OBnGEb/IL65SO4JPCNiy1+n0UvYaZM85RFiIRe0YwofkFFTJAeQEctmbzDhL8tWOIZqYqyQXnV5P6zjZJ0fUOlFSjcMp0y8Dtuw9LicosuOdFtlPZDKot6ykFbUKy2y43HJnH7hlLydTaZYtcw+9O0arHUP4iMLSGrUj+ISALXtFyl6z7McP0Lq5LK4Stcqr7Oj1srAqcMveIf+aa5U99yDBwUFqxxA+otrmwmgI2Kqrs4B9BTx2KXutclcU43E76N6umdpRhA+osbswGOTOPmDLXpHTqTTNnnuEAT1bqh1D+ACPB1wu2fmyTmX/f//3f6xdu9bbWRqV21apdgShIlvmbrq3i1I7hvARMvWyjmV/+eWX88YbbzBy5Ejmz59PaWmpl2M1nGKTVXNaZs/JICFKjikUtWSb4zqW/TXXXMOHH37IG2+8QVFREePHj2fKlCns3LnT2/nqxePxoFRXqB1DqMieewhrcBCy4aGA2nF7ravzt4KiKGRmZnL06FHcbjfR0dHMnDmTuXPnejNf/bjdKA4Zs9cyxVaJu6aSi7q2UDuK8AEyjAN1Op355ZdfZuHChbRq1Yqbb76ZV199FZPJRHV1NZdddhn333+/t3NeEI/iQnHITndaZ885SL8ecWzYm6d2FKEytyIraOtU9sXFxbzzzjt07dr1tI8HBwfz4osveiVYQ3g8iszGEdgyd9Ot+xi1YwgfIBuh1bHs3W7374r+/vvvZ+7cuQwaNMgrwRpCB7XzrYR26I1Y4jtiSeiMJa4t+mYtITKGYF0w/5k5Su10QmVyWtV5yv6JJ54gPz+fLVu2UFxcfOrjLpeLrKwsr4erN50OnUm2uQ00enMwltZJWOM7YYpphS6qBUpIGAZzEBajhRqnjYLqIvaX55NVtI/+QRYSQ8LIzyll5Zf71Y4vVJR2Qy+sQdqenXXOsh8/fjwZGRmkp6czcuTIUx83GAwkJyd7O1v96fTopez9kjEiBkurJCwt2mNq3gpPZHMICsVosmIymCi3V3Cisois8lyyczaRX1lAXmUBJ6qKcLpPP37uytaXcPzDD0m45RYio4PZsy1HpT+VUJvTIYuqzln2PXv2pGfPnlxyySXExcU1VaYG0+kNcmfvw8xxbbEmdsUc1w5jdALu8Ch0lmDMZis6dBTXlHKssoBjZTnkHNlDXkUB+ZUFFNaU1Hns1WwwExYSwf7vv8dRXETa/Q9wIqecgnxZbKdFOtkt4dxl/8ADD/Dqq69y1113nfH3ly1b5pVQDaY3oDfL0XSqMZqxJnSuHT+PbYO+WUvcIeHoLUFYTFacbheF1cUcrsjnWNlhcnNOkF9ZSF5lAeX2xlkfcXmHQdTk5eOqqKTwp7VE9E7m5rsH8OacH3DInGvNMchGaOcu+7vvvhuAu+66i7feeosnn3ySQ4cO8cILL/DUU081ScD60Ol06C3BascIaPrgcKyJSVgSOmJu3gpPVBwEhWIwB2E2mqlyVFNQVUR2eR5ZJ3acKvP8ygJsLu9vP31JwkUUr15/6teHXn+DXq91ZdzEFP777iavP7/wLWaLQe0Iqjtn2ffo0QOARYsWcdNNN9GvXz969+6N3W5n8eLFXHXVVU0Ssj50UvYNZoxqibVVEpaW7TBGJ+KJaA7WEExmKwa9kTJbGbmVhWSV5ZJ9bC35lYXkVxZworoIt6LuIpZWwbGkb95y2sd2T32YlHffZuBl7Vn7/WGVkgk1mC11mngY0Or0CpSUlPCHP/wBAIvFwm233cbixYu9mavB5M6+LvSYW7bH2qorlri2GJrF4w6LQm8Jwmyyong8FNeUcLjiBMfKcskp2HHqDdGSmjI8+Ob01raRiRiNRioyDp72caW6mgNPPs2QWU+RnVnKscPFZ7mCCDQmk9zZ13mefX5+/qk3aQsLC31+kYKM2Z9kthKU2BVLfCfMsW1OTlcMx2C2YjFZsbnsFFYXc6A8j6ySdPKyCk4OtxRS6fDPzeRGdryUsj17Qfn9DIyK9HRyPv6YG26/njefX0NlhZxopgVGKfu6lf1tt93G2LFjGTx4MDqdjrVr1zJ16lRvZ2sQvVk7JxXpQ5sR1DoJS8sOJ6crxkBQGEZz7XTFCnslJ6qKOF6eR1beltrZLVW1Qy6O30xXDATJzTpT9OWnZ/39458tJKJ3b266qy/zX/0ZRZbSBzSjSX9ykaW2p+TUqezHjx9Pjx49WL9+PQaDgTvvvJPOnTt7O1uDBNrUS1NMK6yJXbG0aI8xOh4lPBqsIZhNVnQ6PaU1pWRVFpJVnsPxo+mnhlsKq4tRPNqZY6zX64kMieTwtu3n/Ly9TzxJynvvMnJMd5Yv2t004YQqLFYTbrcHvcZv7uv8rkXXrl1/t2WCL/O7RVV6I5b4TlgTO2OObYM+Oh4lNPLUdEWX20VRdQlHK09wrPQYeXlbTs1uKbWVq53eZwxp3R9naSmO4vOMxysKe6dNp/fcVzl6uIh9O3KbJqBoclarUX564wLK3t/ofHAYR28NwdKqG9b4DphjWkNUHEpwOEazFbPRQrWzhoKqYnIq8jhWuIe8IwXkV9Xeodc4ZRfPuri0TX+K12+s0+fa8/M58vprjLnv/yjIraDwhCy4CkSh4Vaff4+xKQRs2RuCwqgdo2vav2RjRAyW1t2wtOiAuXkCSkQMBIWcWu5fZisnr7KI7PJcsrM3nhpuKagqwqnIYp+Gah/SgkOb/lvnzy/84ScikpO5+e7+vDlnDU450SjghEda0ckS2sAte4/iwhAagbuytJGvrMfcoi3WhC6YW7TDEB2PJ6wZOkswppMzgEqqS2uHW8pyyD28m7yT88+LLmC5v7hwsSHRWCxBlO/dd0GPOzT3NXq93pXrbk3h4/c2eymdUEtEZBAmk6ygDdyyd7swhsfUr+yNZqyJXbAm1I6f65q1QAmOwHBy/rnD5aCouphDFflklh0k73jBqRWiFXYZClDL6E6XUX4gA4/rwn9C2jN1GinvvE3qkHas/+GIF9IJtTSLCUEv2yUEbtnrdDqMETHYczLO+Pv64HCCWnfH3LID5phWEBmLEhyG0WTFbDRT6aii4OR0xWN5vywmyq8qxN4Ey/3Fhbs4phtFn35Zr8e6q6pInzWLoU/O5PixUrKOljRyOqGWZtEhakfwCYFb9kYzlvhO6MzW2umKzf+33D8Yk8mKQW+gtKacnMoCsspzOX7s4KnZLQXVxaov9xcXLjo4iuyt2+r9+Iq9+8j77DNuvOM63pizhipZcBUQwiNlgSUEctkbjIT2u5ITlUVknxw/zzmx7dQdemlNuc8u9xcXrm9CMkpNDba8hp03m/Xxp4T16sWNd1zMe/PW4pEpe34vJNTPpmF7ScCWPUBmyXGmf/es2jFEExjebiDFv9n4rL72PvEkfea/wxVpSXyzZG+jXFOowxpkQqeXmTgAAf2uRVxoc7UjiCbSJTSR4g2NtHWxy8Xehx8mpX8ruvZs0TjXFKqIbRGGyylDshDgZR9ksmIxmNWOIbws3BJGUHAoZbsab9sDW24+R998k7E3JRMdI2/w+avYlmHoDXJnDwFe9na3gxZhMWrHEF42suMQqjIzUWyNu8q44Ps1lKxdy81398Nk1vjGKn6qZWIEZnNAj1bXWUCXvQ4drSMS1I4hvCy1ZW+Kfl7nlWsffOVVTLYKrr052SvXF94V3ypC7Qg+I6DL3mq0kBTTUe0YwstaBEVTsqX+Uy7PZ8/UabTrEEW/wW299hzCO6KayxDc/wR02et0OpJiOqkdQ3hR99guoChUZ2Z67TlclZUcmP0Mw67sSmKbSK89j2hcYeGyJ86vBXTZQ+2MHKNexuwC1eUdBlG6bYfXn6d89x7yFi7kxjv7ERwqb/r7g7j4MNwu7ZzlcD4BX/YOt5M2kTJuH6h6RLSjeP36JnmurP9+jCPzCDfe0VfmbvuB1u2bYbbIG+v/E/Blb9AZ6NisrdoxhBdYjVZCg8Mp3bGzyZ5zz2OPEx1hZMRV/nOQj1a17xyDXh/wFVdnAf9KWIxmesR2UTuG8ILh7S+hJjcPV0UT7jTqcrH3kUe5aEBrOnePa7rnFRdEr9cR2zJM7Rg+JeDLHqBT83ZqRxBeMCixD8XrmmYI59dsx4+T+Y+3ufaWFJrJbA+f1CIhXMbrf0MTZR9uDiXEFKx2DNHIEoNiG20/nAt1YuUqyjaslwVXPqpV22ayh/1vaOLVcLiddJa7+4DSLrIVRqORyoOHVMuQ8eLLWJxVjLmxt2oZxJl16BqDyST/CP+aJsrearTQNyFZ7RiiEY3sdCllu/eAou6P6rsfmkKHTtFcfEkbVXOI0yW2iVI7gs/RRNnr9XouTuildgzRiJKbdaJorXe2SLgQrspKMp59lsuvTiKhdaTacQQQ1zJMpsaegSbKHmrv7luGyeyJQKDX64kIjqR023a1owBQtmMneUuWcOOdfQkOkQVXauvcPQ6D7HT5O5opez06+rTsoXYM0QiGtknFUVyCo9h3zok99uF/cGYf44bbL0ZW6Kure3I8RqOM1/+WZsrebDRzSeuL1Y4hGsGQ1v0o3rhR7Ri/s+fRGTRvZmbYlbLgSi1BwSaayfkDZ6SZsgdoE5mI1SjnUfq7diEtKdm4We0Yv+dyse+RR+h7SVs6d4tVO40mdegSI/Prz0JTZe90O+kZJ3dd/iwuNAazxUr5vv1qRzmjmuzjHHvnHa69pQ9R0bK2o6l1S47HYjWpHcMnaarsg0xW+iemqB1DNMCojkOpSD+Ax+VSO8pZ5a/4jvItm7n57n4YjZr6FlOVTq+jfSc5d/psNPWVqNPpuCi+p+xx7ccujknyiSmX53Pg+TlYlRqukQVXTaZ9p+Z4PB61Y/gsTZU91Ba+bIzmv6KDoyjd6r1TqRrT7oem0qlLc/oMaK12FE1I6d8as0XOrjgbzZW91Wjhio5D1I4h6qF/Qgru6hpseflqR6kTV3k5Gc89xxXXdJOzUL3MaNLTKSlWfmo/B82VvV6nJ6VlD4KMVrWjiAs0rN0ASlTa+Ky+yrbv4MSyZdx0Zz+CguWNQ2/p0r0FiiJDOOeiubIHcCtuUlvJG7X+pnNYIsUbfG9+/flk/vtDXHnZTJAFV15z0cA2WKwyhHMumiz7IJOVkR2Hqh1DXIBwSxhBQaG1m5/5od0PP0JscyuXjZL3ixpbUIhJDoKvA02WPUBiRAtiQqLVjiHqaFSnS6k6ehTFZlM7Sv24XOyfMYN+g9vRsassuGpM3ZPjUdwyhHM+mi170DG07QC1Q4g6Sm3Ryy+mXJ5LdeYxjs1/l3ETU4hsFqR2nIAx4NL2MgunDjRb9maDiREdBqkdQ9RRi+BoSrb4x5TLc8n/ZgUV27dx8139MMiCqwZr3a4ZwaGyBUpdaPqrzWq00F3m3Pu8nrFd8LgVqjOPqR2lUaT//TmCsJM2Qc5YaKiBwzpglhOp6kTzZT+h+1VqxxDnMbzDYEq3blc7RqPaPWUqXbrFktJfFlzVV2i4hXadmstBJXWk6bLX6XS0b9aGVhHxakcR59Ajoi1F6zeoHaNRucrKOPj884wa240WCeFqx/FLfQe2VTuCX9F02QMY9Qau6zZa7RjiLKxGK6HB4ZTt2Kl2lEZXunUb+V8t5+a7+mENkgVXF0Jv0NF3UFs5VPwCaL7sDXoDfRN6E2WV5ey+6PIOg6jJycVVWal2FK/IfP+fKAW5TLjtIpDRiDpL6tVStka4QJov+/9J6zpC7QjiDC5J6EPRusAawvmtPQ8/QovYYIaOlMkCdXXZqC6yYvYCSdnzv2mYg+UUKx+UGBxDyRb/2g/nQikOB/sem0HqkHZ06BKjdhyf1ykplpAw+V69UFL2vzK8vcy79yXto1pj0BuoPHhI7SheV300k6x//pNxE/sQESULrs5l2FVdscgiqgsmZX+S1Wjh2m4jMejkJfEVIzteSunuPaBo40zRvK+WU7lrhyy4Oof2nZsT1UyOe6wP+Yr6FbPezIgOg9WOIU7qHdWR4rXr1Y7RpNJn/51gg5Orx/dUO4pPujytW722Rvj666+57rrruOaaa0hLS+Pdd99ttEwHDhygS5cufPPNN3X6/E8++YQvvviiXs+1cuVKXn311Xo9Vsr+V6wmCzf2vEbG7n2AUW8kIiSSkm3+v0XChdo7dRpde8TRu2+i2lF8SvvOzet1iHt+fj7PPfcc8+fPZ+nSpSxYsICvvvqKlStXNkquzz//nFGjRvHxxx/X6fO3bt2Kw+Go13MNHz6cBx54oF6PlYGv3zDqjVybNIr/7lqidhRNu7RtKo7iYpwlpWpHaXKO4mIOvfgSo6c+RN7xcvJzytWOpD4djBzTvV539SUlJTidTmwnd0wNCQnh2WefxWKpvalbvnw577//PjabDYfDwTPPPEOfPn2YOHEiPXv2ZMuWLRQXFzNjxgwuvfTS067tdDpZtmwZH330ETfeeCPHjh2jdevaVdHDhg3jmmuu4aeffqKmpobnnnuO8vJyVq1axfr164mJiSEpKYlHH32UnJwcjEYjDz74IEOGDGHevHnk5+eTmZnJ8ePHuf766/nLX/7CwoUL2bhxI88++yzbt29n9uzZ2O12oqKieOqpp2jTps1ZXwe5s/8Ni9HMlZ2HEWmVVY1qGtKqr18eVNJYSjZtouCbb7j5bllwBdAjJaHeb1x37dqV4cOHM2LECMaPH8+cOXNQFIU2bdqgKAoLFizgrbfeYunSpdx11128/fbbpx7rdDr5+OOPmT59+hmHT9asWUN8fDzt2rVjxIgRv7u7j4yM5LPPPuPGG2/kH//4BwMHDmTYsGHcf//9DB48mKeffprU1FSWLVvG3LlzeeSRRygsLAQgPT2d+fPn8+mnn/L2229TXv7LP/oOh4PJkyfz2GOPsXTpUm688UYmT558ztdByv4M9DodN/caq3YMTWsX0oKSTYE95fJ8jr77Hp7CPK7/Yx9NL7gymvSMGlu/u/r/efLJJ1m1ahU33XQTOTk5TJgwgW+//Ra9Xs/rr7/OTz/9xKuvvsqiRYuoqqo69bjBg2vfw+vUqROlpaW/u+7nn3/O1VdfDcCVV17JwoULTxuiOd/j169fz/jx4wFo1aoVvXv3ZseOHQD0798fs9lMdHQ0kZGRVFRUnHrc0aNHCQ8Pp1ev2s30Ro8ezbFjx077nN+Ssj8Dk8HEgFYXER8Wp3YUTWoZGoPJYqV83361o6huz/RHaNkihCGXd1I7imoGDu2A0VT/qlq9ejVfffUVcXFxjBs3jpdffpkZM2bw2WefUVVVxfjx48nOzqZv375MnDjxtMf+b6jnTKt1i4qK+PHHH3nvvfcYNmwYM2bMoLy8nBUrVtTp8QAej+d3v3a73ac99n+P//XnKmeYofbrx56JlP1ZGPVGbu8zQe0YmjSq02VUpKfjcbnUjqI6xWZn/+NPMHBoB9p3bq52nCYXEmap3cbYXP+7eqvVyosvvkh2djZQW4r79u0jKSmJo0ePotPpuOeee+jfvz8rVqw4Z2H+2pIlS0hNTeWHH35g1apVfP/999xzzz0sWLDgnI8zGAynniM1NZXPPvsMgKysLLZu3UpycvJ5n7t9+/aUlpayc2ftnlFfffUV8fHxREZGnvUx8gbtWRj0ero270CX5h1ILwz8RT2+5KLmSRR9slTtGD6j6vBhjn/4AeP/cCtvvbCG8lI/PZqxHi5PS0LfwC2MU1NTue+++7jnnntwOp1A7fDKpEmTMBgMJCUlMXr0aHQ6HYMGDWJLHVdsL1q0iAcffPC0j91yyy28++67HDp09s4YOHAgL730EmFhYTz66KM8/vjjLFy4EIBZs2YRG3v+YyvNZjMvv/wyTz/9NDU1NURERPDyyy+f8zE6z29/jhCneDwe8ipPMHn5U7g92ljYozY9ej4a+xLb/u9B7Pn5asfxKV0fm4E7oQPvvPwTbnfgfz3GtQzjjvsHYTLLzpaNQYZxzkGn0xEVFMk1Xa9QO4pm9G+VgquqSor+DPY/PYtQk5srx/VQO4rX6XRw7a19MMpK4kYjr+R5WI0Wrus2mhahskFVUxjaNlXzs3DOZc/UaXTr3YJeFyWoHcWr+g9pR2RUkJxC1Yik7OvAqDfywIA70Wl5/lsT6RyaqOn59efjKCri8MuvcOW4nsS2DFM7jldERAUxdFSXBk21FL8nZV8HBr2ehPAWDOtwidpRAlqkNZygoBDKdu9RO4pPK16/gcLvvuPmu/sF5J7uY29OxmCQamps8orWkdVo4Y+9x8uJVl40quNQKo8cQbHb1Y7i8468/Q6UFDD+D4G14KpHnwRaJkRI2XuBvKIXwGgw8pd+E8//iaJe+rfoSZHGdrlsiD3THiYhIYxBwzqqHaVRBIWYuHJcDxm+8RIp+wtg1BvoGtOR/okpakcJSHHB0ZRu2ap2DL+h2Oykz5zJoOEdadsxWu04DXbdLTL7xpvklb1AVqOFv/SbSLOgSLWjBJRecUl4XC6qj2WpHcWvVGYc5Ph/PmLCbRcTFmFVO0699b2kLa3aRmE0ypx6b5GyrwezwczUwX9BL6daNZoR7QdRunW72jH8Us7ipVTv38vNd/VDb/C/AfyYFmGMuDpJhm+8TNqqHox6A/Fhcdza61q1owSMbhFtKFq/Qe0YfmvfU7MIsyiMvta/FlwZjXpuvKOvDN80AXmF68lqtHB5xyEkt+iudhS/F2y0EhocTumOnWpH8V+Kwp5p0+iZEk/3lHi109TZ6Ot6EBpmlsVTTUDKvgEsRjN/HXinjN830IiOg6nJycH9q33ExYVzFBRy+NVXSbu+FzEtfH/BVefucXRPicfUgB0tRd1J2TeQ2WBm2uB7Mcj4fb0NjE+haJ1MuWwMRWvXUbT6e265u59Pj4FHx4Rw7S0pDdq6WFwYaagGMuoNtAyL5Zbe16kdxW8lBsdQslmmXDaWw2+8ha6siPET+6gd5YwsViO3/jkVk0lm3jQlKftGYDVauLzDYC6K76l2FL/TMaotBr2BykOH1Y4SUHZPnUZiqzAGDuugdpTT6HQw4baLCQk1N3ifenFhpOwbicVo5oEBd9ImMrB3I2xsV3QaQumu3XCGY9ZE/Sk2G+lPPsmQyzvRpn0zteOcMuLqJBJaR2KUu/omJ2XfiCwGM48N/SuR1nC1o/iN3lEdZYsEL6k8kEHOggVMuP1iQsMt53+Al3VPieeigW18+r2EQCZl34h0Oh3BRiuPX/ZXLAaz2nF8nlFvJCI4gtLt29WOErCOf76Imox0brqzn6rDJi0TI0ib0EvekFWRlH0jMxqMxIZEM2XQPbLC9jwuazcAe1ERzpJStaMEtH0znyIiGEaNVWdNSLPmIUy8J1WKXmXSRl5gNpjp3Lw99/S9Ve0oPm1wq74Ub9ikdozAd3LBVa+LEuiW3LJJnzo03MJt9w2UoRsfIGXvJVajhdRWfZjQ42q1o/istsFxFG/arHYMTXCcKODIvHlcM6E3zeNCm+Q5LVYjt00aSFCwSWbe+AApey+yGi2kdRnB8PaD1I7ic1qGxWKyWKnYn652FM0o/Olnin9Yc3LBlXdnwxiNev7wlwGER1rlIBIfIX8LXmYxWrgt5XqGtZcjDX9tVMfLqNi3H4/LpXYUTTn02hvoq0q57hbvLbjS6XXceGdfmseGypbFPsTnyj47O5thw4b97uNdunRptOf45JNP+OKLLxrteudjMZq5PWWC3OH/ykXNu8qUS5XsnjKN1m0jGDC0faNfW6/Xcf0fLyKxbRQmsxS9L/G5sm8KW7duxeFwNOlzWoxmbku5nss7DG7S5/VFevREh0RRsm272lE0Samu5sDTTzN0ZGdat2u8BVd6g44b7uhL+87NZeaND/KrvxFFUXjmmWdYt24dOp2Oa665hj/96U9s2LCB1157jQ8++ACAhx9+mH79+nHFFVcwefJkCgsLAZg0aRJBQUGsWrWK9evXExMTQ1JSEo8++ig5OTkYjUYefPBBhgwZwrx588jPzyczM5Pjx49z/fXX85e//KVB+S1GM39IHo8OHd8e+qHBr4e/Sm2VgquyEnt+vtpRNKti335yPvmEG+4YzxvPr6GqomGHvBsMem66qy+t2kbJLpY+yif/Vk6cOMGYMWN+9/H//ve/5ObmsnTpUhwOBxMnTqRz584EBQWd8TorVqwgISGBt99+m3379rF06VKmTZvGsGHD6NevH4MHD+aBBx4gNTWV22+/naysLG666SYWL14MQHp6Oh999BEVFRWMGDGCW265hfDwhq2OtRjNTEweh16v5+uM1Q26lr8a2nYAxZu2qB1D87I//Zzw3sncdGdf3pv7M4riqdd1DEY9t9zdj4TWMnTjy3xyGCc2NpYlS5ac9h/Ahg0buPbaazEYDAQFBZGWlsa6devOep2UlBS+++477r33Xnbt2sWkSZN+9znr169n/PjxALRq1YrevXuzY8cOAPr374/ZbCY6OprIyEgqKioa5c9nMZq5pde1jO50WaNcz990Dk2gZKPMr/cFex9/gshQPVdc061ejzea9Ey8J1WK3g/4ZNmfjfKbzbI8Hg9utxudTofH88tdidPpBKBt27YsX76ctLQ0Nm/ezPjx4894jTNdE8Bi+WU/kd8+R0NZjGZu7jWGa7uNbrRr+oMoawTWoBDKdu9RO4oAUBT2TX+Y5L6JJPW+sAVX1iATt00aSMuECCl6P+BXZZ+amsrixYtxu93U1NSwbNky+vfvT1RUFFlZWdjtdkpLS9mypXaI4MMPP2TevHmMHj2aJ554guLiYiorKzEYDKcKPTU1lc8++wyArKwstm7dSnJycpP8eSxGC9cmjWRS/z9q5vCTUZ2GUnn4CIq9YWPEovHYcvM58sbrjLmhN9GxIXV6TGSzIP78tyHEtgiTovcTPjlmfzY33HADR48eZcyYMTidTtLS0rj88ssBuPTSS7nqqqtISEjgoosuAmDs2LFMnjyZtLQ0DAYDU6ZMITw8nIEDB/LSSy8RFhbGo48+yuOPP87ChQsBmDVrFrGxsU32Z7IaLaQmptAiJIZnfnyNGqetyZ5bDf3ielC0dKXaMcRvFK75kcjkZG65uz9vzlmD0+E+6+fGt4rg1j+lYrYa0Ou1cZMSCHSexhybEPXmdDspsZXz5KqXKKguVjuO1/znmpfYOWU6NVlZakcRZ9D7jdfILtbxyT/PvI1F5+5xXHdLiux144fkn2UfYTKYiA6K4vmRj9KxWVu143hF7xbd8LhcUvQ+bM/UabRtH0n/Ie1+93v9Brdl3K1S9P5Kyt6HGPR6QszBPH7ZX0lN9M3zQxtiRLtBlGzdpnYMcQ6uyioOzJ7NZaO70KptFFC7WCptQi+Gje4qc+j9mJS9D7IaLUzq/weu734VOgJnt8BuEW0oXr9B7RjiPCr27CXv88+54Y6+xMWHc9cDg+iREi939H5Oyt5HWYwW0rpezlPD/0ZEABxzGGwKJiQ4jNIdO9WOIuoga8EnuPJz+NPkwcS0CJM7+gAgZe/DrEYLHZq14ZXRT9ArLkntOA1yRYfB1Bw/jruqWu0o4nx0OhLGX0dIQkt0Op1sURwg5G/Rxxn1RkLMwUwZdA8Te4/z2/n4A+KTKVonQzi+zhgWRvcnH6fV9eMwWNQ/pFw0Hv9sDg2yGM1c3nEwz14+nebBjbdTYVNJCG5OyWbZD8eXRV3Uh4veeo3wpK4YrFa144hGJmXvR6xGC4kRLXlx1GP0Teitdpw669isLXq9gcpDh9WOIs7AEGSl04P302Xq3zCGhqI3m9WOJLxA3nXxMwa9gSC9gftTb2dr7h7e3fJfKuyVasc6p5EdL6Vs5y6Q9Xs+J7xbN7pM/RuG4GAMFin5QCZl76csRgsXx/ekd4sk3t/6CWuO+u6pT72iOlCw5L9qxxC/ojOZaHvbH4i7fLiMzWuElL0fMxlMmAwm7uxzI5d3GMK8De+TX1mgdqzTmPVGIoIjyNi2Q+0o4qTIlGQ6/t8kjCHBUvQaInvjBAi34saluFm872sW7/sGt0c5/4OawOUdhnBrwlC23nOf2lE0z9w8mg733kNE927yBqwGyZ19gDDoDRj0BsYkjWRou4HMXf8eGUVH1I7FkFYXU7x2o9oxNE1nNJIw9hoSrx+HzmhEb5Rvey2Sv/UAYzVasIZaeHzoX9mWu5sPdiykoKpItTxtQuLI2PRv1Z5f6yJ69aTT/ZMwhoXJ3bzGSdkHKIvRTN+E3vRp2YM1R9ezYPeyJp+1Ex/WApPJQkX6gSZ9XgEh7drR7u47CO3QXkpeAFL2Ae1/QzuXthvAkLb9+SJ9JUv2f4vN1TSnRI3qdCnl+/bjcbma5PkEWONb0u6O24jo1RO9yYRODhcRJ0nZa4DZYALg6i4jGN35Mj7etYxvD/2AWzn7aUSN4aLmXSn+bolXn0PUMjePps3EW4geOACdwYDeIEcFitNJ2WuIxVi7aOamXmO4ttso/rtzMT9lbsKpNP6dtx49zYKjyNy6vdGvLX5hiYkhYdxYYocNQ6fXoTeZ1I4kfJRMvdSwGqcNj8fDVwdWsfzg6kYd07+kdV/u6TyGzXf8qdGuKX4R0q4drW64nqiLUkAnJS/OT8pe4HA5QAfrsrayeO83HK/Ia/A1Hx18H7E7sjn81tuNkFD8T2RKMq1vuoHgtm1qp1HKcI2oIxnGEZhPDu9c0rovqYl9OFycyWd7v2JX/v56X7NTaAJHNi5qrIiaprdaaX7JQFpNGI8pIhxDUJDakYQfkrIXpxj1Box6A0mxnXgo6s+U2ytZnvE9P2duosxeUefrRAVFYA0KoXz3Hi+mDXxhXTrT4qrRRKf2x6MoGKXkRQPIMI44J7vLgV6n42BxJt8e/IFNx7fjcDvP+Zibeo5huL4du6Y90kQpA4cpIpyYYZcRf9WVGEND0FssMn1SNAope1FnNU4bep2erbm7+e7Qj+w+kc6ZvnxeGTED+5IV5CxZpkJK/2MICaFZ34uJHX4Z4V274FE8GKyyQZloXDKMI+osyFS7ErN/YjLJLZJQPB5+OLqB9dlbSS88jHJy87XY4Gbs3LpNzag+zxQZSbP+fYkddhmhHdqjOF0Yg2WYRniP3NmLBnErbuxuBwadnt35B8guz+XKxAFsvPU2taP5nODWrYhMTiZm2KUEJybicbtlKwPRZKTsRaOyOe2Y0WMvLKR44yZKtmyjYn86ir1ptmjwJdaWLYno1YNmfS8mvHs3dDod6A1yIpRQhZS98BqP243bZkdvMWMvKKR8zx7Kdu+l8sABanJyA+qYQp3BQHCb1oR27Ehkcm8ievU4tdBJ7t6FL5CyF03KVVODDkCno+rIUcp276E68xg12cepycnxi58A9FYrIW1aE9KuLWFdOhPaqRPWli1QHA50er2Uu/BJUvZCVR5FwW2zgQf0FjPu6mpqcnKpOnKEqiNHsRcU4iwpwVFcgrO8vMl+GjBFhGNt0aL2v5YtCG7bhqD4eCzNo9FbLCh2OzqDUWbNCL8hZS98lttmw+N2Azp0ptqtAVw1NbjKynGUlOAoKsJVXYO7uhp3TQ2K3YHbbkOxO1DsdjweT+0OkEYDOoMRncFQ+5/RgN5kwhgWhjm6GeaoKIzh4ZhCQzGEBGOwWvG4XChOJ+h0GKxWmesu/J6UvQgIHkXB43af/H/l5E8AHkBX+z+dDn71n042DxMaI2UvhBAaID+bCiGEBkjZCyGEBkjZCyGEBkjZCyGEBkjZC9GINmzYwMSJExvtemvXrmXUqFG/+/hrr73G3//+90Z7HhH4pOyF8GEDBgzA4XCwe/fu0z6+dOlSxo0bp1Iq4Y9ki2MhmoDL5WLmzJlkZGRQWFhIly5deOmll3C5XEyePJnCwkIAJk2axPDhw089TqfTMXbsWL744gt69OgBwNatW4mIiKBz58788MMPzJ07F5fLRWJiIk8//TRRUVFs2LCBWbNmYTAYSE5O5tChQ3zwwQds3LiRl19+GZvNRnl5OdOnT2fEiBEsW7aMd999F4PBQGJiInPmzMFikdXBgUTu7IVoAtu2bcNkMvHxxx+zYsUKKioqWLNmDStWrCAhIYGFCxcye/ZsNm/e/LvHXnfddSxfvhxFqT0vYPHixYwfP57i4mJefPFF5s+fz+LFixk0aBAvvPACTqeTqVOnMmfOHBYvXozR+Ms93YcffsisWbNYtGgRs2bN4tVXXwXglVde4b333mPhwoUkJCRw+PDhpnlhRJORO3shmkDfvn2JjIzko48+4vDhwxw9epTq6mpSUlJ46aWXyM/PZ+jQoUyaNOl3j01MTKRNmzZs3LiRPn36sHr1aqZOncqmTZvIzc3lD3/4AwCKohAREcGBAweIjo6ma9euAIwfP57Zs2cDMGfOHL7//nu+/vprduzYQVVVFQCXXXYZN910EyNGjGDkyJEkJSU10Ssjmorc2QvRBFauXMlDDz2E1Wrluuuuo2/fvng8Htq2bcvy5ctJS0tj8+bNjB8//tQd/K+NGzeOL774gtWrVzNgwABCQ0Nxu9306dOHJUuWsGTJEj777DPmzp2LwWA44zUAbr75Znbu3EmPHj245557Tn18xowZzJ07l4iICKZMmcKSJUu89loIdUjZC9EE1q1bx+jRoxk3bhzh4eFs2LABt9vNhx9+yLx58xg9ejRPPPEExcXFVFZW/u7xI0eOZP369XzxxRen3pjt3bs327dv58iRIwC88cYbPP/887Rv357y8nLS09MBWLas9izg0tJSjh49ygMPPMCQIUNYuXIlbrcbl8vFFVdcQVRUFH/+858ZM2YM+/bta6JXRjQVGcYRopFt3ryZlJSUU79OS0vjlltu4aGHHuLLL7/EZDLRp08fsrOzufvuu5k8eTJpaWkYDAamTJlCeHj4765ptVoZOHAgGzZsoG/fvgDExMTwzDPP8Ne//hVFUYiLi2POnDmYzWaef/55pk2bhl6vp127dlitViIjIxk/fjxXXXUVRqOR1NRUbDYbDoeD+++/nzvuuAOLxUJ0dDTPPvtsk71eomnIRmhCBBhFUXjhhRe47777CA4O5v333yc/P5+HH35Y7WhCRXJnL0SA0ev1p+7iTSYTCQkJp96gFdold/ZCCKEB8gatEEJogJS9EEJogJS9EEJogJS9EEJogJS9EEJogJS9EEJogJS9EEJogJS9EEJogJS9EEJogJS9EEJogJS9EEJogJS9EEJogJS9EEJogJS9EEJogJS9EEJogJS9EEJogJS9EEJogJS9EEJogJS9EEJogJS9EEJogJS9EEJogJS9EEJogJS9EEJowP8D/ZhYQ0p/mMsAAAAASUVORK5CYII=\n",
      "text/plain": [
       "<Figure size 2160x432 with 1 Axes>"
      ]
     },
     "metadata": {},
     "output_type": "display_data"
    }
   ],
   "source": [
    "h_shotCity.head().plot(kind='pie');\n",
    "sns.set(rc={'figure.figsize':(5,5)})"
   ]
  },
  {
   "cell_type": "markdown",
   "id": "83ded691",
   "metadata": {},
   "source": [
    "# Which race used the highest arms(category)?"
>>>>>>> Stashed changes
   ]
  },
  {
   "cell_type": "code",
<<<<<<< Updated upstream
   "execution_count": 19,
   "id": "e83457da",
=======
   "execution_count": 28,
   "id": "4d86b88f",
   "metadata": {},
   "outputs": [
    {
     "data": {
      "image/png": "iVBORw0KGgoAAAANSUhEUgAABJoAAAJPCAYAAAA0Sr4gAAAAOXRFWHRTb2Z0d2FyZQBNYXRwbG90bGliIHZlcnNpb24zLjMuNCwgaHR0cHM6Ly9tYXRwbG90bGliLm9yZy8QVMy6AAAACXBIWXMAAAsTAAALEwEAmpwYAABmkklEQVR4nO3deXhM5///8dckkwWxS1BFtbaWFkXtsVVtDRVqKymqltbWKrWkQVFqraWU8lGl/RDEVhGtWkrtqSIt6qOk1kgQkpB15veHn/kKSSR6kkl4Pq6rV+XMWd7n5OTMPa+5z31MVqvVKgAAAAAAAOBfcrB3AQAAAAAAAHg8EDQBAAAAAADAEARNAAAAAAAAMARBEwAAAAAAAAxB0AQAAAAAAABDEDQBAAAAAADAEARNAAAAAAAAMITZ3gVktuvXY2SxWO1dBgAAAAAAQI7n4GBSwYJ5Un39sQ+aLBYrQRMAAAAAAEAW4NY5AAAAAAAAGIKgCQAAAAAAAIZ47G+dAwAAsFqtio6+odu3o2WxJNm7nBzJbHZWwYLucnSk+QgAAFJHSwEAADz2rl8Pl8lkUqFCReXoaJbJZLJ3STmK1WpVTMxNXb8eriJFitu7HAAAkI1x6xwAAHjsxcfHqkCBwjKbnQiZHoHJZFKePPmUmBhv71IAAEA2R9AEAACeAFaZTDR7/g0COgAAkB60uAAAAAAAAGAIgiYAAAAAAAAYgqAJAAAAAAAAhuCpcwAAAJnkt98Oadas6cqVK5du376lF1+sopMnT+j27VuyWq36+GNfvfRSVd26dUtffDFVR48ekdnsqAYNGqlPn/eUmJio+fNn6/fff1NSkkXly1fQkCEfKU8eN3vvGgAAQIoImgAAADLRmTOn5e+/XhER4Vqx4jstWLBEDg4OWrbsGy1fvlRTplTV4sVfKS4uTt99t0oWi0UffPC+Dh8O1pEjh+XoaNbixctlMpm0YMGXmj9/rj76aIS9dwsAACBFBE0AAACZyMOjqIoVK65ixYqrT598Wr8+QBcunNfhw8HKnTu3JOnQoQMaMOADOTo6ytHRUXPnLpQkzZ8/W1FR0Tp4cL8kKTExQQUKFLTbvgAAADwMQRMAAEAmypUrlyRpz57dmjVrmjp37qYGDRqqdOlntGVLoCTJ0dFRJpPJtkxY2GW5uroqKcmiwYOHqk6depKkW7duKT4+Put3AgAAIJ0YDBwAACALHDy4X/XqNVC7dh1UseLz2rVrhywWiySpRo1XtHnzD7JYLIqPj5ev78f6/fffVKtWHQUE+CshIUEWi0Wffz5BCxbMtet+AAAApIWgCQAAIAu88UZ7HT4cLB+fTurVq5ueeuppXbp0URaLRT179pGTk5N69OiiXr3eUp069dSwYRP16PGOihV7Sj17vqVu3d6UZNWAAUPsvSsAAACpMlmtVqu9i8hMV69Gy2J5rHcRAAA8xOXLoSpWrLS9y8jxOI4AAMDBwaTChVN/Ai49mgAAAAAAAGAIgiYAAAAAAAAYgqAJAAAAAAAAhiBoAgAAAAAAgCEImgAAAAAAAGAIgiYAAAAAAAAYwmzvAnKigvmdZXZ2Sff8ifFxun4jPhMrAgAAGZU3n6tcXZwMX29sXIKibsYavl4AAICcgKDpEZidXRQ8pXe6568+fJEkgiYAALITVxcndR3+neHr/X7KW4pS+oOmv//+n3x8OmvChM/VqFHTVOdbt261JOmNNzr86xoBAAAyC0ETAACAHW3atEGNG7+q9esD0gyaCJgAAEBOQNAEAABgJ4mJifrxxyB9+eXX6t+/ly5cOK8SJZ7W3Llf6ODB/XJwMKlBg0bq1auPFi9eIEl6552+WrNmpYKCAhUbe1tOTk4aO3aiSpV6Rh06eKl581Y6cGCvbt+Ola/vOFWs+Lyd9xIAADxJGAwcAADATvbs2a1ixYqpVKnSatCgkdavD9Dly5e0b98eLV36X82f/x+dPXtGcXFxtmViYqL1yy87NXfuAi1b5q+6dRtozRp/2+v58+fX119/qzfe8NayZf+xx24BAIAnGEETAACAnQQGbtCrrzaXJDVt2kyBgRtVuHARubi4qH//Xlq16r/q33+gXFz+7yEkefK4aezYCdq69Ud99dVc/frrL7p9+7bt9Vq16kqSnn22rG7evJm1OwQAAJ543DoHAABgB9evX9O+fXt08uQJrVq1QlarVVFRN7Vz5zYtXPiNfv/9N+3d+6v69eupOXMW2pYLC7usgQP7qn37jqpdu64KFSqsU6dO2l53dna2/dtqtWbpPgEAABA0AQAA2EFQUKCqV39F06fPtk1bvHiBpk79TGvW+GvOnAWqXr2mTp06qX/+CbXNc+LEn3r66ZLq1OktxcXFatGir1S0aFF77AIAAMADCJoAAMATKTYuQd9PeStT1psemzdvVJ8+7yeb5u3dUd9//60KFy4iH59OcnV11YsvVlHt2nV18uRxSVLNmrW1du1qdev2pqxWq6pWfVl//33a8P0AAAB4FCbrY96n+urVaFksxu6iu3teBU/pne75qw9fpPDwKENrAAAA6Xf5cqiKFStt7zJyPI4jAABwcDCpcGG31F/PwloAAAAAAADwGCNoAgAAAAAAgCEImgAAAAAAAGAIgiYAAAAAAAAYgqAJAAAAAAAAhiBoAgAAAAAAgCEImgAAwBOpYH5nubvnNfy/gvmdH7rtIUPe0y+/7LD9PHfuF2rWrIESEhJs09q2baEOHbx06dLFB5afPHm8Tpz4U9HR0Ro58iNDjgcAAIARzJm58ujoaHXu3FlfffWVnn76adv05cuXa8uWLVq2bJkk6fjx4xo9erRiYmJUo0YNjRs3TmazWRcvXtSwYcN09epVlSlTRtOmTVOePHkys2QAAPCEMDu7KHhKb8PXW334Iknxac9TvaaOHTsiT89GkqRDhw6oUqUXdfTo76pevabOnz+nXLlyKTExMcXlR4z4RJJ06dJFnTp10sjyAQAA/pVM69F05MgRdenSRWfPnk02/X//+58WLlyYbNqwYcPk5+enLVu2yGq1yt/fX5I0btw4de3aVUFBQapcubLmzZuXWeUCAABkmbtBkyRFRITLyclJjRo11f79eyVJR44cVs2atSVJS5Z8rZ49u6pLF2/98UeIJGnAgD767bdD+uKLqYqICLf1atq8+Qf16vWWevToqkmTPlVcXJwd9g4AADzJMi1o8vf315gxY+Th4WGbFh8fLz8/Pw0aNMg27cKFC4qNjVXVqlUlSd7e3goKClJCQoIOHjyo5s2bJ5sOAACQ01Wo8LwuXDivuLg47d+/V6+8UluvvFJbBw7sk3Q3aKolSXrmmWe1ZMn36tChk/7732XJ1jNkyDAVKeKuSZOm6e+/T2vjxnWaP/8/+uab71WwYKEH5gcAAMhsmXbr3MSJEx+YNn36dLVv3z7ZbXRXrlyRu7u77Wd3d3eFhYXp+vXrcnNzk9lsTjY9owoXdnuE6o3n7p7X3iUAAPDEunLFQWZz1g1N+bBtmc0Oqlz5RZ06dUIHD+5Thw4dVapUScXFxerWrWj98ccxDR06TJLUuHFjmc0OKlu2rHbu3C6z2UEmk0mOjg5ydHSwre/IkWCdP39O/fr1lCQlJCSoQoWKhu63g4MDbRoAAJCmTB2j6V6//vqrLl26pJEjR2r//v226RaLRSaTyfaz1WqVyWSy/f9e9/+cHlevRstisT564Sl4lAZWeHiUoTUAAID0s1gsSky0ZNn20rOtatVq6PffD+uPP/6Qr29lJSZaVL36K9qxY7vy5csvF5fc/39OByUmWpSUZLXth9VqVVKSRUlJFtv2EhKS1KTJqxoy5E5AdevWLSUlJRm63xaLhTYNAABPOAcHU5qderLsq70ffvhBp06dUtu2beXr66uQkBANGTJExYoVU3h4uG2+iIgIeXh4qFChQoqKilJSUpIkKTw8PNlteAAAADlZjRo1FRQUqOeee87Wg7tmzVpasWK57ba5h3F0dLS1lapVq65fftmh69evyWq1avr0SfL3/z7T6gcAAEhJlgVNkyZN0ubNm7V+/XpNmDBBlStX1hdffKESJUrIxcVFwcHBkqT169fL09NTTk5OqlGjhgIDAyVJ69atk6enZ1aVCwAAkKmefbasbt68YRv0W7ozSHho6Nl0B02FChVW0aLFNHBgX5UrV149e76rQYP6qXv3jkpKsqhbtx6ZVD0AAEDKTFar1dj7yu7TpEkTffvtt8nGZdq/f7/mzp2rZcvuDFB54sQJ+fr6Kjo6WpUqVdKkSZPk7OysCxcuaMSIEbp69aqKFy+uGTNmKH/+/BnafmbdOpeRxyFXH76IbuYAANjR5cuhKlasdLJpBfM7y+zsYvi2EuPjdP1GvOHrzQ5SOo4AAODJ8rBb5zI9aLI3giYAAEBAYgyOIwAAyDZjNAEAAAAAAODxRtAEAAAAAAAAQxA0AQAAAAAAwBAETQAAAAAAADAEQRMAAAAAAAAMYbZ3AQAAAPaQL7+LXJydDV9vXHy8bt6IM3y9AAAAOQFBEwAAeCK5ODurx5LBhq/3m56zJKUdNF26dFEDB/bV6tUbk02vX7+GJk+erhMnjqt3736G13aviIhwTZ48XtOmzc7U7QAAgCcLQRMAAEA2Ur9+Q9Wv3zDTt1OkiDshEwAAMBxBEwAAQDYSGLhRhw8Ha/TosZo79wsdPLhfDg4mNWjQSL169dHixQsUFnZZZ8+e0Y0bkWrb1ltdu/ooJiZakyaNV3j4FUVEhKtGjVc0YsQnOnw4WMuWLZGrq6vOnj2j554rqzFjJioiItzWq+ry5Uv67LNxun79mlxdXfXxx5+obNly9j4UAAAgByJoAgAAsIOIiHD16NE11dcvX76kffv2aPlyf8XGxuqzz8YpLu7OLXknTx7X/Pn/kcVi0TvvdFP16q/on3/Oqly58pow4XMlJCSoW7c3dfLkCUlSSMhRfffdahUp4q6+fXto//69eu65srZtTZ8+WQ0bNlH79h21d+9uLV26WOPHT87cAwAAAB5LBE0AAAB2UKSIu7755vtk0+rXr5HsdRcXF/Xv30t16zZQ//4D5eLiIkl69dXmyp079/9fxlPBwQfVtWt3/flniPz9v///vZ1u6PbtW5KkMmWek4dHUUlS6dJlFBV1M9l2f//9N40dO1GSVKdOfdWpUz9zdhoAADz2HOxdAAAAAB5kNpu1cOE36t27v27cuKF+/Xrqn39CJUmOjo62+SwWq8xmR61evULz5s1WgQIF1aFDJ5UpU0ZWq1WS5HzP0/VMJpNt+l2Ojv/33aPVatWZM39n5q4BAIDHGEETAABANvTXXyc0YEAfValSTQMGDNEzzzxrC5p++WWH4uPjdfPmTf366y+qWbO2Dh7crzZtvPXaay0VHx+vU6f+ksViSde2qlatpq1bf5QkHTq0X1OmTMy0/QIAAI83bp0DAABPpLj4eH3Tc1amrNcI5ctXVOXKL8nHp5NcXV314otVVLt2XZ08eVwuLi56//3eiomJUffuPVWmzLPq2LGrpk2bpOXLlyhPHjdVrvySLl26qBIlnn7otj74YLg+/3yC1q5d/f8HA/c1ZB8AAMCTx2S9v+/0Y+bq1WhZLMbuort7XgVP6Z3u+asPX6Tw8ChDawAAAOl3+XKoihUrbe8yDLF48QJJ0jvv9M3ybT9OxxEAADwaBweTChd2S/31LKwFAAAAAAAAjzFunQMAAMhB7NGTCQAAIL3o0QQAAAAAAABDEDQBAAAAAADAEARNAAAAAAAAMARBEwAAAAAAAAzBYOAAAOCJVCCvs5xcXQxfb0JsnCKj4tOc57ffDunjjz9QiRIlZbValZiYoLZt26tjxy7q0MFLc+YsUPHiT2VouwMG9FGvXn308ss1/k35AAAA/wpBEwAAeCI5uboo0Ken4ett9e0S6SFBkyRVqPC85s5dKEm6dStG3bp1VM2atQyvBwAAICsRNAEAANhZXFycHBwc5ObmZpsWExOtSZPGKzz8iiIiwlWjxisaMeITSdL8+XP0yy87ZDY7qk0bb3Xs2MW23PXr1zRoUD/16fOeGjRolNW7AgAAnnAETQAAAHZw8uRx9ejRVVarRefPn1OTJs1UpIi77fU9e3arXLnymjDhcyUkJKhbtzd18uQJXbx4QceOHdG3365QYmKi3nuvt5o2bSbpTjg1bNgQ9erVh5AJAADYBUETAACAHdx761xMTLSGDh2k5cu/sb3erFkL/flniPz9v9fZs2d048YN3b59S7//HqwmTZrJ2dlZzs7O+uab723LTJ06SYUKFVbDhk2yencAAAAk8dQ5AAAAu8uTx01NmjTTsWNHbNNWr16hefNmq0CBgurQoZPKlCkjq9Uqs9ksk+n/lr106aJu374tSXrrLR8VKFBAa9euzupdAAAAkETQBAAAYHdJSUk6fDhY5ctXtE07eHC/2rTx1muvtVR8fLxOnfpLFotFVaq8rB07tikxMVGxsbEaOnSgwsOvSJLKlaugoUNHaMmSr23TAAAAshK3zgEAANjB3TGaTCYpMTFRZcuW11tvva2goE2SpI4du2ratElavnyJ8uRxU+XKL+nSpYvy8npDJ078qV693pLFYtWbb3ZRqVKlbestWbKUvL3f1IwZUzRp0jR77R4AAHhCmaxWq9XeRWSmq1ejZbEYu4vu7nkVPKV3uuevPnyRwsOjDK0BAACk3+XLoSpWrHSyaQXyOsvJ1cXwbSXExikyKt7w9WYHKR1HAADwZHFwMKlwYbdUX6dHEwAAeCJFRsVLj2kgBAAAYC+M0QQAAAAAAABDEDQBAAAAAADAEARNAAAAAAAAMARBEwAAAAAAAAxB0AQAAAAAAABD8NQ5AADwRMqfL5ecXYxvCsXHJerGzduGrxcAACAnIGgCAABPJGcXsz4bvdrw9Y6a2CFd8926dUvz58/RgQN75eqaS3ny5FGvXn1Uo8Yr2rBhrXLlyqVmzVpo4sSxqlatulq18jK8VgAAAKMRNAEAAGQxq9Wqjz/+QOXKldfy5avk5OSkv/46oWHDhmjMmAk6duyIqlWrbu8yAQAAMoygCQAAIIsdPhysy5cva/bsr2QymSRJ5ctX1Ntvv6MhQ95TnjxuCg4+qMKFi0iS9uzZrbVrV+natWvy8emltm29devWLc2Y8bn+/vu0LBaL3nrLR82atVBg4EZt3vyDbtyIVL16nurb93177ioAAHjCEDQBAABksRMn/lTFis/bQqa7qlatJlfXXKpf31PVqlVXrVp1tHXrFsXHx2vhwqU6c+a0Bg3qp7ZtvbV06WJVqPC8fH3HKSYmWv369dILL1SWJIWHX9Hy5atkNtPUAwAAWYvWBwAAQJYzKSkp6YGpCQmJui97kiQ1aNBQJpNJZco8p8jISEnSoUMHFBcXq02bNkiSYmNjdebM35Lu9I4iZAIAAPZACwQAACCLVapUWatXr1BiYmKyQCgk5KgqVnzhgfkdHR0lKVkPKIslSZ98Ml4VKlSUJF27dlX58uXXjz9ulouLSybvAQAAQMoc7F0AAADAk6ZKlWoqU+Y5zZo1XYmJiZKkEyeO69tvF+vtt9+Ro6Njij2e7vXyyzW1bt2dp+ZFRETo7be7KCzscqbXDgAAkBZ6NAEAgCdSfFyiRk3skCnrTY/PPpuihQvnqXv3jnJ0dFTevPn0ySfj9fLLNXTt2lUtWDBPbm5uqS7fq9e7mj79c3Xv3lEWi0XvvTdIJUo8rSNHDhu1KwAAABlmslqtVnsXkZmuXo2WxWLsLrq751XwlN7pnr/68EUKD48ytAYAAJB+ly+Hqlix0vYuI8fjOAIAAAcHkwoXTv3LMG6dAwAAAAAAgCEImgAAAAAAAGAIgiYAAAAAAAAYgqAJAAAAAAAAhiBoAgAAAAAAgCEImgAAAAAAAGAIgiYAAPBEyp/PWe7ueQ3/L38+54du+9Kli6pfv4YOHtyXbHqHDl66dOliqssNHNjX9u8ePbo++s4DAABkErO9CwAAALAHZxcXzRjZ9+EzZtCHkxZIin/ofGazWZ9/PlHffrtCuXPnSde6Dx8Otv37m2++f9QSAQAAMg09mgAAAOygSBF31axZS3PmfJFselJSkj7/fIL69u2pN99sq5EjhyouLlZffDFVkvTuu29LkurXr6HExES1bdtC165dlSTdvHlDbdu2UGJiovbt26N33/VRz55dNWrUMN24EZmVuwcAAJ5QBE0AAAB2MmDAEB04sDfZLXQREeEym520YMESrVy5VlFRUdq791cNGTJMkvT110tt85rNZjVu/Kq2b98qSdqxY5s8PRsrKipKX301V9Onz9WSJd/rlVdqa/78OVm7cwAA4InErXMAAAB2kiePmz7+2Nd2C50kFS1aTO3addCaNf7655+zOn/+nG7fvp3qOpo3b6nZs2eofftO2rp1i/r0eU9//hmisLDLGjSonyTJYklSvnz5s2SfAADAk42gCQAAwI5eeaV2slvodu/+RZs2bdCbb3ZWq1ZtFBkZKavVmuryzz9fSVFRN3X8+B+6cuWKKld+Sbt27dBLL1XR55/PlCTFxcWlGVYBAAAYhVvnAAAA7OzuLXRXr0bo0KH9atLkVbVu3UZubm46fDhYFkuSJMnR0VGJiYkPLN+sWQtNnfqZmjVrLkl64YXK+uOPY/rnn1BJ0jffLNKXX36RZfsDAACeXARNAAAAdnb3FrqEhAT16fO+tm7dIh+fTvrkkxF68cWXdPHiRUlS/fqe6tGjq+Li4pIt37x5K5069Zdee62lJKlw4SIaMcJPfn4j5ePTSX/9dVIDBgzJ6t0CAABPIJM1rb7Yj4GrV6NlsRi7i+7ueRU8pXe6568+fJHCw6MMrQEAAKTf5cuhKlasdLJp+fM5y9nFxfBtxcfF6cbNeMPXmx2kdBwBAMCTxcHBpMKF3VJ9nTGaAADAE+lOGPR4BkIAAAD2kqm3zkVHR+v111/X+fPnJUkrV67U66+/Li8vL40cOVLx8Xcad8ePH5e3t7eaN2+u0aNH28YeuHjxot566y21aNFC/fv3V0xMTGaWCwAAAAAAgH8h04KmI0eOqEuXLjp79qwk6cyZM1q8eLFWrFihDRs2yGKx6Pvvv5ckDRs2TH5+ftqyZYusVqv8/f0lSePGjVPXrl0VFBSkypUra968eZlVLgAAAAAAAP6lTAua/P39NWbMGHl4eEiSnJ2dNWbMGLm5uclkMql8+fK6ePGiLly4oNjYWFWtWlWS5O3traCgICUkJOjgwYNq3rx5sukAAAAZZ5LVarF3ETnaYz6sJwAAMEimjdE0ceLEZD+XKFFCJUqUkCRdu3ZN3333nSZNmqQrV67I3d3dNp+7u7vCwsJ0/fp1ubm5yWw2J5ueUWkNUJWV3N3z2rsEAACeWLduuenmzWvKn7+gHB3NMplM9i4pR7FarYqKuqk8eXLTpgEAAGnK8sHAw8LC1Lt3b7Vv3161atVScHBwssae1WqVyWSy/f9ej9IozKynzmUUT50DAMB+cuUqqKSkG7py5ZIsliR7l5Mjmc3OKljQnTYNAABPuGz11LnTp0+rd+/e6t69u3r16iVJKlasmMLDw23zREREyMPDQ4UKFVJUVJSSkpLk6Oio8PBw2214AAAAGWEymZQ3bwHlzVvA3qUAAAA81jL1qXP3io6O1jvvvKPBgwfbQibpzi11Li4uCg4OliStX79enp6ecnJyUo0aNRQYGChJWrdunTw9PbOqXAAAAAAAAGRQlgVNq1evVkREhJYsWaK2bduqbdu2mjVrliRp2rRpmjRpklq0aKFbt27Jx8dHkjRmzBj5+/urVatWOnTokIYMGZJV5QIAAAAAACCDTNbH/BEimTVGU/CU3umev/rwRYxnAAAAAAAAcryHjdGUZT2aAAAAAAAA8HgjaAIAAAAAAIAhCJoAAAAAAABgCIImAAAAAAAAGIKgCQAAAAAAAIYgaAIAAAAAAIAhCJoAAAAAAABgCIImAAAAAAAAGIKgCQAAAAAAAIYgaAIAAAAAAIAhCJoAAAAAAABgCIImAAAAAAAAGIKgCQAAAAAAAIYgaAIAAAAAAIAhCJoAAAAAAABgCIImAAAAAAAAGIKgCQAAAAAAAIYgaAIAAAAAAIAhCJoAAAAAAABgCIImAAAAAAAAGIKgCQAAAAAAAIYgaAIAAAAAAIAhCJoAAAAAAABgCIImAAAAAAAAGIKgCQAAAAAAAIYgaAIAAAAAAIAhCJoAAAAAAABgCIImAAAAAAAAGIKgCQAAAAAAAIYgaAIAAAAAAIAhCJoAAAAAAABgCIImAAAAAAAAGIKgCQAAAAAAAIYgaAIAAAAAAIAhCJoAAAAAAABgCIImAAAAAAAAGIKgCQAAAAAAAIYgaAIAAAAAAIAhCJoAAAAAAABgCIImAAAAAAAAGIKgCQAAAAAAAIYgaAIAAAAAAIAhCJoAAAAAAABgCIImAAAAAAAAGIKgCQAAAAAAAIYgaAIAAAAAAIAhCJoAAAAAAABgCIImAAAAAAAAGIKgCQAAAAAAAIYgaAIAAAAAAIAhCJoAAAAAAABgCIImAAAAAAAAGIKgCQAAAAAAAIYgaAIAAAAAAIAhCJoAAAAAAABgCIImAAAAAAAAGIKgCQAAAAAAAIYgaAIAAAAAAIAhCJoAAAAAAABgCIImAAAAAAAAGIKgCQAAAAAAAIYgaAIAAAAAAIAhMjVoio6O1uuvv67z589Lkvbs2SMvLy+99tprmjlzpm2+48ePy9vbW82bN9fo0aOVmJgoSbp48aLeeusttWjRQv3791dMTExmlgsAAAAAAIB/IdOCpiNHjqhLly46e/asJCk2NlajRo3SvHnzFBgYqJCQEO3cuVOSNGzYMPn5+WnLli2yWq3y9/eXJI0bN05du3ZVUFCQKleurHnz5mVWuQAAAAAAAPiXMi1o8vf315gxY+Th4SFJOnr0qEqXLq2SJUvKbDbLy8tLQUFBunDhgmJjY1W1alVJkre3t4KCgpSQkKCDBw+qefPmyaYDAAAAAAAgezJn1oonTpyY7OcrV67I3d3d9rOHh4fCwsIemO7u7q6wsDBdv35dbm5uMpvNyaZnVOHCbo+4B8Zyd89r7xIAAAAAAAAyVaYFTfezWCwymUy2n61Wq0wmU6rT7/7/Xvf/nB5Xr0bLYrE+euEpeJTQKDw8ytAaAAAAAAAAspqDgynNTj1Z9tS5YsWKKTw83PZzeHi4PDw8HpgeEREhDw8PFSpUSFFRUUpKSko2PwAAAAAAALKnLAuaqlSpojNnzig0NFRJSUn64Ycf5OnpqRIlSsjFxUXBwcGSpPXr18vT01NOTk6qUaOGAgMDJUnr1q2Tp6dnVpULAAAAAACADMqyW+dcXFw0efJkDRw4UHFxcWrYsKFatGghSZo2bZp8fX0VHR2tSpUqycfHR5I0ZswYjRgxQvPnz1fx4sU1Y8aMrCoXAAAAAAAAGWSyWq3GDmCUzWTWGE3BU3qne/7qwxcxRhMAAAAAAMjxss0YTQAAAAAAAHi8ETQBAAAAAADAEARNAAAAAAAAMARBEwAAAAAAAAxB0AQAAAAAAABDEDQBAAAAAADAEARNAAAAAAAAMARBEwAAAAAAAAxB0AQAAAAAAABDEDQBAAAAAADAEARNAAAAAAAAMARBEwAAAAAAAAxB0AQAAAAAAABDEDQBAAAAAADAEARNAAAAAAAAMARBEwAAAAAAAAxB0AQAAAAAAABDEDQBAAAAAADAEARNAAAAAAAAMARBEwAAAAAAAAxB0AQAAAAAAABDEDQBAAAAAADAEARNAAAAAAAAMARBEwAAAAAAAAxB0AQAAAAAAABDEDQBAAAAAADAEARNAAAAAAAAMARBEwAAAAAAAAxB0AQAAAAAAABDEDQBAAAAAADAEARNAAAAAAAAMARBEwAAAAAAAAxB0AQAAAAAAABDEDQBAAAAAADAEARNAAAAAAAAMARBEwAAAAAAAAxB0AQAAAAAAABDEDQBAAAAAADAEARNAAAAAAAAMARBEwAAAAAAAAxB0AQAAAAAAABDEDQBAAAAAADAEARNAAAAAAAAMARBEwAAAAAAAAxB0AQAAAAAAABDEDQBAAAAAADAEARNAAAAAAAAMARBEwAAAAAAAAxB0AQAAAAAAABDEDQBAAAAAADAEARNAAAAAAAAMARBEwAAAAAAAAxB0AQAAAAAAABDEDQBAAAAAADAEARNAAAAAAAAMARBEwAAAAAAAAxB0AQAAAAAAABDEDQBAAAAAADAEARNAAAAAAAAMARBEwAAAAAAAAxB0AQAAAAAAABDEDQBAAAAAADAEHYJmtavX6/WrVurdevW+vzzzyVJe/bskZeXl1577TXNnDnTNu/x48fl7e2t5s2ba/To0UpMTLRHyQAAAAAAAHiILA+abt++rYkTJ2rZsmVav369Dh06pG3btmnUqFGaN2+eAgMDFRISop07d0qShg0bJj8/P23ZskVWq1X+/v5ZXTIAAAAAAADSIcuDpqSkJFksFt2+fVuJiYlKTEyUm5ubSpcurZIlS8psNsvLy0tBQUG6cOGCYmNjVbVqVUmSt7e3goKCsrpkAAAAAAAApIM5qzfo5uamwYMHq2XLlsqVK5dq1qypK1euyN3d3TaPh4eHwsLCHpju7u6usLCwrC4ZAAAAAAAA6ZCuoCksLExFixZNNu1///ufypYtm+ENnjhxQmvWrNH27duVN29effTRRzp79qxMJpNtHqvVKpPJJIvFkuL0jChc2C3DNWYGd/e89i4BAAAAAAAgU6UZNEVGRkqS3n33XS1btkxWq1WSlJiYqAEDBjzSbWy7d+9WnTp1VLhwYUl3bodbvHixHB0dbfOEh4fLw8NDxYoVU3h4uG16RESEPDw8MrS9q1ejZbFYM1xnWh4lNAoPjzK0BgAAAAAAgKzm4GBKs1NPmmM0DR06VLVr19Zff/2lWrVqqXbt2qpdu7YaNWqkSpUqPVJBFStW1J49e3Tr1i1ZrVZt27ZNVapU0ZkzZxQaGqqkpCT98MMP8vT0VIkSJeTi4qLg4GBJd55W5+np+UjbBQAAAAAAQOZKs0fT4sWLJUkjR47UpEmTDNlg/fr19eeff8rb21tOTk568cUXNXDgQNWrV08DBw5UXFycGjZsqBYtWkiSpk2bJl9fX0VHR6tSpUry8fExpA4AAAAAAAAYy2S9ez/cQ1y4cEE3btzQvbM/aq+mrJRZt84FT+md7vmrD1/ErXMAAAAAACDHe9itc+kaDHz27NlavHixbVwlSTKZTPr555//fYUAAAAAAAB4LKQraFq3bp1+/PHHB548BwAAAAAAANyV5mDgdxUvXpyQCQAAAAAAAGlKV4+mOnXqaMqUKWratKlcXV1t03PCGE0AAAAAAADIGukKmgICAiRJQUFBtmmM0QQAAAAAAIB7pSto2rZtW2bXAQAAAAAAgBwuXUHTkiVLUpzes2dPQ4sBAAAAAABAzpWuoOmvv/6y/Ts+Pl4HDx5UnTp1Mq0oSAXyOsvJ1SXd8yfExikyKj4TKwIAAAAAAEhbuoKmSZMmJfs5LCxMo0ePzpSCcIeTq4sCfdLfY6zVt0skgiYAAAAAAGBHDo+yUNGiRXXhwgWjawEAAAAAAEAOluExmqxWq0JCQlS4cOFMKwoAAAAAAAA5T4bHaJKk4sWLa/jw4ZlSEAAAAAAAAHKmDI3RdOHCBSUmJqp06dKZWhQAAAAAAABynnQFTaGhoXrvvfd05coVWSwWFSxYUAsWLNBzzz2X2fUBAAAAAAAgh0jXYOCffvqpevfurYMHDyo4OFj9+/fXuHHjMrs2AAAAAAAA5CDpCpquXr2qdu3a2X5u3769rl+/nmlFAQAAAAAAIOdJV9CUlJSkyMhI28/Xrl3LrHoAAAAAAACQQ6VrjKZu3bqpU6dOatmypUwmkwIDA/X2229ndm0AAAAAAADIQdLVo6lhw4aSpISEBJ0+fVphYWFq1qxZphYGAAAAAACAnCVdPZpGjBiht956Sz4+PoqLi9N///tfjRo1Sl9//XVm1wcAAAAAAIAcIl09mq5fvy4fHx9JkouLi3r06KHw8PBMLQwAAAAAAAA5S7oHAw8LC7P9HBERIavVmmlFAQAAAAAAIOdJ161zPXr00BtvvKEGDRrIZDJpz549Gj58eGbXBgAAAAAAgBwkXUFThw4dVLlyZe3bt0+Ojo565513VL58+cyuDQAAAAAAADlIuoImSapYsaIqVqyYmbUAAAAAAAAgB0vXGE0AAAAAAADAwxA0AQAAAAAAwBAETQAAAAAAADAEQRMAAAAAAAAMQdAEAAAAAAAAQxA0AQAAAAAAwBAETQAAAAAAADAEQRMAAAAAAAAMQdAEAAAAAAAAQxA0AQAAAAAAwBAETQAAAAAAADAEQRMAAAAAAAAMQdAEAAAAAAAAQxA0AQAAAAAAwBAETQAAAAAAADAEQRMAAAAAAAAMQdAEAAAAAAAAQxA0AQAAAAAAwBAETQAAAAAAADAEQRMAAAAAAAAMQdAEAAAAAAAAQxA0AQAAAAAAwBAETQAAAAAAADAEQRMAAAAAAAAMQdAEAAAAAAAAQxA0AQAAAAAAwBAETQAAAAAAADAEQRMAAAAAAAAMQdAEAAAAAAAAQxA0AQAAAAAAwBAETQAAAAAAADAEQRMAAAAAAAAMQdAEAAAAAAAAQxA0AQAAAAAAwBAETQAAAAAAADAEQRMAAAAAAAAMQdAEAAAAAAAAQ9glaNq2bZu8vb3VsmVLTZgwQZK0Z88eeXl56bXXXtPMmTNt8x4/flze3t5q3ry5Ro8ercTERHuUDAAAAAAAgIfI8qDp3LlzGjNmjObNm6cNGzbozz//1M6dOzVq1CjNmzdPgYGBCgkJ0c6dOyVJw4YNk5+fn7Zs2SKr1Sp/f/+sLhkAAAAAAADpkOVB008//aRWrVqpWLFicnJy0syZM5UrVy6VLl1aJUuWlNlslpeXl4KCgnThwgXFxsaqatWqkiRvb28FBQVldckAAAAAAABIB3NWbzA0NFROTk7q16+fLl26pEaNGqlcuXJyd3e3zePh4aGwsDBduXIl2XR3d3eFhYVldckAAAAAAABIhywPmpKSknTo0CEtW7ZMuXPnVv/+/eXq6iqTyWSbx2q1ymQyyWKxpDg9IwoXdjOs9n/D3T3vY7ENAAAAAACA1GR50FSkSBHVqVNHhQoVkiS9+uqrCgoKkqOjo22e8PBweXh4qFixYgoPD7dNj4iIkIeHR4a2d/VqtCwWqzHF/3+PEuiEh0dlu20AAAAAAABkhIODKc1OPVk+RlPjxo21e/du3bx5U0lJSdq1a5datGihM2fOKDQ0VElJSfrhhx/k6empEiVKyMXFRcHBwZKk9evXy9PTM6tLBgAAAAAAQDpkeY+mKlWqqHfv3uratasSEhJUr149denSRc8++6wGDhyouLg4NWzYUC1atJAkTZs2Tb6+voqOjlalSpXk4+OT1SUDAAAAAAAgHbI8aJKkDh06qEOHDsmm1alTRxs2bHhg3ooVK2r16tVZVRoAAAAAAAAeUZbfOgcAAAAAAIDHE0ETAAAAAAAADEHQBAAAAAAAAEMQNAEAAAAAAMAQBE0AAAAAAAAwBEETAAAAAAAADEHQBAAAAAAAAEMQNAEAAAAAAMAQBE0AAAAAAAAwBEETAAAAAAAADEHQBAAAAAAAAEMQNAEAAAAAAMAQBE0AAAAAAAAwBEETAAAAAAAADEHQBAAAAAAAAEMQNAEAAAAAAMAQBE0AAAAAAAAwBEETAAAAAAAADEHQBAAAAAAAAEMQNAEAAAAAAMAQBE0AAAAAAAAwBEETAAAAAAAADEHQBAAAAAAAAEMQNAEAAAAAAMAQBE0AAAAAAAAwBEETAAAAAAAADEHQBAAAAAAAAEMQNAEAAAAAAMAQBE0AAAAAAAAwBEETAAAAAAAADEHQBAAAAAAAAEMQNAEAAAAAAMAQBE0AAAAAAAAwBEETAAAAAAAADEHQBAAAAAAAAEMQNAEAAAAAAMAQBE0AAAAAAAAwBEETAAAAAAAADEHQBAAAAAAAAEMQNAEAAAAAAMAQBE0AAAAAAAAwBEETAAAAAAAADEHQBAAAAAAAAEMQNAEAAAAAAMAQBE0AAAAAAAAwBEETAAAAAAAADEHQBAAAAAAAAEMQNAEAAAAAAMAQBE0AAAAAAAAwhNneBTwJ4hMT5O6e195lAAAAAAAAZCqCpizgbHZSjyWDM7TMNz1nZVI1AAAAAAAAmYNb5wAAAAAAAGAIgiYAAAAAAAAYgqAJAAAAAAAAhiBoAgAAAAAAgCEImgAAAAAAAGAIgiYAAAAAAAAYgqAJAAAAAAAAhiBoAgAAAAAAgCEImgAAAAAAAGAIgiYAAAAAAAAYgqAJAAAAAAAAhrBr0PT5559rxIgRkqQ9e/bIy8tLr732mmbOnGmb5/jx4/L29lbz5s01evRoJSYm2qtcAAAAAAAApMFuQdPevXu1du1aSVJsbKxGjRqlefPmKTAwUCEhIdq5c6ckadiwYfLz89OWLVtktVrl7+9vr5IBAAAAAACQBrsETZGRkZo5c6b69esnSTp69KhKly6tkiVLymw2y8vLS0FBQbpw4YJiY2NVtWpVSZK3t7eCgoLsUTIAAAAAAAAewi5Bk5+fnz744APly5dPknTlyhW5u7vbXvfw8FBYWNgD093d3RUWFpbl9QIAAAAAAODhzFm9wVWrVql48eKqU6eOAgICJEkWi0Umk8k2j9VqlclkSnV6RhQu7GZM4TmAu3tee5cAAAAAAACeYFkeNAUGBio8PFxt27bVjRs3dOvWLV24cEGOjo62ecLDw+Xh4aFixYopPDzcNj0iIkIeHh4Z2t7Vq9GyWKyG1S9l30AnPDzK3iUAAAAAAIDHmIODKc1OPVkeNC1ZssT274CAAB04cEDjxo3Ta6+9ptDQUD399NP64Ycf1L59e5UoUUIuLi4KDg5W9erVtX79enl6emZ1yQCAx1TB/M4yO7uke/7E+DhdvxGfiRUBAAAAOVuWB00pcXFx0eTJkzVw4EDFxcWpYcOGatGihSRp2rRp8vX1VXR0tCpVqiQfHx87VwsAeFyYnV0UPKV3uuevPnyRJIImAAAAIDV2DZq8vb3l7e0tSapTp442bNjwwDwVK1bU6tWrs7o0AAAAAAAAZJBdnjoHAAAAAACAxw9BEwAAAAAAAAxB0AQAAAAAAABDEDQBAAAAAADAEARNAAAAAAAAMARBEwAAAAAAAAxB0AQAAAAAAABDEDQBAAAAAADAEARNAAAAAAAAMARBEwAAAAAAAAxB0AQAAAAAAABDEDQBAAAAAADAEARNAAAAAAAAMARBEwAAAAAAAAxB0AQAAAAAAABDEDQBAAAAAADAEARNAAAAAAAAMARBEwAAAAAAAAxB0AQAAAAAAABDEDQBAAAAAADAEARNAAAAAAAAMARBEwAAAAAAAAxB0AQAAAAAAABDEDQBAAAAAADAEARNAAAAAAAAMARBEwAAAAAAAAxB0AQAAAAAAABDEDQBAAAAAADAEARNAAAAAAAAMARBEwAAAAAAAAxB0AQAAAAAAABDEDQBAAAAAADAEARNAAAAAAAAMARBEwAAAAAAAAxB0AQAAAAAAABDEDQBAAAAAADAEARNAAAAAAAAMARBEwAAAAAAAAxB0AQAAAAAAABDEDQBAAAAAADAEARNAAAAAAAAMARBEwAAAAAAAAxB0AQAAAAAAABDEDQBAAAAAADAEARNAAAAAAAAMARBEwAAAAAAAAxB0AQAAAAAAABDEDQBAAAAAADAEARNAAAAAAAAMARBEwAAAAAAAAxB0AQAAAAAAABDEDQBAAAAAADAEARNAAAAAAAAMARBEwAAAAAAAAxB0AQAAAAAAABDEDQBAAAAAADAEARNAAAAAAAAMARBEwAAAAAAAAxB0AQAAAAAAABDEDQBAAAAAADAEARNAAAAAAAAMARBEwAAAAAAAAxB0AQAAAAAAABD2CVomjt3rlq3bq3WrVtrypQpkqQ9e/bIy8tLr732mmbOnGmb9/jx4/L29lbz5s01evRoJSYm2qNkAAAAAAAAPESWB0179uzR7t27tXbtWq1bt05//PGHfvjhB40aNUrz5s1TYGCgQkJCtHPnTknSsGHD5Ofnpy1btshqtcrf3z+rSwYAAAAAAEA6ZHnQ5O7urhEjRsjZ2VlOTk567rnndPbsWZUuXVolS5aU2WyWl5eXgoKCdOHCBcXGxqpq1aqSJG9vbwUFBWV1yQAAAAAAAEgHc1ZvsFy5crZ/nz17Vps3b1a3bt3k7u5um+7h4aGwsDBduXIl2XR3d3eFhYVlaHuFC7v9+6JzCHf3vPYuAQAee1xr/x1LYoIczE6ZNj8AAADsK8uDprtOnTqlvn37avjw4XJ0dNTZs2dtr1mtVplMJlksFplMpgemZ8TVq9GyWKxGlS0p+37ICA+PsncJAJCjPMr1nGvtv+PunlfBU3qne/7qwxdxzAEAALIRBwdTmp167DIYeHBwsHr06KGhQ4eqXbt2KlasmMLDw22vh4eHy8PD44HpERER8vDwsEfJAAAAAAAAeIgsD5ouXbqk999/X9OmTVPr1q0lSVWqVNGZM2cUGhqqpKQk/fDDD/L09FSJEiXk4uKi4OBgSdL69evl6emZ1SUDAAAAAAAgHbL81rnFixcrLi5OkydPtk3r3LmzJk+erIEDByouLk4NGzZUixYtJEnTpk2Tr6+voqOjValSJfn4+GR1yQAASJLiExMyfLtdXHy8bt6Iy6SKAAAAgOwly4MmX19f+fr6pvjahg0bHphWsWJFrV69OrPLAgDgoZzNTuqxZHCGlvmm5yxJBE0AAAB4MthljCYAAAAAAAA8fgiaAAAAAAAAYAiCJgAAAAAAABiCoAkAAAAAAACGIGgCAAAAAACAIbL8qXMAADxJkuIT5O6eN93zJ8TGKTIqPhMrAgAAADIPQRMAAJnI0dlJgT490z1/q2+XSARNAAAAyKG4dQ4AAAAAAACGIGgCAAAAAACAIQiaAAAAAAAAYAiCJgAAAAAAABiCoAkAAAAAAACGIGgCAAAAAACAIcz2LgBIj4L5nWV2dkn3/Inxcbp+g8eDAwAAAACQlQiakCOYnV0UPKV3uuevPnyRJIImAAAAAACyErfOAQAAAAAAwBAETQAAAAAAADAEQRMAAAAAAAAMQdAEAAAAAAAAQxA0AQAAAAAAwBAETQAAAAAAADCE2d4FANlFgbzOcnJ1Sff8CbFxioyKz8SKAAAAAADIWQiagP/PydVFgT490z1/q2+XSARNAAAAAADYcOscAAAAAAAADEHQBAAAAAAAAEMQNAEAAAAAAMAQBE0AAAAAAAAwBIOBA0hRwfzOMjun/yl8ifFxun6DwdEB2B9PEQUAALAfgiYAKTI7uyh4Su90z199+CJJfFADYH88RRQAAMB+uHUOAAAAAAAAhiBoAgAAAAAAgCEImgAAAAAAAGAIgiYAAAAAAAAYgqAJAAAAAAAAhuCpcwAAINuKT0yQu3tee5cBAACAdCJoAgAA2Zaz2Uk9lgzO0DLf9JyVSdUAAADgYbh1DgAAAAAAAIYgaAIAAAAAAIAhCJoAAAAAAABgCIImAAAAAAAAGIKgCQAAAAAAAIYgaAIAAAAAAIAhzPYuAAAAAJmnYH5nmZ1d0j1/Ynycrt+Iz8SKAADA44ygCY+l+MQEubvntXcZAADYndnZRcFTeqd7/urDF0kiaAIAAI+GoAmPJWezk3osGZyhZb7pOSuTqgEAAAAA4MlA0AQAAAAAQDbHrdDIKQiaAAAAAADI5rgVGjkFT50DAAAAAACAIQiaAAAAAAAAYAiCJgAAAAAAABiCMZoA2E2BvM5yck3/gIYJsXGKjOI+cwAAACAz0D6HEQianmD58znL2SX9F5H4uDjduMlFBCmLT0yQu3veDC8X6NMz3fO2+naJxBsZAAAAkCmcXF1on+NfI2h6gjm7uGjGyL7pnv/DSQvEUwuQGmezk3osGZyhZb7pOSuTqgEAAAAA2ANBk6S8+Vzl6uJk7zIAAAAAAAByNIImSa4uTuo6/Lt0z//9lLcysRoAwKPiiwMAAADAvgiaAACPDb44AP69RxlzLy4+XjdvxGVSRQAAICchaAIAAIDNo4+5R9B0V8H8zjI7p/+BK4nxcbp+g3EwAQCPB4ImAAAAwEBmZxcFT+md7vmrD18kHrgCAHhcEDQ9JhITkh7p0fIAgJwvfz5nObukv/dEfFycbtzkQy2MkxSfsdvtEmLjFMnjsAEAeCwRND0mzE6O+mz06gwtM2pih0yqBgCQlZxdXDRjZN90z//hpAWi9wSM5OjspECfnumev9W3SySCJgDIVI8y5h5gBIImAMgmGNMDEj1UAQCAMR59zD3g3yFoAoBsgjE9INFDFXgSPUqvg6T4eDk6O6d7fm5XBABklRwRNG3cuFHz589XYmKi3n77bb31Fo+jBgAeQY7sIG8+V7m6ONm7jCzHuFgw0qP2OuB2xf+TFb2CC+R1lpNr+rdBuAfgSZXtg6awsDDNnDlTAQEBcnZ2VufOnVWrVi2VLVvW3qXhX3gcPpg8yu0t8XGJunHzdiZVhCcNjyBHduDq4qSuw79L9/zfT8l+XxY96u2K9hoX63F4DwWMlhW9gp1cXQj3ACAdsn3QtGfPHtWuXVsFChSQJDVv3lxBQUEaMGBAupZ3cDCla74iBfNkqC7nfIUzNH8Rt0IZml+SchXJ2DbyF8id4W3kK5CxbaT3eD6Mq4uTBk1al+75Z498I9sdc7OTo76cGpih9fcd0ixDH2bi4+IUFZ2QoW2kxs3NRS4Z/GCS3Y65ZNw5mF1l9jHP8JOh4uJ006BzMKtwPU8fI/+Wcvoxf5Tr+fvDWvEeep/Mvp7ndXPKcC8y3kP/z6N+QRYVHZvRsuwmI8f8UQdJpt0Ce8vp15acdl3Jn9cpw70lb0TlrLbzo3jYtc1ktVqtWVTLI1mwYIFu3bqlDz74QJK0atUqHT16VOPHj7dzZQAAAAAAALiXg70LeBiLxSKT6f/SMqvVmuxnAAAAAAAAZA/ZPmgqVqyYwsPDbT+Hh4fLw8PDjhUBAAAAAAAgJdk+aKpbt6727t2ra9eu6fbt2/rxxx/l6elp77IAAAAAAABwn2w/GHjRokX1wQcfyMfHRwkJCerQoYNeeukle5cFAAAAAACA+2T7wcABAAAAAACQM2T7W+cAAAAAAACQMxA0AQAAAAAAwBAETQAAAAAAADAEQRMAAAAAAAAMQdCURRITEzV//ny1bNlSrVq1UvPmzfXVV1+Jsdgz7vz582rSpMkD0ytUqGCHalIXEBCgESNGGLa+mJgYjRs3Ts2aNVObNm3UtWtX7d271/a6v7+/fvjhB0nSiBEjFBAQYNi2s5OM7ltq58Xo0aN17NixDG9/+/btWrJkSZrznD9/XpUrV1bbtm31xhtvqHXr1urZs6cuX74sSXr33XcVFhaW4W3fr23btv96HalJ7e9MevT67z1Hs0pQUJC8vb3Vpk0beXl5adGiRbbXmjRpovPnz2dpPXeldh7//PPPmjVrVobXFxUVpffff9+I0rLUo1zP9+/fr+7du2dmWdnG/v37Va1aNbVt21Zt2rRRy5YttXTpUtvr/+YcTu0YPup1ZeTIkbpw4cIjLWuko0ePaurUqfYuI1Xnz59XhQoV5Ofnl2z68ePHVaFChTTf3+7+vs+dO6dRo0ZJko4dO6bRo0enuc3s3ia49z3z3v++++47SY/evps9e7YOHTqU4muPep6n52+ue/fu2r9/f4bXPWvWLP3888+PVFdWy+y2+Jw5czRnzpwHpv+b60x2/zt4VF26dNGmTZuSTbt165Zq1aqla9euPTB/ap9PHnYteZLee+/1sOtTej3q58JHbRdmB2Z7F/CkGDdunCIiIrRy5Urly5dP0dHRev/995U3b1699dZb9i4P2ZzValW/fv30/PPPa9OmTXJ2dtaff/6pPn36aPr06apVq5Z+++03vfLKK/YuNceYOHHiIy0XEhKSrvk8PDy0fv1628+TJ0/WlClTNGPGDH399dePtO373bv+rPSo9Wf1ORoWFqbPP/9cAQEBKliwoGJiYtS9e3eVKVNGTZs2zbI6MqJp06aPVNuNGzd0/PjxTKgI9la5cmUtW7ZMkhQdHa3WrVurXr16Klu27L9a74EDB1Kc/qjXlf3792eLsPN///ufrl69au8y0lSgQAHt2rVLSUlJcnR0lCQFBgaqUKFC6Vr+4sWLOnfunCTpxRdf1IsvvphptWaV+98zjXDw4EHVqlUrxdfs9f6ZlsGDB9u7hGwvu1xnspP27dtr48aNat26tW3ajz/+qFq1aqX7miI9PteSzJAZ16f0etR2YXZA0JQFLl++rA0bNuiXX35Rvnz5JElubm7y8/PT//73P40YMUKvvPKKvL29Jd35NuDkyZOaM2eOwsLCFBoaqgsXLujNN99U//79deLECfn5+SkxMVEuLi6aNGmSnnnmGTvuYfYREBCgXbt26caNGzp37pzq1aunsWPHKjExUWPHjtWpU6cUERGhChUqaMaMGYqIiFDv3r1VsGBBubq6ysvLSzt27FBkZKSuXLmizp0768KFC9q3b58KFCigRYsWycXFRevWrdPSpUtlsVhUqVIljRkzxjZ9/vz5cnNzU4kSJZQ7d25D9uvAgQO6ePGivv32W5lMJknSCy+8oP79+2vevHlKSkrStm3btG/fPrm7u0uSduzYoe+//15Xr15Vv3791KlTJ8XExOjTTz/VqVOnlJSUpHfffVevv/66AgICtHbtWkVGRqpx48b68MMPbdvO6PkZEBCgAwcOaPLkyZLufLM3YMAAlS5dWh999JFu3bolBwcH+fr6qmrVqmrSpIm+/fZbPf3009q/f7/mzp2rZcuW6cCBA5o5c6ZiY2N18+ZNjRw5Uq+++mqqx2jNmjVasmSJTCaTKlWqpE8++UR58uSRJH3yySc6evSoChYsqM8++0xPPfWUra5atWpp4cKF2rx5s5KSklS/fn0NGzZMJpNJ33zzjf773//K0dFRjRs3Vrt27bRixQpJ0lNPPaWnnnrK9s15/vz5NX369FTf1GvVqqUZM2ZIkm2fixcvrilTpujAgQNKSkqSt7e3evToof3792vq1KmyWCwqV66cRo4cqdGjR+vvv/+Ws7OzRowYoTp16jz0d5GQkKAxY8YoODhYRYsWlclk0nvvvfdAw/urr77Shg0b5OjoqHr16mnYsGGSpLi4OA0ePFhnzpxRqVKlNHHiROXPn/+h9VutVk2bNk1bt26Vo6OjOnXqpHLlyiU7RyMjI7Vo0SI5Ojrq6aef1tSpU+Xi4pKBv4qHu379uhISEhQbGytJypMnjyZPnpxsO19++aWOHz+u27dva8qUKapSpUqq596IESMUGRmp0NBQDRs2TBMmTFCLFi20Z88eSdJnn32mF154IVkNZ86ckZ+fnyIjI5U7d26NHj1aL730kqQ7f6PLly9XQkKC+vfvr1atWiX7+zl69KgmTZqk2NhYFSxYUOPGjVPJkiV1/Phx+fn5KTY2Vvnz59e0adM0YcIEXblyRe+//74+//xzffjhh4qIiJAkvf/++zmykZLa9fxeS5cu1datW7Vw4UL16dNHL774ooKDg3Xt2jX5+vqqYcOGioiI0OjRo3Xx4kWZzWZ98MEHtm8nd+3aJUlq0KCBRo4cqVatWmnBggVydHTU7du3U/y7sqe4uDg5Ojoqb968yaandt2VpAULFsjV1VWnT59WhQoVNG3aNE2ZMkWS9Oabb2rVqlXJ1vUobZAff/xRV65cUZ8+ffTdd9+pffv2eumll3T8+HFNnTpVQ4YM0bZt2yTJ1kth4MCBqlevnpo2baqjR4+qSJEiat++vZYtW6bLly9r8uTJeuWVVxQaGqqxY8cqMjJSrq6u+uSTT/TCCy9oxIgRcnNz0x9//KGwsDC9//77atasmWbPnq1bt25p/vz5aty4cbZsL+XJk0cVK1bUwYMHVbt2bUnSr7/+qrp160r6v9+B9ODvVpImTJig8+fPa9y4cWrRooXtfbN79+6qWLGiDh06pLi4OI0aNUr169dPtu3U2i85QWptmLi4OI0bN07BwcFycnLSe++9p/j4eIWEhMjX11dz587VhAkTlD9/fp06dUpffPGF3njjDZ08eVKRkZEpvr8uX75c69ev1+3bt+Xk5KTp06fr2WefTbGu+Ph4jR49WiEhISpRooSuX79uey2l9sXkyZNVtGhR9erVS9Kdv4U2bdro559/trW37m9/DBs2TBEREfLz89Ply5dlMpk0dOhQ1a1bV3v37k13WySrREdHa9SoUQoLC9OVK1dUp04dTZw4UQcOHEjxmuTs7KxFixbJ399fBQsWVL58+WzvlXctXLgw2XUmNDRUEydOVFxcnAoWLKhPP/1UpUuXTvN9925tj8N75F0tW7bUlClTFBkZqQIFCkiSNmzYoG7duunjjz9+4O9FkkJDQ9W9e3ddvHhRderU0YQJE5K1wVNqZ9wrtevyxo0bM71tl1388ccf6tOnjzZu3CgHBwe1a9dO8+bN09atW3Xx4kWdPn1a169fV6dOndS7d+9ky/7+++8pnrtLlizR2rVr5eDgoJdeekmffvqp7T2gWbNmWrVqlb766itJ0rJlyxQaGqqRI0em2Ba/fPlyip+7shK3zmWBo0eP6rnnnlP+/PmTTX/uuefUvHnzNJc9efKkFi9erFWrVmnhwoW6efOmli5dqp49eyogIEAdO3bU77//nonV5zyHDx/W7NmztWHDBm3fvl0nT57U4cOH5eTkpJUrV+qnn35SVFSUdu7cKenOB8GpU6faboc6duyY5s2bp8WLF2vSpEny9PTUxo0bJUm7du3SqVOn5O/vrxUrVmj9+vUqXLiwFi9erLCwME2bNk3fffedVq5cqZiYGMP26dixY6pcubItZLqrZs2aOnbsmOrWrasmTZpo0KBBatCggaQ7DZ9Vq1ZpwYIFmjlzpiRp/vz5qlSpkgICAvTdd9/pq6++sn0rGhYWprVr1yYLmR4mpfMzNatXr1ajRo0UEBCgQYMGKTg4OM11L1++XBMmTNDatWs1YcKENLuNnjx5Ul999ZWWLVumjRs3KleuXJo7d26y47R+/Xo1a9bsgZ5Mv/zyi0JCQrR69WqtW7dOYWFh2rBhg44eParvv/9eq1ev1oYNG/THH38oNjZWnTt3VufOndW+fXvNmzdPY8eOVUBAgOrWras///wzxfoSEhK0ZcuWBy7w/v7+kqS1a9dq9erV+vnnn23d/M+ePaulS5fq888/16xZs1SqVClt3rxZU6ZM0RdffJHiMbj/d7FixQrdvn1bQUFBmjRpUoq3Cu7cuVPbtm3TmjVrtHbtWoWGhtrCtKtXr6p79+7asGGDSpYsqS+//DJd9QcFBem3337Txo0btWrVKgUEBKhcuXLJztEvvvhC//nPfxQQEKASJUro77//TvX3+6gqVqyopk2b6tVXX1WHDh1s4V3p0qVt85QtW1br1q1T9+7dtXjxYklpn3sFChTQ5s2bbbcM5M6dW+vWrdOgQYP08ccfP1DDsGHD1L17d23cuFEjR47U4MGDFR8fL0m6ffu2/P39tWjRIn322WcKDw+3LRcfHy9fX19Nnz5da9euVc+ePfXJJ59Ikj766CO999572rhxo1q1aqWlS5fK19dXHh4e+vLLL/XTTz+pRIkSCggI0MSJE1O9dSQnSOl6fldAQIB+/PFHffXVV8qVK5ekO39rK1eu1MiRI22/t/Hjx6t27drauHGjZs+erVGjRslisah48eL666+/dPr0aSUlJdl6+OzatUuNGzeWlLFrXGYJCQlR27Zt5eXlpSZNmuiVV16Rh4dHupc/fPiw/Pz8tHnzZl28eFG7d++Wr6+vJD0QMt0vvW2QPn36yMPDQwsXLlTBggUlSZ6entqyZUuaH3gjIiLk6empdevWKS4uTlu3btX333+vgQMH2m4R/PjjjzVs2DCtXbtW48eP1wcffGBb/vLly/r+++81f/58TZkyRfny5dOgQYPUpEkT9e/fP1u3l1q2bKktW7ZIutNOrFChgpycnNK1rK+vrypXrqwxY8Y88Fp0dLTWrl2r6dOna8SIEbbrjaRU2y/ZwZUrVx64NeXev3cp9TbMsmXLdOvWLW3evFlLlizRl19+qVatWqly5cqaMGGC7XauChUqaMuWLXr++edt60zp/TU6Olpbt27VsmXL9MMPP6hRo0Zp3iZzt8fh5s2b5evrq3/++UdS6u2Ltm3b2m4jj46O1uHDh9WwYUPb+lJqf4SEhGjixIlq3769AgICNH/+fPn5+Sk6OjrdbRGjpfQ7u2vHjh16/vnntXLlSm3ZskUHDx7UH3/8ISnla9KxY8ds7ZAlS5bYhhq4173XmTx58ujDDz/UJ598og0bNqhz58629mta77uSHqv3SOlOcN20aVMFBQVJutOeP3PmjA4ePJhqm//SpUuaM2eONm/erF9++UWnTp1Kts6U2hn3Su26nBVtO3tI6Vw3m83q1KmTpkyZovHjx6tLly62a0tISIiWLFmigIAArVy50nbuS3fadymdu0lJSVqwYIHWrFmjgIAAJSQkJBumwtPTUyEhIbpx44YkadOmTWrTpk2qbfGMfu7KDPRoyiL3BgRBQUGaP3++LBaLnJ2dVa5cuVSXq1WrlpydnVW4cGEVKFBAUVFRatiwoT799FPt2rVLTZo0sTWInxQODg/mo1ar1XaMq1WrJjc3N0lSyZIldePGDb3yyisqUKCAvvvuO/399986e/asbt26JUkqXLiwnn76adu6Xn75Zbm5udnWUadOHUlSiRIldPPmTe3fv1+hoaHq2LGjpDsfbF544QUdPnxY1apVU5EiRSRJXl5e2rdvnyH7bDKZlJSU9MD0hISEB8Knu5o2bSqTyaRy5crZvl3bs2ePYmNjtWbNGkl37uG+++bywgsvyGzO2CUhpfMzNXXq1NHAgQN1/PhxNWzYUN26dUtz3VOnTtX27dsVFBSkI0eOpBncHTx4UI0bN7Z9wOnUqZNGjhwpSXJ1dVWbNm0k3RmT4f6QZu/evTp69Kitx1ZsbKyeeuopRUREqHHjxraeA998842kO2M03dW0aVMNGDBAr776qpo2bap69erZXrv7piTdeVN56aWXNHTo0Ae2ffz4cdt5cuvWLZ08eVJly5ZVmTJlbNs+ePCg7dukChUqaOXKlQ8cg5R+F7/++qs6duwok8mkEiVK2M7le+3bt0+tW7e2fVBv37691q1bp4YNG6pMmTKqUaOG7djdf295avWfPn1aLVu2lLOzs5ydnVPsbty4cWN16dJFr776qpo3b56s4W+kcePG6b333tPu3bu1e/dudezYUdOmTdNrr70mSbZecmXLlrV96Evr3Lv/G9a714EmTZpoxIgRunbtmu2DdUxMjP755x/btqpWrar8+fPbGl7t2rWT2WxW0aJFVbVqVR05csS23rNnz+rcuXPJetBER0fr2rVrCg8Pt133u3btKknJxgypVq2aZsyYobCwMDVq1Chb32bwKNdzSfrrr7/0ySefaMaMGbaei5JsQXu5cuUUGRkp6c45PmHCBNs6qlSpoiNHjsjT01N79+6V2WyWj4+PNm3apKioKEVEROi5556TlPLf1d2eyVnl/lvnevfurYULF6pv377pWr5cuXIqVqyYpDtfcN09hunxb9ogVapUSdc2PD09Jd15j61evbqkOz1Gb968qZiYGIWEhNiu59Kd68zd97R69erJZDKpfPnytt/3vbJze6lJkyb64osvZLFYtHnzZrVs2VKBgYH/er13r0nPP/+83N3dk4U1qbVfsoP03JqSWhvm4MGD6tixoxwcHOTu7v7AeDV33X/9llJ/f50+fbo2bdqks2fPateuXWm+Rx04cECdOnWSJD3zzDOqVq2apNTbF23btlV8fLxCQ0N1+PBhNWnSRM7OzslqSqn9sWfPHv3999+aPXu2pDvjv547dy7NtkhmSul3djfUe/3113X06FF98803+vvvvxUZGWlrd6d0TTpz5owaNmxou563aNFCFosl1W2fPXs2Wa+nli1bys/PT1FRUWm+70o56z0yvby9vTVr1ix17txZGzduVJs2bbRr165U2/w1atSw9X4qVapUsl54qbUz7o47ltZ1OavadlkttevTs88+q/bt28vV1TXZ2ICvv/667Vxu0qSJ9u3bZ/uMktq5e+vWLVWrVk0dOnRQ06ZN1bNnTxUtWtS2TicnJzVr1kw//vij6tWrp8jISL300ktatGhRim3xjH7uygwETVmgcuXKOn36tKKjo+Xm5qYWLVqoRYsWOn/+vHx8fGQymWyDgickJCRb9t7uhnfna9GihapVq6bt27frm2++0Y4dO2yN6CdBvnz5Hgg0rl69ausxltIx+/nnnzV79mz5+PjI29tb169ftx1zV1fXZOu6/xvF+8OXpKQktWzZ0vaNcExMjJKSkrR3795kg7tnNLRJS5UqVbRs2TIlJCQkq+/3339X5cqVU1zm7rgP9wZRFotFU6dOVaVKlSTd+TY5f/782rhx4wPH4a6Mnp/3zn/vMtWrV9emTZu0Y8cOBQYG2r61kmSbPzEx0bZc165dVatWLdWqVUt16tTRRx99lOrxub8xYrVabeu694Os1WpN8ff59ttvq2fPnpKkmzdvytHRUatXr0527MLCwmxhzF09evRQ48aNtX37dk2dOlVHjx61BQPpaTQnJSVp2LBhtgbRtWvXlCdPHv3+++/Jfh9mszlZLadPn1aZMmWSrSul34Wjo2OaDTXpwWMn/d/v4d5jldqxS6n+6dOnJ6v3/PnzD/Rq8PX11YkTJ7Rz504NGzZMAwYMMHxw8x07dujWrVtq1aqV2rdvr/bt28vf31+rV6+21ZzS30la5979fyf3HhOLxWJbn6QUH/ZgtVptofG981oslmR/2xaLRU8//bTtHEpKSlJERIScnJyS1RoXF6crV64km/bMM89o8+bN2rVrl7Zv367//Oc/CgwMTDHUsbdHuZ5Ld77BnTRpkiZOnKgGDRrYblO+O/+9x+P+38Pd30GjRo00d+5cOTs7a/Dgwdq8ebM2btyY7Faj1LZvL25ubmrZsqXtds27UrvuSv9uH/5NG+Te38W920xMTEz2d3PvB+x7/yYk2b6Qu/daevnyZdsHpJR+3/fKzu2lu7fPBQcHa9++fRo6dGiyoOnu++m974vpcf915d5jnVr7JadIrQ2zZs2aZOdAaGioihcv/sDyKbVzUnp/dXV11dtvv61u3brJ09NTRYoUSXMMvPvP8bvHPLX2hSS1adNGgYGBOnz4sPr06ZNmTXfbHxaLRUuXLrWd/1euXFHhwoX1/PPPp9oWsZdly5Zpy5Yt6tixo+rWrau//vrLdozS03Y0m83JeiHdL6W2i9VqTfELz3vfd6Wc9R6ZXjVr1lR4eLguXbqkDRs2aO7cudq5c2eqbf57rwv3H/vU2hl3pXVdzoq2XXYSFRWlmJgYxcTEKDIy0tbWvf86fP/P97t7js6bN0+///67fvnlF/Xu3fuBWxbbtm2rWbNm6caNG/Ly8pKUelvcxcUl1c9dWSXn/kXlIE899ZTatGmjjz/+2NbtPjExUTt27JCDg4MKFCig//3vf5KkrVu3PnR9Q4YM0bFjx9S5c2cNHjw4y7rIZhdubm4qXbq0rfeBJK1cuTLF3hp37d27Vy1btlT79u2VL18+7d+//5EbV7Vq1dJPP/2kq1evymq1auzYsVq6dKmqV6+u33//XWFhYbJYLIZ8M3lXjRo1VLZsWX322We2DxAhISGaP3++3nvvPUl3LmoP26fatWvrv//9r6Q7DZQ2bdro0qVLaS6T0fOzYMGCOn36tKxWq86dO2f7NnXKlCnasGGD2rVrJz8/P9t5W7BgQdv67z5tJTIyUmfPntXgwYPl6empn3/+Oc19e+WVV7Rt2zbbN9r+/v62cYhu3bplW++aNWtsY2Dce0zWr1+vmJgYJSYm6v3339eWLVtUo0YN7dy50zZ96NChCgkJkaOjo63h/+abbyomJkY9evRQjx49Mvy3WLt2bfn7+yshIUExMTHq2rVrird21KhRw/YN7enTp/Xuu++m+sHqXnXr1lVgYKCsVqvCwsJ04MCBB5arXbu2Nm3apNjYWCUmJmrNmjW2MUNOnz5t26fUjl1K9desWVM//vijEhISdPv2bfXu3VthYWG2czQxMVGvvfaaChYsqL59+6pt27aZMpC1q6urpk+fbuvtY7Vadfz48TS/YcvouXf39/LTTz89cIu0m5ubnn76af3444+S7gTDERERtl6smzZtktVq1YULFxQSEpJsEM5nn31WN27csHXpX7NmjT766CPlzZtXRYsW1e7duyXdGdB21qxZMpvNtvNy+fLlmjNnjlq2bKkxY8bo2rVrio6OzvDxywqPcj2X7vR+uXsb2d1v91NTu3ZtrV69WpJ07tw5/fbbb6pataoqVaqkM2fO6OzZs3ruuedUq1Yt27g+2dXdW/zu74WS2nU3LfdeyzIitTZIau9B+fLlU2RkpK5du6b4+HjbuFjpkTdvXj3zzDO2DzS//vrrQx+gcu9+Zff2UsuWLTV9+nRVrlw52Qe/ggUL6tSpU7Jarbaxre6V1u/ubtvj2LFjunnzpsqXL297LbX2S06RWhumZs2atve6q1evqlu3boqPj09Xuyil99eQkBCVLl1aPXr00IsvvqitW7emuZ46depo48aNslgsunDhgn777TdbvSm1L6Q7vd4DAwMVGhpq68l3b00ptT9q166t77//XtKdQe+9vLx0+/btf90WyQy//vqrOnXqpDZt2iguLk4nTpxI84uvOnXqaPv27YqKilJcXJx++umnFOe7+zt99tlnFRkZqaNHj0q6c97fHTszrfddKWe9R2bEG2+8ofnz5yt//vwqVarUI7X5JaXazrj39ZSuy1nVtstOxo0bp27duqlr164aN26cbfrWrVsVHx+vGzduaPv27cm+wErt3LVYLGrVqpXKly+vwYMHq169eg+8l1etWlVXrlzR+vXrbXdrpNYWT+1zV1aiR1MWGTt2rJYsWSIfHx8lJSUpJiZGtWrV0tdffy1HR0cNGTJEXl5eql27tm0w59T069dPo0eP1pdffiknJ6cHBkd9EkydOlVjx47Vl19+qYSEBNujgnfs2JHi/G+++aY++ugjbdq0SU5OTnr55Zcf+ZHQFStW1IABA/T222/LYrHo+eefV58+feTi4iJfX1/16NFDuXLl+tdPBLrf3LlzNXPmTL3++utydHRU/vz5NXXqVFugUrduXc2YMeOBQWLvNWDAAI0dO1avv/66LQEvVapUmvend+nSJUPnZ926dbVmzRq1aNFCZcqUsTWgunfvrqFDhyogIECOjo76/PPPJUmDBg3S+PHjNXfuXNuFuECBAurQoYNat24ts9ms2rVrKzY21tbt+n4VK1ZU37591b17dyUkJKhSpUq2C36+fPm0detWzZo1S0WLFtWkSZOSLdukSROdOHFCHTt2VFJSkho0aKB27drJZDKpW7du6ty5sywWi5o1a6a6devKyclJH3/8sYoUKaIPP/xQI0aMkNlsVu7cuTP8TXnnzp0VGhqqdu3aKTExUd7e3qpVq9YDj0UeNGiQfH191aZNG5nNZk2ZMiVdQVPHjh114sQJeXl5yd3dXU899dQD3+g2btxYx48fV/v27ZWYmKj69eurW7duunz5skqVKqUvv/xS//zzj8qXL59sbJS06pfuBKHe3t6yWCzy8fFRmTJlkp2jgwYNUq9eveTi4qLChQsnG+jWKLVr19aAAQPUr18/W0DboEGDNLvJZ/Tc++2337R69WrlypUrxX24e62aM2eOnJycNGfOHFsPjty5c8vb21uJiYn69NNPk/X6cnZ21qxZs2yDRbq5udn+Zu6uc+rUqSpYsKCmTJmiggUL2ga5nz9/vj788EN5eXnJ0dFRw4YNy/LbvTIio9fzew0fPlyvv/667Zu9lIwePVp+fn62x1pPmDDBNsZR9erVdfv2bUl3zpdVq1apZs2a/36nDHR3jKa7vVsqVKigd999N9k8qV1309K0aVO1bdtWAQEBGRqsNbU2SKNGjdSnTx8tWrQo2fx58+ZV79691aFDBxUrVizDTzW6e34sWrRITk5OmjlzZprXv5deeklz587VtGnTsn17qXHjxho9evQDTxsbOnSo+vXrpyJFiqh69erJbmuR7txuFBUVpWHDhqlDhw7JXjt37pzatWsnSZo5c2ayb9JTa79kB/febn5XzZo1bb2vpNTbMF27dtWECRNsH7w++eQTubm5qUGDBhozZozt2pmSlN5fn3/+ea1YsUKtWrWS1WpVzZo1HxjD5l5du3bVqVOn1LJlS5UoUcIW7qXWvpCk4sWLq2DBgqpWrdoD53OlSpVSbH8899xz8vPzs13vpkyZIjc3t3/dFskMb7/9tsaOHauFCxfKzc1N1apV0/nz51WqVKkU53/++ef19ttvq0OHDsqXL5+eeuqpFOe79zozc+ZMjR8/Xrdv31b+/Plt45Gm9b4r3QlkctJ7ZHp5e3urSZMmtrFIH6XNf1dK7YwzZ8488Pq912UnJ6csadvZQ0rXp4SEBLm6umrGjBmyWq1q3769Leh3cXFR165dFR0drb59+6ps2bK2YMnZ2TnFc7dQoULq1KmTOnTooFy5cqlMmTJq3769beytu1q2bKndu3erZMmSklJvi5cqVSrFz11ZyWS1dz9wALCDN954Q+PHj3+sH+W6Y8cOWa1WNW7cWFFRUXrjjTe0Zs0aW7f7R2GxWFSnTh1t3rzZ7k+1sbd7n5holKVLlyo0NFR+fn6GrRPAk+Hep6kCALLevU9WfdLRownAE6dDhw5ydXW1DVr5uHruuec0fPhw2wDogwYN+lchU3x8vF577TXVrFnziQ+ZMsOSJUu0ePFi27eyAAAAQE5EjyYAAAAAAAAYgsHAAQAAAAAAYAiCJgAAAAAAABiCoAkAAAAAAACGIGgCAADIxqKiouTj42PvMgAAANKFoAkAACAbu3Hjho4dO2bvMgAAANKFp84BAIAnhsVi0WeffaYjR44oJiZGVqtVEyZM0KpVqxQZGalz586pUaNGunr1qlxdXfXXX3/p6tWratKkiQoUKKDt27crPDxcEyZMUJ06dXTo0CFNnjxZFotFktS3b181b948zRqOHDmiCRMm6Pbt23JyctLw4cNVp04drV69WitXrlRCQoJu3Lihd999V127dlX37t116NAhlS9fXgEBATp79qwmTpyoyMhIJSUlqXv37urQoYMkaeHChVq9erXy5MmjGjVq6Oeff9a2bdsUFRWlcePG6cSJEzKZTGrQoIE+/PBDmc1mVa5cWU2bNtWJEyfk5eWl3bt3a8WKFZKkixcvqmPHjtq2bZucnZ0z95cDAAAeC/RoAgAAT4wjR47oypUrWrlypQIDA9WuXTt9/fXXkqTY2Fht2rRJw4YNkyT9+eefWrp0qZYvX67//Oc/yp07t1asWCEfHx/bMnPmzFHPnj0VEBCgzz77TPv27Utz+wkJCXr//ff1/vvv64cfftD48eP12WefKTo6WqtWrdLChQu1bt06zZw5U1OnTpUkTZo0Sa6urlq/fr2sVqsGDRqkoUOHKiAgwFbb77//rl27dikgIECrV69WQECAYmJibNudMGGCChQooI0bN2rNmjU6efKk/vOf/9hqaty4sbZs2aI+ffron3/+0alTpyRJq1atUrt27QiZAABAupntXQAAAEBWqVatmvLnz68VK1bo3Llz2r9/v/LkyaMCBQqoevXqyeZt3LixnJyc5O7urty5c6tBgwaSpFKlSikyMlKS1LJlS3366afatm2b6tatqw8//DDN7f/1119ycHBQo0aNJEmVK1fWxo0bJUlfffWVdu7cqbNnz+rEiRO6devWA8ufPXtW//zzj0aNGmWbFhsbqz///FN///23WrRooXz58kmS3nrrLVvw9csvv+i///2vTCaTnJ2d1blzZy1dulR9+vSRJNWoUUOS5OzsrDfffFOrVq3Sxx9/rLVr12rZsmUZOcQAAOAJR48mAADwxNixY4f69u0rSWratKm6dOliey137tzJ5r2/F4/Z/OD3c507d9aGDRtUr1497d69W23atFFcXFyq23d0dJTJZEo27a+//tLly5f1xhtv6MKFC6pevbqGDBmS4vJJSUnKmzev1q9fb/vP399f7du3l9ls1r0jIjg6Otr+bbFYkm3XYrEoMTExxX3v3LmzNm3apO3bt6tcuXIqWbJkqvsDAABwP4ImAADwxPj111/VuHFjde3aVZUrV9bWrVuVlJT0yOvr3Lmzjh8/Lm9vb40fP143b95UeHh4qvM/++yzMplM+vXXXyVJf/zxh95++2399ttvKlSokN577z3Vr19f27dvl3QnWDKbzUpKSpLValWZMmVst9FJ0qVLl/T6668rJCREDRs21I8//qioqChJ0urVq23brV+/vpYvXy6r1ar4+Hj5+/urbt26KdZYvHhxVa1aVZ999lmyIA4AACA9CJoAAMATo3Pnzjpw4IC8vLzUrl07lSxZUufPn7cN5p1RH330kWbPnq033nhD3bt314ABA/T000+nOr+zs7PmzJmjuXPnqm3bthozZozmzJmjxo0bq2jRomrRooVatmypS5cuqVChQgoNDZW7u7teeukltW7dWjExMZo3b55Wr14tLy8v9erVS4MHD1b16tVVp04ddezYUZ06dZK3t7eioqKUK1cuSZKvr6+uXbsmLy8veXl5qUyZMurXr1+qdXp7e8tisahhw4aPdFwAAMCTi6fOAQAAPAaOHTumw4cPy8fHR5K0ZMkSHTlyRF988UWG1mOxWPTpp5/qqaeeso3hBAAAkF4ETQAAAAZatGiRbYDv+73zzjtq06ZNpmw3Ojpao0aN0t9//y2TyaTixYtr/PjxKlq0aIbW0bhxY7388suaNWuWXF1dM6VWAADw+CJoAgAAAAAAgCEYowkAAAAAAACGIGgCAAAAAACAIQiaAAAAAAAAYAiCJgAAAAAAABiCoAkAAAAAAACGIGgCAAAAAACAIf4fQa8888b9sWkAAAAASUVORK5CYII=\n",
      "text/plain": [
       "<Figure size 1440x720 with 1 Axes>"
      ]
     },
     "metadata": {},
     "output_type": "display_data"
    }
   ],
   "source": [
    "sns.countplot(x='arms_category',data=data, hue=\"race\");\n",
    "sns.set(rc={'figure.figsize':(30,10)})\n"
   ]
  },
  {
   "cell_type": "markdown",
   "id": "b64e7c67",
   "metadata": {},
   "source": [
    "# How many suspects attempted fleeing?"
   ]
  },
  {
   "cell_type": "code",
   "execution_count": 29,
   "id": "ba07aff9",
   "metadata": {},
   "outputs": [
    {
     "data": {
      "image/png": "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\n",
      "text/plain": [
       "<Figure size 2160x720 with 1 Axes>"
      ]
     },
     "metadata": {},
     "output_type": "display_data"
    }
   ],
   "source": [
    "F_lee.plot(kind='barh',color=\"orange\");\n",
    "sns.set(rc={'figure.figsize':(20,5)})"
   ]
  },
  {
   "cell_type": "markdown",
   "id": "37c71e00",
   "metadata": {},
   "source": [
    "# Age grouping of Shootings"
   ]
  },
  {
   "cell_type": "code",
   "execution_count": 55,
   "id": "a4ade57e",
>>>>>>> Stashed changes
   "metadata": {},
   "outputs": [
    {
     "data": {
      "text/html": [
       "<div>\n",
       "<style scoped>\n",
       "    .dataframe tbody tr th:only-of-type {\n",
       "        vertical-align: middle;\n",
       "    }\n",
       "\n",
       "    .dataframe tbody tr th {\n",
       "        vertical-align: top;\n",
       "    }\n",
       "\n",
       "    .dataframe thead th {\n",
       "        text-align: right;\n",
       "    }\n",
       "</style>\n",
       "<table border=\"1\" class=\"dataframe\">\n",
       "  <thead>\n",
       "    <tr style=\"text-align: right;\">\n",
       "      <th></th>\n",
<<<<<<< Updated upstream
       "      <th>race</th>\n",
       "      <th>arms_category</th>\n",
       "      <th>len</th>\n",
       "      <th>min</th>\n",
=======
       "      <th>name</th>\n",
       "      <th>date</th>\n",
       "      <th>manner_of_death</th>\n",
       "      <th>armed</th>\n",
       "      <th>age</th>\n",
       "      <th>gender</th>\n",
       "      <th>race</th>\n",
       "      <th>city</th>\n",
       "      <th>state</th>\n",
       "      <th>signs_of_mental_illness</th>\n",
       "      <th>threat_level</th>\n",
       "      <th>flee</th>\n",
       "      <th>body_camera</th>\n",
       "      <th>arms_category</th>\n",
       "    </tr>\n",
       "    <tr>\n",
       "      <th>id</th>\n",
       "      <th></th>\n",
       "      <th></th>\n",
       "      <th></th>\n",
       "      <th></th>\n",
       "      <th></th>\n",
       "      <th></th>\n",
       "      <th></th>\n",
       "      <th></th>\n",
       "      <th></th>\n",
       "      <th></th>\n",
       "      <th></th>\n",
       "      <th></th>\n",
       "      <th></th>\n",
       "      <th></th>\n",
>>>>>>> Stashed changes
       "    </tr>\n",
       "  </thead>\n",
       "  <tbody>\n",
       "    <tr>\n",
<<<<<<< Updated upstream
       "      <th>19</th>\n",
       "      <td>Asian</td>\n",
       "      <td>Guns</td>\n",
       "      <td>35</td>\n",
       "      <td>attack</td>\n",
       "    </tr>\n",
       "    <tr>\n",
       "      <th>39</th>\n",
       "      <td>Asian</td>\n",
       "      <td>Blunt instruments</td>\n",
       "      <td>5</td>\n",
       "      <td>attack</td>\n",
       "    </tr>\n",
       "    <tr>\n",
       "      <th>43</th>\n",
       "      <td>Asian</td>\n",
       "      <td>Multiple</td>\n",
       "      <td>3</td>\n",
       "      <td>attack</td>\n",
       "    </tr>\n",
       "    <tr>\n",
       "      <th>36</th>\n",
       "      <td>Asian</td>\n",
       "      <td>Unarmed</td>\n",
       "      <td>7</td>\n",
       "      <td>attack</td>\n",
       "    </tr>\n",
       "    <tr>\n",
       "      <th>34</th>\n",
       "      <td>Asian</td>\n",
       "      <td>Unknown</td>\n",
       "      <td>8</td>\n",
       "      <td>attack</td>\n",
       "    </tr>\n",
       "    <tr>\n",
       "      <th>50</th>\n",
       "      <td>Asian</td>\n",
       "      <td>Explosives</td>\n",
       "      <td>1</td>\n",
       "      <td>other</td>\n",
       "    </tr>\n",
       "    <tr>\n",
       "      <th>20</th>\n",
       "      <td>Asian</td>\n",
       "      <td>Sharp objects</td>\n",
       "      <td>31</td>\n",
       "      <td>attack</td>\n",
       "    </tr>\n",
       "    <tr>\n",
       "      <th>52</th>\n",
       "      <td>Asian</td>\n",
       "      <td>Piercing objects</td>\n",
       "      <td>1</td>\n",
       "      <td>attack</td>\n",
       "    </tr>\n",
       "    <tr>\n",
       "      <th>45</th>\n",
       "      <td>Asian</td>\n",
       "      <td>Other unusual objects</td>\n",
       "      <td>2</td>\n",
       "      <td>other</td>\n",
       "    </tr>\n",
       "    <tr>\n",
       "      <th>30</th>\n",
       "      <td>Black</td>\n",
       "      <td>Multiple</td>\n",
       "      <td>11</td>\n",
       "      <td>attack</td>\n",
       "    </tr>\n",
       "    <tr>\n",
       "      <th>16</th>\n",
       "      <td>Black</td>\n",
       "      <td>Vehicles</td>\n",
       "      <td>43</td>\n",
       "      <td>attack</td>\n",
       "    </tr>\n",
       "    <tr>\n",
       "      <th>15</th>\n",
       "      <td>Black</td>\n",
       "      <td>Other unusual objects</td>\n",
       "      <td>43</td>\n",
       "      <td>attack</td>\n",
       "    </tr>\n",
       "    <tr>\n",
       "      <th>23</th>\n",
       "      <td>Black</td>\n",
       "      <td>Blunt instruments</td>\n",
       "      <td>20</td>\n",
       "      <td>attack</td>\n",
       "    </tr>\n",
       "    <tr>\n",
       "      <th>56</th>\n",
       "      <td>Black</td>\n",
       "      <td>Hand tools</td>\n",
       "      <td>1</td>\n",
       "      <td>other</td>\n",
       "    </tr>\n",
       "    <tr>\n",
       "      <th>8</th>\n",
       "      <td>Black</td>\n",
       "      <td>Unarmed</td>\n",
       "      <td>123</td>\n",
       "      <td>attack</td>\n",
       "    </tr>\n",
       "    <tr>\n",
       "      <th>6</th>\n",
       "      <td>Black</td>\n",
       "      <td>Sharp objects</td>\n",
       "      <td>170</td>\n",
       "      <td>attack</td>\n",
       "    </tr>\n",
       "    <tr>\n",
       "      <th>40</th>\n",
       "      <td>Black</td>\n",
       "      <td>Piercing objects</td>\n",
       "      <td>4</td>\n",
       "      <td>attack</td>\n",
       "    </tr>\n",
       "    <tr>\n",
       "      <th>1</th>\n",
       "      <td>Black</td>\n",
       "      <td>Guns</td>\n",
       "      <td>766</td>\n",
       "      <td>attack</td>\n",
       "    </tr>\n",
       "    <tr>\n",
       "      <th>32</th>\n",
       "      <td>Black</td>\n",
       "      <td>Electrical devices</td>\n",
       "      <td>9</td>\n",
       "      <td>attack</td>\n",
       "    </tr>\n",
       "    <tr>\n",
       "      <th>9</th>\n",
       "      <td>Black</td>\n",
       "      <td>Unknown</td>\n",
       "      <td>108</td>\n",
       "      <td>attack</td>\n",
       "    </tr>\n",
       "    <tr>\n",
       "      <th>21</th>\n",
       "      <td>Hispanic</td>\n",
       "      <td>Blunt instruments</td>\n",
       "      <td>30</td>\n",
       "      <td>attack</td>\n",
       "    </tr>\n",
       "    <tr>\n",
       "      <th>26</th>\n",
       "      <td>Hispanic</td>\n",
       "      <td>Vehicles</td>\n",
       "      <td>17</td>\n",
       "      <td>attack</td>\n",
       "    </tr>\n",
       "    <tr>\n",
       "      <th>29</th>\n",
       "      <td>Hispanic</td>\n",
       "      <td>Multiple</td>\n",
       "      <td>13</td>\n",
       "      <td>attack</td>\n",
       "    </tr>\n",
       "    <tr>\n",
       "      <th>33</th>\n",
       "      <td>Hispanic</td>\n",
       "      <td>Piercing objects</td>\n",
       "      <td>8</td>\n",
       "      <td>attack</td>\n",
       "    </tr>\n",
       "    <tr>\n",
       "      <th>42</th>\n",
       "      <td>Hispanic</td>\n",
       "      <td>Electrical devices</td>\n",
       "      <td>4</td>\n",
       "      <td>attack</td>\n",
       "    </tr>\n",
       "    <tr>\n",
       "      <th>11</th>\n",
       "      <td>Hispanic</td>\n",
       "      <td>Unknown</td>\n",
       "      <td>89</td>\n",
       "      <td>attack</td>\n",
       "    </tr>\n",
       "    <tr>\n",
       "      <th>2</th>\n",
       "      <td>Hispanic</td>\n",
       "      <td>Guns</td>\n",
       "      <td>448</td>\n",
       "      <td>attack</td>\n",
       "    </tr>\n",
       "    <tr>\n",
       "      <th>18</th>\n",
       "      <td>Hispanic</td>\n",
       "      <td>Other unusual objects</td>\n",
       "      <td>40</td>\n",
       "      <td>attack</td>\n",
       "    </tr>\n",
       "    <tr>\n",
       "      <th>5</th>\n",
       "      <td>Hispanic</td>\n",
       "      <td>Sharp objects</td>\n",
       "      <td>189</td>\n",
       "      <td>attack</td>\n",
       "    </tr>\n",
       "    <tr>\n",
       "      <th>13</th>\n",
       "      <td>Hispanic</td>\n",
       "      <td>Unarmed</td>\n",
       "      <td>63</td>\n",
       "      <td>attack</td>\n",
       "    </tr>\n",
       "    <tr>\n",
       "      <th>51</th>\n",
       "      <td>Hispanic</td>\n",
       "      <td>Explosives</td>\n",
       "      <td>1</td>\n",
       "      <td>other</td>\n",
       "    </tr>\n",
       "    <tr>\n",
       "      <th>54</th>\n",
       "      <td>Native</td>\n",
       "      <td>Piercing objects</td>\n",
       "      <td>1</td>\n",
       "      <td>other</td>\n",
       "    </tr>\n",
       "    <tr>\n",
       "      <th>44</th>\n",
       "      <td>Native</td>\n",
       "      <td>Blunt instruments</td>\n",
       "      <td>2</td>\n",
       "      <td>attack</td>\n",
       "    </tr>\n",
       "    <tr>\n",
       "      <th>35</th>\n",
       "      <td>Native</td>\n",
       "      <td>Unknown</td>\n",
       "      <td>8</td>\n",
       "      <td>attack</td>\n",
       "    </tr>\n",
       "    <tr>\n",
       "      <th>25</th>\n",
       "      <td>Native</td>\n",
       "      <td>Sharp objects</td>\n",
       "      <td>19</td>\n",
       "      <td>attack</td>\n",
       "    </tr>\n",
       "    <tr>\n",
       "      <th>17</th>\n",
       "      <td>Native</td>\n",
       "      <td>Guns</td>\n",
       "      <td>41</td>\n",
       "      <td>attack</td>\n",
       "    </tr>\n",
       "    <tr>\n",
       "      <th>41</th>\n",
       "      <td>Native</td>\n",
       "      <td>Unarmed</td>\n",
       "      <td>4</td>\n",
       "      <td>attack</td>\n",
       "    </tr>\n",
       "    <tr>\n",
       "      <th>49</th>\n",
       "      <td>Native</td>\n",
       "      <td>Electrical devices</td>\n",
       "      <td>1</td>\n",
       "      <td>attack</td>\n",
       "    </tr>\n",
       "    <tr>\n",
       "      <th>53</th>\n",
       "      <td>Native</td>\n",
       "      <td>Other unusual objects</td>\n",
       "      <td>1</td>\n",
       "      <td>attack</td>\n",
       "    </tr>\n",
       "    <tr>\n",
       "      <th>57</th>\n",
       "      <td>Native</td>\n",
       "      <td>Vehicles</td>\n",
       "      <td>1</td>\n",
       "      <td>attack</td>\n",
       "    </tr>\n",
       "    <tr>\n",
       "      <th>48</th>\n",
       "      <td>Other</td>\n",
       "      <td>Vehicles</td>\n",
       "      <td>2</td>\n",
       "      <td>attack</td>\n",
       "    </tr>\n",
       "    <tr>\n",
       "      <th>46</th>\n",
       "      <td>Other</td>\n",
       "      <td>Multiple</td>\n",
       "      <td>2</td>\n",
       "      <td>attack</td>\n",
       "    </tr>\n",
       "    <tr>\n",
       "      <th>55</th>\n",
       "      <td>Other</td>\n",
       "      <td>Piercing objects</td>\n",
       "      <td>1</td>\n",
       "      <td>other</td>\n",
       "    </tr>\n",
       "    <tr>\n",
       "      <th>28</th>\n",
       "      <td>Other</td>\n",
       "      <td>Sharp objects</td>\n",
       "      <td>14</td>\n",
       "      <td>attack</td>\n",
       "    </tr>\n",
       "    <tr>\n",
       "      <th>37</th>\n",
       "      <td>Other</td>\n",
       "      <td>Unknown</td>\n",
       "      <td>5</td>\n",
       "      <td>other</td>\n",
       "    </tr>\n",
       "    <tr>\n",
       "      <th>24</th>\n",
       "      <td>Other</td>\n",
       "      <td>Guns</td>\n",
       "      <td>19</td>\n",
       "      <td>attack</td>\n",
       "    </tr>\n",
       "    <tr>\n",
       "      <th>38</th>\n",
       "      <td>Other</td>\n",
       "      <td>Unarmed</td>\n",
       "      <td>5</td>\n",
       "      <td>attack</td>\n",
       "    </tr>\n",
       "    <tr>\n",
       "      <th>31</th>\n",
       "      <td>White</td>\n",
       "      <td>Electrical devices</td>\n",
       "      <td>10</td>\n",
       "      <td>attack</td>\n",
       "    </tr>\n",
       "    <tr>\n",
       "      <th>27</th>\n",
       "      <td>White</td>\n",
       "      <td>Piercing objects</td>\n",
       "      <td>14</td>\n",
       "      <td>attack</td>\n",
       "    </tr>\n",
       "    <tr>\n",
       "      <th>47</th>\n",
       "      <td>White</td>\n",
       "      <td>Explosives</td>\n",
       "      <td>2</td>\n",
       "      <td>attack</td>\n",
       "    </tr>\n",
       "    <tr>\n",
       "      <th>22</th>\n",
       "      <td>White</td>\n",
       "      <td>Multiple</td>\n",
       "      <td>25</td>\n",
       "      <td>attack</td>\n",
       "    </tr>\n",
       "    <tr>\n",
       "      <th>14</th>\n",
       "      <td>White</td>\n",
       "      <td>Vehicles</td>\n",
       "      <td>58</td>\n",
       "      <td>attack</td>\n",
       "    </tr>\n",
       "    <tr>\n",
       "      <th>12</th>\n",
       "      <td>White</td>\n",
       "      <td>Blunt instruments</td>\n",
       "      <td>65</td>\n",
       "      <td>attack</td>\n",
       "    </tr>\n",
       "    <tr>\n",
       "      <th>10</th>\n",
       "      <td>White</td>\n",
       "      <td>Other unusual objects</td>\n",
       "      <td>106</td>\n",
       "      <td>attack</td>\n",
       "    </tr>\n",
       "    <tr>\n",
       "      <th>7</th>\n",
       "      <td>White</td>\n",
       "      <td>Unarmed</td>\n",
       "      <td>146</td>\n",
       "      <td>attack</td>\n",
       "    </tr>\n",
       "    <tr>\n",
       "      <th>4</th>\n",
       "      <td>White</td>\n",
       "      <td>Unknown</td>\n",
       "      <td>200</td>\n",
       "      <td>attack</td>\n",
       "    </tr>\n",
       "    <tr>\n",
       "      <th>3</th>\n",
       "      <td>White</td>\n",
       "      <td>Sharp objects</td>\n",
       "      <td>395</td>\n",
       "      <td>attack</td>\n",
       "    </tr>\n",
       "    <tr>\n",
       "      <th>0</th>\n",
       "      <td>White</td>\n",
       "      <td>Guns</td>\n",
       "      <td>1455</td>\n",
       "      <td>attack</td>\n",
       "    </tr>\n",
       "  </tbody>\n",
       "</table>\n",
       "</div>"
      ],
      "text/plain": [
       "        race          arms_category   len     min\n",
       "19     Asian                   Guns    35  attack\n",
       "39     Asian      Blunt instruments     5  attack\n",
       "43     Asian               Multiple     3  attack\n",
       "36     Asian                Unarmed     7  attack\n",
       "34     Asian                Unknown     8  attack\n",
       "50     Asian             Explosives     1   other\n",
       "20     Asian          Sharp objects    31  attack\n",
       "52     Asian       Piercing objects     1  attack\n",
       "45     Asian  Other unusual objects     2   other\n",
       "30     Black               Multiple    11  attack\n",
       "16     Black               Vehicles    43  attack\n",
       "15     Black  Other unusual objects    43  attack\n",
       "23     Black      Blunt instruments    20  attack\n",
       "56     Black             Hand tools     1   other\n",
       "8      Black                Unarmed   123  attack\n",
       "6      Black          Sharp objects   170  attack\n",
       "40     Black       Piercing objects     4  attack\n",
       "1      Black                   Guns   766  attack\n",
       "32     Black     Electrical devices     9  attack\n",
       "9      Black                Unknown   108  attack\n",
       "21  Hispanic      Blunt instruments    30  attack\n",
       "26  Hispanic               Vehicles    17  attack\n",
       "29  Hispanic               Multiple    13  attack\n",
       "33  Hispanic       Piercing objects     8  attack\n",
       "42  Hispanic     Electrical devices     4  attack\n",
       "11  Hispanic                Unknown    89  attack\n",
       "2   Hispanic                   Guns   448  attack\n",
       "18  Hispanic  Other unusual objects    40  attack\n",
       "5   Hispanic          Sharp objects   189  attack\n",
       "13  Hispanic                Unarmed    63  attack\n",
       "51  Hispanic             Explosives     1   other\n",
       "54    Native       Piercing objects     1   other\n",
       "44    Native      Blunt instruments     2  attack\n",
       "35    Native                Unknown     8  attack\n",
       "25    Native          Sharp objects    19  attack\n",
       "17    Native                   Guns    41  attack\n",
       "41    Native                Unarmed     4  attack\n",
       "49    Native     Electrical devices     1  attack\n",
       "53    Native  Other unusual objects     1  attack\n",
       "57    Native               Vehicles     1  attack\n",
       "48     Other               Vehicles     2  attack\n",
       "46     Other               Multiple     2  attack\n",
       "55     Other       Piercing objects     1   other\n",
       "28     Other          Sharp objects    14  attack\n",
       "37     Other                Unknown     5   other\n",
       "24     Other                   Guns    19  attack\n",
       "38     Other                Unarmed     5  attack\n",
       "31     White     Electrical devices    10  attack\n",
       "27     White       Piercing objects    14  attack\n",
       "47     White             Explosives     2  attack\n",
       "22     White               Multiple    25  attack\n",
       "14     White               Vehicles    58  attack\n",
       "12     White      Blunt instruments    65  attack\n",
       "10     White  Other unusual objects   106  attack\n",
       "7      White                Unarmed   146  attack\n",
       "4      White                Unknown   200  attack\n",
       "3      White          Sharp objects   395  attack\n",
       "0      White                   Guns  1455  attack"
      ]
     },
     "execution_count": 19,
     "metadata": {},
     "output_type": "execute_result"
    }
   ],
   "source": [
    "#Threats level of Race and Arms category used\n",
    "level.reset_index().sort_values(by='race',ascending =True)"
   ]
  },
  {
   "cell_type": "markdown",
   "id": "0f6b1873",
   "metadata": {},
   "source": [
    "# Age grouping of Shootings"
   ]
  },
  {
   "cell_type": "code",
   "execution_count": 20,
   "id": "20bf1316",
   "metadata": {},
   "outputs": [
    {
     "data": {
      "text/html": [
       "<div>\n",
       "<style scoped>\n",
       "    .dataframe tbody tr th:only-of-type {\n",
       "        vertical-align: middle;\n",
       "    }\n",
       "\n",
       "    .dataframe tbody tr th {\n",
       "        vertical-align: top;\n",
       "    }\n",
       "\n",
       "    .dataframe thead th {\n",
       "        text-align: right;\n",
       "    }\n",
       "</style>\n",
       "<table border=\"1\" class=\"dataframe\">\n",
       "  <thead>\n",
       "    <tr style=\"text-align: right;\">\n",
       "      <th></th>\n",
       "      <th>id</th>\n",
       "      <th>name</th>\n",
       "      <th>date</th>\n",
       "      <th>manner_of_death</th>\n",
       "      <th>armed</th>\n",
       "      <th>age</th>\n",
       "      <th>gender</th>\n",
       "      <th>race</th>\n",
       "      <th>city</th>\n",
       "      <th>state</th>\n",
       "      <th>signs_of_mental_illness</th>\n",
       "      <th>threat_level</th>\n",
       "      <th>flee</th>\n",
       "      <th>body_camera</th>\n",
       "      <th>arms_category</th>\n",
       "    </tr>\n",
       "  </thead>\n",
       "  <tbody>\n",
       "    <tr>\n",
       "      <th>51</th>\n",
       "      <td>100</td>\n",
       "      <td>Kristiana Coignard</td>\n",
       "      <td>2015-01-22</td>\n",
       "      <td>shot and Tasered</td>\n",
       "      <td>knife</td>\n",
       "      <td>17.0</td>\n",
       "      <td>F</td>\n",
       "      <td>White</td>\n",
       "      <td>Longview</td>\n",
       "      <td>TX</td>\n",
       "      <td>True</td>\n",
       "      <td>other</td>\n",
       "      <td>Not fleeing</td>\n",
       "      <td>False</td>\n",
       "      <td>Sharp objects</td>\n",
       "    </tr>\n",
       "    <tr>\n",
       "      <th>59</th>\n",
       "      <td>20</td>\n",
       "      <td>Jessie Hernandez</td>\n",
       "      <td>2015-01-26</td>\n",
       "      <td>shot</td>\n",
       "      <td>unknown</td>\n",
       "      <td>17.0</td>\n",
       "      <td>F</td>\n",
       "      <td>Hispanic</td>\n",
       "      <td>Denver</td>\n",
       "      <td>CO</td>\n",
       "      <td>False</td>\n",
       "      <td>other</td>\n",
       "      <td>Not fleeing</td>\n",
       "      <td>False</td>\n",
       "      <td>Unknown</td>\n",
       "    </tr>\n",
       "    <tr>\n",
       "      <th>77</th>\n",
       "      <td>528</td>\n",
       "      <td>Jacob Haglund</td>\n",
       "      <td>2015-02-02</td>\n",
       "      <td>shot</td>\n",
       "      <td>gun</td>\n",
       "      <td>17.0</td>\n",
       "      <td>M</td>\n",
       "      <td>White</td>\n",
       "      <td>Bay City</td>\n",
       "      <td>MI</td>\n",
       "      <td>False</td>\n",
       "      <td>attack</td>\n",
       "      <td>Not fleeing</td>\n",
       "      <td>False</td>\n",
       "      <td>Guns</td>\n",
       "    </tr>\n",
       "    <tr>\n",
       "      <th>109</th>\n",
       "      <td>149</td>\n",
       "      <td>Jason C. Hendrix</td>\n",
       "      <td>2015-02-14</td>\n",
       "      <td>shot</td>\n",
       "      <td>gun</td>\n",
       "      <td>16.0</td>\n",
       "      <td>M</td>\n",
       "      <td>White</td>\n",
       "      <td>Essex</td>\n",
       "      <td>MD</td>\n",
       "      <td>True</td>\n",
       "      <td>attack</td>\n",
       "      <td>Car</td>\n",
       "      <td>False</td>\n",
       "      <td>Guns</td>\n",
       "    </tr>\n",
       "    <tr>\n",
       "      <th>133</th>\n",
       "      <td>176</td>\n",
       "      <td>A'Donte Washington</td>\n",
       "      <td>2015-02-23</td>\n",
       "      <td>shot</td>\n",
       "      <td>gun</td>\n",
       "      <td>16.0</td>\n",
       "      <td>M</td>\n",
       "      <td>Black</td>\n",
       "      <td>Millbrook</td>\n",
       "      <td>AL</td>\n",
       "      <td>False</td>\n",
       "      <td>attack</td>\n",
       "      <td>Not fleeing</td>\n",
       "      <td>False</td>\n",
       "      <td>Guns</td>\n",
       "    </tr>\n",
       "    <tr>\n",
       "      <th>...</th>\n",
       "      <td>...</td>\n",
       "      <td>...</td>\n",
       "      <td>...</td>\n",
       "      <td>...</td>\n",
       "      <td>...</td>\n",
       "      <td>...</td>\n",
       "      <td>...</td>\n",
       "      <td>...</td>\n",
       "      <td>...</td>\n",
       "      <td>...</td>\n",
       "      <td>...</td>\n",
       "      <td>...</td>\n",
       "      <td>...</td>\n",
       "      <td>...</td>\n",
       "      <td>...</td>\n",
       "    </tr>\n",
       "    <tr>\n",
       "      <th>4606</th>\n",
       "      <td>5495</td>\n",
       "      <td>Alvin Cole</td>\n",
       "      <td>2020-02-02</td>\n",
       "      <td>shot</td>\n",
       "      <td>gun</td>\n",
       "      <td>17.0</td>\n",
       "      <td>M</td>\n",
       "      <td>Black</td>\n",
       "      <td>Wauwatosa</td>\n",
       "      <td>WI</td>\n",
       "      <td>False</td>\n",
       "      <td>attack</td>\n",
       "      <td>Foot</td>\n",
       "      <td>False</td>\n",
       "      <td>Guns</td>\n",
       "    </tr>\n",
       "    <tr>\n",
       "      <th>4636</th>\n",
       "      <td>5536</td>\n",
       "      <td>Daelyn Polu</td>\n",
       "      <td>2020-02-15</td>\n",
       "      <td>shot</td>\n",
       "      <td>gun</td>\n",
       "      <td>16.0</td>\n",
       "      <td>M</td>\n",
       "      <td>Asian</td>\n",
       "      <td>Achorage</td>\n",
       "      <td>AK</td>\n",
       "      <td>False</td>\n",
       "      <td>attack</td>\n",
       "      <td>Not fleeing</td>\n",
       "      <td>False</td>\n",
       "      <td>Guns</td>\n",
       "    </tr>\n",
       "    <tr>\n",
       "      <th>4645</th>\n",
       "      <td>5556</td>\n",
       "      <td>Joseph Jewell</td>\n",
       "      <td>2020-02-20</td>\n",
       "      <td>shot</td>\n",
       "      <td>gun</td>\n",
       "      <td>17.0</td>\n",
       "      <td>M</td>\n",
       "      <td>Black</td>\n",
       "      <td>Columbus</td>\n",
       "      <td>OH</td>\n",
       "      <td>False</td>\n",
       "      <td>attack</td>\n",
       "      <td>Not fleeing</td>\n",
       "      <td>False</td>\n",
       "      <td>Guns</td>\n",
       "    </tr>\n",
       "    <tr>\n",
       "      <th>4653</th>\n",
       "      <td>5592</td>\n",
       "      <td>Dylan Olmeda</td>\n",
       "      <td>2020-02-25</td>\n",
       "      <td>shot</td>\n",
       "      <td>gun</td>\n",
       "      <td>16.0</td>\n",
       "      <td>M</td>\n",
       "      <td>White</td>\n",
       "      <td>Georgetown</td>\n",
       "      <td>TX</td>\n",
       "      <td>False</td>\n",
       "      <td>attack</td>\n",
       "      <td>Not fleeing</td>\n",
       "      <td>False</td>\n",
       "      <td>Guns</td>\n",
       "    </tr>\n",
       "    <tr>\n",
       "      <th>4755</th>\n",
       "      <td>5733</td>\n",
       "      <td>Joshua Dariandre Ruffin</td>\n",
       "      <td>2020-04-08</td>\n",
       "      <td>shot</td>\n",
       "      <td>gun</td>\n",
       "      <td>17.0</td>\n",
       "      <td>M</td>\n",
       "      <td>Black</td>\n",
       "      <td>Columbia</td>\n",
       "      <td>SC</td>\n",
       "      <td>False</td>\n",
       "      <td>other</td>\n",
       "      <td>Foot</td>\n",
       "      <td>False</td>\n",
       "      <td>Guns</td>\n",
       "    </tr>\n",
       "  </tbody>\n",
       "</table>\n",
       "<p>97 rows × 15 columns</p>\n",
       "</div>"
      ],
      "text/plain": [
       "        id                     name       date   manner_of_death    armed  \\\n",
       "51     100       Kristiana Coignard 2015-01-22  shot and Tasered    knife   \n",
       "59      20         Jessie Hernandez 2015-01-26              shot  unknown   \n",
       "77     528            Jacob Haglund 2015-02-02              shot      gun   \n",
       "109    149         Jason C. Hendrix 2015-02-14              shot      gun   \n",
       "133    176       A'Donte Washington 2015-02-23              shot      gun   \n",
       "...    ...                      ...        ...               ...      ...   \n",
       "4606  5495               Alvin Cole 2020-02-02              shot      gun   \n",
       "4636  5536              Daelyn Polu 2020-02-15              shot      gun   \n",
       "4645  5556            Joseph Jewell 2020-02-20              shot      gun   \n",
       "4653  5592             Dylan Olmeda 2020-02-25              shot      gun   \n",
       "4755  5733  Joshua Dariandre Ruffin 2020-04-08              shot      gun   \n",
       "\n",
       "       age gender      race        city state  signs_of_mental_illness  \\\n",
       "51    17.0      F     White    Longview    TX                     True   \n",
       "59    17.0      F  Hispanic      Denver    CO                    False   \n",
       "77    17.0      M     White    Bay City    MI                    False   \n",
       "109   16.0      M     White       Essex    MD                     True   \n",
       "133   16.0      M     Black   Millbrook    AL                    False   \n",
       "...    ...    ...       ...         ...   ...                      ...   \n",
       "4606  17.0      M     Black   Wauwatosa    WI                    False   \n",
       "4636  16.0      M     Asian    Achorage    AK                    False   \n",
       "4645  17.0      M     Black    Columbus    OH                    False   \n",
       "4653  16.0      M     White  Georgetown    TX                    False   \n",
       "4755  17.0      M     Black    Columbia    SC                    False   \n",
       "\n",
       "     threat_level         flee  body_camera  arms_category  \n",
       "51          other  Not fleeing        False  Sharp objects  \n",
       "59          other  Not fleeing        False        Unknown  \n",
       "77         attack  Not fleeing        False           Guns  \n",
       "109        attack          Car        False           Guns  \n",
       "133        attack  Not fleeing        False           Guns  \n",
       "...           ...          ...          ...            ...  \n",
       "4606       attack         Foot        False           Guns  \n",
       "4636       attack  Not fleeing        False           Guns  \n",
       "4645       attack  Not fleeing        False           Guns  \n",
       "4653       attack  Not fleeing        False           Guns  \n",
       "4755        other         Foot        False           Guns  \n",
       "\n",
       "[97 rows x 15 columns]"
      ]
     },
     "execution_count": 20,
=======
       "      <th>100</th>\n",
       "      <td>Kristiana Coignard</td>\n",
       "      <td>2015-01-22</td>\n",
       "      <td>shot and Tasered</td>\n",
       "      <td>knife</td>\n",
       "      <td>17.0</td>\n",
       "      <td>F</td>\n",
       "      <td>White</td>\n",
       "      <td>Longview</td>\n",
       "      <td>TX</td>\n",
       "      <td>True</td>\n",
       "      <td>other</td>\n",
       "      <td>Not fleeing</td>\n",
       "      <td>False</td>\n",
       "      <td>Sharp objects</td>\n",
       "    </tr>\n",
       "    <tr>\n",
       "      <th>20</th>\n",
       "      <td>Jessie Hernandez</td>\n",
       "      <td>2015-01-26</td>\n",
       "      <td>shot</td>\n",
       "      <td>unknown</td>\n",
       "      <td>17.0</td>\n",
       "      <td>F</td>\n",
       "      <td>Hispanic</td>\n",
       "      <td>Denver</td>\n",
       "      <td>CO</td>\n",
       "      <td>False</td>\n",
       "      <td>other</td>\n",
       "      <td>Not fleeing</td>\n",
       "      <td>False</td>\n",
       "      <td>Unknown</td>\n",
       "    </tr>\n",
       "    <tr>\n",
       "      <th>528</th>\n",
       "      <td>Jacob Haglund</td>\n",
       "      <td>2015-02-02</td>\n",
       "      <td>shot</td>\n",
       "      <td>gun</td>\n",
       "      <td>17.0</td>\n",
       "      <td>M</td>\n",
       "      <td>White</td>\n",
       "      <td>Bay City</td>\n",
       "      <td>MI</td>\n",
       "      <td>False</td>\n",
       "      <td>attack</td>\n",
       "      <td>Not fleeing</td>\n",
       "      <td>False</td>\n",
       "      <td>Guns</td>\n",
       "    </tr>\n",
       "    <tr>\n",
       "      <th>149</th>\n",
       "      <td>Jason C. Hendrix</td>\n",
       "      <td>2015-02-14</td>\n",
       "      <td>shot</td>\n",
       "      <td>gun</td>\n",
       "      <td>16.0</td>\n",
       "      <td>M</td>\n",
       "      <td>White</td>\n",
       "      <td>Essex</td>\n",
       "      <td>MD</td>\n",
       "      <td>True</td>\n",
       "      <td>attack</td>\n",
       "      <td>Car</td>\n",
       "      <td>False</td>\n",
       "      <td>Guns</td>\n",
       "    </tr>\n",
       "    <tr>\n",
       "      <th>176</th>\n",
       "      <td>A'Donte Washington</td>\n",
       "      <td>2015-02-23</td>\n",
       "      <td>shot</td>\n",
       "      <td>gun</td>\n",
       "      <td>16.0</td>\n",
       "      <td>M</td>\n",
       "      <td>Black</td>\n",
       "      <td>Millbrook</td>\n",
       "      <td>AL</td>\n",
       "      <td>False</td>\n",
       "      <td>attack</td>\n",
       "      <td>Not fleeing</td>\n",
       "      <td>False</td>\n",
       "      <td>Guns</td>\n",
       "    </tr>\n",
       "  </tbody>\n",
       "</table>\n",
       "</div>"
      ],
      "text/plain": [
       "                   name       date   manner_of_death    armed   age gender  \\\n",
       "id                                                                           \n",
       "100  Kristiana Coignard 2015-01-22  shot and Tasered    knife  17.0      F   \n",
       "20     Jessie Hernandez 2015-01-26              shot  unknown  17.0      F   \n",
       "528       Jacob Haglund 2015-02-02              shot      gun  17.0      M   \n",
       "149    Jason C. Hendrix 2015-02-14              shot      gun  16.0      M   \n",
       "176  A'Donte Washington 2015-02-23              shot      gun  16.0      M   \n",
       "\n",
       "         race       city state  signs_of_mental_illness threat_level  \\\n",
       "id                                                                     \n",
       "100     White   Longview    TX                     True        other   \n",
       "20   Hispanic     Denver    CO                    False        other   \n",
       "528     White   Bay City    MI                    False       attack   \n",
       "149     White      Essex    MD                     True       attack   \n",
       "176     Black  Millbrook    AL                    False       attack   \n",
       "\n",
       "            flee  body_camera  arms_category  \n",
       "id                                            \n",
       "100  Not fleeing        False  Sharp objects  \n",
       "20   Not fleeing        False        Unknown  \n",
       "528  Not fleeing        False           Guns  \n",
       "149          Car        False           Guns  \n",
       "176  Not fleeing        False           Guns  "
      ]
     },
     "execution_count": 55,
>>>>>>> Stashed changes
     "metadata": {},
     "output_type": "execute_result"
    }
   ],
   "source": [
<<<<<<< Updated upstream
    "#18 and above\n",
    "under18=data.loc[data.age<=17]\n",
    "under18"
=======
    "#18 and below\n",
    "under18=data.loc[data.age<=17]\n",
    "under18.head()"
>>>>>>> Stashed changes
   ]
  },
  {
   "cell_type": "code",
<<<<<<< Updated upstream
   "execution_count": 21,
   "id": "2fad7980",
=======
   "execution_count": 56,
   "id": "1c6531b1",
>>>>>>> Stashed changes
   "metadata": {},
   "outputs": [
    {
     "data": {
      "text/html": [
       "<div>\n",
       "<style scoped>\n",
       "    .dataframe tbody tr th:only-of-type {\n",
       "        vertical-align: middle;\n",
       "    }\n",
       "\n",
       "    .dataframe tbody tr th {\n",
       "        vertical-align: top;\n",
       "    }\n",
       "\n",
       "    .dataframe thead th {\n",
       "        text-align: right;\n",
       "    }\n",
       "</style>\n",
       "<table border=\"1\" class=\"dataframe\">\n",
       "  <thead>\n",
       "    <tr style=\"text-align: right;\">\n",
       "      <th></th>\n",
<<<<<<< Updated upstream
       "      <th>id</th>\n",
=======
>>>>>>> Stashed changes
       "      <th>name</th>\n",
       "      <th>date</th>\n",
       "      <th>manner_of_death</th>\n",
       "      <th>armed</th>\n",
       "      <th>age</th>\n",
       "      <th>gender</th>\n",
       "      <th>race</th>\n",
       "      <th>city</th>\n",
       "      <th>state</th>\n",
       "      <th>signs_of_mental_illness</th>\n",
       "      <th>threat_level</th>\n",
       "      <th>flee</th>\n",
       "      <th>body_camera</th>\n",
       "      <th>arms_category</th>\n",
       "    </tr>\n",
<<<<<<< Updated upstream
       "  </thead>\n",
       "  <tbody>\n",
       "    <tr>\n",
       "      <th>0</th>\n",
       "      <td>3</td>\n",
=======
       "    <tr>\n",
       "      <th>id</th>\n",
       "      <th></th>\n",
       "      <th></th>\n",
       "      <th></th>\n",
       "      <th></th>\n",
       "      <th></th>\n",
       "      <th></th>\n",
       "      <th></th>\n",
       "      <th></th>\n",
       "      <th></th>\n",
       "      <th></th>\n",
       "      <th></th>\n",
       "      <th></th>\n",
       "      <th></th>\n",
       "      <th></th>\n",
       "    </tr>\n",
       "  </thead>\n",
       "  <tbody>\n",
       "    <tr>\n",
       "      <th>3</th>\n",
>>>>>>> Stashed changes
       "      <td>Tim Elliot</td>\n",
       "      <td>2015-01-02</td>\n",
       "      <td>shot</td>\n",
       "      <td>gun</td>\n",
       "      <td>53.0</td>\n",
       "      <td>M</td>\n",
       "      <td>Asian</td>\n",
       "      <td>Shelton</td>\n",
       "      <td>WA</td>\n",
       "      <td>True</td>\n",
       "      <td>attack</td>\n",
       "      <td>Not fleeing</td>\n",
       "      <td>False</td>\n",
       "      <td>Guns</td>\n",
       "    </tr>\n",
       "    <tr>\n",
<<<<<<< Updated upstream
       "      <th>1</th>\n",
       "      <td>4</td>\n",
=======
       "      <th>4</th>\n",
>>>>>>> Stashed changes
       "      <td>Lewis Lee Lembke</td>\n",
       "      <td>2015-01-02</td>\n",
       "      <td>shot</td>\n",
       "      <td>gun</td>\n",
       "      <td>47.0</td>\n",
       "      <td>M</td>\n",
       "      <td>White</td>\n",
       "      <td>Aloha</td>\n",
       "      <td>OR</td>\n",
       "      <td>False</td>\n",
       "      <td>attack</td>\n",
       "      <td>Not fleeing</td>\n",
       "      <td>False</td>\n",
       "      <td>Guns</td>\n",
       "    </tr>\n",
       "    <tr>\n",
<<<<<<< Updated upstream
       "      <th>2</th>\n",
       "      <td>5</td>\n",
=======
       "      <th>5</th>\n",
>>>>>>> Stashed changes
       "      <td>John Paul Quintero</td>\n",
       "      <td>2015-01-03</td>\n",
       "      <td>shot and Tasered</td>\n",
       "      <td>unarmed</td>\n",
       "      <td>23.0</td>\n",
       "      <td>M</td>\n",
       "      <td>Hispanic</td>\n",
       "      <td>Wichita</td>\n",
       "      <td>KS</td>\n",
       "      <td>False</td>\n",
       "      <td>other</td>\n",
       "      <td>Not fleeing</td>\n",
       "      <td>False</td>\n",
       "      <td>Unarmed</td>\n",
       "    </tr>\n",
       "    <tr>\n",
<<<<<<< Updated upstream
       "      <th>3</th>\n",
       "      <td>8</td>\n",
=======
       "      <th>8</th>\n",
>>>>>>> Stashed changes
       "      <td>Matthew Hoffman</td>\n",
       "      <td>2015-01-04</td>\n",
       "      <td>shot</td>\n",
       "      <td>toy weapon</td>\n",
       "      <td>32.0</td>\n",
       "      <td>M</td>\n",
       "      <td>White</td>\n",
       "      <td>San Francisco</td>\n",
       "      <td>CA</td>\n",
       "      <td>True</td>\n",
       "      <td>attack</td>\n",
       "      <td>Not fleeing</td>\n",
       "      <td>False</td>\n",
       "      <td>Other unusual objects</td>\n",
       "    </tr>\n",
       "    <tr>\n",
<<<<<<< Updated upstream
       "      <th>4</th>\n",
       "      <td>9</td>\n",
=======
       "      <th>9</th>\n",
>>>>>>> Stashed changes
       "      <td>Michael Rodriguez</td>\n",
       "      <td>2015-01-04</td>\n",
       "      <td>shot</td>\n",
       "      <td>nail gun</td>\n",
       "      <td>39.0</td>\n",
       "      <td>M</td>\n",
       "      <td>Hispanic</td>\n",
       "      <td>Evans</td>\n",
       "      <td>CO</td>\n",
       "      <td>False</td>\n",
       "      <td>attack</td>\n",
       "      <td>Not fleeing</td>\n",
       "      <td>False</td>\n",
       "      <td>Piercing objects</td>\n",
       "    </tr>\n",
<<<<<<< Updated upstream
       "    <tr>\n",
       "      <th>...</th>\n",
       "      <td>...</td>\n",
       "      <td>...</td>\n",
       "      <td>...</td>\n",
       "      <td>...</td>\n",
       "      <td>...</td>\n",
       "      <td>...</td>\n",
       "      <td>...</td>\n",
       "      <td>...</td>\n",
       "      <td>...</td>\n",
       "      <td>...</td>\n",
       "      <td>...</td>\n",
       "      <td>...</td>\n",
       "      <td>...</td>\n",
       "      <td>...</td>\n",
       "      <td>...</td>\n",
       "    </tr>\n",
       "    <tr>\n",
       "      <th>4890</th>\n",
       "      <td>5916</td>\n",
       "      <td>Rayshard Brooks</td>\n",
       "      <td>2020-06-12</td>\n",
       "      <td>shot</td>\n",
       "      <td>Taser</td>\n",
       "      <td>27.0</td>\n",
       "      <td>M</td>\n",
       "      <td>Black</td>\n",
       "      <td>Atlanta</td>\n",
       "      <td>GA</td>\n",
       "      <td>False</td>\n",
       "      <td>attack</td>\n",
       "      <td>Foot</td>\n",
       "      <td>True</td>\n",
       "      <td>Electrical devices</td>\n",
       "    </tr>\n",
       "    <tr>\n",
       "      <th>4891</th>\n",
       "      <td>5925</td>\n",
       "      <td>Caine Van Pelt</td>\n",
       "      <td>2020-06-12</td>\n",
       "      <td>shot</td>\n",
       "      <td>gun</td>\n",
       "      <td>23.0</td>\n",
       "      <td>M</td>\n",
       "      <td>Black</td>\n",
       "      <td>Crown Point</td>\n",
       "      <td>IN</td>\n",
       "      <td>False</td>\n",
       "      <td>attack</td>\n",
       "      <td>Car</td>\n",
       "      <td>False</td>\n",
       "      <td>Guns</td>\n",
       "    </tr>\n",
       "    <tr>\n",
       "      <th>4892</th>\n",
       "      <td>5918</td>\n",
       "      <td>Hannah Fizer</td>\n",
       "      <td>2020-06-13</td>\n",
       "      <td>shot</td>\n",
       "      <td>unarmed</td>\n",
       "      <td>25.0</td>\n",
       "      <td>F</td>\n",
       "      <td>White</td>\n",
       "      <td>Sedalia</td>\n",
       "      <td>MO</td>\n",
       "      <td>False</td>\n",
       "      <td>other</td>\n",
       "      <td>Not fleeing</td>\n",
       "      <td>False</td>\n",
       "      <td>Unarmed</td>\n",
       "    </tr>\n",
       "    <tr>\n",
       "      <th>4893</th>\n",
       "      <td>5921</td>\n",
       "      <td>William Slyter</td>\n",
       "      <td>2020-06-13</td>\n",
       "      <td>shot</td>\n",
       "      <td>gun</td>\n",
       "      <td>22.0</td>\n",
       "      <td>M</td>\n",
       "      <td>White</td>\n",
       "      <td>Kansas City</td>\n",
       "      <td>MO</td>\n",
       "      <td>False</td>\n",
       "      <td>other</td>\n",
       "      <td>Other</td>\n",
       "      <td>False</td>\n",
       "      <td>Guns</td>\n",
       "    </tr>\n",
       "    <tr>\n",
       "      <th>4894</th>\n",
       "      <td>5924</td>\n",
       "      <td>Nicholas Hirsh</td>\n",
       "      <td>2020-06-15</td>\n",
       "      <td>shot</td>\n",
       "      <td>gun</td>\n",
       "      <td>31.0</td>\n",
       "      <td>M</td>\n",
       "      <td>White</td>\n",
       "      <td>Lawrence</td>\n",
       "      <td>KS</td>\n",
       "      <td>False</td>\n",
       "      <td>attack</td>\n",
       "      <td>Car</td>\n",
       "      <td>False</td>\n",
       "      <td>Guns</td>\n",
       "    </tr>\n",
       "  </tbody>\n",
       "</table>\n",
       "<p>4798 rows × 15 columns</p>\n",
       "</div>"
      ],
      "text/plain": [
       "        id                name       date   manner_of_death       armed   age  \\\n",
       "0        3          Tim Elliot 2015-01-02              shot         gun  53.0   \n",
       "1        4    Lewis Lee Lembke 2015-01-02              shot         gun  47.0   \n",
       "2        5  John Paul Quintero 2015-01-03  shot and Tasered     unarmed  23.0   \n",
       "3        8     Matthew Hoffman 2015-01-04              shot  toy weapon  32.0   \n",
       "4        9   Michael Rodriguez 2015-01-04              shot    nail gun  39.0   \n",
       "...    ...                 ...        ...               ...         ...   ...   \n",
       "4890  5916     Rayshard Brooks 2020-06-12              shot       Taser  27.0   \n",
       "4891  5925      Caine Van Pelt 2020-06-12              shot         gun  23.0   \n",
       "4892  5918        Hannah Fizer 2020-06-13              shot     unarmed  25.0   \n",
       "4893  5921      William Slyter 2020-06-13              shot         gun  22.0   \n",
       "4894  5924      Nicholas Hirsh 2020-06-15              shot         gun  31.0   \n",
       "\n",
       "     gender      race           city state  signs_of_mental_illness  \\\n",
       "0         M     Asian        Shelton    WA                     True   \n",
       "1         M     White          Aloha    OR                    False   \n",
       "2         M  Hispanic        Wichita    KS                    False   \n",
       "3         M     White  San Francisco    CA                     True   \n",
       "4         M  Hispanic          Evans    CO                    False   \n",
       "...     ...       ...            ...   ...                      ...   \n",
       "4890      M     Black        Atlanta    GA                    False   \n",
       "4891      M     Black    Crown Point    IN                    False   \n",
       "4892      F     White        Sedalia    MO                    False   \n",
       "4893      M     White    Kansas City    MO                    False   \n",
       "4894      M     White       Lawrence    KS                    False   \n",
       "\n",
       "     threat_level         flee  body_camera          arms_category  \n",
       "0          attack  Not fleeing        False                   Guns  \n",
       "1          attack  Not fleeing        False                   Guns  \n",
       "2           other  Not fleeing        False                Unarmed  \n",
       "3          attack  Not fleeing        False  Other unusual objects  \n",
       "4          attack  Not fleeing        False       Piercing objects  \n",
       "...           ...          ...          ...                    ...  \n",
       "4890       attack         Foot         True     Electrical devices  \n",
       "4891       attack          Car        False                   Guns  \n",
       "4892        other  Not fleeing        False                Unarmed  \n",
       "4893        other        Other        False                   Guns  \n",
       "4894       attack          Car        False                   Guns  \n",
       "\n",
       "[4798 rows x 15 columns]"
      ]
     },
     "execution_count": 21,
=======
       "  </tbody>\n",
       "</table>\n",
       "</div>"
      ],
      "text/plain": [
       "                  name       date   manner_of_death       armed   age gender  \\\n",
       "id                                                                             \n",
       "3           Tim Elliot 2015-01-02              shot         gun  53.0      M   \n",
       "4     Lewis Lee Lembke 2015-01-02              shot         gun  47.0      M   \n",
       "5   John Paul Quintero 2015-01-03  shot and Tasered     unarmed  23.0      M   \n",
       "8      Matthew Hoffman 2015-01-04              shot  toy weapon  32.0      M   \n",
       "9    Michael Rodriguez 2015-01-04              shot    nail gun  39.0      M   \n",
       "\n",
       "        race           city state  signs_of_mental_illness threat_level  \\\n",
       "id                                                                        \n",
       "3      Asian        Shelton    WA                     True       attack   \n",
       "4      White          Aloha    OR                    False       attack   \n",
       "5   Hispanic        Wichita    KS                    False        other   \n",
       "8      White  San Francisco    CA                     True       attack   \n",
       "9   Hispanic          Evans    CO                    False       attack   \n",
       "\n",
       "           flee  body_camera          arms_category  \n",
       "id                                                   \n",
       "3   Not fleeing        False                   Guns  \n",
       "4   Not fleeing        False                   Guns  \n",
       "5   Not fleeing        False                Unarmed  \n",
       "8   Not fleeing        False  Other unusual objects  \n",
       "9   Not fleeing        False       Piercing objects  "
      ]
     },
     "execution_count": 56,
>>>>>>> Stashed changes
     "metadata": {},
     "output_type": "execute_result"
    }
   ],
   "source": [
<<<<<<< Updated upstream
    "#under 18\n",
    "over18=data.loc[data.age>=18]\n",
    "over18"
=======
    "#18 and above\n",
    "over18=data.loc[data.age>=18]\n",
    "over18.head()"
>>>>>>> Stashed changes
   ]
  },
  {
   "cell_type": "code",
<<<<<<< Updated upstream
   "execution_count": 22,
   "id": "0d04fb6f",
=======
   "execution_count": 57,
   "id": "49bdd9b0",
>>>>>>> Stashed changes
   "metadata": {},
   "outputs": [
    {
     "data": {
      "text/html": [
       "<div>\n",
       "<style scoped>\n",
       "    .dataframe tbody tr th:only-of-type {\n",
       "        vertical-align: middle;\n",
       "    }\n",
       "\n",
       "    .dataframe tbody tr th {\n",
       "        vertical-align: top;\n",
       "    }\n",
       "\n",
       "    .dataframe thead th {\n",
       "        text-align: right;\n",
       "    }\n",
       "</style>\n",
       "<table border=\"1\" class=\"dataframe\">\n",
       "  <thead>\n",
       "    <tr style=\"text-align: right;\">\n",
       "      <th></th>\n",
       "      <th>Number of Shootings</th>\n",
       "    </tr>\n",
       "  </thead>\n",
       "  <tbody>\n",
       "    <tr>\n",
       "      <th>Over 18</th>\n",
       "      <td>4798</td>\n",
       "    </tr>\n",
       "    <tr>\n",
       "      <th>Under 18</th>\n",
       "      <td>97</td>\n",
       "    </tr>\n",
       "  </tbody>\n",
       "</table>\n",
       "</div>"
      ],
      "text/plain": [
       "          Number of Shootings\n",
       "Over 18                  4798\n",
       "Under 18                   97"
      ]
     },
<<<<<<< Updated upstream
     "execution_count": 22,
=======
     "execution_count": 57,
>>>>>>> Stashed changes
     "metadata": {},
     "output_type": "execute_result"
    }
   ],
   "source": [
    "Y_and_O =pd.DataFrame({'Number of Shootings':[len(over18),len(under18)]},\n",
    "             index=['Over 18','Under 18'])\n",
<<<<<<< Updated upstream
    "Y_and_O"
   ]
  },
  {
   "cell_type": "code",
   "execution_count": 24,
   "id": "af92bb05",
   "metadata": {},
   "outputs": [
    {
     "data": {
      "text/plain": [
       "<AxesSubplot:>"
      ]
     },
     "execution_count": 24,
     "metadata": {},
     "output_type": "execute_result"
    },
    {
     "data": {
      "image/png": "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\n",
      "text/plain": [
       "<Figure size 432x288 with 1 Axes>"
      ]
     },
     "metadata": {
      "needs_background": "light"
     },
     "output_type": "display_data"
    }
   ],
   "source": [
    "Y_and_O.plot(kind='bar',color='brown')"
   ]
  },
  {
   "cell_type": "markdown",
   "id": "688d81a2",
   "metadata": {},
   "source": [
    "# shootings grouped by Ages and Gender "
   ]
  },
  {
   "cell_type": "code",
   "execution_count": 25,
   "id": "d87600b9",
   "metadata": {},
   "outputs": [
    {
     "data": {
      "text/html": [
       "<div>\n",
       "<style scoped>\n",
       "    .dataframe tbody tr th:only-of-type {\n",
       "        vertical-align: middle;\n",
       "    }\n",
       "\n",
       "    .dataframe tbody tr th {\n",
       "        vertical-align: top;\n",
       "    }\n",
       "\n",
       "    .dataframe thead th {\n",
       "        text-align: right;\n",
       "    }\n",
       "</style>\n",
       "<table border=\"1\" class=\"dataframe\">\n",
       "  <thead>\n",
       "    <tr style=\"text-align: right;\">\n",
       "      <th></th>\n",
       "      <th>len</th>\n",
       "      <th>min</th>\n",
       "      <th>max</th>\n",
       "    </tr>\n",
       "    <tr>\n",
       "      <th>gender</th>\n",
       "      <th></th>\n",
       "      <th></th>\n",
       "      <th></th>\n",
       "    </tr>\n",
       "  </thead>\n",
       "  <tbody>\n",
       "    <tr>\n",
       "      <th>M</th>\n",
       "      <td>90</td>\n",
       "      <td>shot</td>\n",
       "      <td>shot and Tasered</td>\n",
       "    </tr>\n",
       "    <tr>\n",
       "      <th>F</th>\n",
       "      <td>7</td>\n",
       "      <td>shot</td>\n",
       "      <td>shot and Tasered</td>\n",
       "    </tr>\n",
       "  </tbody>\n",
       "</table>\n",
       "</div>"
      ],
      "text/plain": [
       "        len   min               max\n",
       "gender                             \n",
       "M        90  shot  shot and Tasered\n",
       "F         7  shot  shot and Tasered"
      ]
     },
     "execution_count": 25,
     "metadata": {},
     "output_type": "execute_result"
    }
   ],
   "source": [
    "#under 18 years\n",
    "under18.groupby(['gender']).manner_of_death.agg([len,min,max]).sort_values(by='len',ascending =False)\n"
   ]
  },
  {
   "cell_type": "code",
   "execution_count": 26,
   "id": "12817c44",
   "metadata": {},
   "outputs": [
    {
     "data": {
      "text/html": [
       "<div>\n",
       "<style scoped>\n",
       "    .dataframe tbody tr th:only-of-type {\n",
       "        vertical-align: middle;\n",
       "    }\n",
       "\n",
       "    .dataframe tbody tr th {\n",
       "        vertical-align: top;\n",
       "    }\n",
       "\n",
       "    .dataframe thead th {\n",
       "        text-align: right;\n",
       "    }\n",
       "</style>\n",
       "<table border=\"1\" class=\"dataframe\">\n",
       "  <thead>\n",
       "    <tr style=\"text-align: right;\">\n",
       "      <th></th>\n",
       "      <th>len</th>\n",
       "      <th>min</th>\n",
       "      <th>max</th>\n",
       "    </tr>\n",
       "    <tr>\n",
       "      <th>gender</th>\n",
       "      <th></th>\n",
       "      <th></th>\n",
       "      <th></th>\n",
       "    </tr>\n",
       "  </thead>\n",
       "  <tbody>\n",
       "    <tr>\n",
       "      <th>M</th>\n",
       "      <td>4583</td>\n",
       "      <td>shot</td>\n",
       "      <td>shot and Tasered</td>\n",
       "    </tr>\n",
       "    <tr>\n",
       "      <th>F</th>\n",
       "      <td>215</td>\n",
       "      <td>shot</td>\n",
       "      <td>shot and Tasered</td>\n",
       "    </tr>\n",
       "  </tbody>\n",
       "</table>\n",
       "</div>"
      ],
      "text/plain": [
       "         len   min               max\n",
       "gender                              \n",
       "M       4583  shot  shot and Tasered\n",
       "F        215  shot  shot and Tasered"
      ]
     },
     "execution_count": 26,
     "metadata": {},
     "output_type": "execute_result"
    }
   ],
   "source": [
    "#over 18 years\n",
    "over18.groupby(['gender']).manner_of_death.agg([len,min,max]).sort_values(by='len',ascending =False)\n"
=======
    "Y_and_O\n",
    "#number of shootings of suspects more than and less than the age of 18"
>>>>>>> Stashed changes
   ]
  },
  {
   "cell_type": "code",
<<<<<<< Updated upstream
   "execution_count": 27,
   "id": "da75b45b",
=======
   "execution_count": 58,
   "id": "21a41a87",
>>>>>>> Stashed changes
   "metadata": {},
   "outputs": [
    {
     "data": {
<<<<<<< Updated upstream
      "text/plain": [
       "<AxesSubplot:ylabel='gender'>"
      ]
     },
     "execution_count": 27,
     "metadata": {},
     "output_type": "execute_result"
    },
    {
     "data": {
      "image/png": "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\n",
      "text/plain": [
       "<Figure size 432x288 with 1 Axes>"
      ]
     },
     "metadata": {
      "needs_background": "light"
     },
=======
      "image/png": "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\n",
      "text/plain": [
       "<Figure size 720x720 with 1 Axes>"
      ]
     },
     "metadata": {},
>>>>>>> Stashed changes
     "output_type": "display_data"
    }
   ],
   "source": [
<<<<<<< Updated upstream
    "#over 18 years\n",
    "over18.groupby(['gender']).id.agg([len]).sort_values(by='len',ascending =False).plot(kind='barh', color='green')"
=======
    "Y_and_O.plot(kind='bar',color='brown');\n",
    "sns.set(rc={'figure.figsize':(10,10)})"
>>>>>>> Stashed changes
   ]
  },
  {
   "cell_type": "markdown",
<<<<<<< Updated upstream
   "id": "917f333a",
   "metadata": {},
   "source": [
    "# Grouping of Shootings by Year"
   ]
  },
  {
   "cell_type": "code",
   "execution_count": 28,
   "id": "159ab068",
   "metadata": {},
   "outputs": [],
   "source": [
    "shot_2015=data.loc[data['date']<='2015-12-31']\n",
    "shot_2020=data.loc[(data['date']>'2019-12-31')&(data['date']<='2020-12-31')]\n",
    "shot_2016=data.loc[(data['date']>'2015-12-31')&(data['date']<='2016-12-31')]\n",
    "shot_2017=data.loc[(data['date']>'2016-12-31')&(data['date']<='2017-12-31')]\n",
    "shot_2018=data.loc[(data['date']>'2017-12-31')&(data['date']<='2018-12-31')]\n",
    "shot_2019=data.loc[(data['date']>'2018-12-31')&(data['date']<='2019-12-31')]\n"
=======
   "id": "ce6e8681",
   "metadata": {},
   "source": [
    "# How many suspects below and above 18 years were killed? How many are males and females?"
>>>>>>> Stashed changes
   ]
  },
  {
   "cell_type": "code",
<<<<<<< Updated upstream
   "execution_count": 29,
   "id": "0b714133",
=======
   "execution_count": 59,
   "id": "bef52ae7",
>>>>>>> Stashed changes
   "metadata": {},
   "outputs": [
    {
     "data": {
      "text/html": [
       "<div>\n",
       "<style scoped>\n",
       "    .dataframe tbody tr th:only-of-type {\n",
       "        vertical-align: middle;\n",
       "    }\n",
       "\n",
       "    .dataframe tbody tr th {\n",
       "        vertical-align: top;\n",
       "    }\n",
       "\n",
       "    .dataframe thead th {\n",
       "        text-align: right;\n",
       "    }\n",
       "</style>\n",
       "<table border=\"1\" class=\"dataframe\">\n",
       "  <thead>\n",
       "    <tr style=\"text-align: right;\">\n",
       "      <th></th>\n",
<<<<<<< Updated upstream
       "      <th>id</th>\n",
       "      <th>name</th>\n",
       "      <th>date</th>\n",
       "      <th>manner_of_death</th>\n",
       "      <th>armed</th>\n",
       "      <th>age</th>\n",
       "      <th>gender</th>\n",
       "      <th>race</th>\n",
       "      <th>city</th>\n",
       "      <th>state</th>\n",
       "      <th>signs_of_mental_illness</th>\n",
       "      <th>threat_level</th>\n",
       "      <th>flee</th>\n",
       "      <th>body_camera</th>\n",
       "      <th>arms_category</th>\n",
=======
       "      <th>len</th>\n",
       "      <th>min</th>\n",
       "      <th>max</th>\n",
       "    </tr>\n",
       "    <tr>\n",
       "      <th>gender</th>\n",
       "      <th></th>\n",
       "      <th></th>\n",
       "      <th></th>\n",
>>>>>>> Stashed changes
       "    </tr>\n",
       "  </thead>\n",
       "  <tbody>\n",
       "    <tr>\n",
<<<<<<< Updated upstream
       "      <th>4521</th>\n",
       "      <td>5344</td>\n",
       "      <td>Derrick A. Elseth</td>\n",
       "      <td>2020-01-01</td>\n",
       "      <td>shot</td>\n",
       "      <td>gun</td>\n",
       "      <td>24.0</td>\n",
       "      <td>M</td>\n",
       "      <td>White</td>\n",
       "      <td>Richmond County</td>\n",
       "      <td>VA</td>\n",
       "      <td>False</td>\n",
       "      <td>other</td>\n",
       "      <td>Not fleeing</td>\n",
       "      <td>False</td>\n",
       "      <td>Guns</td>\n",
       "    </tr>\n",
       "    <tr>\n",
       "      <th>4522</th>\n",
       "      <td>5403</td>\n",
       "      <td>Gerardo Antonio Conchas-Bustas</td>\n",
       "      <td>2020-01-01</td>\n",
       "      <td>shot</td>\n",
       "      <td>knife</td>\n",
       "      <td>20.0</td>\n",
       "      <td>M</td>\n",
       "      <td>Other</td>\n",
       "      <td>Denver</td>\n",
       "      <td>CO</td>\n",
       "      <td>False</td>\n",
       "      <td>attack</td>\n",
       "      <td>Not fleeing</td>\n",
       "      <td>True</td>\n",
       "      <td>Sharp objects</td>\n",
       "    </tr>\n",
       "    <tr>\n",
       "      <th>4523</th>\n",
       "      <td>5342</td>\n",
       "      <td>Gabriel Strickland</td>\n",
       "      <td>2020-01-01</td>\n",
       "      <td>shot and Tasered</td>\n",
       "      <td>toy weapon</td>\n",
       "      <td>25.0</td>\n",
       "      <td>M</td>\n",
       "      <td>White</td>\n",
       "      <td>Grass Valley</td>\n",
       "      <td>CA</td>\n",
       "      <td>True</td>\n",
       "      <td>attack</td>\n",
       "      <td>Not fleeing</td>\n",
       "      <td>False</td>\n",
       "      <td>Other unusual objects</td>\n",
       "    </tr>\n",
       "    <tr>\n",
       "      <th>4524</th>\n",
       "      <td>5339</td>\n",
       "      <td>Jeffery Dale Millsap</td>\n",
       "      <td>2020-01-02</td>\n",
       "      <td>shot</td>\n",
       "      <td>gun</td>\n",
       "      <td>26.0</td>\n",
       "      <td>M</td>\n",
       "      <td>White</td>\n",
       "      <td>Holt</td>\n",
       "      <td>MO</td>\n",
       "      <td>False</td>\n",
       "      <td>attack</td>\n",
       "      <td>Car</td>\n",
       "      <td>False</td>\n",
       "      <td>Guns</td>\n",
       "    </tr>\n",
       "    <tr>\n",
       "      <th>4525</th>\n",
       "      <td>5349</td>\n",
       "      <td>Jamari Daiwon Tarver</td>\n",
       "      <td>2020-01-02</td>\n",
       "      <td>shot</td>\n",
       "      <td>vehicle</td>\n",
       "      <td>26.0</td>\n",
       "      <td>M</td>\n",
       "      <td>Black</td>\n",
       "      <td>North Las Vegas</td>\n",
       "      <td>NV</td>\n",
       "      <td>False</td>\n",
       "      <td>attack</td>\n",
       "      <td>Car</td>\n",
       "      <td>True</td>\n",
       "      <td>Vehicles</td>\n",
       "    </tr>\n",
       "    <tr>\n",
       "      <th>...</th>\n",
       "      <td>...</td>\n",
       "      <td>...</td>\n",
       "      <td>...</td>\n",
       "      <td>...</td>\n",
       "      <td>...</td>\n",
       "      <td>...</td>\n",
       "      <td>...</td>\n",
       "      <td>...</td>\n",
       "      <td>...</td>\n",
       "      <td>...</td>\n",
       "      <td>...</td>\n",
       "      <td>...</td>\n",
       "      <td>...</td>\n",
       "      <td>...</td>\n",
       "      <td>...</td>\n",
       "    </tr>\n",
       "    <tr>\n",
       "      <th>4890</th>\n",
       "      <td>5916</td>\n",
       "      <td>Rayshard Brooks</td>\n",
       "      <td>2020-06-12</td>\n",
       "      <td>shot</td>\n",
       "      <td>Taser</td>\n",
       "      <td>27.0</td>\n",
       "      <td>M</td>\n",
       "      <td>Black</td>\n",
       "      <td>Atlanta</td>\n",
       "      <td>GA</td>\n",
       "      <td>False</td>\n",
       "      <td>attack</td>\n",
       "      <td>Foot</td>\n",
       "      <td>True</td>\n",
       "      <td>Electrical devices</td>\n",
       "    </tr>\n",
       "    <tr>\n",
       "      <th>4891</th>\n",
       "      <td>5925</td>\n",
       "      <td>Caine Van Pelt</td>\n",
       "      <td>2020-06-12</td>\n",
       "      <td>shot</td>\n",
       "      <td>gun</td>\n",
       "      <td>23.0</td>\n",
       "      <td>M</td>\n",
       "      <td>Black</td>\n",
       "      <td>Crown Point</td>\n",
       "      <td>IN</td>\n",
       "      <td>False</td>\n",
       "      <td>attack</td>\n",
       "      <td>Car</td>\n",
       "      <td>False</td>\n",
       "      <td>Guns</td>\n",
       "    </tr>\n",
       "    <tr>\n",
       "      <th>4892</th>\n",
       "      <td>5918</td>\n",
       "      <td>Hannah Fizer</td>\n",
       "      <td>2020-06-13</td>\n",
       "      <td>shot</td>\n",
       "      <td>unarmed</td>\n",
       "      <td>25.0</td>\n",
       "      <td>F</td>\n",
       "      <td>White</td>\n",
       "      <td>Sedalia</td>\n",
       "      <td>MO</td>\n",
       "      <td>False</td>\n",
       "      <td>other</td>\n",
       "      <td>Not fleeing</td>\n",
       "      <td>False</td>\n",
       "      <td>Unarmed</td>\n",
       "    </tr>\n",
       "    <tr>\n",
       "      <th>4893</th>\n",
       "      <td>5921</td>\n",
       "      <td>William Slyter</td>\n",
       "      <td>2020-06-13</td>\n",
       "      <td>shot</td>\n",
       "      <td>gun</td>\n",
       "      <td>22.0</td>\n",
       "      <td>M</td>\n",
       "      <td>White</td>\n",
       "      <td>Kansas City</td>\n",
       "      <td>MO</td>\n",
       "      <td>False</td>\n",
       "      <td>other</td>\n",
       "      <td>Other</td>\n",
       "      <td>False</td>\n",
       "      <td>Guns</td>\n",
       "    </tr>\n",
       "    <tr>\n",
       "      <th>4894</th>\n",
       "      <td>5924</td>\n",
       "      <td>Nicholas Hirsh</td>\n",
       "      <td>2020-06-15</td>\n",
       "      <td>shot</td>\n",
       "      <td>gun</td>\n",
       "      <td>31.0</td>\n",
       "      <td>M</td>\n",
       "      <td>White</td>\n",
       "      <td>Lawrence</td>\n",
       "      <td>KS</td>\n",
       "      <td>False</td>\n",
       "      <td>attack</td>\n",
       "      <td>Car</td>\n",
       "      <td>False</td>\n",
       "      <td>Guns</td>\n",
       "    </tr>\n",
       "  </tbody>\n",
       "</table>\n",
       "<p>374 rows × 15 columns</p>\n",
       "</div>"
      ],
      "text/plain": [
       "        id                            name       date   manner_of_death  \\\n",
       "4521  5344               Derrick A. Elseth 2020-01-01              shot   \n",
       "4522  5403  Gerardo Antonio Conchas-Bustas 2020-01-01              shot   \n",
       "4523  5342              Gabriel Strickland 2020-01-01  shot and Tasered   \n",
       "4524  5339            Jeffery Dale Millsap 2020-01-02              shot   \n",
       "4525  5349            Jamari Daiwon Tarver 2020-01-02              shot   \n",
       "...    ...                             ...        ...               ...   \n",
       "4890  5916                 Rayshard Brooks 2020-06-12              shot   \n",
       "4891  5925                  Caine Van Pelt 2020-06-12              shot   \n",
       "4892  5918                    Hannah Fizer 2020-06-13              shot   \n",
       "4893  5921                  William Slyter 2020-06-13              shot   \n",
       "4894  5924                  Nicholas Hirsh 2020-06-15              shot   \n",
       "\n",
       "           armed   age gender   race             city state  \\\n",
       "4521         gun  24.0      M  White  Richmond County    VA   \n",
       "4522       knife  20.0      M  Other           Denver    CO   \n",
       "4523  toy weapon  25.0      M  White     Grass Valley    CA   \n",
       "4524         gun  26.0      M  White             Holt    MO   \n",
       "4525     vehicle  26.0      M  Black  North Las Vegas    NV   \n",
       "...          ...   ...    ...    ...              ...   ...   \n",
       "4890       Taser  27.0      M  Black          Atlanta    GA   \n",
       "4891         gun  23.0      M  Black      Crown Point    IN   \n",
       "4892     unarmed  25.0      F  White          Sedalia    MO   \n",
       "4893         gun  22.0      M  White      Kansas City    MO   \n",
       "4894         gun  31.0      M  White         Lawrence    KS   \n",
       "\n",
       "      signs_of_mental_illness threat_level         flee  body_camera  \\\n",
       "4521                    False        other  Not fleeing        False   \n",
       "4522                    False       attack  Not fleeing         True   \n",
       "4523                     True       attack  Not fleeing        False   \n",
       "4524                    False       attack          Car        False   \n",
       "4525                    False       attack          Car         True   \n",
       "...                       ...          ...          ...          ...   \n",
       "4890                    False       attack         Foot         True   \n",
       "4891                    False       attack          Car        False   \n",
       "4892                    False        other  Not fleeing        False   \n",
       "4893                    False        other        Other        False   \n",
       "4894                    False       attack          Car        False   \n",
       "\n",
       "              arms_category  \n",
       "4521                   Guns  \n",
       "4522          Sharp objects  \n",
       "4523  Other unusual objects  \n",
       "4524                   Guns  \n",
       "4525               Vehicles  \n",
       "...                     ...  \n",
       "4890     Electrical devices  \n",
       "4891                   Guns  \n",
       "4892                Unarmed  \n",
       "4893                   Guns  \n",
       "4894                   Guns  \n",
       "\n",
       "[374 rows x 15 columns]"
      ]
     },
     "execution_count": 29,
=======
       "      <th>M</th>\n",
       "      <td>90</td>\n",
       "      <td>shot</td>\n",
       "      <td>shot and Tasered</td>\n",
       "    </tr>\n",
       "    <tr>\n",
       "      <th>F</th>\n",
       "      <td>7</td>\n",
       "      <td>shot</td>\n",
       "      <td>shot and Tasered</td>\n",
       "    </tr>\n",
       "  </tbody>\n",
       "</table>\n",
       "</div>"
      ],
      "text/plain": [
       "        len   min               max\n",
       "gender                             \n",
       "M        90  shot  shot and Tasered\n",
       "F         7  shot  shot and Tasered"
      ]
     },
     "execution_count": 59,
>>>>>>> Stashed changes
     "metadata": {},
     "output_type": "execute_result"
    }
   ],
   "source": [
<<<<<<< Updated upstream
    "#shot_2015\n",
    "\n",
    "#shot_2016\n",
    "\n",
    "#shot_2017\n",
    "\n",
    "#shot_2018\n",
    "\n",
    "#shot_2019\n",
    "\n",
    "shot_2020"
   ]
  },
  {
   "cell_type": "markdown",
   "id": "08771986",
   "metadata": {},
   "source": [
    "#  Race Shootings Per Each Year\n"
=======
    "#under 18 years\n",
    "under18.groupby(['gender']).manner_of_death.agg([len,min,max]).sort_values(by='len',ascending =False)"
   ]
  },
  {
   "cell_type": "code",
   "execution_count": 70,
   "id": "96577e1e",
   "metadata": {},
   "outputs": [
    {
     "data": {
      "image/png": "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\n",
      "text/plain": [
       "<Figure size 360x360 with 1 Axes>"
      ]
     },
     "metadata": {},
     "output_type": "display_data"
    }
   ],
   "source": [
    "#under 18 years\n",
    "under18.groupby(['gender']).manner_of_death.agg([len]).sort_values(by='len',ascending =False).plot(kind='bar', color='yellow');\n",
    "sns.set(rc={'figure.figsize':(3,5)})"
>>>>>>> Stashed changes
   ]
  },
  {
   "cell_type": "code",
<<<<<<< Updated upstream
   "execution_count": 30,
   "id": "629df2fe",
=======
   "execution_count": 62,
   "id": "84184810",
>>>>>>> Stashed changes
   "metadata": {},
   "outputs": [
    {
     "data": {
      "text/html": [
       "<div>\n",
       "<style scoped>\n",
       "    .dataframe tbody tr th:only-of-type {\n",
       "        vertical-align: middle;\n",
       "    }\n",
       "\n",
       "    .dataframe tbody tr th {\n",
       "        vertical-align: top;\n",
       "    }\n",
       "\n",
       "    .dataframe thead th {\n",
       "        text-align: right;\n",
       "    }\n",
       "</style>\n",
       "<table border=\"1\" class=\"dataframe\">\n",
       "  <thead>\n",
       "    <tr style=\"text-align: right;\">\n",
       "      <th></th>\n",
       "      <th>len</th>\n",
       "      <th>min</th>\n",
       "      <th>max</th>\n",
       "    </tr>\n",
       "    <tr>\n",
<<<<<<< Updated upstream
       "      <th>race</th>\n",
=======
       "      <th>gender</th>\n",
>>>>>>> Stashed changes
       "      <th></th>\n",
       "      <th></th>\n",
       "      <th></th>\n",
       "    </tr>\n",
       "  </thead>\n",
       "  <tbody>\n",
       "    <tr>\n",
<<<<<<< Updated upstream
       "      <th>White</th>\n",
       "      <td>194</td>\n",
       "      <td>shot</td>\n",
       "      <td>shot and Tasered</td>\n",
       "    </tr>\n",
       "    <tr>\n",
       "      <th>Black</th>\n",
       "      <td>103</td>\n",
       "      <td>shot</td>\n",
       "      <td>shot and Tasered</td>\n",
       "    </tr>\n",
       "    <tr>\n",
       "      <th>Hispanic</th>\n",
       "      <td>63</td>\n",
=======
       "      <th>M</th>\n",
       "      <td>4583</td>\n",
>>>>>>> Stashed changes
       "      <td>shot</td>\n",
       "      <td>shot and Tasered</td>\n",
       "    </tr>\n",
       "    <tr>\n",
<<<<<<< Updated upstream
       "      <th>Asian</th>\n",
       "      <td>8</td>\n",
       "      <td>shot</td>\n",
       "      <td>shot and Tasered</td>\n",
       "    </tr>\n",
       "    <tr>\n",
       "      <th>Native</th>\n",
       "      <td>3</td>\n",
       "      <td>shot</td>\n",
       "      <td>shot</td>\n",
       "    </tr>\n",
       "    <tr>\n",
       "      <th>Other</th>\n",
       "      <td>3</td>\n",
       "      <td>shot</td>\n",
       "      <td>shot</td>\n",
       "    </tr>\n",
=======
       "      <th>F</th>\n",
       "      <td>215</td>\n",
       "      <td>shot</td>\n",
       "      <td>shot and Tasered</td>\n",
       "    </tr>\n",
>>>>>>> Stashed changes
       "  </tbody>\n",
       "</table>\n",
       "</div>"
      ],
      "text/plain": [
<<<<<<< Updated upstream
       "          len   min               max\n",
       "race                                 \n",
       "White     194  shot  shot and Tasered\n",
       "Black     103  shot  shot and Tasered\n",
       "Hispanic   63  shot  shot and Tasered\n",
       "Asian       8  shot  shot and Tasered\n",
       "Native      3  shot              shot\n",
       "Other       3  shot              shot"
      ]
     },
     "execution_count": 30,
     "metadata": {},
     "output_type": "execute_result"
    }
   ],
   "source": [
    "\n",
    "                            #YEARS\n",
    "#shot_2015.groupby(['race']).manner_of_death.agg([len,min,max]).sort_values(by='len',ascending =False)\n",
    "\n",
    "\n",
    "\n",
    "#shot_2016.groupby(['race']).manner_of_death.agg([len,min,max]).sort_values(by='len',ascending =False)\n",
    "\n",
    "\n",
    "\n",
    "#shot_2017.groupby(['race']).manner_of_death.agg([len,min,max]).sort_values(by='len',ascending =False)\n",
    "\n",
    "\n",
    "\n",
    "#shot_2018.groupby(['race']).manner_of_death.agg([len,min,max]).sort_values(by='len',ascending =False)\n",
    "\n",
    "\n",
    "#shot_2019.groupby(['race']).manner_of_death.agg([len,min,max]).sort_values(by='len',ascending =False)\n",
    "\n",
    "\n",
    "\n",
    "shot_2020.groupby(['race']).manner_of_death.agg([len,min,max]).sort_values(by='len',ascending =False)\n"
=======
       "         len   min               max\n",
       "gender                              \n",
       "M       4583  shot  shot and Tasered\n",
       "F        215  shot  shot and Tasered"
      ]
     },
     "execution_count": 62,
     "metadata": {},
     "output_type": "execute_result"
    }
   ],
   "source": [
    "#over 18 years\n",
    "over18.groupby(['gender']).manner_of_death.agg([len,min,max]).sort_values(by='len',ascending =False)"
   ]
  },
  {
   "cell_type": "code",
   "execution_count": 74,
   "id": "103132ce",
   "metadata": {},
   "outputs": [
    {
     "data": {
      "image/png": "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\n",
      "text/plain": [
       "<Figure size 216x360 with 1 Axes>"
      ]
     },
     "metadata": {},
     "output_type": "display_data"
    }
   ],
   "source": [
    "#over 18 years\n",
    "over18.groupby(['gender']).manner_of_death.agg([len]).sort_values(by='len',ascending =False).plot(kind='bar', color='green');\n"
   ]
  },
  {
   "cell_type": "markdown",
   "id": "b23a9f32",
   "metadata": {},
   "source": [
    "# Grouping of Shootings by Year"
   ]
  },
  {
   "cell_type": "code",
   "execution_count": 77,
   "id": "e2e8116c",
   "metadata": {},
   "outputs": [],
   "source": [
    "shot_2015=data.loc[data['date']<='2015-12-31']\n",
    "shot_2020=data.loc[(data['date']>'2019-12-31')&(data['date']<='2020-12-31')]\n",
    "shot_2016=data.loc[(data['date']>'2015-12-31')&(data['date']<='2016-12-31')]\n",
    "shot_2017=data.loc[(data['date']>'2016-12-31')&(data['date']<='2017-12-31')]\n",
    "shot_2018=data.loc[(data['date']>'2017-12-31')&(data['date']<='2018-12-31')]\n",
    "shot_2019=data.loc[(data['date']>'2018-12-31')&(data['date']<='2019-12-31')]\n",
    "#shot_2015\n",
    "#shot_2016\n",
    "#shot_2017\n",
    "#shot_2018\n",
    "#shot_2019\n",
    "#shot_2020"
   ]
  },
  {
   "cell_type": "markdown",
   "id": "0d878b38",
   "metadata": {},
   "source": [
    "# Number of Shootings of Race Per Each Year\n",
    "# a. 2015"
   ]
  },
  {
   "cell_type": "code",
   "execution_count": 112,
   "id": "a44bc3cd",
   "metadata": {},
   "outputs": [
    {
     "data": {
      "image/png": "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\n",
      "text/plain": [
       "<Figure size 288x288 with 1 Axes>"
      ]
     },
     "metadata": {},
     "output_type": "display_data"
    }
   ],
   "source": [
    "shot_2015.groupby(['race']).manner_of_death.agg([len]).sort_values(by='len',ascending =False).plot(kind='bar', color='black');\n",
    "sns.set(rc={'figure.figsize':(4,4)})"
>>>>>>> Stashed changes
   ]
  },
  {
   "cell_type": "markdown",
<<<<<<< Updated upstream
   "id": "7d4faac0",
   "metadata": {},
   "source": [
    "# Men under 45 are the victims"
=======
   "id": "fb52c913",
   "metadata": {},
   "source": [
    "# b. 2016"
>>>>>>> Stashed changes
   ]
  },
  {
   "cell_type": "code",
<<<<<<< Updated upstream
   "execution_count": 31,
   "id": "10a4f2e9",
   "metadata": {},
   "outputs": [],
   "source": [
    "men_under45=data.loc[(data.gender=='M')&(data.age<=45)]\n",
    "men_over45=data.loc[(data.gender=='M')&~(data.age<=45)]"
=======
   "execution_count": 111,
   "id": "93ae5a8d",
   "metadata": {},
   "outputs": [
    {
     "data": {
      "image/png": "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\n",
      "text/plain": [
       "<Figure size 216x216 with 1 Axes>"
      ]
     },
     "metadata": {},
     "output_type": "display_data"
    }
   ],
   "source": [
    "shot_2016.groupby(['race']).manner_of_death.agg([len]).sort_values(by='len',ascending =False).plot(kind='bar', color='black');\n",
    "sns.set(rc={'figure.figsize':(4,4)})"
   ]
  },
  {
   "cell_type": "markdown",
   "id": "8832c97c",
   "metadata": {},
   "source": [
    "# c. 2017"
>>>>>>> Stashed changes
   ]
  },
  {
   "cell_type": "code",
<<<<<<< Updated upstream
   "execution_count": 32,
   "id": "a6421082",
   "metadata": {},
   "outputs": [
    {
     "name": "stdout",
     "output_type": "stream",
     "text": [
      "Number of Men over 45 year :1082\n",
      "Number of Men under 45 year :3591\n"
     ]
    }
   ],
   "source": [
    "print(f'Number of Men over 45 year :{len(men_over45)}')\n",
    "print(f'Number of Men under 45 year :{len(men_under45)}')"
=======
   "execution_count": 113,
   "id": "b3d71f4b",
   "metadata": {},
   "outputs": [
    {
     "data": {
      "image/png": "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\n",
      "text/plain": [
       "<Figure size 288x288 with 1 Axes>"
      ]
     },
     "metadata": {},
     "output_type": "display_data"
    }
   ],
   "source": [
    "shot_2017.groupby(['race']).manner_of_death.agg([len]).sort_values(by='len',ascending =False).plot(kind='bar', color='black');\n",
    "sns.set(rc={'figure.figsize':(4,4)})\n"
   ]
  },
  {
   "cell_type": "markdown",
   "id": "b2cf4260",
   "metadata": {},
   "source": [
    "# d. 2018"
>>>>>>> Stashed changes
   ]
  },
  {
   "cell_type": "code",
<<<<<<< Updated upstream
   "execution_count": 36,
   "id": "4a9ca013",
=======
   "execution_count": 114,
   "id": "9c24f9b8",
>>>>>>> Stashed changes
   "metadata": {},
   "outputs": [
    {
     "data": {
<<<<<<< Updated upstream
      "text/html": [
       "<div>\n",
       "<style scoped>\n",
       "    .dataframe tbody tr th:only-of-type {\n",
       "        vertical-align: middle;\n",
       "    }\n",
       "\n",
       "    .dataframe tbody tr th {\n",
       "        vertical-align: top;\n",
       "    }\n",
       "\n",
       "    .dataframe thead th {\n",
       "        text-align: right;\n",
       "    }\n",
       "</style>\n",
       "<table border=\"1\" class=\"dataframe\">\n",
       "  <thead>\n",
       "    <tr style=\"text-align: right;\">\n",
       "      <th></th>\n",
       "      <th>Year</th>\n",
       "      <th>Number_of_death</th>\n",
       "    </tr>\n",
       "  </thead>\n",
       "  <tbody>\n",
       "    <tr>\n",
       "      <th>Men 45 Years and above</th>\n",
       "      <td>men_over45</td>\n",
       "      <td>1082</td>\n",
       "    </tr>\n",
       "    <tr>\n",
       "      <th>Men below 45 Years</th>\n",
       "      <td>men_under45</td>\n",
       "      <td>3591</td>\n",
       "    </tr>\n",
       "  </tbody>\n",
       "</table>\n",
       "</div>"
      ],
      "text/plain": [
       "                               Year  Number_of_death\n",
       "Men 45 Years and above   men_over45             1082\n",
       "Men below 45 Years      men_under45             3591"
      ]
     },
     "execution_count": 36,
     "metadata": {},
     "output_type": "execute_result"
    }
   ],
   "source": [
    "years45"
=======
      "image/png": "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\n",
      "text/plain": [
       "<Figure size 288x288 with 1 Axes>"
      ]
     },
     "metadata": {},
     "output_type": "display_data"
    }
   ],
   "source": [
    "shot_2018.groupby(['race']).manner_of_death.agg([len]).sort_values(by='len',ascending =False).plot(kind='bar', color='black');\n",
    "sns.set(rc={'figure.figsize':(4,4)})\n"
   ]
  },
  {
   "cell_type": "markdown",
   "id": "e45f1135",
   "metadata": {},
   "source": [
    "# e. 2019"
>>>>>>> Stashed changes
   ]
  },
  {
   "cell_type": "code",
<<<<<<< Updated upstream
   "execution_count": 33,
   "id": "49641c23",
=======
   "execution_count": 115,
   "id": "66ee7668",
>>>>>>> Stashed changes
   "metadata": {},
   "outputs": [
    {
     "data": {
<<<<<<< Updated upstream
      "text/plain": [
       "<AxesSubplot:>"
      ]
     },
     "execution_count": 33,
     "metadata": {},
     "output_type": "execute_result"
    },
    {
     "data": {
      "image/png": "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\n",
      "text/plain": [
       "<Figure size 432x288 with 1 Axes>"
      ]
     },
     "metadata": {
      "needs_background": "light"
     },
=======
      "image/png": "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\n",
      "text/plain": [
       "<Figure size 288x288 with 1 Axes>"
      ]
     },
     "metadata": {},
     "output_type": "display_data"
    }
   ],
   "source": [
    "shot_2019.groupby(['race']).manner_of_death.agg([len]).sort_values(by='len',ascending =False).plot(kind='bar', color='black');\n",
    "sns.set(rc={'figure.figsize':(4,4)})"
   ]
  },
  {
   "cell_type": "markdown",
   "id": "99a76a31",
   "metadata": {},
   "source": [
    "# f. 2020"
   ]
  },
  {
   "cell_type": "code",
   "execution_count": 117,
   "id": "50df8e90",
   "metadata": {},
   "outputs": [
    {
     "data": {
      "image/png": "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\n",
      "text/plain": [
       "<Figure size 288x288 with 1 Axes>"
      ]
     },
     "metadata": {},
>>>>>>> Stashed changes
     "output_type": "display_data"
    }
   ],
   "source": [
<<<<<<< Updated upstream
    "years45=pd.DataFrame({'Year':['men_over45','men_under45'],\n",
    "                      'Number_of_death':[len(men_over45),len(men_under45)]},\n",
    "                    index=['Men 45 Years and above','Men below 45 Years'])\n",
    "years45.plot(kind='barh',color='orange')"
=======
    "shot_2020.groupby(['race']).manner_of_death.agg([len]).sort_values(by='len',ascending =False).plot(kind='bar', color='black');\n",
    "sns.set(rc={'figure.figsize':(4,4)})"
>>>>>>> Stashed changes
   ]
  },
  {
   "cell_type": "markdown",
<<<<<<< Updated upstream
   "id": "8d9e2074",
   "metadata": {},
   "source": [
    "#  # Armed and  Unarmed blacks "
=======
   "id": "9914b339",
   "metadata": {},
   "source": [
    "# Armed and Unarmed blacks\n"
>>>>>>> Stashed changes
   ]
  },
  {
   "cell_type": "code",
<<<<<<< Updated upstream
   "execution_count": 37,
   "id": "a414dad3",
=======
   "execution_count": 118,
   "id": "b3a9f701",
>>>>>>> Stashed changes
   "metadata": {},
   "outputs": [],
   "source": [
    "#data for both Armed and Unarmed\n",
    "b_armed=data.loc[(data.race=='Black')&~(data.arms_category=='Unarmed')]\n",
<<<<<<< Updated upstream
    "b_unarmed=data.loc[(data.race=='Black')&(data.arms_category=='Unarmed')]"
=======
    "b_unarmed=data.loc[(data.race=='Black')&(data.arms_category=='Unarmed')]\n",
    "\n"
>>>>>>> Stashed changes
   ]
  },
  {
   "cell_type": "code",
<<<<<<< Updated upstream
   "execution_count": 39,
   "id": "2f02dafc",
=======
   "execution_count": 121,
   "id": "2d8462e6",
>>>>>>> Stashed changes
   "metadata": {},
   "outputs": [
    {
     "name": "stdout",
     "output_type": "stream",
     "text": [
      "Blacks Unarmed: 123\n",
      "Blacks armed: 1175\n"
     ]
    }
   ],
   "source": [
<<<<<<< Updated upstream
    "#lenght of the data\n",
=======
    "#length of the data\n",
>>>>>>> Stashed changes
    "print('Blacks Unarmed:',len(b_unarmed))\n",
    "print('Blacks armed:',len(b_armed))"
   ]
  },
  {
   "cell_type": "code",
<<<<<<< Updated upstream
   "execution_count": 40,
   "id": "dec77bf5",
=======
   "execution_count": 122,
   "id": "b16db5b9",
>>>>>>> Stashed changes
   "metadata": {},
   "outputs": [],
   "source": [
    "#lenght of data of blacks- claimed armed \n",
    "b_armed_noproof=b_armed.loc[b_armed.body_camera==False]"
   ]
  },
  {
   "cell_type": "code",
<<<<<<< Updated upstream
   "execution_count": 41,
   "id": "1acf708a",
=======
   "execution_count": 123,
   "id": "6aff14bb",
>>>>>>> Stashed changes
   "metadata": {},
   "outputs": [
    {
     "name": "stdout",
     "output_type": "stream",
     "text": [
      "Blacks claimed armed But no proof: 994\n"
     ]
    }
   ],
   "source": [
    "#length  of Blacks claimed armed But no proof\n",
    "print('Blacks claimed armed But no proof:',len(b_armed_noproof))"
   ]
  },
  {
   "cell_type": "code",
<<<<<<< Updated upstream
   "execution_count": 42,
   "id": "484aab7e",
=======
   "execution_count": 128,
   "id": "077a7638",
>>>>>>> Stashed changes
   "metadata": {},
   "outputs": [
    {
     "name": "stdout",
     "output_type": "stream",
     "text": [
      "Percentage of suspects claimed to be armed without proof:85%\n"
     ]
    }
   ],
   "source": [
<<<<<<< Updated upstream
    "    #PERCENTAGE \n",
=======
    "#PERCENTAGE \n",
>>>>>>> Stashed changes
    "percentage_claim=(len(b_armed_noproof)/len(b_armed))*100\n",
    "ans=round(percentage_claim)\n",
    "print(f'Percentage of suspects claimed to be armed without proof:{ans}%')"
   ]
  },
  {
   "cell_type": "markdown",
<<<<<<< Updated upstream
   "id": "e4b327f2",
   "metadata": {},
   "source": [
    "# SUSPECTS WHO FLEE"
=======
   "id": "a85805c3",
   "metadata": {},
   "source": [
    "# Percentage of suspects who fled"
>>>>>>> Stashed changes
   ]
  },
  {
   "cell_type": "code",
<<<<<<< Updated upstream
   "execution_count": 43,
   "id": "9f04a4c8",
=======
   "execution_count": 129,
   "id": "7bde38e5",
>>>>>>> Stashed changes
   "metadata": {},
   "outputs": [],
   "source": [
    "flee=data.loc[~(data.flee=='Not fleeing')]\n",
    "didnt_flee=data.loc[(data.flee=='Not fleeing')]"
   ]
  },
  {
   "cell_type": "code",
<<<<<<< Updated upstream
   "execution_count": 44,
   "id": "4ea867b7",
=======
   "execution_count": 130,
   "id": "d3978233",
>>>>>>> Stashed changes
   "metadata": {},
   "outputs": [
    {
     "name": "stdout",
     "output_type": "stream",
     "text": [
      "Number of Fled Cases: 1822\n",
      "Number of no Fled Cases: 3073\n"
     ]
    }
   ],
   "source": [
    "print('Number of Fled Cases:',len(flee))\n",
    "print('Number of no Fled Cases:',len(didnt_flee))"
   ]
  },
  {
   "cell_type": "code",
<<<<<<< Updated upstream
   "execution_count": 45,
   "id": "80fddf77",
=======
   "execution_count": 131,
   "id": "83fd97b2",
>>>>>>> Stashed changes
   "metadata": {},
   "outputs": [
    {
     "name": "stdout",
     "output_type": "stream",
     "text": [
      "Percentage of suspects who fled: 37%\n"
     ]
    }
   ],
   "source": [
    "percent_flee=(len(flee)/len(data))*100\n",
    "away=round(percent_flee)\n",
    "print(f'Percentage of suspects who fled: {away}%')"
   ]
<<<<<<< Updated upstream
=======
  },
  {
   "cell_type": "markdown",
   "id": "0d3c1fec",
   "metadata": {},
   "source": [
    "# Men under 45 are the victims"
   ]
  },
  {
   "cell_type": "code",
   "execution_count": 132,
   "id": "90ae768b",
   "metadata": {},
   "outputs": [],
   "source": [
    "men_under45=data.loc[(data.gender=='M')&(data.age<=45)]\n",
    "men_over45=data.loc[(data.gender=='M')&~(data.age<=45)]"
   ]
  },
  {
   "cell_type": "code",
   "execution_count": 133,
   "id": "01300813",
   "metadata": {},
   "outputs": [
    {
     "name": "stdout",
     "output_type": "stream",
     "text": [
      "Number of Men over 45 year :1082\n",
      "Number of Men under 45 year :3591\n"
     ]
    }
   ],
   "source": [
    "print(f'Number of Men over 45 years :{len(men_over45)}')\n",
    "print(f'Number of Men under 45 years :{len(men_under45)}')"
   ]
  },
  {
   "cell_type": "code",
   "execution_count": 140,
   "id": "a111bd22",
   "metadata": {},
   "outputs": [
    {
     "data": {
      "text/html": [
       "<div>\n",
       "<style scoped>\n",
       "    .dataframe tbody tr th:only-of-type {\n",
       "        vertical-align: middle;\n",
       "    }\n",
       "\n",
       "    .dataframe tbody tr th {\n",
       "        vertical-align: top;\n",
       "    }\n",
       "\n",
       "    .dataframe thead th {\n",
       "        text-align: right;\n",
       "    }\n",
       "</style>\n",
       "<table border=\"1\" class=\"dataframe\">\n",
       "  <thead>\n",
       "    <tr style=\"text-align: right;\">\n",
       "      <th></th>\n",
       "      <th>Year</th>\n",
       "      <th>Number_of_death</th>\n",
       "    </tr>\n",
       "  </thead>\n",
       "  <tbody>\n",
       "    <tr>\n",
       "      <th>Men 45 Years and above</th>\n",
       "      <td>men_over45</td>\n",
       "      <td>1082</td>\n",
       "    </tr>\n",
       "    <tr>\n",
       "      <th>Men below 45 Years</th>\n",
       "      <td>men_under45</td>\n",
       "      <td>3591</td>\n",
       "    </tr>\n",
       "  </tbody>\n",
       "</table>\n",
       "</div>"
      ],
      "text/plain": [
       "                               Year  Number_of_death\n",
       "Men 45 Years and above   men_over45             1082\n",
       "Men below 45 Years      men_under45             3591"
      ]
     },
     "execution_count": 140,
     "metadata": {},
     "output_type": "execute_result"
    }
   ],
   "source": [
    "years45=pd.DataFrame({'Year':['men_over45','men_under45'],\n",
    "                      'Number_of_death':[len(men_over45),len(men_under45)]},\n",
    "                    index=['Men 45 Years and above','Men below 45 Years'])\n",
    "years45"
   ]
  },
  {
   "cell_type": "code",
   "execution_count": 141,
   "id": "716080aa",
   "metadata": {},
   "outputs": [
    {
     "data": {
      "image/png": "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\n",
      "text/plain": [
       "<Figure size 288x288 with 1 Axes>"
      ]
     },
     "metadata": {},
     "output_type": "display_data"
    }
   ],
   "source": [
    "years45=pd.DataFrame({'Year':['men_over45','men_under45'],\n",
    "                      'Number_of_death':[len(men_over45),len(men_under45)]},\n",
    "                    index=['Men 45 Years and above','Men below 45 Years'])\n",
    "years45.plot(kind='barh',color='orange');"
   ]
  },
  {
   "cell_type": "code",
   "execution_count": null,
   "id": "ec4cae9f",
   "metadata": {},
   "outputs": [],
   "source": []
>>>>>>> Stashed changes
  }
 ],
 "metadata": {
  "kernelspec": {
   "display_name": "Python 3",
   "language": "python",
   "name": "python3"
  },
  "language_info": {
   "codemirror_mode": {
    "name": "ipython",
    "version": 3
   },
   "file_extension": ".py",
   "mimetype": "text/x-python",
   "name": "python",
   "nbconvert_exporter": "python",
   "pygments_lexer": "ipython3",
   "version": "3.8.8"
  }
 },
 "nbformat": 4,
 "nbformat_minor": 5
}
